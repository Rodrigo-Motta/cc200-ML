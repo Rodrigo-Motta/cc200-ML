{
 "cells": [
  {
   "cell_type": "code",
   "execution_count": 13,
   "id": "77279da5-ff04-4b09-a957-dc45c4e45d1d",
   "metadata": {},
   "outputs": [
    {
     "name": "stdout",
     "output_type": "stream",
     "text": [
      "/Users/rodrigo/Post-Grad/CC400/Repo\n"
     ]
    }
   ],
   "source": [
    "%cd /Users/rodrigo/Post-Grad/CC400/Repo"
   ]
  },
  {
   "cell_type": "code",
   "execution_count": 14,
   "id": "4c3437ea-a446-4cd7-bf08-49970e953b32",
   "metadata": {},
   "outputs": [],
   "source": [
    "from utils import import_data, compute_KNN_graph, create_graph, create_batch,reconstruct_symmetric_matrix\n",
    "import pandas as pd\n",
    "import numpy as np\n",
    "import matplotlib.pyplot as plt\n",
    "import seaborn as sns\n",
    "\n",
    "%matplotlib inline\n",
    "sns.set(rc={'image.cmap': 'coolwarm'})\n",
    "\n",
    "#from numba import jit,prange\n",
    "\n",
    "import time\n",
    "import os\n",
    "\n",
    "SMALL_SIZE = 8\n",
    "MEDIUM_SIZE = 10\n",
    "BIGGER_SIZE = 20\n",
    "\n",
    "plt.rc('font', size=MEDIUM_SIZE)          # controls default text sizes\n",
    "plt.rc('axes', titlesize=MEDIUM_SIZE)     # fontsize of the axes title\n",
    "plt.rc('axes', labelsize=BIGGER_SIZE)    # fontsize of the x and y labels\n",
    "plt.rc('xtick', labelsize=MEDIUM_SIZE)    # fontsize of the tick labels\n",
    "plt.rc('ytick', labelsize=MEDIUM_SIZE)    # fontsize of the tick labels\n",
    "plt.rc('legend', fontsize=MEDIUM_SIZE)    # legend fontsize\n",
    "plt.rc('figure', titlesize=BIGGER_SIZE)  # fontsize of the figure title"
   ]
  },
  {
   "cell_type": "code",
   "execution_count": 2,
   "id": "4fa1d335-e001-4d06-af52-4505f16663cd",
   "metadata": {},
   "outputs": [],
   "source": [
    "df = pd.read_csv(r'/Users/rodrigo/Post-Grad/CC400/corr_matrices200.csv',index_col=['Institution','Subject','Run'])"
   ]
  },
  {
   "cell_type": "code",
   "execution_count": 3,
   "id": "5fd82d68-93a0-40c7-85ff-eba13bc0b6c3",
   "metadata": {},
   "outputs": [],
   "source": [
    "df = np.arctanh(df)"
   ]
  },
  {
   "cell_type": "code",
   "execution_count": 4,
   "id": "f2098660-c1e8-430e-a311-aaf1fbb8d8e3",
   "metadata": {},
   "outputs": [],
   "source": [
    "df = df.groupby(level=['Institution','Subject']).mean()"
   ]
  },
  {
   "cell_type": "code",
   "execution_count": 5,
   "id": "f1e2e084-fe7e-4801-93ce-e9692dfd4b40",
   "metadata": {},
   "outputs": [],
   "source": [
    "df.to_csv(r'/Users/rodrigo/Post-Grad/CC400/corr_matrices_fisher200.csv', header=True)"
   ]
  },
  {
   "cell_type": "markdown",
   "id": "bfce201c-87c8-41e4-b7e4-6220b38b7f96",
   "metadata": {},
   "source": [
    "## Group FC matrix"
   ]
  },
  {
   "cell_type": "code",
   "execution_count": 22,
   "id": "f2edc9e2-0a16-4762-a983-209f373cb682",
   "metadata": {},
   "outputs": [],
   "source": [
    "group_fc = df.mean(axis=0)"
   ]
  },
  {
   "cell_type": "code",
   "execution_count": 23,
   "id": "f33f1f4b-da1c-4134-b2f0-983474540274",
   "metadata": {},
   "outputs": [],
   "source": [
    "group_fc.to_csv(r'/Users/rodrigo/Post-Grad/CC400/Group_FC.csv', header=True)"
   ]
  },
  {
   "cell_type": "code",
   "execution_count": null,
   "id": "88b4b1ae-9d72-4e33-a5dc-864c39147d25",
   "metadata": {},
   "outputs": [],
   "source": []
  }
 ],
 "metadata": {
  "kernelspec": {
   "display_name": "Python 3 (ipykernel)",
   "language": "python",
   "name": "python3"
  },
  "language_info": {
   "codemirror_mode": {
    "name": "ipython",
    "version": 3
   },
   "file_extension": ".py",
   "mimetype": "text/x-python",
   "name": "python",
   "nbconvert_exporter": "python",
   "pygments_lexer": "ipython3",
   "version": "3.9.16"
  }
 },
 "nbformat": 4,
 "nbformat_minor": 5
}
