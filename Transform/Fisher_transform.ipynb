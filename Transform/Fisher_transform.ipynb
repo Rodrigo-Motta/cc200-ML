{
 "cells": [
  {
   "cell_type": "code",
   "execution_count": 1,
   "id": "4c3437ea-a446-4cd7-bf08-49970e953b32",
   "metadata": {},
   "outputs": [],
   "source": [
    "import pandas as pd\n",
    "import numpy as np\n",
    "import matplotlib.pyplot as plt\n",
    "import seaborn as sns\n",
    "\n",
    "%matplotlib inline\n",
    "sns.set(rc={'image.cmap': 'coolwarm'})\n",
    "\n",
    "#from numba import jit,prange\n",
    "\n",
    "import time\n",
    "import os\n",
    "\n",
    "SMALL_SIZE = 8\n",
    "MEDIUM_SIZE = 10\n",
    "BIGGER_SIZE = 20\n",
    "\n",
    "plt.rc('font', size=MEDIUM_SIZE)          # controls default text sizes\n",
    "plt.rc('axes', titlesize=MEDIUM_SIZE)     # fontsize of the axes title\n",
    "plt.rc('axes', labelsize=BIGGER_SIZE)    # fontsize of the x and y labels\n",
    "plt.rc('xtick', labelsize=MEDIUM_SIZE)    # fontsize of the tick labels\n",
    "plt.rc('ytick', labelsize=MEDIUM_SIZE)    # fontsize of the tick labels\n",
    "plt.rc('legend', fontsize=MEDIUM_SIZE)    # legend fontsize\n",
    "plt.rc('figure', titlesize=BIGGER_SIZE)  # fontsize of the figure title"
   ]
  },
  {
   "cell_type": "code",
   "execution_count": 2,
   "id": "4fa1d335-e001-4d06-af52-4505f16663cd",
   "metadata": {},
   "outputs": [],
   "source": [
    "df = pd.read_csv(r'/Users/rodrigo/Post-Grad/CC400/corr_matrices200.csv',index_col=['Institution','Subject','Run'])"
   ]
  },
  {
   "cell_type": "code",
   "execution_count": 3,
   "id": "5fd82d68-93a0-40c7-85ff-eba13bc0b6c3",
   "metadata": {},
   "outputs": [],
   "source": [
    "df = np.arctanh(df)"
   ]
  },
  {
   "cell_type": "code",
   "execution_count": 4,
   "id": "f2098660-c1e8-430e-a311-aaf1fbb8d8e3",
   "metadata": {},
   "outputs": [],
   "source": [
    "df = df.groupby(level=['Institution','Subject']).mean()"
   ]
  },
  {
   "cell_type": "code",
   "execution_count": 5,
   "id": "f1e2e084-fe7e-4801-93ce-e9692dfd4b40",
   "metadata": {},
   "outputs": [],
   "source": [
    "df.to_csv(r'/Users/rodrigo/Post-Grad/CC400/corr_matrices_fisher200.csv', header=True)"
   ]
  },
  {
   "cell_type": "code",
   "execution_count": null,
   "id": "6691b1ea-4490-40f0-a3b9-ac2ddf542ebb",
   "metadata": {},
   "outputs": [],
   "source": []
  }
 ],
 "metadata": {
  "kernelspec": {
   "display_name": "Python 3 (ipykernel)",
   "language": "python",
   "name": "python3"
  },
  "language_info": {
   "codemirror_mode": {
    "name": "ipython",
    "version": 3
   },
   "file_extension": ".py",
   "mimetype": "text/x-python",
   "name": "python",
   "nbconvert_exporter": "python",
   "pygments_lexer": "ipython3",
   "version": "3.9.16"
  }
 },
 "nbformat": 4,
 "nbformat_minor": 5
}
