{
 "cells": [
  {
   "cell_type": "markdown",
   "id": "a9f4fcbd-e1f8-430b-a0d7-cb53bce3ff72",
   "metadata": {},
   "source": [
    "# Classification problem\n",
    "### Considering binary gender classification\n",
    "(0) Male\n",
    "\n",
    "(1) Female"
   ]
  },
  {
   "cell_type": "code",
   "execution_count": 20,
   "id": "6a95070e-6fbe-4960-85cf-d3ee1b67df54",
   "metadata": {},
   "outputs": [
    {
     "name": "stdout",
     "output_type": "stream",
     "text": [
      "/Users/rodrigo/Post-Grad/CC400/Repo\n"
     ]
    }
   ],
   "source": [
    "%cd /Users/rodrigo/Post-Grad/CC400/Repo"
   ]
  },
  {
   "cell_type": "code",
   "execution_count": 74,
   "id": "72272f33-4cc9-4613-8bfe-6a22a4ca445c",
   "metadata": {},
   "outputs": [],
   "source": [
    "import utils"
   ]
  },
  {
   "cell_type": "code",
   "execution_count": 92,
   "id": "96056aff-7919-4583-b866-2d3ca3f0048f",
   "metadata": {},
   "outputs": [],
   "source": [
    "import pandas as pd\n",
    "import numpy as np\n",
    "import matplotlib.pyplot as plt\n",
    "import seaborn as sns\n",
    "from sklearn.metrics import confusion_matrix\n",
    "from sklearn.model_selection import cross_val_score\n",
    "from sklearn.metrics import accuracy_score, f1_score, precision_score, recall_score\n",
    "from sklearn.metrics import roc_curve, auc\n",
    "from sklearn.metrics import roc_auc_score\n",
    "from sklearn.model_selection import GridSearchCV\n",
    "from sklearn.model_selection import cross_validate\n",
    "from xgboost import XGBClassifier\n",
    "from sklearn.model_selection import RandomizedSearchCV\n",
    "\n",
    "\n",
    "%matplotlib inline\n",
    "sns.set(rc={'image.cmap': 'coolwarm'})\n",
    "\n",
    "#from numba import jit,prange\n",
    "\n",
    "import time\n",
    "import os\n",
    "\n",
    "SMALL_SIZE = 8\n",
    "MEDIUM_SIZE = 10\n",
    "BIGGER_SIZE = 20\n",
    "\n",
    "plt.rc('font', size=MEDIUM_SIZE)          # controls default text sizes\n",
    "plt.rc('axes', titlesize=MEDIUM_SIZE)     # fontsize of the axes title\n",
    "plt.rc('axes', labelsize=BIGGER_SIZE)    # fontsize of the x and y labels\n",
    "plt.rc('xtick', labelsize=MEDIUM_SIZE)    # fontsize of the tick labels\n",
    "plt.rc('ytick', labelsize=MEDIUM_SIZE)    # fontsize of the tick labels\n",
    "plt.rc('legend', fontsize=MEDIUM_SIZE)    # legend fontsize\n",
    "plt.rc('figure', titlesize=BIGGER_SIZE)  # fontsize of the figure title\n",
    "\n",
    "scoring = {'acc': 'accuracy',\n",
    "           'prec_macro': 'precision_macro',\n",
    "           'rec_macro': 'recall_macro',\n",
    "          'f1' : 'f1_macro',\n",
    "          'roc_auc' : 'roc_auc'} \n",
    "\n",
    "results = pd.DataFrame()"
   ]
  },
  {
   "cell_type": "code",
   "execution_count": 93,
   "id": "665e580d-739b-46d2-86bf-73bac9a20d71",
   "metadata": {},
   "outputs": [],
   "source": [
    "def import_data(fisher):\n",
    "    if fisher == True:\n",
    "        df = pd.read_csv(r'/Users/rodrigo/Post-Grad/CC400/corr_matrices_fisher200.csv',index_col=['Institution','Subject'])\n",
    "        phenotypic = pd.read_csv(r'/Users/rodrigo/Post-Grad/CC400/phenotypic200.csv',index_col=['Institution','Subject'])\n",
    "    else:\n",
    "        df = pd.read_csv(r'/Users/rodrigo/Post-Grad/CC400/corr_matrices200.csv',index_col=['Institution','Subject','Run'])\n",
    "        phenotypic = pd.read_csv(r'/Users/rodrigo/Post-Grad/CC400/phenotypic200.csv',index_col=['Institution','Subject'])\n",
    "    return df,phenotypic"
   ]
  },
  {
   "cell_type": "code",
   "execution_count": 94,
   "id": "0bfc94bf-503c-4824-86ad-5b11d97fd008",
   "metadata": {},
   "outputs": [],
   "source": [
    "df, phenotypic = import_data(fisher=True)\n",
    "df = df.join(pd.DataFrame(phenotypic.Age), how='left')\n",
    "df = df.join(pd.DataFrame(phenotypic['ADHD Measure']), how='left')\n",
    "df = df.join(pd.DataFrame(phenotypic['Gender']), how='left')\n",
    "\n",
    "#df = ((df.reset_index()).drop(columns=['Institution', 'Subject','Run'])).dropna(subset=[str(x) for x in range(0,61425)])\n",
    "df = ((df.reset_index()).drop(columns=['Institution', 'Subject'])).dropna(subset=[str(x) for x in range(0,17954)])\n",
    "df = df.dropna(axis=0, subset=['Gender'])\n",
    "# Real test set\n",
    "TEST =  df.iloc[-30:]\n",
    "\n",
    "df = df.iloc[:-30]\n",
    "\n",
    "y = (df.Gender).apply(lambda x: int(x))\n",
    "\n",
    "# Remove from Fisher-space\n",
    "X = np.tanh(df.iloc[:,:-3])\n",
    "X_TEST =  np.tanh(TEST.iloc[:,:-3])\n",
    "y_TEST =  (TEST.Gender).apply(lambda x: int(x))"
   ]
  },
  {
   "cell_type": "code",
   "execution_count": 95,
   "id": "e5800292-79b6-4ec4-85ef-9b12248e68ea",
   "metadata": {},
   "outputs": [],
   "source": [
    "ROI_labels = pd.read_csv('/Users/rodrigo/Post-Grad/CC400/ROI_labels.csv')"
   ]
  },
  {
   "cell_type": "code",
   "execution_count": 96,
   "id": "7e9e83c2-5eae-44be-8e20-855adfbe2d3b",
   "metadata": {},
   "outputs": [
    {
     "name": "stdout",
     "output_type": "stream",
     "text": [
      " 0 = 0.37% \n",
      " 1 = 0.63%\n"
     ]
    }
   ],
   "source": [
    "print(' 0 = {:.2f}% \\n'.format(y.value_counts()[0]/len(y)), '1 = {:.2f}%'.format(y.value_counts()[1]/len(y)))"
   ]
  },
  {
   "cell_type": "code",
   "execution_count": 97,
   "id": "8cdb8c41-7d58-4ea1-a767-d69c6a6daaf3",
   "metadata": {},
   "outputs": [],
   "source": [
    "from sklearn.model_selection import train_test_split\n",
    "\n",
    "# Validation and training set\n",
    "X_train, X_test, y_train, y_test = train_test_split(X, y, test_size = 0.15, random_state=42)"
   ]
  },
  {
   "cell_type": "code",
   "execution_count": 98,
   "id": "3dd6ae68-ec13-4482-ad8c-8be45c31db2b",
   "metadata": {},
   "outputs": [
    {
     "name": "stdout",
     "output_type": "stream",
     "text": [
      "Dummy_classifier acc 0.66\n"
     ]
    }
   ],
   "source": [
    "from sklearn.dummy import DummyClassifier\n",
    "dummy_clf = DummyClassifier(strategy=\"most_frequent\")\n",
    "dummy_clf.fit(X_test, y_test)\n",
    "dummy_clf.predict(X_test)\n",
    "print('Dummy_classifier acc {:.2f}'.format(dummy_clf.score(X_test,y_test)))"
   ]
  },
  {
   "cell_type": "markdown",
   "id": "a18b6aba-d6a6-4809-b43b-249d2325794a",
   "metadata": {},
   "source": [
    "### Logistic Regression"
   ]
  },
  {
   "cell_type": "code",
   "execution_count": 99,
   "id": "de0d753f-f88b-40ef-a0c1-f817ebb6a373",
   "metadata": {},
   "outputs": [
    {
     "name": "stdout",
     "output_type": "stream",
     "text": [
      "Logistic Regression accuracy score in training set: 1.0000\n",
      "Logistic Regression accuracy score in test set: 0.7339\n"
     ]
    }
   ],
   "source": [
    "from sklearn.linear_model import LogisticRegression\n",
    "\n",
    "logreg = LogisticRegression(max_iter=200)\n",
    "logreg.fit(X_train, y_train)\n",
    "y_pred = logreg.predict(X_test)\n",
    "\n",
    "print('Logistic Regression accuracy score in training set: {0:0.4f}'. format(accuracy_score(y_train, logreg.predict(X_train))))\n",
    "print('Logistic Regression accuracy score in test set: {0:0.4f}'. format(accuracy_score(y_test, y_pred)))"
   ]
  },
  {
   "cell_type": "code",
   "execution_count": 100,
   "id": "14917c03-75d0-48ce-8487-7c89b293fa83",
   "metadata": {},
   "outputs": [
    {
     "data": {
      "image/png": "[encoded data removed]",
      "text/plain": [
       "<Figure size 640x480 with 2 Axes>"
      ]
     },
     "metadata": {},
     "output_type": "display_data"
    }
   ],
   "source": [
    "plt.figure(dpi=100)\n",
    "sns.heatmap(confusion_matrix(y_test, y_pred), annot=True, annot_kws={\"size\": 16}, fmt='g')\n",
    "plt.show()"
   ]
  },
  {
   "cell_type": "markdown",
   "id": "90908ca6-d1f5-47d1-b61b-561c16734840",
   "metadata": {},
   "source": [
    "### Cross Validation"
   ]
  },
  {
   "cell_type": "code",
   "execution_count": 101,
   "id": "f6b49dc1-3c4c-4bb8-b3fc-f6cf99b02e08",
   "metadata": {},
   "outputs": [
    {
     "name": "stdout",
     "output_type": "stream",
     "text": [
      "Accuracy in test:0.69(0.03)\n",
      "F1_scores 0.62(0.07)\n",
      "Precision_scores 0.69(0.04)\n",
      "Recall_scores 0.63(0.05)\n",
      "ROC AUC 0.74(0.06)\n"
     ]
    }
   ],
   "source": [
    "scores = cross_validate(logreg, X, y, cv=5, scoring=scoring, n_jobs=-1)\n",
    "\n",
    "print(\"Accuracy in test:%0.2f(%0.2f)\" % (scores['test_acc'].mean(), scores['test_acc'].std()))\n",
    "print(\"F1_scores {:.2f}({:.2f})\".format(scores['test_f1'].mean(), scores['test_f1'].std()))\n",
    "print(\"Precision_scores {:.2f}({:.2f})\".format(scores['test_prec_macro'].mean(), scores['test_prec_macro'].std()))\n",
    "print(\"Recall_scores {:.2f}({:.2f})\".format(scores['test_rec_macro'].mean(), scores['test_rec_macro'].std()))\n",
    "print(\"ROC AUC {:.2f}({:.2f})\".format(scores['test_roc_auc'].mean(), scores['test_roc_auc'].std()))"
   ]
  },
  {
   "cell_type": "code",
   "execution_count": 102,
   "id": "a18c26b2-fdfe-4074-aa47-1080dad40eff",
   "metadata": {},
   "outputs": [],
   "source": [
    "scores['Model'] = ['logreg']*5\n",
    "results = pd.concat([results, pd.DataFrame.from_dict(scores)],axis=1)"
   ]
  },
  {
   "cell_type": "code",
   "execution_count": 103,
   "id": "4e3cba6c-f0e3-4032-a7e1-d661f7f44810",
   "metadata": {},
   "outputs": [],
   "source": [
    "y_score = logreg.predict_proba(X_test)\n",
    "\n",
    "y_score = y_score[:,1]\n",
    "\n",
    "# Compute ROC curve and ROC area for each class\n",
    "fpr, tpr, _ = roc_curve(y_test, y_score)\n",
    "roc_auc = auc(fpr, tpr)"
   ]
  },
  {
   "cell_type": "code",
   "execution_count": 104,
   "id": "65153286-f1c3-42c8-b2a3-34ce8953ed52",
   "metadata": {},
   "outputs": [
    {
     "data": {
      "image/png": "[encoded data removed]",
      "text/plain": [
       "<Figure size 640x480 with 1 Axes>"
      ]
     },
     "metadata": {},
     "output_type": "display_data"
    }
   ],
   "source": [
    "plt.figure()\n",
    "lw = 2\n",
    "plt.plot(\n",
    "    fpr,\n",
    "    tpr,\n",
    "    color=\"darkorange\",\n",
    "    lw=lw,\n",
    "    label=\"ROC curve (area = %0.2f)\" % roc_auc,\n",
    ")\n",
    "plt.plot([0, 1], [0, 1], color=\"navy\", lw=lw, linestyle=\"--\")\n",
    "plt.xlim([0.0, 1.0])\n",
    "plt.ylim([0.0, 1.05])\n",
    "plt.xlabel(\"False Positive Rate\")\n",
    "plt.ylabel(\"True Positive Rate\")\n",
    "plt.title(\"Receiver operating characteristic example\")\n",
    "plt.legend(loc=\"lower right\")\n",
    "plt.show()"
   ]
  },
  {
   "cell_type": "code",
   "execution_count": 105,
   "id": "e09d25ca-4044-4e53-bea7-574cec8d3438",
   "metadata": {},
   "outputs": [
    {
     "data": {
      "image/png": "[encoded data removed]",
      "text/plain": [
       "<Figure size 640x480 with 1 Axes>"
      ]
     },
     "metadata": {},
     "output_type": "display_data"
    }
   ],
   "source": [
    "# get importance\n",
    "importance = logreg.coef_[0]\n",
    "importance = np.sort(importance)\n",
    "\n",
    "plt.hist(importance)\n",
    "plt.show()"
   ]
  },
  {
   "cell_type": "markdown",
   "id": "d18348ae-9e9f-40c9-a346-06da2c319414",
   "metadata": {},
   "source": [
    "## SVM"
   ]
  },
  {
   "cell_type": "code",
   "execution_count": 65,
   "id": "7e17a860-5b75-4109-bb4c-7d45996bf163",
   "metadata": {},
   "outputs": [
    {
     "name": "stdout",
     "output_type": "stream",
     "text": [
      "Fitting 3 folds for each of 20 candidates, totalling 60 fits\n"
     ]
    },
    {
     "name": "stderr",
     "output_type": "stream",
     "text": [
      "/opt/homebrew/Caskroom/miniforge/base/envs/GCN_study/lib/python3.9/site-packages/sklearn/model_selection/_validation.py:378: FitFailedWarning: \n",
      "12 fits failed out of a total of 60.\n",
      "The score on these train-test partitions for these parameters will be set to nan.\n",
      "If these failures are not expected, you can try to debug them by setting error_score='raise'.\n",
      "\n",
      "Below are more details about the failures:\n",
      "--------------------------------------------------------------------------------\n",
      "12 fits failed with the following error:\n",
      "Traceback (most recent call last):\n",
      "  File \"/opt/homebrew/Caskroom/miniforge/base/envs/GCN_study/lib/python3.9/site-packages/sklearn/model_selection/_validation.py\", line 686, in _fit_and_score\n",
      "    estimator.fit(X_train, y_train, **fit_params)\n",
      "  File \"/opt/homebrew/Caskroom/miniforge/base/envs/GCN_study/lib/python3.9/site-packages/sklearn/svm/_base.py\", line 180, in fit\n",
      "    self._validate_params()\n",
      "  File \"/opt/homebrew/Caskroom/miniforge/base/envs/GCN_study/lib/python3.9/site-packages/sklearn/base.py\", line 581, in _validate_params\n",
      "    validate_parameter_constraints(\n",
      "  File \"/opt/homebrew/Caskroom/miniforge/base/envs/GCN_study/lib/python3.9/site-packages/sklearn/utils/_param_validation.py\", line 97, in validate_parameter_constraints\n",
      "    raise InvalidParameterError(\n",
      "sklearn.utils._param_validation.InvalidParameterError: The 'C' parameter of SVC must be a float in the range (0.0, inf). Got 0 instead.\n",
      "\n",
      "  warnings.warn(some_fits_failed_message, FitFailedWarning)\n",
      "/opt/homebrew/Caskroom/miniforge/base/envs/GCN_study/lib/python3.9/site-packages/sklearn/model_selection/_search.py:952: UserWarning: One or more of the test scores are non-finite: [       nan        nan        nan        nan 0.71475255 0.62074355\n",
      " 0.62074355 0.62074355 0.71475255 0.62074355 0.62074355 0.62074355\n",
      " 0.71475255 0.62074355 0.62074355 0.62074355 0.71475255 0.62074355\n",
      " 0.6580472  0.62074355]\n",
      "  warnings.warn(\n"
     ]
    },
    {
     "data": {
      "text/html": [
       "<style>#sk-container-id-2 {color: black;background-color: white;}#sk-container-id-2 pre{padding: 0;}#sk-container-id-2 div.sk-toggleable {background-color: white;}#sk-container-id-2 label.sk-toggleable__label {cursor: pointer;display: block;width: 100%;margin-bottom: 0;padding: 0.3em;box-sizing: border-box;text-align: center;}#sk-container-id-2 label.sk-toggleable__label-arrow:before {content: \"▸\";float: left;margin-right: 0.25em;color: #696969;}#sk-container-id-2 label.sk-toggleable__label-arrow:hover:before {color: black;}#sk-container-id-2 div.sk-estimator:hover label.sk-toggleable__label-arrow:before {color: black;}#sk-container-id-2 div.sk-toggleable__content {max-height: 0;max-width: 0;overflow: hidden;text-align: left;background-color: #f0f8ff;}#sk-container-id-2 div.sk-toggleable__content pre {margin: 0.2em;color: black;border-radius: 0.25em;background-color: #f0f8ff;}#sk-container-id-2 input.sk-toggleable__control:checked~div.sk-toggleable__content {max-height: 200px;max-width: 100%;overflow: auto;}#sk-container-id-2 input.sk-toggleable__control:checked~label.sk-toggleable__label-arrow:before {content: \"▾\";}#sk-container-id-2 div.sk-estimator input.sk-toggleable__control:checked~label.sk-toggleable__label {background-color: #d4ebff;}#sk-container-id-2 div.sk-label input.sk-toggleable__control:checked~label.sk-toggleable__label {background-color: #d4ebff;}#sk-container-id-2 input.sk-hidden--visually {border: 0;clip: rect(1px 1px 1px 1px);clip: rect(1px, 1px, 1px, 1px);height: 1px;margin: -1px;overflow: hidden;padding: 0;position: absolute;width: 1px;}#sk-container-id-2 div.sk-estimator {font-family: monospace;background-color: #f0f8ff;border: 1px dotted black;border-radius: 0.25em;box-sizing: border-box;margin-bottom: 0.5em;}#sk-container-id-2 div.sk-estimator:hover {background-color: #d4ebff;}#sk-container-id-2 div.sk-parallel-item::after {content: \"\";width: 100%;border-bottom: 1px solid gray;flex-grow: 1;}#sk-container-id-2 div.sk-label:hover label.sk-toggleable__label {background-color: #d4ebff;}#sk-container-id-2 div.sk-serial::before {content: \"\";position: absolute;border-left: 1px solid gray;box-sizing: border-box;top: 0;bottom: 0;left: 50%;z-index: 0;}#sk-container-id-2 div.sk-serial {display: flex;flex-direction: column;align-items: center;background-color: white;padding-right: 0.2em;padding-left: 0.2em;position: relative;}#sk-container-id-2 div.sk-item {position: relative;z-index: 1;}#sk-container-id-2 div.sk-parallel {display: flex;align-items: stretch;justify-content: center;background-color: white;position: relative;}#sk-container-id-2 div.sk-item::before, #sk-container-id-2 div.sk-parallel-item::before {content: \"\";position: absolute;border-left: 1px solid gray;box-sizing: border-box;top: 0;bottom: 0;left: 50%;z-index: -1;}#sk-container-id-2 div.sk-parallel-item {display: flex;flex-direction: column;z-index: 1;position: relative;background-color: white;}#sk-container-id-2 div.sk-parallel-item:first-child::after {align-self: flex-end;width: 50%;}#sk-container-id-2 div.sk-parallel-item:last-child::after {align-self: flex-start;width: 50%;}#sk-container-id-2 div.sk-parallel-item:only-child::after {width: 0;}#sk-container-id-2 div.sk-dashed-wrapped {border: 1px dashed gray;margin: 0 0.4em 0.5em 0.4em;box-sizing: border-box;padding-bottom: 0.4em;background-color: white;}#sk-container-id-2 div.sk-label label {font-family: monospace;font-weight: bold;display: inline-block;line-height: 1.2em;}#sk-container-id-2 div.sk-label-container {text-align: center;}#sk-container-id-2 div.sk-container {/* jupyter's `normalize.less` sets `[hidden] { display: none; }` but bootstrap.min.css set `[hidden] { display: none !important; }` so we also need the `!important` here to be able to override the default hidden behavior on the sphinx rendered scikit-learn.org. See: https://github.com/scikit-learn/scikit-learn/issues/21755 */display: inline-block !important;position: relative;}#sk-container-id-2 div.sk-text-repr-fallback {display: none;}</style><div id=\"sk-container-id-2\" class=\"sk-top-container\"><div class=\"sk-text-repr-fallback\"><pre>GridSearchCV(cv=3, estimator=SVC(gamma=&#x27;auto&#x27;), n_jobs=-1,\n",
       "             param_grid={&#x27;C&#x27;: [0, 0.25, 1, 5, 10],\n",
       "                         &#x27;kernel&#x27;: [&#x27;linear&#x27;, &#x27;poly&#x27;, &#x27;rbf&#x27;, &#x27;sigmoid&#x27;]},\n",
       "             verbose=1)</pre><b>In a Jupyter environment, please rerun this cell to show the HTML representation or trust the notebook. <br />On GitHub, the HTML representation is unable to render, please try loading this page with nbviewer.org.</b></div><div class=\"sk-container\" hidden><div class=\"sk-item sk-dashed-wrapped\"><div class=\"sk-label-container\"><div class=\"sk-label sk-toggleable\"><input class=\"sk-toggleable__control sk-hidden--visually\" id=\"sk-estimator-id-4\" type=\"checkbox\" ><label for=\"sk-estimator-id-4\" class=\"sk-toggleable__label sk-toggleable__label-arrow\">GridSearchCV</label><div class=\"sk-toggleable__content\"><pre>GridSearchCV(cv=3, estimator=SVC(gamma=&#x27;auto&#x27;), n_jobs=-1,\n",
       "             param_grid={&#x27;C&#x27;: [0, 0.25, 1, 5, 10],\n",
       "                         &#x27;kernel&#x27;: [&#x27;linear&#x27;, &#x27;poly&#x27;, &#x27;rbf&#x27;, &#x27;sigmoid&#x27;]},\n",
       "             verbose=1)</pre></div></div></div><div class=\"sk-parallel\"><div class=\"sk-parallel-item\"><div class=\"sk-item\"><div class=\"sk-label-container\"><div class=\"sk-label sk-toggleable\"><input class=\"sk-toggleable__control sk-hidden--visually\" id=\"sk-estimator-id-5\" type=\"checkbox\" ><label for=\"sk-estimator-id-5\" class=\"sk-toggleable__label sk-toggleable__label-arrow\">estimator: SVC</label><div class=\"sk-toggleable__content\"><pre>SVC(gamma=&#x27;auto&#x27;)</pre></div></div></div><div class=\"sk-serial\"><div class=\"sk-item\"><div class=\"sk-estimator sk-toggleable\"><input class=\"sk-toggleable__control sk-hidden--visually\" id=\"sk-estimator-id-6\" type=\"checkbox\" ><label for=\"sk-estimator-id-6\" class=\"sk-toggleable__label sk-toggleable__label-arrow\">SVC</label><div class=\"sk-toggleable__content\"><pre>SVC(gamma=&#x27;auto&#x27;)</pre></div></div></div></div></div></div></div></div></div></div>"
      ],
      "text/plain": [
       "GridSearchCV(cv=3, estimator=SVC(gamma='auto'), n_jobs=-1,\n",
       "             param_grid={'C': [0, 0.25, 1, 5, 10],\n",
       "                         'kernel': ['linear', 'poly', 'rbf', 'sigmoid']},\n",
       "             verbose=1)"
      ]
     },
     "execution_count": 65,
     "metadata": {},
     "output_type": "execute_result"
    }
   ],
   "source": [
    "from sklearn.svm import SVC\n",
    "from sklearn.model_selection import GridSearchCV\n",
    "\n",
    "# Setting possible values for the multiple hyperparameters of XGBoost\n",
    "random_grid = {\n",
    "    \"C\": [0, 0.25, 1, 5, 10],\n",
    "    \"kernel\" : ['linear', 'poly', 'rbf', 'sigmoid']\n",
    "}\n",
    "\n",
    "\n",
    "svc = SVC(gamma='auto')\n",
    "#svc.fit(X_train, y_train)\n",
    "\n",
    "# Random search of parameters, using 3 fold cross validation, \n",
    "# search across 100 different combinations\n",
    "rf_random = GridSearchCV(estimator = svc, param_grid = random_grid,\n",
    "                               cv = 3, verbose=1, n_jobs = -1)\n",
    "\n",
    "# Fit the random search model\n",
    "rf_random.fit(X_train, y_train.values.ravel())\n",
    "\n",
    "#y_pred = svc.predict(X_test)\n",
    "\n",
    "#print('Logistic Regression accuracy score in training set: {0:0.4f}'. format(accuracy_score(y_train, logreg.predict(X_train))))\n",
    "#print('Logistic Regression accuracy score in test set: {0:0.4f}'. format(accuracy_score(y_test, y_pred)))"
   ]
  },
  {
   "cell_type": "code",
   "execution_count": 66,
   "id": "09601bc4-b333-41a6-81b9-f87e8d762b5e",
   "metadata": {},
   "outputs": [
    {
     "name": "stdout",
     "output_type": "stream",
     "text": [
      "Accuracy for our training dataset with tuning is : 71.48%\n"
     ]
    }
   ],
   "source": [
    "accuracy = rf_random.best_score_ *100\n",
    "print(\"Accuracy for our training dataset with tuning is : {:.2f}%\".format(accuracy) )"
   ]
  },
  {
   "cell_type": "code",
   "execution_count": 106,
   "id": "573d385e-9881-4171-965d-bd109791fb74",
   "metadata": {},
   "outputs": [
    {
     "name": "stdout",
     "output_type": "stream",
     "text": [
      "{'C': 0.25, 'kernel': 'linear'}\n"
     ]
    }
   ],
   "source": [
    "print(rf_random.best_params_)\n",
    "(pd.DataFrame.from_dict(rf_random.best_params_, orient='index')).to_csv('/Users/rodrigo/Post-Grad/CC400/Results/SVC_params.csv')"
   ]
  },
  {
   "cell_type": "code",
   "execution_count": 107,
   "id": "c5d49303-5669-49ef-b15a-af1b6e5159cd",
   "metadata": {},
   "outputs": [
    {
     "name": "stderr",
     "output_type": "stream",
     "text": [
      "[Parallel(n_jobs=-1)]: Using backend LokyBackend with 8 concurrent workers.\n",
      "[Parallel(n_jobs=-1)]: Done   2 out of   5 | elapsed:    5.6s remaining:    8.4s\n",
      "[Parallel(n_jobs=-1)]: Done   5 out of   5 | elapsed:    5.7s finished\n"
     ]
    }
   ],
   "source": [
    "# Best SVC model\n",
    "svc = SVC(\n",
    "    **rf_random.best_params_,\n",
    "    gamma=\"auto\"\n",
    ")\n",
    "\n",
    "scores = cross_validate(svc, X_train, y_train.values.ravel(), scoring=scoring,\n",
    "                         cv=5, n_jobs=-1,verbose=1)\n"
   ]
  },
  {
   "cell_type": "code",
   "execution_count": 108,
   "id": "21a0e49a-8d80-4b03-bc41-ce8bfa63acbf",
   "metadata": {},
   "outputs": [
    {
     "name": "stdout",
     "output_type": "stream",
     "text": [
      "Accuracy in test:0.72(0.03)\n",
      "F1_scores 0.69(0.03)\n",
      "Precision_scores 0.71(0.03)\n",
      "Recall_scores 0.69(0.03)\n",
      "ROC AUC 0.77(0.03)\n"
     ]
    }
   ],
   "source": [
    "print(\"Accuracy in test:%0.2f(%0.2f)\" % (scores['test_acc'].mean(), scores['test_acc'].std()))\n",
    "print(\"F1_scores {:.2f}({:.2f})\".format(scores['test_f1'].mean(), scores['test_f1'].std()))\n",
    "print(\"Precision_scores {:.2f}({:.2f})\".format(scores['test_prec_macro'].mean(), scores['test_prec_macro'].std()))\n",
    "print(\"Recall_scores {:.2f}({:.2f})\".format(scores['test_rec_macro'].mean(), scores['test_rec_macro'].std()))\n",
    "print(\"ROC AUC {:.2f}({:.2f})\".format(scores['test_roc_auc'].mean(), scores['test_roc_auc'].std()))"
   ]
  },
  {
   "cell_type": "code",
   "execution_count": 109,
   "id": "8195c78f-1c37-42f0-bd70-d281a4af730f",
   "metadata": {},
   "outputs": [],
   "source": [
    "scores['Model'] = ['SVC']*5\n",
    "results = results.merge(pd.DataFrame.from_dict(scores), how='outer')"
   ]
  },
  {
   "cell_type": "markdown",
   "id": "25fb7712-bbcd-42ee-a792-a09087f290f3",
   "metadata": {},
   "source": [
    "### XGBoost"
   ]
  },
  {
   "cell_type": "code",
   "execution_count": 45,
   "id": "b2ea17a8-0740-4b1d-b540-f4be1c40882d",
   "metadata": {},
   "outputs": [
    {
     "name": "stdout",
     "output_type": "stream",
     "text": [
      "Fitting 3 folds for each of 100 candidates, totalling 300 fits\n"
     ]
    },
    {
     "data": {
      "text/html": [
       "<style>#sk-container-id-3 {color: black;background-color: white;}#sk-container-id-3 pre{padding: 0;}#sk-container-id-3 div.sk-toggleable {background-color: white;}#sk-container-id-3 label.sk-toggleable__label {cursor: pointer;display: block;width: 100%;margin-bottom: 0;padding: 0.3em;box-sizing: border-box;text-align: center;}#sk-container-id-3 label.sk-toggleable__label-arrow:before {content: \"▸\";float: left;margin-right: 0.25em;color: #696969;}#sk-container-id-3 label.sk-toggleable__label-arrow:hover:before {color: black;}#sk-container-id-3 div.sk-estimator:hover label.sk-toggleable__label-arrow:before {color: black;}#sk-container-id-3 div.sk-toggleable__content {max-height: 0;max-width: 0;overflow: hidden;text-align: left;background-color: #f0f8ff;}#sk-container-id-3 div.sk-toggleable__content pre {margin: 0.2em;color: black;border-radius: 0.25em;background-color: #f0f8ff;}#sk-container-id-3 input.sk-toggleable__control:checked~div.sk-toggleable__content {max-height: 200px;max-width: 100%;overflow: auto;}#sk-container-id-3 input.sk-toggleable__control:checked~label.sk-toggleable__label-arrow:before {content: \"▾\";}#sk-container-id-3 div.sk-estimator input.sk-toggleable__control:checked~label.sk-toggleable__label {background-color: #d4ebff;}#sk-container-id-3 div.sk-label input.sk-toggleable__control:checked~label.sk-toggleable__label {background-color: #d4ebff;}#sk-container-id-3 input.sk-hidden--visually {border: 0;clip: rect(1px 1px 1px 1px);clip: rect(1px, 1px, 1px, 1px);height: 1px;margin: -1px;overflow: hidden;padding: 0;position: absolute;width: 1px;}#sk-container-id-3 div.sk-estimator {font-family: monospace;background-color: #f0f8ff;border: 1px dotted black;border-radius: 0.25em;box-sizing: border-box;margin-bottom: 0.5em;}#sk-container-id-3 div.sk-estimator:hover {background-color: #d4ebff;}#sk-container-id-3 div.sk-parallel-item::after {content: \"\";width: 100%;border-bottom: 1px solid gray;flex-grow: 1;}#sk-container-id-3 div.sk-label:hover label.sk-toggleable__label {background-color: #d4ebff;}#sk-container-id-3 div.sk-serial::before {content: \"\";position: absolute;border-left: 1px solid gray;box-sizing: border-box;top: 0;bottom: 0;left: 50%;z-index: 0;}#sk-container-id-3 div.sk-serial {display: flex;flex-direction: column;align-items: center;background-color: white;padding-right: 0.2em;padding-left: 0.2em;position: relative;}#sk-container-id-3 div.sk-item {position: relative;z-index: 1;}#sk-container-id-3 div.sk-parallel {display: flex;align-items: stretch;justify-content: center;background-color: white;position: relative;}#sk-container-id-3 div.sk-item::before, #sk-container-id-3 div.sk-parallel-item::before {content: \"\";position: absolute;border-left: 1px solid gray;box-sizing: border-box;top: 0;bottom: 0;left: 50%;z-index: -1;}#sk-container-id-3 div.sk-parallel-item {display: flex;flex-direction: column;z-index: 1;position: relative;background-color: white;}#sk-container-id-3 div.sk-parallel-item:first-child::after {align-self: flex-end;width: 50%;}#sk-container-id-3 div.sk-parallel-item:last-child::after {align-self: flex-start;width: 50%;}#sk-container-id-3 div.sk-parallel-item:only-child::after {width: 0;}#sk-container-id-3 div.sk-dashed-wrapped {border: 1px dashed gray;margin: 0 0.4em 0.5em 0.4em;box-sizing: border-box;padding-bottom: 0.4em;background-color: white;}#sk-container-id-3 div.sk-label label {font-family: monospace;font-weight: bold;display: inline-block;line-height: 1.2em;}#sk-container-id-3 div.sk-label-container {text-align: center;}#sk-container-id-3 div.sk-container {/* jupyter's `normalize.less` sets `[hidden] { display: none; }` but bootstrap.min.css set `[hidden] { display: none !important; }` so we also need the `!important` here to be able to override the default hidden behavior on the sphinx rendered scikit-learn.org. See: https://github.com/scikit-learn/scikit-learn/issues/21755 */display: inline-block !important;position: relative;}#sk-container-id-3 div.sk-text-repr-fallback {display: none;}</style><div id=\"sk-container-id-3\" class=\"sk-top-container\"><div class=\"sk-text-repr-fallback\"><pre>RandomizedSearchCV(cv=3,\n",
       "                   estimator=XGBClassifier(base_score=None, booster=&#x27;gbtree&#x27;,\n",
       "                                           callbacks=None,\n",
       "                                           colsample_bylevel=None,\n",
       "                                           colsample_bynode=None,\n",
       "                                           colsample_bytree=None,\n",
       "                                           early_stopping_rounds=None,\n",
       "                                           enable_categorical=False,\n",
       "                                           eval_metric=None, feature_types=None,\n",
       "                                           gamma=None, gpu_id=None,\n",
       "                                           grow_policy=None,\n",
       "                                           importance_type=None,\n",
       "                                           interaction_constraints=None,\n",
       "                                           learning_...\n",
       "                                           n_estimators=100, n_jobs=-1,\n",
       "                                           num_parallel_tree=None,\n",
       "                                           predictor=None, random_state=None, ...),\n",
       "                   n_iter=100, n_jobs=-1,\n",
       "                   param_distributions={&#x27;colsample_bytree&#x27;: [0.8],\n",
       "                                        &#x27;gamma&#x27;: [0, 0.25, 1],\n",
       "                                        &#x27;learning_rate&#x27;: [0.001, 0.05, 0.5],\n",
       "                                        &#x27;max_depth&#x27;: [1, 2, 4, 8],\n",
       "                                        &#x27;n_estimators&#x27;: [200, 600, 1000],\n",
       "                                        &#x27;reg_lambda&#x27;: [0.001, 1, 10],\n",
       "                                        &#x27;scale_pos_weight&#x27;: [0, 1, 3],\n",
       "                                        &#x27;subsample&#x27;: [0.8]},\n",
       "                   random_state=42, verbose=1)</pre><b>In a Jupyter environment, please rerun this cell to show the HTML representation or trust the notebook. <br />On GitHub, the HTML representation is unable to render, please try loading this page with nbviewer.org.</b></div><div class=\"sk-container\" hidden><div class=\"sk-item sk-dashed-wrapped\"><div class=\"sk-label-container\"><div class=\"sk-label sk-toggleable\"><input class=\"sk-toggleable__control sk-hidden--visually\" id=\"sk-estimator-id-5\" type=\"checkbox\" ><label for=\"sk-estimator-id-5\" class=\"sk-toggleable__label sk-toggleable__label-arrow\">RandomizedSearchCV</label><div class=\"sk-toggleable__content\"><pre>RandomizedSearchCV(cv=3,\n",
       "                   estimator=XGBClassifier(base_score=None, booster=&#x27;gbtree&#x27;,\n",
       "                                           callbacks=None,\n",
       "                                           colsample_bylevel=None,\n",
       "                                           colsample_bynode=None,\n",
       "                                           colsample_bytree=None,\n",
       "                                           early_stopping_rounds=None,\n",
       "                                           enable_categorical=False,\n",
       "                                           eval_metric=None, feature_types=None,\n",
       "                                           gamma=None, gpu_id=None,\n",
       "                                           grow_policy=None,\n",
       "                                           importance_type=None,\n",
       "                                           interaction_constraints=None,\n",
       "                                           learning_...\n",
       "                                           n_estimators=100, n_jobs=-1,\n",
       "                                           num_parallel_tree=None,\n",
       "                                           predictor=None, random_state=None, ...),\n",
       "                   n_iter=100, n_jobs=-1,\n",
       "                   param_distributions={&#x27;colsample_bytree&#x27;: [0.8],\n",
       "                                        &#x27;gamma&#x27;: [0, 0.25, 1],\n",
       "                                        &#x27;learning_rate&#x27;: [0.001, 0.05, 0.5],\n",
       "                                        &#x27;max_depth&#x27;: [1, 2, 4, 8],\n",
       "                                        &#x27;n_estimators&#x27;: [200, 600, 1000],\n",
       "                                        &#x27;reg_lambda&#x27;: [0.001, 1, 10],\n",
       "                                        &#x27;scale_pos_weight&#x27;: [0, 1, 3],\n",
       "                                        &#x27;subsample&#x27;: [0.8]},\n",
       "                   random_state=42, verbose=1)</pre></div></div></div><div class=\"sk-parallel\"><div class=\"sk-parallel-item\"><div class=\"sk-item\"><div class=\"sk-label-container\"><div class=\"sk-label sk-toggleable\"><input class=\"sk-toggleable__control sk-hidden--visually\" id=\"sk-estimator-id-6\" type=\"checkbox\" ><label for=\"sk-estimator-id-6\" class=\"sk-toggleable__label sk-toggleable__label-arrow\">estimator: XGBClassifier</label><div class=\"sk-toggleable__content\"><pre>XGBClassifier(base_score=None, booster=&#x27;gbtree&#x27;, callbacks=None,\n",
       "              colsample_bylevel=None, colsample_bynode=None,\n",
       "              colsample_bytree=None, early_stopping_rounds=None,\n",
       "              enable_categorical=False, eval_metric=None, feature_types=None,\n",
       "              gamma=None, gpu_id=None, grow_policy=None, importance_type=None,\n",
       "              interaction_constraints=None, learning_rate=None, max_bin=None,\n",
       "              max_cat_threshold=None, max_cat_to_onehot=None,\n",
       "              max_delta_step=None, max_depth=None, max_leaves=None,\n",
       "              min_child_weight=None, missing=nan, monotone_constraints=None,\n",
       "              n_estimators=100, n_jobs=-1, num_parallel_tree=None,\n",
       "              predictor=None, random_state=None, ...)</pre></div></div></div><div class=\"sk-serial\"><div class=\"sk-item\"><div class=\"sk-estimator sk-toggleable\"><input class=\"sk-toggleable__control sk-hidden--visually\" id=\"sk-estimator-id-7\" type=\"checkbox\" ><label for=\"sk-estimator-id-7\" class=\"sk-toggleable__label sk-toggleable__label-arrow\">XGBClassifier</label><div class=\"sk-toggleable__content\"><pre>XGBClassifier(base_score=None, booster=&#x27;gbtree&#x27;, callbacks=None,\n",
       "              colsample_bylevel=None, colsample_bynode=None,\n",
       "              colsample_bytree=None, early_stopping_rounds=None,\n",
       "              enable_categorical=False, eval_metric=None, feature_types=None,\n",
       "              gamma=None, gpu_id=None, grow_policy=None, importance_type=None,\n",
       "              interaction_constraints=None, learning_rate=None, max_bin=None,\n",
       "              max_cat_threshold=None, max_cat_to_onehot=None,\n",
       "              max_delta_step=None, max_depth=None, max_leaves=None,\n",
       "              min_child_weight=None, missing=nan, monotone_constraints=None,\n",
       "              n_estimators=100, n_jobs=-1, num_parallel_tree=None,\n",
       "              predictor=None, random_state=None, ...)</pre></div></div></div></div></div></div></div></div></div></div>"
      ],
      "text/plain": [
       "RandomizedSearchCV(cv=3,\n",
       "                   estimator=XGBClassifier(base_score=None, booster='gbtree',\n",
       "                                           callbacks=None,\n",
       "                                           colsample_bylevel=None,\n",
       "                                           colsample_bynode=None,\n",
       "                                           colsample_bytree=None,\n",
       "                                           early_stopping_rounds=None,\n",
       "                                           enable_categorical=False,\n",
       "                                           eval_metric=None, feature_types=None,\n",
       "                                           gamma=None, gpu_id=None,\n",
       "                                           grow_policy=None,\n",
       "                                           importance_type=None,\n",
       "                                           interaction_constraints=None,\n",
       "                                           learning_...\n",
       "                                           n_estimators=100, n_jobs=-1,\n",
       "                                           num_parallel_tree=None,\n",
       "                                           predictor=None, random_state=None, ...),\n",
       "                   n_iter=100, n_jobs=-1,\n",
       "                   param_distributions={'colsample_bytree': [0.8],\n",
       "                                        'gamma': [0, 0.25, 1],\n",
       "                                        'learning_rate': [0.001, 0.05, 0.5],\n",
       "                                        'max_depth': [1, 2, 4, 8],\n",
       "                                        'n_estimators': [200, 600, 1000],\n",
       "                                        'reg_lambda': [0.001, 1, 10],\n",
       "                                        'scale_pos_weight': [0, 1, 3],\n",
       "                                        'subsample': [0.8]},\n",
       "                   random_state=42, verbose=1)"
      ]
     },
     "execution_count": 45,
     "metadata": {},
     "output_type": "execute_result"
    }
   ],
   "source": [
    "# Setting possible values for the multiple hyperparameters of XGBoost\n",
    "random_grid = {\n",
    "    \"max_depth\": [1, 2, 4, 8],\n",
    "    \"learning_rate\": [0.001,0.05, 0.5],\n",
    "    \"gamma\": [0, 0.25, 1],\n",
    "    \"reg_lambda\": [0.001, 1, 10],\n",
    "    \"scale_pos_weight\": [0,1, 3],\n",
    "    \"subsample\": [0.8],\n",
    "    \"colsample_bytree\": [0.8],\n",
    "    \"n_estimators\" : [int(x) for x in np.linspace(start = 200, stop = 1000, num = 3)]\n",
    "\n",
    "}\n",
    "\n",
    "# Using  Boosted trees\n",
    "bst = XGBClassifier(booster='gbtree',tree_method='exact',objective='binary:logistic',n_jobs=-1)\n",
    "\n",
    "# Random search of parameters, using 3 fold cross validation, \n",
    "# search across 100 different combinations\n",
    "rf_random = RandomizedSearchCV(estimator = bst, param_distributions = random_grid, n_iter = 100,\n",
    "                               cv = 3, verbose=1, random_state=42, n_jobs = -1)\n",
    "\n",
    "# Fit the random search model\n",
    "rf_random.fit(X_train, y_train.values.ravel())\n"
   ]
  },
  {
   "cell_type": "code",
   "execution_count": 46,
   "id": "f98358a4-3c93-44c5-8137-ac4ab083b5f8",
   "metadata": {},
   "outputs": [
    {
     "name": "stdout",
     "output_type": "stream",
     "text": [
      "Accuracy for our training dataset with tuning is : 69.36%\n"
     ]
    }
   ],
   "source": [
    "accuracy = rf_random.best_score_ *100\n",
    "print(\"Accuracy for our training dataset with tuning is : {:.2f}%\".format(accuracy) )"
   ]
  },
  {
   "cell_type": "code",
   "execution_count": 107,
   "id": "ca7808b4-6ff7-4d45-98f2-066bc9090abd",
   "metadata": {},
   "outputs": [],
   "source": [
    "a = {'subsample': 0.8,\n",
    "                         'scale_pos_weight': 1, 'reg_lambda': 0.001, 'n_estimators': 1000,\n",
    "                         'max_depth': 1, 'learning_rate': 0.05, 'gamma': 0.25, 'colsample_bytree': 0.8}"
   ]
  },
  {
   "cell_type": "code",
   "execution_count": 108,
   "id": "4c4756c7-396f-4959-8827-c0818dc26552",
   "metadata": {},
   "outputs": [
    {
     "data": {
      "text/plain": [
       "{'subsample': 0.8,\n",
       " 'scale_pos_weight': 1,\n",
       " 'reg_lambda': 0.001,\n",
       " 'n_estimators': 1000,\n",
       " 'max_depth': 1,\n",
       " 'learning_rate': 0.05,\n",
       " 'gamma': 0.25,\n",
       " 'colsample_bytree': 0.8}"
      ]
     },
     "execution_count": 108,
     "metadata": {},
     "output_type": "execute_result"
    }
   ],
   "source": [
    "a"
   ]
  },
  {
   "cell_type": "code",
   "execution_count": 117,
   "id": "a2cdabfd-fd3e-474a-a947-797255b5b21e",
   "metadata": {},
   "outputs": [],
   "source": [
    "print(rf_random.best_params_)\n",
    "(pd.DataFrame.from_dict(rf_random.best_params_, orient='index')).to_csv('/Users/rodrigo/Post-Grad/CC400/Results/xgboost_params.csv')"
   ]
  },
  {
   "cell_type": "code",
   "execution_count": 111,
   "id": "c71d60d5-23d3-48c1-b2f5-29f7108c6901",
   "metadata": {},
   "outputs": [
    {
     "name": "stderr",
     "output_type": "stream",
     "text": [
      "[Parallel(n_jobs=-1)]: Using backend LokyBackend with 8 concurrent workers.\n",
      "[Parallel(n_jobs=-1)]: Done   2 out of   5 | elapsed:  3.1min remaining:  4.6min\n",
      "[Parallel(n_jobs=-1)]: Done   5 out of   5 | elapsed:  3.1min finished\n"
     ]
    }
   ],
   "source": [
    "# Best xgboosting model\n",
    "final_cl = XGBClassifier(\n",
    "    **rf_random.best_params_,\n",
    "    objective=\"binary:logistic\",\n",
    "    booster='gbtree',\n",
    "    tree_method='exact',\n",
    "    eval_metric='mlogloss',\n",
    "    n_jobs=-1\n",
    ")\n",
    "# **rf_random.best_params_\n",
    "\n",
    "scores = cross_validate(final_cl, X_train, y_train.values.ravel(), scoring=scoring,\n",
    "                         cv=5, n_jobs=-1,verbose=1)\n",
    "\n",
    "#bst.fit(X_train, y_train.values.ravel())"
   ]
  },
  {
   "cell_type": "code",
   "execution_count": 112,
   "id": "34ab1402-59b2-44b3-80dc-d030c902560f",
   "metadata": {},
   "outputs": [
    {
     "name": "stdout",
     "output_type": "stream",
     "text": [
      "Accuracy in test:0.68(0.03)\n",
      "F1_scores 0.62(0.03)\n",
      "Precision_scores 0.67(0.04)\n",
      "Recall_scores 0.62(0.03)\n",
      "ROC AUC 0.73(0.03)\n"
     ]
    }
   ],
   "source": [
    "print(\"Accuracy in test:%0.2f(%0.2f)\" % (scores['test_acc'].mean(), scores['test_acc'].std()))\n",
    "print(\"F1_scores {:.2f}({:.2f})\".format(scores['test_f1'].mean(), scores['test_f1'].std()))\n",
    "print(\"Precision_scores {:.2f}({:.2f})\".format(scores['test_prec_macro'].mean(), scores['test_prec_macro'].std()))\n",
    "print(\"Recall_scores {:.2f}({:.2f})\".format(scores['test_rec_macro'].mean(), scores['test_rec_macro'].std()))\n",
    "print(\"ROC AUC {:.2f}({:.2f})\".format(scores['test_roc_auc'].mean(), scores['test_roc_auc'].std()))"
   ]
  },
  {
   "cell_type": "code",
   "execution_count": 113,
   "id": "0fb449e5-4f16-4023-9873-5edb5f7c1190",
   "metadata": {},
   "outputs": [],
   "source": [
    "scores['Model'] = ['XGBoost']*5\n",
    "results = results.merge(pd.DataFrame.from_dict(scores), how='outer')"
   ]
  },
  {
   "cell_type": "code",
   "execution_count": 117,
   "id": "9a129d09-70e9-4f24-93d2-8139730089d6",
   "metadata": {},
   "outputs": [
    {
     "data": {
      "text/html": [
       "<div>\n",
       "<style scoped>\n",
       "    .dataframe tbody tr th:only-of-type {\n",
       "        vertical-align: middle;\n",
       "    }\n",
       "\n",
       "    .dataframe tbody tr th {\n",
       "        vertical-align: top;\n",
       "    }\n",
       "\n",
       "    .dataframe thead th {\n",
       "        text-align: right;\n",
       "    }\n",
       "</style>\n",
       "<table border=\"1\" class=\"dataframe\">\n",
       "  <thead>\n",
       "    <tr style=\"text-align: right;\">\n",
       "      <th></th>\n",
       "      <th>fit_time</th>\n",
       "      <th>score_time</th>\n",
       "      <th>test_acc</th>\n",
       "      <th>test_prec_macro</th>\n",
       "      <th>test_rec_macro</th>\n",
       "      <th>test_f1</th>\n",
       "      <th>test_roc_auc</th>\n",
       "      <th>Model</th>\n",
       "    </tr>\n",
       "  </thead>\n",
       "  <tbody>\n",
       "    <tr>\n",
       "      <th>0</th>\n",
       "      <td>3.510035</td>\n",
       "      <td>0.109687</td>\n",
       "      <td>0.726027</td>\n",
       "      <td>0.746032</td>\n",
       "      <td>0.657942</td>\n",
       "      <td>0.660859</td>\n",
       "      <td>0.673726</td>\n",
       "      <td>logreg</td>\n",
       "    </tr>\n",
       "    <tr>\n",
       "      <th>1</th>\n",
       "      <td>3.260859</td>\n",
       "      <td>0.119483</td>\n",
       "      <td>0.710345</td>\n",
       "      <td>0.706522</td>\n",
       "      <td>0.644994</td>\n",
       "      <td>0.648058</td>\n",
       "      <td>0.799145</td>\n",
       "      <td>logreg</td>\n",
       "    </tr>\n",
       "    <tr>\n",
       "      <th>2</th>\n",
       "      <td>2.810567</td>\n",
       "      <td>0.124903</td>\n",
       "      <td>0.662069</td>\n",
       "      <td>0.631108</td>\n",
       "      <td>0.610297</td>\n",
       "      <td>0.612194</td>\n",
       "      <td>0.655271</td>\n",
       "      <td>logreg</td>\n",
       "    </tr>\n",
       "    <tr>\n",
       "      <th>3</th>\n",
       "      <td>2.374278</td>\n",
       "      <td>0.142166</td>\n",
       "      <td>0.648276</td>\n",
       "      <td>0.656863</td>\n",
       "      <td>0.539072</td>\n",
       "      <td>0.482903</td>\n",
       "      <td>0.773911</td>\n",
       "      <td>logreg</td>\n",
       "    </tr>\n",
       "    <tr>\n",
       "      <th>4</th>\n",
       "      <td>3.313388</td>\n",
       "      <td>0.116192</td>\n",
       "      <td>0.710345</td>\n",
       "      <td>0.689413</td>\n",
       "      <td>0.686406</td>\n",
       "      <td>0.687756</td>\n",
       "      <td>0.776760</td>\n",
       "      <td>logreg</td>\n",
       "    </tr>\n",
       "    <tr>\n",
       "      <th>5</th>\n",
       "      <td>3.920038</td>\n",
       "      <td>1.603890</td>\n",
       "      <td>0.709677</td>\n",
       "      <td>0.690858</td>\n",
       "      <td>0.687483</td>\n",
       "      <td>0.688963</td>\n",
       "      <td>0.733352</td>\n",
       "      <td>SVC</td>\n",
       "    </tr>\n",
       "    <tr>\n",
       "      <th>6</th>\n",
       "      <td>3.893258</td>\n",
       "      <td>1.603751</td>\n",
       "      <td>0.733871</td>\n",
       "      <td>0.725163</td>\n",
       "      <td>0.690384</td>\n",
       "      <td>0.697494</td>\n",
       "      <td>0.757668</td>\n",
       "      <td>SVC</td>\n",
       "    </tr>\n",
       "    <tr>\n",
       "      <th>7</th>\n",
       "      <td>3.583603</td>\n",
       "      <td>1.374703</td>\n",
       "      <td>0.715447</td>\n",
       "      <td>0.715038</td>\n",
       "      <td>0.660134</td>\n",
       "      <td>0.664327</td>\n",
       "      <td>0.760078</td>\n",
       "      <td>SVC</td>\n",
       "    </tr>\n",
       "    <tr>\n",
       "      <th>8</th>\n",
       "      <td>3.924670</td>\n",
       "      <td>1.600512</td>\n",
       "      <td>0.666667</td>\n",
       "      <td>0.652086</td>\n",
       "      <td>0.657195</td>\n",
       "      <td>0.653474</td>\n",
       "      <td>0.773796</td>\n",
       "      <td>SVC</td>\n",
       "    </tr>\n",
       "    <tr>\n",
       "      <th>9</th>\n",
       "      <td>3.868637</td>\n",
       "      <td>1.615952</td>\n",
       "      <td>0.764228</td>\n",
       "      <td>0.751832</td>\n",
       "      <td>0.732919</td>\n",
       "      <td>0.739350</td>\n",
       "      <td>0.828063</td>\n",
       "      <td>SVC</td>\n",
       "    </tr>\n",
       "    <tr>\n",
       "      <th>10</th>\n",
       "      <td>183.261516</td>\n",
       "      <td>0.640845</td>\n",
       "      <td>0.629032</td>\n",
       "      <td>0.591398</td>\n",
       "      <td>0.572810</td>\n",
       "      <td>0.569834</td>\n",
       "      <td>0.680298</td>\n",
       "      <td>XGBoost</td>\n",
       "    </tr>\n",
       "    <tr>\n",
       "      <th>11</th>\n",
       "      <td>182.800606</td>\n",
       "      <td>0.673778</td>\n",
       "      <td>0.685484</td>\n",
       "      <td>0.691346</td>\n",
       "      <td>0.609975</td>\n",
       "      <td>0.601220</td>\n",
       "      <td>0.714286</td>\n",
       "      <td>XGBoost</td>\n",
       "    </tr>\n",
       "    <tr>\n",
       "      <th>12</th>\n",
       "      <td>183.955396</td>\n",
       "      <td>0.816659</td>\n",
       "      <td>0.674797</td>\n",
       "      <td>0.656090</td>\n",
       "      <td>0.619121</td>\n",
       "      <td>0.619195</td>\n",
       "      <td>0.732083</td>\n",
       "      <td>XGBoost</td>\n",
       "    </tr>\n",
       "    <tr>\n",
       "      <th>13</th>\n",
       "      <td>183.859741</td>\n",
       "      <td>0.835750</td>\n",
       "      <td>0.715447</td>\n",
       "      <td>0.721055</td>\n",
       "      <td>0.656075</td>\n",
       "      <td>0.659118</td>\n",
       "      <td>0.759798</td>\n",
       "      <td>XGBoost</td>\n",
       "    </tr>\n",
       "    <tr>\n",
       "      <th>14</th>\n",
       "      <td>184.050896</td>\n",
       "      <td>0.819673</td>\n",
       "      <td>0.707317</td>\n",
       "      <td>0.693548</td>\n",
       "      <td>0.652456</td>\n",
       "      <td>0.657276</td>\n",
       "      <td>0.744212</td>\n",
       "      <td>XGBoost</td>\n",
       "    </tr>\n",
       "  </tbody>\n",
       "</table>\n",
       "</div>"
      ],
      "text/plain": [
       "      fit_time  score_time  test_acc  test_prec_macro  test_rec_macro  \\\n",
       "0     3.510035    0.109687  0.726027         0.746032        0.657942   \n",
       "1     3.260859    0.119483  0.710345         0.706522        0.644994   \n",
       "2     2.810567    0.124903  0.662069         0.631108        0.610297   \n",
       "3     2.374278    0.142166  0.648276         0.656863        0.539072   \n",
       "4     3.313388    0.116192  0.710345         0.689413        0.686406   \n",
       "5     3.920038    1.603890  0.709677         0.690858        0.687483   \n",
       "6     3.893258    1.603751  0.733871         0.725163        0.690384   \n",
       "7     3.583603    1.374703  0.715447         0.715038        0.660134   \n",
       "8     3.924670    1.600512  0.666667         0.652086        0.657195   \n",
       "9     3.868637    1.615952  0.764228         0.751832        0.732919   \n",
       "10  183.261516    0.640845  0.629032         0.591398        0.572810   \n",
       "11  182.800606    0.673778  0.685484         0.691346        0.609975   \n",
       "12  183.955396    0.816659  0.674797         0.656090        0.619121   \n",
       "13  183.859741    0.835750  0.715447         0.721055        0.656075   \n",
       "14  184.050896    0.819673  0.707317         0.693548        0.652456   \n",
       "\n",
       "     test_f1  test_roc_auc    Model  \n",
       "0   0.660859      0.673726   logreg  \n",
       "1   0.648058      0.799145   logreg  \n",
       "2   0.612194      0.655271   logreg  \n",
       "3   0.482903      0.773911   logreg  \n",
       "4   0.687756      0.776760   logreg  \n",
       "5   0.688963      0.733352      SVC  \n",
       "6   0.697494      0.757668      SVC  \n",
       "7   0.664327      0.760078      SVC  \n",
       "8   0.653474      0.773796      SVC  \n",
       "9   0.739350      0.828063      SVC  \n",
       "10  0.569834      0.680298  XGBoost  \n",
       "11  0.601220      0.714286  XGBoost  \n",
       "12  0.619195      0.732083  XGBoost  \n",
       "13  0.659118      0.759798  XGBoost  \n",
       "14  0.657276      0.744212  XGBoost  "
      ]
     },
     "execution_count": 117,
     "metadata": {},
     "output_type": "execute_result"
    }
   ],
   "source": [
    "results"
   ]
  },
  {
   "cell_type": "code",
   "execution_count": 118,
   "id": "219501d2-0905-4b2b-9dc3-d9510c4f598a",
   "metadata": {},
   "outputs": [],
   "source": [
    "results.to_csv('/Users/rodrigo/Post-Grad/CC400/Results/models.csv')"
   ]
  },
  {
   "cell_type": "code",
   "execution_count": null,
   "id": "aacf357a-c993-4850-9a3b-a51cd22ded39",
   "metadata": {},
   "outputs": [],
   "source": []
  }
 ],
 "metadata": {
  "kernelspec": {
   "display_name": "Python 3 (ipykernel)",
   "language": "python",
   "name": "python3"
  },
  "language_info": {
   "codemirror_mode": {
    "name": "ipython",
    "version": 3
   },
   "file_extension": ".py",
   "mimetype": "text/x-python",
   "name": "python",
   "nbconvert_exporter": "python",
   "pygments_lexer": "ipython3",
   "version": "3.9.16"
  }
 },
 "nbformat": 4,
 "nbformat_minor": 5
}
