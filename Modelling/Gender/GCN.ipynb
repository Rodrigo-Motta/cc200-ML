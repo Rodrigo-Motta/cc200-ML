{
 "cells": [
  {
   "cell_type": "code",
   "execution_count": 187,
   "id": "ec5c0a04-5483-4caa-a068-9e06fc2c63c8",
   "metadata": {},
   "outputs": [],
   "source": [
    "import pandas as pd\n",
    "import numpy as np\n",
    "import matplotlib.pyplot as plt\n",
    "import seaborn as sns\n",
    "import torch\n",
    "import torch_geometric\n",
    "from torch_geometric.data import Data\n",
    "from torch_geometric.utils import dense_to_sparse\n",
    "from sklearn.metrics import confusion_matrix\n",
    "from tqdm import tqdm\n",
    "\n",
    "\n",
    "%matplotlib inline\n",
    "sns.set(rc={'image.cmap': 'coolwarm'})\n",
    "\n",
    "#from numba import jit,prange\n",
    "\n",
    "import time\n",
    "import os\n",
    "\n",
    "SMALL_SIZE = 8\n",
    "MEDIUM_SIZE = 10\n",
    "BIGGER_SIZE = 20\n",
    "\n",
    "plt.rc('font', size=MEDIUM_SIZE)          # controls default text sizes\n",
    "plt.rc('axes', titlesize=MEDIUM_SIZE)     # fontsize of the axes title\n",
    "plt.rc('axes', labelsize=BIGGER_SIZE)    # fontsize of the x and y labels\n",
    "plt.rc('xtick', labelsize=MEDIUM_SIZE)    # fontsize of the tick labels\n",
    "plt.rc('ytick', labelsize=MEDIUM_SIZE)    # fontsize of the tick labels\n",
    "plt.rc('legend', fontsize=MEDIUM_SIZE)    # legend fontsize\n",
    "plt.rc('figure', titlesize=BIGGER_SIZE)  # fontsize of the figure title"
   ]
  },
  {
   "cell_type": "code",
   "execution_count": 188,
   "id": "debbbd62-983b-4612-9dd2-e4ad26be6d6c",
   "metadata": {},
   "outputs": [
    {
     "name": "stdout",
     "output_type": "stream",
     "text": [
      "1.13.1\n"
     ]
    }
   ],
   "source": [
    "print(torch.__version__)"
   ]
  },
  {
   "cell_type": "code",
   "execution_count": 189,
   "id": "d79272de-f41f-4273-80dd-baebc6e3f731",
   "metadata": {},
   "outputs": [
    {
     "name": "stdout",
     "output_type": "stream",
     "text": [
      "2.1.0\n"
     ]
    }
   ],
   "source": [
    "print(torch_geometric.__version__)"
   ]
  },
  {
   "cell_type": "code",
   "execution_count": 190,
   "id": "cca6cf18-d292-4c44-a147-65c77b9aba54",
   "metadata": {},
   "outputs": [],
   "source": [
    "def correlation_matrix(size, corr):\n",
    "    corr_matrix = np.zeros((size,size))\n",
    "    cont = 0\n",
    "\n",
    "    for i in range(size):\n",
    "        for j in range(i, size):\n",
    "            if i == j:\n",
    "                corr_matrix[i,j] = 0#float('nan')\n",
    "\n",
    "\n",
    "            else:\n",
    "                corr_matrix[i,j] = corr[cont]\n",
    "                corr_matrix[j,i] = corr[cont]\n",
    "                cont += 1 \n",
    "    return corr_matrix"
   ]
  },
  {
   "cell_type": "code",
   "execution_count": 191,
   "id": "43d0bc9e-d442-479e-a12c-e6e068f5b92a",
   "metadata": {},
   "outputs": [],
   "source": [
    "def import_data(fisher):\n",
    "    if fisher == True:\n",
    "        df = pd.read_csv(r'/Users/rodrigo/Post-Grad/CC400/corr_matrices_fisher200.csv',index_col=['Institution','Subject'])\n",
    "        phenotypic = pd.read_csv(r'/Users/rodrigo/Post-Grad/CC400/phenotypic200.csv',index_col=['Institution','Subject'])\n",
    "    else:\n",
    "        df = pd.read_csv(r'/Users/rodrigo/Post-Grad/CC400/corr_matrices200.csv',index_col=['Institution','Subject','Run'])\n",
    "        phenotypic = pd.read_csv(r'/Users/rodrigo/Post-Grad/CC400/phenotypic200.csv',index_col=['Institution','Subject'])\n",
    "    return df,phenotypic"
   ]
  },
  {
   "cell_type": "code",
   "execution_count": 194,
   "id": "12920c28-3874-464b-acd6-2da7c2303fc6",
   "metadata": {},
   "outputs": [],
   "source": [
    "df, phenotypic = import_data(fisher=True)\n",
    "df = df.join(pd.DataFrame(phenotypic.Age), how='left')\n",
    "df = df.join(pd.DataFrame(phenotypic['ADHD Measure']), how='left')\n",
    "df = df.join(pd.DataFrame(phenotypic['Gender']), how='left')\n",
    "\n",
    "#df = ((df.reset_index()).drop(columns=['Institution', 'Subject','Run'])).dropna(subset=[str(x) for x in range(0,61425)])\n",
    "df = ((df.reset_index()).drop(columns=['Institution', 'Subject'])).dropna(subset=[str(x) for x in range(0,17954)])\n",
    "df = df.dropna(axis=0, subset=['Gender'])\n",
    "y = (df.Gender).apply(lambda x: int(x))\n",
    "X = np.tanh(df.iloc[:,:-3])"
   ]
  },
  {
   "cell_type": "code",
   "execution_count": 195,
   "id": "e4d169ed-804c-4b9d-a582-5be0c517f271",
   "metadata": {},
   "outputs": [
    {
     "name": "stdout",
     "output_type": "stream",
     "text": [
      " 0 = 0.37% \n",
      " 1 = 0.63%\n"
     ]
    }
   ],
   "source": [
    "print(' 0 = {:.2f}% \\n'.format(y.value_counts()[0]/len(y)), '1 = {:.2f}%'.format(y.value_counts()[1]/len(y)))"
   ]
  },
  {
   "cell_type": "code",
   "execution_count": 196,
   "id": "4aa9f44a-0853-4384-b984-6b46a357cdd3",
   "metadata": {},
   "outputs": [],
   "source": [
    "from sklearn.model_selection import train_test_split\n",
    "\n",
    "X_train, X_test, y_train, y_test = train_test_split(X,y,test_size=0.15, shuffle=True)"
   ]
  },
  {
   "cell_type": "code",
   "execution_count": 197,
   "id": "4ae6545f-ae73-4e9a-9521-c84e193aad89",
   "metadata": {},
   "outputs": [],
   "source": [
    "train_data = []\n",
    "\n",
    "for i in range((X_train.shape[0])):\n",
    "    adj = correlation_matrix(190,X_train.iloc[i,:].values)\n",
    "    np.fill_diagonal(adj,0)\n",
    "    adj = torch.from_numpy(adj).float()\n",
    "    edge_index, edge_attr = dense_to_sparse(adj)\n",
    "    train_data.append(Data(x=adj, edge_index=edge_index, edge_attr=edge_attr.reshape(len(edge_attr), 1),\n",
    "                            y=torch.tensor(int(y_train.iloc[i]))))"
   ]
  },
  {
   "cell_type": "code",
   "execution_count": 198,
   "id": "15423ce4-45b9-42d4-8a3c-94e39c72ad61",
   "metadata": {},
   "outputs": [],
   "source": [
    "test_data = []\n",
    "\n",
    "for i in range((X_test.shape[0])):\n",
    "    adj = correlation_matrix(190,X_test.iloc[i,:].values)\n",
    "    np.fill_diagonal(adj,1)\n",
    "    adj = torch.from_numpy(adj).float()\n",
    "    edge_index, edge_attr = dense_to_sparse(adj)\n",
    "    test_data.append(Data(x=adj, edge_index=edge_index, edge_attr=edge_attr.reshape(len(edge_attr), 1),\n",
    "                          y=torch.tensor(int(y_test.iloc[i]))))"
   ]
  },
  {
   "cell_type": "code",
   "execution_count": 199,
   "id": "e0c59bc2-b6f7-45a1-96b9-c9c891e6f301",
   "metadata": {},
   "outputs": [
    {
     "name": "stdout",
     "output_type": "stream",
     "text": [
      "Data(x=[190, 190], edge_index=[2, 35910], edge_attr=[35910, 1], y=1)\n"
     ]
    }
   ],
   "source": [
    "print(train_data[0])"
   ]
  },
  {
   "cell_type": "code",
   "execution_count": 200,
   "id": "49767bb6-2c5f-4180-9165-f9d046ad7082",
   "metadata": {},
   "outputs": [],
   "source": [
    "from torch_geometric.loader import DataLoader\n",
    "\n",
    "batch_size = 32\n",
    "\n",
    "train_loader = DataLoader(train_data, batch_size, shuffle=True)\n",
    "\n",
    "test_loader = DataLoader(test_data, shuffle=True)\n"
   ]
  },
  {
   "cell_type": "code",
   "execution_count": 201,
   "id": "07d45df4-28f8-4a4f-9b24-0449e9c2b0cc",
   "metadata": {},
   "outputs": [],
   "source": [
    "#for data in train_loader:\n",
    "    #print(batch)\n",
    "    #print('num_nodes',batch.num_nodes)\n",
    "    #print(batch.x.shape)\n",
    "    #print(data.edge_index.shape)\n",
    "    #print(data.batch)\n",
    "    #print('num_graphs', batch.num_graphs)\n",
    "    # data = data.to(device)\n",
    "    # optimizer.zero_grad()\n",
    "    # out = model(data.x, data.edge_index, data.batch)\n",
    "    # loss = F.cross_entropy(out, data.y)\n",
    "    # loss.backward()\n",
    "    # optimizer.step()\n",
    "    # total_loss += float(loss) * data.num_graphs\n"
   ]
  },
  {
   "cell_type": "code",
   "execution_count": 205,
   "id": "c89df864-e874-4177-9a0c-094ddd99da03",
   "metadata": {},
   "outputs": [],
   "source": [
    "import torch\n",
    "import torch.nn.functional as func\n",
    "from torch_geometric.nn import ChebConv, GCNConv, global_mean_pool\n",
    "\n",
    "\n",
    "\n",
    "\n",
    "class GCN(torch.nn.Module):\n",
    "    \"\"\"GCN model(network architecture can be modified)\"\"\"\n",
    "\n",
    "    def __init__(self,\n",
    "                 num_features,\n",
    "                 num_classes,\n",
    "                 k_order,\n",
    "                 dropout=.1):\n",
    "        super(GCN, self).__init__()\n",
    "\n",
    "        self.p = dropout\n",
    "        \n",
    "        self.conv1 = GCNConv(int(num_features), 64)\n",
    "        #self.conv2 = GCNConv(128, 64)\n",
    "        self.conv2 = GCNConv(64, 32)\n",
    "        \n",
    "        #self.conv1 = ChebConv(int(num_features), 128, K=k_order)\n",
    "        #self.conv2 = ChebConv(128, 64, K=k_order)\n",
    "        #self.conv3 = ChebConv(64, 32, K=k_order)\n",
    "\n",
    "        self.lin1 = torch.nn.Linear(32, int(num_classes))\n",
    "        \n",
    "        self.max = torch.nn.Softmax(dim=1)\n",
    "        self.pool = global_mean_pool\n",
    "\n",
    "    def forward(self, data):\n",
    "        x, edge_index, edge_attr = data.x, data.edge_index, data.edge_attr\n",
    "        batch = data.batch\n",
    "        \n",
    "        x = func.relu(self.conv1(x, edge_index))  #, edge_attr))  #WHY NAN WITH EDGE_ATTR?\n",
    "        x = func.dropout(x, p=self.p, training=self.training)\n",
    "        x = func.relu(self.conv2(x, edge_index))  #, edge_attr))  #WHY NAN WITH EDGE_ATTR?\n",
    "        x = func.dropout(x, p=self.p, training=self.training)\n",
    "        #x = func.relu(self.conv3(x, edge_index))\n",
    "        #x = func.dropout(x, p=self.p, training=self.training)\n",
    "\n",
    "        \n",
    "        x = self.pool(x, batch)\n",
    "        x = self.lin1(x)\n",
    "        x = self.max(x)\n",
    "        return x"
   ]
  },
  {
   "cell_type": "code",
   "execution_count": 207,
   "id": "b5a0663c-15ee-45f9-970a-3a4e53041501",
   "metadata": {},
   "outputs": [
    {
     "name": "stderr",
     "output_type": "stream",
     "text": [
      "Epoch [1/100]: 100%|██████████████████| 21/21 [00:13<00:00,  1.59it/s, loss=429]\n",
      "/var/folders/24/hz8c6rbx3r32smymhrvkwbmc0000gn/T/ipykernel_49993/1855663198.py:48: RuntimeWarning: invalid value encountered in scalar divide\n",
      "  epoch_spe = tn / (tn + fp)\n",
      "Epoch [2/100]: 100%|██████████████████| 21/21 [00:09<00:00,  2.32it/s, loss=422]\n",
      "/var/folders/24/hz8c6rbx3r32smymhrvkwbmc0000gn/T/ipykernel_49993/1855663198.py:48: RuntimeWarning: invalid value encountered in scalar divide\n",
      "  epoch_spe = tn / (tn + fp)\n",
      "Epoch [3/100]: 100%|██████████████████| 21/21 [00:08<00:00,  2.45it/s, loss=413]\n",
      "/var/folders/24/hz8c6rbx3r32smymhrvkwbmc0000gn/T/ipykernel_49993/1855663198.py:48: RuntimeWarning: invalid value encountered in scalar divide\n",
      "  epoch_spe = tn / (tn + fp)\n",
      "Epoch [4/100]: 100%|██████████████████| 21/21 [00:09<00:00,  2.27it/s, loss=410]\n",
      "/var/folders/24/hz8c6rbx3r32smymhrvkwbmc0000gn/T/ipykernel_49993/1855663198.py:48: RuntimeWarning: invalid value encountered in scalar divide\n",
      "  epoch_spe = tn / (tn + fp)\n",
      "Epoch [5/100]: 100%|██████████████████| 21/21 [00:11<00:00,  1.75it/s, loss=402]\n",
      "/var/folders/24/hz8c6rbx3r32smymhrvkwbmc0000gn/T/ipykernel_49993/1855663198.py:48: RuntimeWarning: invalid value encountered in scalar divide\n",
      "  epoch_spe = tn / (tn + fp)\n",
      "Epoch [6/100]: 100%|██████████████████| 21/21 [00:11<00:00,  1.86it/s, loss=399]\n",
      "Epoch [7/100]: 100%|██████████████████| 21/21 [00:09<00:00,  2.32it/s, loss=386]\n",
      "Epoch [8/100]: 100%|██████████████████| 21/21 [00:09<00:00,  2.25it/s, loss=389]\n",
      "Epoch [9/100]: 100%|██████████████████| 21/21 [00:12<00:00,  1.71it/s, loss=374]\n",
      "Epoch [10/100]: 100%|█████████████████| 21/21 [00:10<00:00,  2.06it/s, loss=365]\n",
      "Epoch [11/100]: 100%|█████████████████| 21/21 [00:08<00:00,  2.55it/s, loss=367]\n",
      "Epoch [12/100]: 100%|█████████████████| 21/21 [00:08<00:00,  2.53it/s, loss=354]\n",
      "Epoch [13/100]: 100%|█████████████████| 21/21 [00:08<00:00,  2.58it/s, loss=341]\n",
      "Epoch [14/100]: 100%|█████████████████| 21/21 [00:08<00:00,  2.62it/s, loss=330]\n",
      "Epoch [15/100]: 100%|█████████████████| 21/21 [00:08<00:00,  2.61it/s, loss=347]\n",
      "Epoch [16/100]: 100%|█████████████████| 21/21 [00:08<00:00,  2.61it/s, loss=353]\n",
      "Epoch [17/100]: 100%|█████████████████| 21/21 [00:08<00:00,  2.56it/s, loss=322]\n",
      "Epoch [18/100]: 100%|█████████████████| 21/21 [00:08<00:00,  2.42it/s, loss=356]\n",
      "Epoch [19/100]: 100%|█████████████████| 21/21 [00:08<00:00,  2.47it/s, loss=331]\n",
      "Epoch [20/100]: 100%|█████████████████| 21/21 [00:08<00:00,  2.49it/s, loss=313]\n",
      "Epoch [21/100]: 100%|█████████████████| 21/21 [00:08<00:00,  2.51it/s, loss=312]\n",
      "Epoch [22/100]: 100%|█████████████████| 21/21 [00:08<00:00,  2.51it/s, loss=313]\n",
      "Epoch [23/100]: 100%|█████████████████| 21/21 [00:08<00:00,  2.50it/s, loss=310]\n",
      "Epoch [24/100]: 100%|█████████████████| 21/21 [00:08<00:00,  2.50it/s, loss=292]\n",
      "Epoch [25/100]: 100%|█████████████████| 21/21 [00:08<00:00,  2.53it/s, loss=351]\n",
      "Epoch [26/100]: 100%|█████████████████| 21/21 [00:08<00:00,  2.47it/s, loss=306]\n",
      "Epoch [27/100]: 100%|█████████████████| 21/21 [00:08<00:00,  2.52it/s, loss=291]\n",
      "Epoch [28/100]: 100%|█████████████████| 21/21 [00:08<00:00,  2.50it/s, loss=323]\n",
      "Epoch [29/100]: 100%|█████████████████| 21/21 [00:08<00:00,  2.50it/s, loss=313]\n",
      "Epoch [30/100]: 100%|█████████████████| 21/21 [00:08<00:00,  2.55it/s, loss=293]\n",
      "Epoch [31/100]: 100%|█████████████████| 21/21 [00:09<00:00,  2.17it/s, loss=296]\n",
      "Epoch [32/100]: 100%|█████████████████| 21/21 [00:08<00:00,  2.42it/s, loss=283]\n",
      "Epoch [33/100]: 100%|█████████████████| 21/21 [00:08<00:00,  2.53it/s, loss=277]\n",
      "Epoch [34/100]: 100%|█████████████████| 21/21 [00:08<00:00,  2.58it/s, loss=273]\n",
      "Epoch [35/100]: 100%|█████████████████| 21/21 [00:08<00:00,  2.51it/s, loss=273]\n",
      "Epoch [36/100]: 100%|█████████████████| 21/21 [00:09<00:00,  2.23it/s, loss=274]\n",
      "Epoch [37/100]: 100%|█████████████████| 21/21 [00:08<00:00,  2.49it/s, loss=261]\n",
      "Epoch [38/100]: 100%|█████████████████| 21/21 [00:08<00:00,  2.50it/s, loss=259]\n",
      "Epoch [39/100]: 100%|█████████████████| 21/21 [00:08<00:00,  2.55it/s, loss=254]\n",
      "Epoch [40/100]: 100%|█████████████████| 21/21 [00:08<00:00,  2.58it/s, loss=253]\n",
      "Epoch [41/100]: 100%|█████████████████| 21/21 [00:08<00:00,  2.53it/s, loss=251]\n",
      "Epoch [42/100]: 100%|█████████████████| 21/21 [00:08<00:00,  2.53it/s, loss=249]\n",
      "Epoch [43/100]: 100%|█████████████████| 21/21 [00:10<00:00,  2.05it/s, loss=246]\n",
      "Epoch [44/100]: 100%|█████████████████| 21/21 [15:33<00:00, 44.46s/it, loss=244]\n",
      "Epoch [45/100]: 100%|█████████████████| 21/21 [08:14<00:00, 23.57s/it, loss=244]\n",
      "Epoch [46/100]: 100%|█████████████████| 21/21 [00:14<00:00,  1.46it/s, loss=243]\n",
      "Epoch [47/100]: 100%|█████████████████| 21/21 [00:10<00:00,  2.09it/s, loss=243]\n",
      "Epoch [48/100]: 100%|█████████████████| 21/21 [00:10<00:00,  2.01it/s, loss=242]\n",
      "Epoch [49/100]: 100%|█████████████████| 21/21 [00:09<00:00,  2.24it/s, loss=241]\n",
      "Epoch [50/100]: 100%|█████████████████| 21/21 [00:11<00:00,  1.76it/s, loss=242]\n",
      "Epoch [51/100]: 100%|█████████████████| 21/21 [00:11<00:00,  1.84it/s, loss=242]\n",
      "Epoch [52/100]: 100%|█████████████████| 21/21 [00:11<00:00,  1.80it/s, loss=275]\n",
      "Epoch [53/100]: 100%|█████████████████| 21/21 [00:08<00:00,  2.47it/s, loss=297]\n",
      "Epoch [54/100]: 100%|█████████████████| 21/21 [00:07<00:00,  2.64it/s, loss=253]\n",
      "Epoch [55/100]: 100%|█████████████████| 21/21 [00:07<00:00,  2.74it/s, loss=243]\n",
      "Epoch [56/100]: 100%|█████████████████| 21/21 [00:08<00:00,  2.37it/s, loss=242]\n",
      "Epoch [57/100]: 100%|█████████████████| 21/21 [00:10<00:00,  2.06it/s, loss=242]\n",
      "Epoch [58/100]: 100%|█████████████████| 21/21 [00:08<00:00,  2.56it/s, loss=254]\n",
      "Epoch [59/100]: 100%|█████████████████| 21/21 [00:08<00:00,  2.48it/s, loss=246]\n",
      "Epoch [60/100]: 100%|█████████████████| 21/21 [00:08<00:00,  2.56it/s, loss=256]\n",
      "Epoch [61/100]: 100%|█████████████████| 21/21 [00:10<00:00,  1.92it/s, loss=246]\n",
      "Epoch [62/100]: 100%|█████████████████| 21/21 [00:09<00:00,  2.31it/s, loss=241]\n",
      "Epoch [63/100]: 100%|█████████████████| 21/21 [00:08<00:00,  2.53it/s, loss=244]\n",
      "Epoch [64/100]: 100%|█████████████████| 21/21 [00:08<00:00,  2.35it/s, loss=241]\n",
      "Epoch [65/100]: 100%|█████████████████| 21/21 [00:09<00:00,  2.13it/s, loss=241]\n",
      "Epoch [66/100]: 100%|█████████████████| 21/21 [00:08<00:00,  2.44it/s, loss=242]\n",
      "Epoch [67/100]: 100%|█████████████████| 21/21 [00:08<00:00,  2.48it/s, loss=268]\n",
      "Epoch [68/100]: 100%|█████████████████| 21/21 [00:09<00:00,  2.12it/s, loss=246]\n",
      "Epoch [69/100]: 100%|█████████████████| 21/21 [00:12<00:00,  1.64it/s, loss=243]\n",
      "Epoch [70/100]: 100%|█████████████████| 21/21 [00:11<00:00,  1.85it/s, loss=235]\n",
      "Epoch [71/100]: 100%|█████████████████| 21/21 [00:10<00:00,  2.04it/s, loss=234]\n",
      "Epoch [72/100]: 100%|█████████████████| 21/21 [00:09<00:00,  2.11it/s, loss=233]\n",
      "Epoch [73/100]: 100%|█████████████████| 21/21 [00:08<00:00,  2.59it/s, loss=232]\n",
      "Epoch [74/100]: 100%|█████████████████| 21/21 [00:10<00:00,  2.09it/s, loss=232]\n",
      "Epoch [75/100]: 100%|█████████████████| 21/21 [00:12<00:00,  1.65it/s, loss=232]\n",
      "Epoch [76/100]: 100%|█████████████████| 21/21 [00:10<00:00,  2.04it/s, loss=232]\n",
      "Epoch [77/100]: 100%|█████████████████| 21/21 [00:08<00:00,  2.40it/s, loss=232]\n",
      "Epoch [78/100]: 100%|█████████████████| 21/21 [00:08<00:00,  2.48it/s, loss=232]\n",
      "Epoch [79/100]: 100%|█████████████████| 21/21 [00:09<00:00,  2.10it/s, loss=232]\n",
      "Epoch [80/100]: 100%|█████████████████| 21/21 [00:08<00:00,  2.47it/s, loss=232]\n",
      "Epoch [81/100]: 100%|█████████████████| 21/21 [00:08<00:00,  2.45it/s, loss=232]\n",
      "Epoch [82/100]: 100%|█████████████████| 21/21 [00:08<00:00,  2.46it/s, loss=232]\n",
      "Epoch [83/100]: 100%|█████████████████| 21/21 [00:08<00:00,  2.38it/s, loss=232]\n",
      "Epoch [84/100]: 100%|█████████████████| 21/21 [00:09<00:00,  2.33it/s, loss=232]\n",
      "Epoch [85/100]: 100%|█████████████████| 21/21 [00:08<00:00,  2.46it/s, loss=232]\n",
      "Epoch [86/100]: 100%|█████████████████| 21/21 [00:08<00:00,  2.38it/s, loss=232]\n",
      "Epoch [87/100]: 100%|█████████████████| 21/21 [00:09<00:00,  2.27it/s, loss=232]\n",
      "Epoch [88/100]: 100%|█████████████████| 21/21 [00:09<00:00,  2.24it/s, loss=232]\n",
      "Epoch [89/100]: 100%|█████████████████| 21/21 [00:08<00:00,  2.35it/s, loss=232]\n",
      "Epoch [90/100]: 100%|█████████████████| 21/21 [00:08<00:00,  2.35it/s, loss=231]\n",
      "Epoch [91/100]: 100%|█████████████████| 21/21 [00:08<00:00,  2.36it/s, loss=231]\n",
      "Epoch [92/100]: 100%|█████████████████| 21/21 [00:08<00:00,  2.48it/s, loss=231]\n",
      "Epoch [93/100]: 100%|█████████████████| 21/21 [00:08<00:00,  2.40it/s, loss=232]\n",
      "Epoch [94/100]: 100%|█████████████████| 21/21 [00:08<00:00,  2.42it/s, loss=233]\n",
      "Epoch [95/100]: 100%|█████████████████| 21/21 [00:08<00:00,  2.35it/s, loss=243]\n",
      "Epoch [96/100]: 100%|█████████████████| 21/21 [00:08<00:00,  2.36it/s, loss=248]\n",
      "Epoch [97/100]: 100%|█████████████████| 21/21 [00:08<00:00,  2.47it/s, loss=243]\n",
      "Epoch [98/100]: 100%|█████████████████| 21/21 [00:08<00:00,  2.37it/s, loss=258]\n",
      "Epoch [99/100]: 100%|█████████████████| 21/21 [00:08<00:00,  2.40it/s, loss=276]\n",
      "Epoch [100/100]: 100%|████████████████| 21/21 [00:08<00:00,  2.48it/s, loss=256]\n"
     ]
    }
   ],
   "source": [
    "def GCN_train(loader, loop):\n",
    "    model.train()\n",
    "\n",
    "    loss_all = 0\n",
    "    \n",
    "    #for data in loader:\n",
    "        # data = data.to(device)\n",
    "        # optimizer.zero_grad()\n",
    "        # output = model(data)\n",
    "        # loss = func.cross_entropy(output, data.y)\n",
    "        # loss.backward()\n",
    "        # optimizer.step()\n",
    "        # loss_all += data.num_graphs * loss.item()\n",
    "        # #optimizer.step()\n",
    "        \n",
    "    for (x, y) in enumerate(loop):\n",
    "        y = y.to(device)\n",
    "        optimizer.zero_grad()\n",
    "        output = model(y)\n",
    "        loss = func.cross_entropy(output, y.y)\n",
    "        loss.backward()\n",
    "        optimizer.step()\n",
    "        loss_all += y.num_graphs * loss.item()\n",
    "        loop.set_description(f\"Epoch [{epoch}/{NUM_EPOCHS}]\")\n",
    "        loop.set_postfix(loss=loss_all)\n",
    "        #optimizer.step()\n",
    "    return loss_all / len(train_data)\n",
    "\n",
    "\n",
    "def GCN_test(loader):\n",
    "    model.eval()\n",
    "\n",
    "    pred = []\n",
    "    label = []\n",
    "    loss_all = 0\n",
    "    for data in loader:\n",
    "        data = data.to(device)\n",
    "        output = model(data)\n",
    "        loss = func.cross_entropy(output, data.y)\n",
    "        loss_all += data.num_graphs * loss.item()\n",
    "        pred.append(func.softmax(output, dim=1).max(dim=1)[1])\n",
    "        label.append(data.y)\n",
    "\n",
    "    y_pred = torch.cat(pred, dim=0).cpu().detach().numpy()\n",
    "    y_true = torch.cat(label, dim=0).cpu().detach().numpy()\n",
    "    tn, fp, fn, tp = confusion_matrix(y_pred, y_true).ravel()\n",
    "    epoch_sen = tp / (tp + fn)\n",
    "    epoch_spe = tn / (tn + fp)\n",
    "    epoch_acc = (tn + tp) / (tn + tp + fn + fp)\n",
    "    return epoch_sen, epoch_spe, epoch_acc, loss_all / len(test_data)\n",
    "\n",
    "loss_ = []\n",
    "acc_ = []\n",
    "\n",
    "device = torch.device('cuda' if torch.cuda.is_available() else 'cpu')\n",
    "model = GCN(190, 2, 3).to(device)\n",
    "optimizer = torch.optim.Adam(model.parameters(), lr=1e-2, weight_decay=1e-4)\n",
    "   \n",
    "min_v_loss = np.inf  \n",
    "\n",
    "NUM_EPOCHS = 100\n",
    "for epoch in range(1,NUM_EPOCHS + 1):\n",
    "    loop = tqdm(train_loader)\n",
    "    t_loss = GCN_train(train_loader,loop)\n",
    "    test_sen, test_spe, test_acc, _ = GCN_test(test_loader)\n",
    "    \n",
    "    loss_.append(t_loss)\n",
    "    acc_.append(test_acc)\n",
    "\n",
    "    "
   ]
  },
  {
   "cell_type": "code",
   "execution_count": 208,
   "id": "3fdf24ce-44df-402e-bbb4-2411db756c20",
   "metadata": {},
   "outputs": [],
   "source": [
    "y_pred = []\n",
    "for y in test_loader:\n",
    "    y_pred.append(model(y))"
   ]
  },
  {
   "cell_type": "code",
   "execution_count": 209,
   "id": "c408d625-117e-4b14-a218-a2930e834990",
   "metadata": {},
   "outputs": [
    {
     "data": {
      "text/plain": [
       "[tensor([[1.9313e-04, 9.9981e-01]], grad_fn=<SoftmaxBackward0>),\n",
       " tensor([[0.0032, 0.9968]], grad_fn=<SoftmaxBackward0>),\n",
       " tensor([[0.9989, 0.0011]], grad_fn=<SoftmaxBackward0>),\n",
       " tensor([[0.3098, 0.6902]], grad_fn=<SoftmaxBackward0>),\n",
       " tensor([[5.1081e-04, 9.9949e-01]], grad_fn=<SoftmaxBackward0>)]"
      ]
     },
     "execution_count": 209,
     "metadata": {},
     "output_type": "execute_result"
    }
   ],
   "source": [
    "y_pred[:5]"
   ]
  },
  {
   "cell_type": "code",
   "execution_count": 210,
   "id": "a4ce77ec-c52e-4b49-9db9-841ddf035dd0",
   "metadata": {},
   "outputs": [
    {
     "data": {
      "text/plain": [
       "0.631578947368421"
      ]
     },
     "execution_count": 210,
     "metadata": {},
     "output_type": "execute_result"
    }
   ],
   "source": [
    "test_acc"
   ]
  },
  {
   "cell_type": "code",
   "execution_count": 220,
   "id": "94e20156-6534-4ca8-ad73-41aa03976401",
   "metadata": {},
   "outputs": [
    {
     "data": {
      "text/plain": [
       "[<matplotlib.lines.Line2D at 0x15af410d0>]"
      ]
     },
     "execution_count": 220,
     "metadata": {},
     "output_type": "execute_result"
    },
    {
     "data": {
      "image/png": "[encoded data removed]",
      "text/plain": [
       "<Figure size 640x480 with 1 Axes>"
      ]
     },
     "metadata": {},
     "output_type": "display_data"
    }
   ],
   "source": [
    "plt.plot(acc_, '.')"
   ]
  },
  {
   "cell_type": "code",
   "execution_count": null,
   "id": "02aab259-39a5-42f2-a2ad-c949ba1f90c2",
   "metadata": {},
   "outputs": [],
   "source": []
  }
 ],
 "metadata": {
  "kernelspec": {
   "display_name": "Python 3 (ipykernel)",
   "language": "python",
   "name": "python3"
  },
  "language_info": {
   "codemirror_mode": {
    "name": "ipython",
    "version": 3
   },
   "file_extension": ".py",
   "mimetype": "text/x-python",
   "name": "python",
   "nbconvert_exporter": "python",
   "pygments_lexer": "ipython3",
   "version": "3.9.16"
  }
 },
 "nbformat": 4,
 "nbformat_minor": 5
}
