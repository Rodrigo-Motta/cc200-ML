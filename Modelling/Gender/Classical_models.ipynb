{
 "cells": [
  {
   "cell_type": "markdown",
   "id": "a9f4fcbd-e1f8-430b-a0d7-cb53bce3ff72",
   "metadata": {},
   "source": [
    "# Classification problem\n",
    "### Considering binary gender classification\n",
    "(0) Male\n",
    "\n",
    "(1) Female"
   ]
  },
  {
   "cell_type": "code",
   "execution_count": 49,
   "id": "6a95070e-6fbe-4960-85cf-d3ee1b67df54",
   "metadata": {},
   "outputs": [
    {
     "name": "stdout",
     "output_type": "stream",
     "text": [
      "/Users/rodrigo/Post-Grad/CC400/Repo\n"
     ]
    }
   ],
   "source": [
    "%cd /Users/rodrigo/Post-Grad/CC400/Repo"
   ]
  },
  {
   "cell_type": "code",
   "execution_count": 50,
   "id": "72272f33-4cc9-4613-8bfe-6a22a4ca445c",
   "metadata": {},
   "outputs": [],
   "source": [
    "import utils as ut"
   ]
  },
  {
   "cell_type": "code",
   "execution_count": 51,
   "id": "96056aff-7919-4583-b866-2d3ca3f0048f",
   "metadata": {},
   "outputs": [],
   "source": [
    "import pandas as pd\n",
    "import numpy as np\n",
    "import matplotlib.pyplot as plt\n",
    "import seaborn as sns\n",
    "from sklearn.metrics import confusion_matrix\n",
    "from sklearn.model_selection import cross_val_score\n",
    "from sklearn.metrics import accuracy_score, f1_score, precision_score, recall_score\n",
    "from sklearn.metrics import roc_curve, auc\n",
    "from sklearn.metrics import roc_auc_score\n",
    "from sklearn.model_selection import GridSearchCV\n",
    "from sklearn.model_selection import cross_validate\n",
    "from xgboost import XGBClassifier\n",
    "from sklearn.model_selection import RandomizedSearchCV\n",
    "from sklearn.model_selection import StratifiedKFold\n",
    "from neurocombat_sklearn import CombatModel\n",
    "\n",
    "\n",
    "\n",
    "%matplotlib inline\n",
    "sns.set(rc={'image.cmap': 'coolwarm'})\n",
    "np.random.seed(42)\n",
    "\n",
    "#from numba import jit,prange\n",
    "\n",
    "import time\n",
    "import os\n",
    "\n",
    "SMALL_SIZE = 8\n",
    "MEDIUM_SIZE = 10\n",
    "BIGGER_SIZE = 20\n",
    "\n",
    "plt.rc('font', size=MEDIUM_SIZE)          # controls default text sizes\n",
    "plt.rc('axes', titlesize=MEDIUM_SIZE)     # fontsize of the axes title\n",
    "plt.rc('axes', labelsize=BIGGER_SIZE)    # fontsize of the x and y labels\n",
    "plt.rc('xtick', labelsize=MEDIUM_SIZE)    # fontsize of the tick labels\n",
    "plt.rc('ytick', labelsize=MEDIUM_SIZE)    # fontsize of the tick labels\n",
    "plt.rc('legend', fontsize=MEDIUM_SIZE)    # legend fontsize\n",
    "plt.rc('figure', titlesize=BIGGER_SIZE)  # fontsize of the figure title\n",
    "\n",
    "scoring = {'acc': 'accuracy',\n",
    "           'prec_macro': 'precision_macro',\n",
    "           'rec_macro': 'recall_macro',\n",
    "          'f1' : 'f1_macro',\n",
    "          'roc_auc' : 'roc_auc'} \n",
    "\n",
    "cv = StratifiedKFold(n_splits=10, shuffle=True, random_state=42)\n",
    "\n",
    "results = pd.DataFrame()"
   ]
  },
  {
   "cell_type": "code",
   "execution_count": 52,
   "id": "0bfc94bf-503c-4824-86ad-5b11d97fd008",
   "metadata": {},
   "outputs": [],
   "source": [
    "df, phenotypic = ut.import_data(fisher=False)\n",
    "\n",
    "#df = df.join(pd.DataFrame(phenotypic.Age), how='left')\n",
    "#df = df.join(pd.DataFrame(phenotypic['ADHD Measure']), how='left')\n",
    "df = df.join(pd.DataFrame(phenotypic['Gender']), how='left')\n",
    "\n",
    "df['Age'] = phenotypic['Age']\n",
    "\n",
    "from sklearn.utils import shuffle\n",
    "df = shuffle(df, random_state=42)\n",
    "\n",
    "df = df.dropna(axis=0)\n",
    "df = df.reset_index()\n",
    "df['Site'] = df['Institution'].astype('category')\n",
    "df['Site'] = df['Site'].cat.codes\n",
    "\n",
    "# TEST = df[df.Subject.isin(df['Subject'].unique()[-20:])].reset_index()\n",
    "# X_TEST = TEST.drop(columns=['Institution', 'Subject', 'Run','Gender', 'Age', 'Site','index'])\n",
    "# y_TEST = TEST.Gender\n",
    "\n",
    "# df = df[~df.Subject.isin(df['Subject'].unique()[-20:])].reset_index().drop(columns='index')\n",
    "\n",
    "X = df.drop(columns=['Institution', 'Run', 'Age', 'Gender', 'Subject','Site'])\n",
    "y = df.Gender.astype(int)\n"
   ]
  },
  {
   "cell_type": "code",
   "execution_count": 53,
   "id": "e5800292-79b6-4ec4-85ef-9b12248e68ea",
   "metadata": {},
   "outputs": [],
   "source": [
    "ROI_labels = pd.read_csv('/Users/rodrigo/Post-Grad/CC400/ROI_labels.csv')"
   ]
  },
  {
   "cell_type": "code",
   "execution_count": 54,
   "id": "7e9e83c2-5eae-44be-8e20-855adfbe2d3b",
   "metadata": {},
   "outputs": [
    {
     "name": "stdout",
     "output_type": "stream",
     "text": [
      " 0 = 0.39% \n",
      " 1 = 0.61%\n"
     ]
    }
   ],
   "source": [
    "print(' 0 = {:.2f}% \\n'.format(y.value_counts()[0]/len(y)), '1 = {:.2f}%'.format(y.value_counts()[1]/len(y)))"
   ]
  },
  {
   "cell_type": "code",
   "execution_count": 57,
   "id": "b5b885ad-f4db-4bf8-b80e-523d87a584ca",
   "metadata": {},
   "outputs": [],
   "source": [
    "df_dmn,labels = ut.DMN_extraction(X)\n",
    "df_dmn = pd.DataFrame(df_dmn)\n",
    "num_features = 52\n",
    "df_dmn[['Institution', 'Run', 'Age', 'Gender', 'Subject','Site']] = df[['Institution', 'Run', 'Age', 'Gender', 'Subject','Site']]"
   ]
  },
  {
   "cell_type": "code",
   "execution_count": 58,
   "id": "8cdb8c41-7d58-4ea1-a767-d69c6a6daaf3",
   "metadata": {},
   "outputs": [],
   "source": [
    "np.random.seed(42)\n",
    "random = df.Subject.isin(np.random.choice(df['Subject'].unique(),200))\n",
    "\n",
    "df_train = df[~random]\n",
    "df_test = df[random]\n",
    "\n",
    "Age_train = df_train[['Age']]\n",
    "Site_train = df_train[['Site']]\n",
    "X_train = df_train.drop(columns=['Institution', 'Subject', 'Run','Gender', 'Age', 'Site'])\n",
    "y_train = df_train.Gender\n",
    "\n",
    "Age_test = df_test[['Age']]\n",
    "Site_test = df_test[['Site']]\n",
    "X_test = df_test.drop(columns=['Institution', 'Subject', 'Run', 'Gender', 'Age', 'Site'])\n",
    "y_test = df_test.Gender\n",
    "\n",
    "# X_train = pd.DataFrame(X_dmn[~random])  ###\n",
    "# X_test = pd.DataFrame(X_dmn[random])    ###"
   ]
  },
  {
   "cell_type": "code",
   "execution_count": 59,
   "id": "9afbc21d-33c5-4865-b734-dd7aa3fbabaa",
   "metadata": {},
   "outputs": [
    {
     "name": "stderr",
     "output_type": "stream",
     "text": [
      "/opt/homebrew/Caskroom/miniforge/base/envs/GCN_study/lib/python3.9/site-packages/sklearn/preprocessing/_encoders.py:868: FutureWarning: `sparse` was renamed to `sparse_output` in version 1.2 and will be removed in 1.4. `sparse_output` is ignored unless you leave `sparse` to its default value.\n",
      "  warnings.warn(\n"
     ]
    }
   ],
   "source": [
    "\n",
    "# Creating model\n",
    "model = CombatModel()\n",
    "\n",
    "# Fitting the model and transforming the training set\n",
    "X_train = model.fit_transform(X_train.values,\n",
    "                                         Site_train) #X_train_har\n",
    "\n",
    "# Harmonize test set using training set fitted parameters\n",
    "X_test = model.transform(X_test.values,\n",
    "                                    Site_test) #X_test_har"
   ]
  },
  {
   "cell_type": "code",
   "execution_count": 60,
   "id": "f25b573a-04af-4cce-9040-8a1adfd0929d",
   "metadata": {},
   "outputs": [
    {
     "name": "stderr",
     "output_type": "stream",
     "text": [
      "/opt/homebrew/Caskroom/miniforge/base/envs/GCN_study/lib/python3.9/site-packages/sklearn/preprocessing/_encoders.py:868: FutureWarning: `sparse` was renamed to `sparse_output` in version 1.2 and will be removed in 1.4. `sparse_output` is ignored unless you leave `sparse` to its default value.\n",
      "  warnings.warn(\n",
      "/opt/homebrew/Caskroom/miniforge/base/envs/GCN_study/lib/python3.9/site-packages/sklearn/preprocessing/_encoders.py:868: FutureWarning: `sparse` was renamed to `sparse_output` in version 1.2 and will be removed in 1.4. `sparse_output` is ignored unless you leave `sparse` to its default value.\n",
      "  warnings.warn(\n",
      "/opt/homebrew/Caskroom/miniforge/base/envs/GCN_study/lib/python3.9/site-packages/sklearn/preprocessing/_encoders.py:868: FutureWarning: `sparse` was renamed to `sparse_output` in version 1.2 and will be removed in 1.4. `sparse_output` is ignored unless you leave `sparse` to its default value.\n",
      "  warnings.warn(\n",
      "/opt/homebrew/Caskroom/miniforge/base/envs/GCN_study/lib/python3.9/site-packages/sklearn/preprocessing/_encoders.py:868: FutureWarning: `sparse` was renamed to `sparse_output` in version 1.2 and will be removed in 1.4. `sparse_output` is ignored unless you leave `sparse` to its default value.\n",
      "  warnings.warn(\n",
      "/opt/homebrew/Caskroom/miniforge/base/envs/GCN_study/lib/python3.9/site-packages/sklearn/preprocessing/_encoders.py:868: FutureWarning: `sparse` was renamed to `sparse_output` in version 1.2 and will be removed in 1.4. `sparse_output` is ignored unless you leave `sparse` to its default value.\n",
      "  warnings.warn(\n"
     ]
    }
   ],
   "source": [
    "X_train, y_train, X_test, y_test = ut.cross_val_data(df_dmn, folds=5) #df\n",
    "\n",
    "cv = []\n",
    "for i in range(len(y_train)):\n",
    "    trainIndices = y_train[i].index.values.astype(int)\n",
    "    testIndices =  y_test[i].index.values.astype(int)\n",
    "    cv.append( (trainIndices, testIndices) )"
   ]
  },
  {
   "cell_type": "code",
   "execution_count": 61,
   "id": "540d4d23-3c4c-409f-a36e-f6513bb6ff4a",
   "metadata": {},
   "outputs": [
    {
     "name": "stderr",
     "output_type": "stream",
     "text": [
      "/opt/homebrew/Caskroom/miniforge/base/envs/GCN_study/lib/python3.9/site-packages/sklearn/metrics/_classification.py:1344: UndefinedMetricWarning: Precision is ill-defined and being set to 0.0 in labels with no predicted samples. Use `zero_division` parameter to control this behavior.\n",
      "  _warn_prf(average, modifier, msg_start, len(result))\n",
      "/opt/homebrew/Caskroom/miniforge/base/envs/GCN_study/lib/python3.9/site-packages/sklearn/metrics/_classification.py:1344: UndefinedMetricWarning: Precision is ill-defined and being set to 0.0 in labels with no predicted samples. Use `zero_division` parameter to control this behavior.\n",
      "  _warn_prf(average, modifier, msg_start, len(result))\n",
      "/opt/homebrew/Caskroom/miniforge/base/envs/GCN_study/lib/python3.9/site-packages/sklearn/metrics/_classification.py:1344: UndefinedMetricWarning: Precision is ill-defined and being set to 0.0 in labels with no predicted samples. Use `zero_division` parameter to control this behavior.\n",
      "  _warn_prf(average, modifier, msg_start, len(result))\n",
      "/opt/homebrew/Caskroom/miniforge/base/envs/GCN_study/lib/python3.9/site-packages/sklearn/metrics/_classification.py:1344: UndefinedMetricWarning: Precision is ill-defined and being set to 0.0 in labels with no predicted samples. Use `zero_division` parameter to control this behavior.\n",
      "  _warn_prf(average, modifier, msg_start, len(result))\n"
     ]
    },
    {
     "name": "stdout",
     "output_type": "stream",
     "text": [
      "Accuracy in test:0.62(0.02)\n",
      "F1_scores 0.38(0.01)\n",
      "Precision_scores 0.31(0.01)\n",
      "Recall_scores 0.50(0.00)\n",
      "ROC AUC 0.50(0.00)\n"
     ]
    },
    {
     "name": "stderr",
     "output_type": "stream",
     "text": [
      "/opt/homebrew/Caskroom/miniforge/base/envs/GCN_study/lib/python3.9/site-packages/sklearn/metrics/_classification.py:1344: UndefinedMetricWarning: Precision is ill-defined and being set to 0.0 in labels with no predicted samples. Use `zero_division` parameter to control this behavior.\n",
      "  _warn_prf(average, modifier, msg_start, len(result))\n"
     ]
    }
   ],
   "source": [
    "from sklearn.dummy import DummyClassifier\n",
    "dummy = DummyClassifier(strategy=\"most_frequent\")\n",
    "\n",
    "scores = cross_validate(dummy, X, y, cv=cv, scoring=scoring)\n",
    "\n",
    "print(\"Accuracy in test:%0.2f(%0.2f)\" % (scores['test_acc'].mean(), scores['test_acc'].std()))\n",
    "print(\"F1_scores {:.2f}({:.2f})\".format(scores['test_f1'].mean(), scores['test_f1'].std()))\n",
    "print(\"Precision_scores {:.2f}({:.2f})\".format(scores['test_prec_macro'].mean(), scores['test_prec_macro'].std()))\n",
    "print(\"Recall_scores {:.2f}({:.2f})\".format(scores['test_rec_macro'].mean(), scores['test_rec_macro'].std()))\n",
    "print(\"ROC AUC {:.2f}({:.2f})\".format(scores['test_roc_auc'].mean(), scores['test_roc_auc'].std()))\n",
    "#print('Dummy accuracy score in TEST set: {0:0.4f}'. format(accuracy_score(y_TEST, dummy.predict(X_TEST))))"
   ]
  },
  {
   "cell_type": "markdown",
   "id": "a18b6aba-d6a6-4809-b43b-249d2325794a",
   "metadata": {},
   "source": [
    "### Logistic Regression"
   ]
  },
  {
   "cell_type": "code",
   "execution_count": 62,
   "id": "de0d753f-f88b-40ef-a0c1-f817ebb6a373",
   "metadata": {},
   "outputs": [
    {
     "name": "stdout",
     "output_type": "stream",
     "text": [
      "Logistic Regression accuracy score in training set: 0.9913\n",
      "Logistic Regression accuracy score in val set: 0.6102\n"
     ]
    }
   ],
   "source": [
    "from sklearn.linear_model import LogisticRegression\n",
    "\n",
    "logreg = LogisticRegression(max_iter=200)\n",
    "logreg.fit(X_train[1], y_train[1])\n",
    "y_pred = logreg.predict(X_test[1])\n",
    "\n",
    "print('Logistic Regression accuracy score in training set: {0:0.4f}'. format(accuracy_score(y_train[1], logreg.predict(X_train[1]))))\n",
    "print('Logistic Regression accuracy score in val set: {0:0.4f}'. format(accuracy_score(y_test[1], y_pred)))"
   ]
  },
  {
   "cell_type": "code",
   "execution_count": 63,
   "id": "14917c03-75d0-48ce-8487-7c89b293fa83",
   "metadata": {},
   "outputs": [
    {
     "data": {
      "image/png": "[encoded data removed]",
      "text/plain": [
       "<Figure size 640x480 with 2 Axes>"
      ]
     },
     "metadata": {},
     "output_type": "display_data"
    }
   ],
   "source": [
    "plt.figure(dpi=100)\n",
    "sns.heatmap(confusion_matrix(y_test[1], y_pred), annot=True, annot_kws={\"size\": 16}, fmt='g')\n",
    "plt.show()"
   ]
  },
  {
   "cell_type": "markdown",
   "id": "90908ca6-d1f5-47d1-b61b-561c16734840",
   "metadata": {},
   "source": [
    "### Cross Validation"
   ]
  },
  {
   "cell_type": "code",
   "execution_count": 64,
   "id": "f6b49dc1-3c4c-4bb8-b3fc-f6cf99b02e08",
   "metadata": {},
   "outputs": [
    {
     "name": "stderr",
     "output_type": "stream",
     "text": [
      "/opt/homebrew/Caskroom/miniforge/base/envs/GCN_study/lib/python3.9/site-packages/sklearn/linear_model/_logistic.py:458: ConvergenceWarning: lbfgs failed to converge (status=1):\n",
      "STOP: TOTAL NO. of ITERATIONS REACHED LIMIT.\n",
      "\n",
      "Increase the number of iterations (max_iter) or scale the data as shown in:\n",
      "    https://scikit-learn.org/stable/modules/preprocessing.html\n",
      "Please also refer to the documentation for alternative solver options:\n",
      "    https://scikit-learn.org/stable/modules/linear_model.html#logistic-regression\n",
      "  n_iter_i = _check_optimize_result(\n",
      "/opt/homebrew/Caskroom/miniforge/base/envs/GCN_study/lib/python3.9/site-packages/sklearn/linear_model/_logistic.py:458: ConvergenceWarning: lbfgs failed to converge (status=1):\n",
      "STOP: TOTAL NO. of ITERATIONS REACHED LIMIT.\n",
      "\n",
      "Increase the number of iterations (max_iter) or scale the data as shown in:\n",
      "    https://scikit-learn.org/stable/modules/preprocessing.html\n",
      "Please also refer to the documentation for alternative solver options:\n",
      "    https://scikit-learn.org/stable/modules/linear_model.html#logistic-regression\n",
      "  n_iter_i = _check_optimize_result(\n",
      "/opt/homebrew/Caskroom/miniforge/base/envs/GCN_study/lib/python3.9/site-packages/sklearn/linear_model/_logistic.py:458: ConvergenceWarning: lbfgs failed to converge (status=1):\n",
      "STOP: TOTAL NO. of ITERATIONS REACHED LIMIT.\n",
      "\n",
      "Increase the number of iterations (max_iter) or scale the data as shown in:\n",
      "    https://scikit-learn.org/stable/modules/preprocessing.html\n",
      "Please also refer to the documentation for alternative solver options:\n",
      "    https://scikit-learn.org/stable/modules/linear_model.html#logistic-regression\n",
      "  n_iter_i = _check_optimize_result(\n",
      "/opt/homebrew/Caskroom/miniforge/base/envs/GCN_study/lib/python3.9/site-packages/sklearn/linear_model/_logistic.py:458: ConvergenceWarning: lbfgs failed to converge (status=1):\n",
      "STOP: TOTAL NO. of ITERATIONS REACHED LIMIT.\n",
      "\n",
      "Increase the number of iterations (max_iter) or scale the data as shown in:\n",
      "    https://scikit-learn.org/stable/modules/preprocessing.html\n",
      "Please also refer to the documentation for alternative solver options:\n",
      "    https://scikit-learn.org/stable/modules/linear_model.html#logistic-regression\n",
      "  n_iter_i = _check_optimize_result(\n"
     ]
    },
    {
     "name": "stdout",
     "output_type": "stream",
     "text": [
      "Accuracy in test:0.71(0.01)\n",
      "F1_scores 0.68(0.02)\n",
      "Precision_scores 0.69(0.01)\n",
      "Recall_scores 0.68(0.02)\n",
      "ROC AUC 0.76(0.02)\n"
     ]
    }
   ],
   "source": [
    "from sklearn.linear_model import LogisticRegression\n",
    "\n",
    "logreg = LogisticRegression(max_iter=200)\n",
    "\n",
    "scores = cross_validate(logreg, X, y , cv=cv, scoring=scoring, n_jobs=-1)\n",
    "\n",
    "print(\"Accuracy in test:%0.2f(%0.2f)\" % (scores['test_acc'].mean(), scores['test_acc'].std()))\n",
    "print(\"F1_scores {:.2f}({:.2f})\".format(scores['test_f1'].mean(), scores['test_f1'].std()))\n",
    "print(\"Precision_scores {:.2f}({:.2f})\".format(scores['test_prec_macro'].mean(), scores['test_prec_macro'].std()))\n",
    "print(\"Recall_scores {:.2f}({:.2f})\".format(scores['test_rec_macro'].mean(), scores['test_rec_macro'].std()))\n",
    "print(\"ROC AUC {:.2f}({:.2f})\".format(scores['test_roc_auc'].mean(), scores['test_roc_auc'].std()))"
   ]
  },
  {
   "cell_type": "code",
   "execution_count": 65,
   "id": "5cad3132-e626-414b-8129-476f3f59e815",
   "metadata": {},
   "outputs": [
    {
     "data": {
      "text/plain": [
       "{'fit_time': array([22.88127303, 24.57086492, 20.67605686, 25.4074719 , 25.711169  ]),\n",
       " 'score_time': array([0.25972819, 0.63403201, 0.54840016, 0.18390822, 0.1423738 ]),\n",
       " 'test_acc': array([0.70637584, 0.68897638, 0.72      , 0.71800948, 0.70552147]),\n",
       " 'test_prec_macro': array([0.70037276, 0.67087523, 0.69416825, 0.70289425, 0.6918562 ]),\n",
       " 'test_rec_macro': array([0.67568987, 0.65005233, 0.69216275, 0.69384572, 0.66603175]),\n",
       " 'test_f1': array([0.67936007, 0.65376585, 0.69311167, 0.6970494 , 0.67070707]),\n",
       " 'test_roc_auc': array([0.75233459, 0.71498888, 0.76390537, 0.77145963, 0.77384921])}"
      ]
     },
     "execution_count": 65,
     "metadata": {},
     "output_type": "execute_result"
    }
   ],
   "source": [
    "scores"
   ]
  },
  {
   "cell_type": "code",
   "execution_count": 66,
   "id": "a18c26b2-fdfe-4074-aa47-1080dad40eff",
   "metadata": {},
   "outputs": [],
   "source": [
    "scores['Model'] = ['logreg']*5\n",
    "results = pd.concat([results, pd.DataFrame.from_dict(scores)],axis=1)"
   ]
  },
  {
   "cell_type": "code",
   "execution_count": 67,
   "id": "4e3cba6c-f0e3-4032-a7e1-d661f7f44810",
   "metadata": {},
   "outputs": [],
   "source": [
    "# y_score = logreg.predict_proba(X_test)\n",
    "\n",
    "# y_score = y_score[:,1]\n",
    "\n",
    "# # Compute ROC curve and ROC area for each class\n",
    "# fpr, tpr, _ = roc_curve(y_test, y_score)\n",
    "# roc_auc = auc(fpr, tpr)"
   ]
  },
  {
   "cell_type": "code",
   "execution_count": 68,
   "id": "65153286-f1c3-42c8-b2a3-34ce8953ed52",
   "metadata": {},
   "outputs": [],
   "source": [
    "# plt.figure()\n",
    "# lw = 2\n",
    "# plt.plot(\n",
    "#     fpr,\n",
    "#     tpr,\n",
    "#     color=\"darkorange\",\n",
    "#     lw=lw,\n",
    "#     label=\"ROC curve (area = %0.2f)\" % roc_auc,\n",
    "# )\n",
    "# plt.plot([0, 1], [0, 1], color=\"navy\", lw=lw, linestyle=\"--\")\n",
    "# plt.xlim([0.0, 1.0])\n",
    "# plt.ylim([0.0, 1.05])\n",
    "# plt.xlabel(\"False Positive Rate\")\n",
    "# plt.ylabel(\"True Positive Rate\")\n",
    "# plt.title(\"Receiver operating characteristic example\")\n",
    "# plt.legend(loc=\"lower right\")\n",
    "# plt.show()"
   ]
  },
  {
   "cell_type": "code",
   "execution_count": 69,
   "id": "e09d25ca-4044-4e53-bea7-574cec8d3438",
   "metadata": {},
   "outputs": [],
   "source": [
    "# # get importance\n",
    "# importance = logreg.coef_[0]\n",
    "# importance = np.sort(importance)\n",
    "\n",
    "# plt.hist(importance)\n",
    "# plt.show()"
   ]
  },
  {
   "cell_type": "markdown",
   "id": "d18348ae-9e9f-40c9-a346-06da2c319414",
   "metadata": {},
   "source": [
    "## SVM"
   ]
  },
  {
   "cell_type": "code",
   "execution_count": 70,
   "id": "7e17a860-5b75-4109-bb4c-7d45996bf163",
   "metadata": {},
   "outputs": [
    {
     "name": "stdout",
     "output_type": "stream",
     "text": [
      "Fitting 3 folds for each of 20 candidates, totalling 60 fits\n"
     ]
    },
    {
     "name": "stderr",
     "output_type": "stream",
     "text": [
      "/opt/homebrew/Caskroom/miniforge/base/envs/GCN_study/lib/python3.9/site-packages/sklearn/model_selection/_validation.py:378: FitFailedWarning: \n",
      "12 fits failed out of a total of 60.\n",
      "The score on these train-test partitions for these parameters will be set to nan.\n",
      "If these failures are not expected, you can try to debug them by setting error_score='raise'.\n",
      "\n",
      "Below are more details about the failures:\n",
      "--------------------------------------------------------------------------------\n",
      "12 fits failed with the following error:\n",
      "Traceback (most recent call last):\n",
      "  File \"/opt/homebrew/Caskroom/miniforge/base/envs/GCN_study/lib/python3.9/site-packages/sklearn/model_selection/_validation.py\", line 686, in _fit_and_score\n",
      "    estimator.fit(X_train, y_train, **fit_params)\n",
      "  File \"/opt/homebrew/Caskroom/miniforge/base/envs/GCN_study/lib/python3.9/site-packages/sklearn/svm/_base.py\", line 180, in fit\n",
      "    self._validate_params()\n",
      "  File \"/opt/homebrew/Caskroom/miniforge/base/envs/GCN_study/lib/python3.9/site-packages/sklearn/base.py\", line 600, in _validate_params\n",
      "    validate_parameter_constraints(\n",
      "  File \"/opt/homebrew/Caskroom/miniforge/base/envs/GCN_study/lib/python3.9/site-packages/sklearn/utils/_param_validation.py\", line 97, in validate_parameter_constraints\n",
      "    raise InvalidParameterError(\n",
      "sklearn.utils._param_validation.InvalidParameterError: The 'C' parameter of SVC must be a float in the range (0.0, inf). Got 0 instead.\n",
      "\n",
      "  warnings.warn(some_fits_failed_message, FitFailedWarning)\n",
      "/opt/homebrew/Caskroom/miniforge/base/envs/GCN_study/lib/python3.9/site-packages/sklearn/model_selection/_search.py:952: UserWarning: One or more of the test scores are non-finite: [       nan        nan        nan        nan 0.92134354 0.61479592\n",
      " 0.61479592 0.61479592 0.92134354 0.61479592 0.61479592 0.61479592\n",
      " 0.92134354 0.61479592 0.77636054 0.65518707 0.92134354 0.61479592\n",
      " 0.85629252 0.77848639]\n",
      "  warnings.warn(\n"
     ]
    },
    {
     "data": {
      "text/html": [
       "<style>#sk-container-id-2 {color: black;background-color: white;}#sk-container-id-2 pre{padding: 0;}#sk-container-id-2 div.sk-toggleable {background-color: white;}#sk-container-id-2 label.sk-toggleable__label {cursor: pointer;display: block;width: 100%;margin-bottom: 0;padding: 0.3em;box-sizing: border-box;text-align: center;}#sk-container-id-2 label.sk-toggleable__label-arrow:before {content: \"▸\";float: left;margin-right: 0.25em;color: #696969;}#sk-container-id-2 label.sk-toggleable__label-arrow:hover:before {color: black;}#sk-container-id-2 div.sk-estimator:hover label.sk-toggleable__label-arrow:before {color: black;}#sk-container-id-2 div.sk-toggleable__content {max-height: 0;max-width: 0;overflow: hidden;text-align: left;background-color: #f0f8ff;}#sk-container-id-2 div.sk-toggleable__content pre {margin: 0.2em;color: black;border-radius: 0.25em;background-color: #f0f8ff;}#sk-container-id-2 input.sk-toggleable__control:checked~div.sk-toggleable__content {max-height: 200px;max-width: 100%;overflow: auto;}#sk-container-id-2 input.sk-toggleable__control:checked~label.sk-toggleable__label-arrow:before {content: \"▾\";}#sk-container-id-2 div.sk-estimator input.sk-toggleable__control:checked~label.sk-toggleable__label {background-color: #d4ebff;}#sk-container-id-2 div.sk-label input.sk-toggleable__control:checked~label.sk-toggleable__label {background-color: #d4ebff;}#sk-container-id-2 input.sk-hidden--visually {border: 0;clip: rect(1px 1px 1px 1px);clip: rect(1px, 1px, 1px, 1px);height: 1px;margin: -1px;overflow: hidden;padding: 0;position: absolute;width: 1px;}#sk-container-id-2 div.sk-estimator {font-family: monospace;background-color: #f0f8ff;border: 1px dotted black;border-radius: 0.25em;box-sizing: border-box;margin-bottom: 0.5em;}#sk-container-id-2 div.sk-estimator:hover {background-color: #d4ebff;}#sk-container-id-2 div.sk-parallel-item::after {content: \"\";width: 100%;border-bottom: 1px solid gray;flex-grow: 1;}#sk-container-id-2 div.sk-label:hover label.sk-toggleable__label {background-color: #d4ebff;}#sk-container-id-2 div.sk-serial::before {content: \"\";position: absolute;border-left: 1px solid gray;box-sizing: border-box;top: 0;bottom: 0;left: 50%;z-index: 0;}#sk-container-id-2 div.sk-serial {display: flex;flex-direction: column;align-items: center;background-color: white;padding-right: 0.2em;padding-left: 0.2em;position: relative;}#sk-container-id-2 div.sk-item {position: relative;z-index: 1;}#sk-container-id-2 div.sk-parallel {display: flex;align-items: stretch;justify-content: center;background-color: white;position: relative;}#sk-container-id-2 div.sk-item::before, #sk-container-id-2 div.sk-parallel-item::before {content: \"\";position: absolute;border-left: 1px solid gray;box-sizing: border-box;top: 0;bottom: 0;left: 50%;z-index: -1;}#sk-container-id-2 div.sk-parallel-item {display: flex;flex-direction: column;z-index: 1;position: relative;background-color: white;}#sk-container-id-2 div.sk-parallel-item:first-child::after {align-self: flex-end;width: 50%;}#sk-container-id-2 div.sk-parallel-item:last-child::after {align-self: flex-start;width: 50%;}#sk-container-id-2 div.sk-parallel-item:only-child::after {width: 0;}#sk-container-id-2 div.sk-dashed-wrapped {border: 1px dashed gray;margin: 0 0.4em 0.5em 0.4em;box-sizing: border-box;padding-bottom: 0.4em;background-color: white;}#sk-container-id-2 div.sk-label label {font-family: monospace;font-weight: bold;display: inline-block;line-height: 1.2em;}#sk-container-id-2 div.sk-label-container {text-align: center;}#sk-container-id-2 div.sk-container {/* jupyter's `normalize.less` sets `[hidden] { display: none; }` but bootstrap.min.css set `[hidden] { display: none !important; }` so we also need the `!important` here to be able to override the default hidden behavior on the sphinx rendered scikit-learn.org. See: https://github.com/scikit-learn/scikit-learn/issues/21755 */display: inline-block !important;position: relative;}#sk-container-id-2 div.sk-text-repr-fallback {display: none;}</style><div id=\"sk-container-id-2\" class=\"sk-top-container\"><div class=\"sk-text-repr-fallback\"><pre>GridSearchCV(cv=3, estimator=SVC(gamma=&#x27;auto&#x27;), n_jobs=-1,\n",
       "             param_grid={&#x27;C&#x27;: [0, 0.25, 1, 5, 10],\n",
       "                         &#x27;kernel&#x27;: [&#x27;linear&#x27;, &#x27;poly&#x27;, &#x27;rbf&#x27;, &#x27;sigmoid&#x27;]},\n",
       "             verbose=1)</pre><b>In a Jupyter environment, please rerun this cell to show the HTML representation or trust the notebook. <br />On GitHub, the HTML representation is unable to render, please try loading this page with nbviewer.org.</b></div><div class=\"sk-container\" hidden><div class=\"sk-item sk-dashed-wrapped\"><div class=\"sk-label-container\"><div class=\"sk-label sk-toggleable\"><input class=\"sk-toggleable__control sk-hidden--visually\" id=\"sk-estimator-id-4\" type=\"checkbox\" ><label for=\"sk-estimator-id-4\" class=\"sk-toggleable__label sk-toggleable__label-arrow\">GridSearchCV</label><div class=\"sk-toggleable__content\"><pre>GridSearchCV(cv=3, estimator=SVC(gamma=&#x27;auto&#x27;), n_jobs=-1,\n",
       "             param_grid={&#x27;C&#x27;: [0, 0.25, 1, 5, 10],\n",
       "                         &#x27;kernel&#x27;: [&#x27;linear&#x27;, &#x27;poly&#x27;, &#x27;rbf&#x27;, &#x27;sigmoid&#x27;]},\n",
       "             verbose=1)</pre></div></div></div><div class=\"sk-parallel\"><div class=\"sk-parallel-item\"><div class=\"sk-item\"><div class=\"sk-label-container\"><div class=\"sk-label sk-toggleable\"><input class=\"sk-toggleable__control sk-hidden--visually\" id=\"sk-estimator-id-5\" type=\"checkbox\" ><label for=\"sk-estimator-id-5\" class=\"sk-toggleable__label sk-toggleable__label-arrow\">estimator: SVC</label><div class=\"sk-toggleable__content\"><pre>SVC(gamma=&#x27;auto&#x27;)</pre></div></div></div><div class=\"sk-serial\"><div class=\"sk-item\"><div class=\"sk-estimator sk-toggleable\"><input class=\"sk-toggleable__control sk-hidden--visually\" id=\"sk-estimator-id-6\" type=\"checkbox\" ><label for=\"sk-estimator-id-6\" class=\"sk-toggleable__label sk-toggleable__label-arrow\">SVC</label><div class=\"sk-toggleable__content\"><pre>SVC(gamma=&#x27;auto&#x27;)</pre></div></div></div></div></div></div></div></div></div></div>"
      ],
      "text/plain": [
       "GridSearchCV(cv=3, estimator=SVC(gamma='auto'), n_jobs=-1,\n",
       "             param_grid={'C': [0, 0.25, 1, 5, 10],\n",
       "                         'kernel': ['linear', 'poly', 'rbf', 'sigmoid']},\n",
       "             verbose=1)"
      ]
     },
     "execution_count": 70,
     "metadata": {},
     "output_type": "execute_result"
    }
   ],
   "source": [
    "from sklearn.svm import SVC\n",
    "from sklearn.model_selection import GridSearchCV\n",
    "\n",
    "# Setting possible values for the multiple hyperparameters of XGBoost\n",
    "random_grid = {\n",
    "    \"C\": [0, 0.25, 1, 5, 10],\n",
    "    \"kernel\" : ['linear', 'poly', 'rbf', 'sigmoid']\n",
    "}\n",
    "\n",
    "\n",
    "svc = SVC(gamma='auto')\n",
    "#svc.fit(X_train, y_train)\n",
    "\n",
    "# Random search of parameters, using 3 fold cross validation, \n",
    "# search across 100 different combinations\n",
    "rf_random = GridSearchCV(estimator = svc, param_grid = random_grid,\n",
    "                               cv = 3, verbose=1, n_jobs = -1)\n",
    "\n",
    "# Fit the random search model\n",
    "rf_random.fit(X, y.values.ravel())\n",
    "\n",
    "#y_pred = svc.predict(X_test)\n",
    "\n",
    "#print('Logistic Regression accuracy score in training set: {0:0.4f}'. format(accuracy_score(y_train, logreg.predict(X_train))))\n",
    "#print('Logistic Regression accuracy score in test set: {0:0.4f}'. format(accuracy_score(y_test, y_pred)))"
   ]
  },
  {
   "cell_type": "code",
   "execution_count": 71,
   "id": "09601bc4-b333-41a6-81b9-f87e8d762b5e",
   "metadata": {},
   "outputs": [
    {
     "name": "stdout",
     "output_type": "stream",
     "text": [
      "Accuracy for our training dataset with tuning is : 92.13%\n"
     ]
    }
   ],
   "source": [
    "accuracy = rf_random.best_score_ *100\n",
    "print(\"Accuracy for our training dataset with tuning is : {:.2f}%\".format(accuracy) )"
   ]
  },
  {
   "cell_type": "code",
   "execution_count": 72,
   "id": "573d385e-9881-4171-965d-bd109791fb74",
   "metadata": {},
   "outputs": [
    {
     "name": "stdout",
     "output_type": "stream",
     "text": [
      "{'C': 0.25, 'kernel': 'linear'}\n"
     ]
    }
   ],
   "source": [
    "print(rf_random.best_params_)\n",
    "(pd.DataFrame.from_dict(rf_random.best_params_, orient='index')).to_csv('/Users/rodrigo/Post-Grad/CC400/Results/SVC_params.csv')"
   ]
  },
  {
   "cell_type": "code",
   "execution_count": 73,
   "id": "c5d49303-5669-49ef-b15a-af1b6e5159cd",
   "metadata": {},
   "outputs": [
    {
     "name": "stderr",
     "output_type": "stream",
     "text": [
      "[Parallel(n_jobs=-1)]: Using backend LokyBackend with 8 concurrent workers.\n",
      "[Parallel(n_jobs=-1)]: Done   2 out of   5 | elapsed:  1.2min remaining:  1.8min\n",
      "[Parallel(n_jobs=-1)]: Done   5 out of   5 | elapsed:  1.3min finished\n"
     ]
    }
   ],
   "source": [
    "# Best SVC model\n",
    "svc = SVC(\n",
    "    **rf_random.best_params_,\n",
    "    gamma=\"auto\"\n",
    ")\n",
    "\n",
    "scores = cross_validate(svc, X, y.values.ravel(), scoring=scoring,\n",
    "                         cv=cv, n_jobs=-1,verbose=1)\n"
   ]
  },
  {
   "cell_type": "code",
   "execution_count": 74,
   "id": "21a0e49a-8d80-4b03-bc41-ce8bfa63acbf",
   "metadata": {},
   "outputs": [
    {
     "name": "stdout",
     "output_type": "stream",
     "text": [
      "Accuracy in test:0.71(0.02)\n",
      "F1_scores 0.69(0.02)\n",
      "Precision_scores 0.70(0.02)\n",
      "Recall_scores 0.68(0.03)\n",
      "ROC AUC 0.75(0.03)\n"
     ]
    }
   ],
   "source": [
    "print(\"Accuracy in test:%0.2f(%0.2f)\" % (scores['test_acc'].mean(), scores['test_acc'].std()))\n",
    "print(\"F1_scores {:.2f}({:.2f})\".format(scores['test_f1'].mean(), scores['test_f1'].std()))\n",
    "print(\"Precision_scores {:.2f}({:.2f})\".format(scores['test_prec_macro'].mean(), scores['test_prec_macro'].std()))\n",
    "print(\"Recall_scores {:.2f}({:.2f})\".format(scores['test_rec_macro'].mean(), scores['test_rec_macro'].std()))\n",
    "print(\"ROC AUC {:.2f}({:.2f})\".format(scores['test_roc_auc'].mean(), scores['test_roc_auc'].std()))"
   ]
  },
  {
   "cell_type": "code",
   "execution_count": 75,
   "id": "60ec0029-3a4f-4a2c-adb9-b4799ed6a2c4",
   "metadata": {},
   "outputs": [
    {
     "data": {
      "text/plain": [
       "Index(['fit_time', 'score_time', 'test_acc', 'test_prec_macro',\n",
       "       'test_rec_macro', 'test_f1', 'test_roc_auc', 'Model'],\n",
       "      dtype='object')"
      ]
     },
     "execution_count": 75,
     "metadata": {},
     "output_type": "execute_result"
    }
   ],
   "source": [
    "results.columns"
   ]
  },
  {
   "cell_type": "code",
   "execution_count": 76,
   "id": "ab16b3fb-b0d3-4165-806c-e30a75db831a",
   "metadata": {},
   "outputs": [
    {
     "data": {
      "text/plain": [
       "Index(['fit_time', 'score_time', 'test_acc', 'test_prec_macro',\n",
       "       'test_rec_macro', 'test_f1', 'test_roc_auc', 'Model'],\n",
       "      dtype='object')"
      ]
     },
     "execution_count": 76,
     "metadata": {},
     "output_type": "execute_result"
    }
   ],
   "source": [
    "results.columns"
   ]
  },
  {
   "cell_type": "code",
   "execution_count": 77,
   "id": "8195c78f-1c37-42f0-bd70-d281a4af730f",
   "metadata": {},
   "outputs": [],
   "source": [
    "scores['Model'] = ['SVC']*5\n",
    "results = results.merge(pd.DataFrame.from_dict(scores), how='outer')"
   ]
  },
  {
   "cell_type": "code",
   "execution_count": 78,
   "id": "8117def5-5ced-4866-9a0d-7f2a40169e2b",
   "metadata": {},
   "outputs": [],
   "source": [
    "# svc.fit(X_train,y_train)\n",
    "# print('Accuracy score in TEST set: {0:0.4f}'. format(accuracy_score(y_test, svc.predict(X_test))))"
   ]
  },
  {
   "cell_type": "markdown",
   "id": "f2b8806f-1dff-46b0-865a-13433eaedf11",
   "metadata": {},
   "source": [
    "## MLP"
   ]
  },
  {
   "cell_type": "code",
   "execution_count": 83,
   "id": "15f3b4dd-e178-4081-93f8-7cafc73207ac",
   "metadata": {},
   "outputs": [],
   "source": [
    "from sklearn.neural_network import MLPClassifier\n",
    "\n",
    "\n",
    "mlp = MLPClassifier(hidden_layer_sizes=(100,16,2),solver='adam',learning_rate='adaptive', shuffle=False, alpha=1, early_stopping=True)\n",
    "\n",
    "#mlp.fit(X_train, y_train)\n",
    "#y_pred = mlp.predict(X_test)\n"
   ]
  },
  {
   "cell_type": "code",
   "execution_count": null,
   "id": "66a11f2f-a8f9-4c8a-8e7b-f18aea2eccf7",
   "metadata": {},
   "outputs": [],
   "source": []
  },
  {
   "cell_type": "code",
   "execution_count": 82,
   "id": "a7e5544c-fc7a-4076-9349-993a8b69c156",
   "metadata": {},
   "outputs": [
    {
     "name": "stderr",
     "output_type": "stream",
     "text": [
      "[Parallel(n_jobs=-1)]: Using backend LokyBackend with 8 concurrent workers.\n",
      "/opt/homebrew/Caskroom/miniforge/base/envs/GCN_study/lib/python3.9/site-packages/sklearn/metrics/_classification.py:1344: UndefinedMetricWarning: Precision is ill-defined and being set to 0.0 in labels with no predicted samples. Use `zero_division` parameter to control this behavior.\n",
      "  _warn_prf(average, modifier, msg_start, len(result))\n",
      "/opt/homebrew/Caskroom/miniforge/base/envs/GCN_study/lib/python3.9/site-packages/sklearn/metrics/_classification.py:1344: UndefinedMetricWarning: Precision is ill-defined and being set to 0.0 in labels with no predicted samples. Use `zero_division` parameter to control this behavior.\n",
      "  _warn_prf(average, modifier, msg_start, len(result))\n",
      "/opt/homebrew/Caskroom/miniforge/base/envs/GCN_study/lib/python3.9/site-packages/sklearn/metrics/_classification.py:1344: UndefinedMetricWarning: Precision is ill-defined and being set to 0.0 in labels with no predicted samples. Use `zero_division` parameter to control this behavior.\n",
      "  _warn_prf(average, modifier, msg_start, len(result))\n",
      "[Parallel(n_jobs=-1)]: Done   2 out of   5 | elapsed:   23.2s remaining:   34.8s\n"
     ]
    },
    {
     "name": "stdout",
     "output_type": "stream",
     "text": [
      "Accuracy in test:0.56(0.16)\n",
      "F1_scores 0.47(0.20)\n",
      "Precision_scores 0.42(0.24)\n",
      "Recall_scores 0.58(0.10)\n",
      "ROC AUC 0.61(0.13)\n"
     ]
    },
    {
     "name": "stderr",
     "output_type": "stream",
     "text": [
      "[Parallel(n_jobs=-1)]: Done   5 out of   5 | elapsed:   34.2s finished\n"
     ]
    }
   ],
   "source": [
    "scores = cross_validate(mlp, X, y.values.ravel(), scoring=scoring,\n",
    "                         cv=cv, n_jobs=-1,verbose=1)\n",
    "\n",
    "print(\"Accuracy in test:%0.2f(%0.2f)\" % (scores['test_acc'].mean(), scores['test_acc'].std()))\n",
    "print(\"F1_scores {:.2f}({:.2f})\".format(scores['test_f1'].mean(), scores['test_f1'].std()))\n",
    "print(\"Precision_scores {:.2f}({:.2f})\".format(scores['test_prec_macro'].mean(), scores['test_prec_macro'].std()))\n",
    "print(\"Recall_scores {:.2f}({:.2f})\".format(scores['test_rec_macro'].mean(), scores['test_rec_macro'].std()))\n",
    "print(\"ROC AUC {:.2f}({:.2f})\".format(scores['test_roc_auc'].mean(), scores['test_roc_auc'].std()))"
   ]
  },
  {
   "cell_type": "code",
   "execution_count": 84,
   "id": "ee7d980a-ef62-4b34-ac85-2f0e249eb439",
   "metadata": {},
   "outputs": [
    {
     "data": {
      "text/plain": [
       "[<matplotlib.lines.Line2D at 0x2967cb850>]"
      ]
     },
     "execution_count": 84,
     "metadata": {},
     "output_type": "execute_result"
    },
    {
     "data": {
      "image/png": "[encoded data removed]",
      "text/plain": [
       "<Figure size 640x480 with 1 Axes>"
      ]
     },
     "metadata": {},
     "output_type": "display_data"
    }
   ],
   "source": [
    "plt.plot(scores['test_acc'])"
   ]
  },
  {
   "cell_type": "code",
   "execution_count": 85,
   "id": "d1defc07-f7a6-4451-ae95-bd0061058cd9",
   "metadata": {},
   "outputs": [],
   "source": [
    "scores['Model'] = ['MLP']*5\n",
    "results = results.merge(pd.DataFrame.from_dict(scores), how='outer')"
   ]
  },
  {
   "cell_type": "markdown",
   "id": "25fb7712-bbcd-42ee-a792-a09087f290f3",
   "metadata": {},
   "source": [
    "### XGBoost"
   ]
  },
  {
   "cell_type": "code",
   "execution_count": 86,
   "id": "b2ea17a8-0740-4b1d-b540-f4be1c40882d",
   "metadata": {},
   "outputs": [
    {
     "name": "stdout",
     "output_type": "stream",
     "text": [
      "Fitting 3 folds for each of 100 candidates, totalling 300 fits\n"
     ]
    },
    {
     "ename": "KeyboardInterrupt",
     "evalue": "",
     "output_type": "error",
     "traceback": [
      "\u001b[0;31m---------------------------------------------------------------------------\u001b[0m",
      "\u001b[0;31mKeyboardInterrupt\u001b[0m                         Traceback (most recent call last)",
      "Cell \u001b[0;32mIn[86], line 23\u001b[0m\n\u001b[1;32m     19\u001b[0m rf_random \u001b[38;5;241m=\u001b[39m RandomizedSearchCV(estimator \u001b[38;5;241m=\u001b[39m bst, param_distributions \u001b[38;5;241m=\u001b[39m random_grid, n_iter \u001b[38;5;241m=\u001b[39m \u001b[38;5;241m100\u001b[39m,\n\u001b[1;32m     20\u001b[0m                                cv \u001b[38;5;241m=\u001b[39m \u001b[38;5;241m3\u001b[39m, verbose\u001b[38;5;241m=\u001b[39m\u001b[38;5;241m1\u001b[39m, random_state\u001b[38;5;241m=\u001b[39m\u001b[38;5;241m42\u001b[39m, n_jobs \u001b[38;5;241m=\u001b[39m \u001b[38;5;241m-\u001b[39m\u001b[38;5;241m1\u001b[39m)\n\u001b[1;32m     22\u001b[0m \u001b[38;5;66;03m# Fit the random search model\u001b[39;00m\n\u001b[0;32m---> 23\u001b[0m \u001b[43mrf_random\u001b[49m\u001b[38;5;241;43m.\u001b[39;49m\u001b[43mfit\u001b[49m\u001b[43m(\u001b[49m\u001b[43mX\u001b[49m\u001b[43m,\u001b[49m\u001b[43m \u001b[49m\u001b[43my\u001b[49m\u001b[38;5;241;43m.\u001b[39;49m\u001b[43mvalues\u001b[49m\u001b[38;5;241;43m.\u001b[39;49m\u001b[43mravel\u001b[49m\u001b[43m(\u001b[49m\u001b[43m)\u001b[49m\u001b[43m)\u001b[49m\n",
      "File \u001b[0;32m/opt/homebrew/Caskroom/miniforge/base/envs/GCN_study/lib/python3.9/site-packages/sklearn/model_selection/_search.py:874\u001b[0m, in \u001b[0;36mBaseSearchCV.fit\u001b[0;34m(self, X, y, groups, **fit_params)\u001b[0m\n\u001b[1;32m    868\u001b[0m     results \u001b[38;5;241m=\u001b[39m \u001b[38;5;28mself\u001b[39m\u001b[38;5;241m.\u001b[39m_format_results(\n\u001b[1;32m    869\u001b[0m         all_candidate_params, n_splits, all_out, all_more_results\n\u001b[1;32m    870\u001b[0m     )\n\u001b[1;32m    872\u001b[0m     \u001b[38;5;28;01mreturn\u001b[39;00m results\n\u001b[0;32m--> 874\u001b[0m \u001b[38;5;28;43mself\u001b[39;49m\u001b[38;5;241;43m.\u001b[39;49m\u001b[43m_run_search\u001b[49m\u001b[43m(\u001b[49m\u001b[43mevaluate_candidates\u001b[49m\u001b[43m)\u001b[49m\n\u001b[1;32m    876\u001b[0m \u001b[38;5;66;03m# multimetric is determined here because in the case of a callable\u001b[39;00m\n\u001b[1;32m    877\u001b[0m \u001b[38;5;66;03m# self.scoring the return type is only known after calling\u001b[39;00m\n\u001b[1;32m    878\u001b[0m first_test_score \u001b[38;5;241m=\u001b[39m all_out[\u001b[38;5;241m0\u001b[39m][\u001b[38;5;124m\"\u001b[39m\u001b[38;5;124mtest_scores\u001b[39m\u001b[38;5;124m\"\u001b[39m]\n",
      "File \u001b[0;32m/opt/homebrew/Caskroom/miniforge/base/envs/GCN_study/lib/python3.9/site-packages/sklearn/model_selection/_search.py:1768\u001b[0m, in \u001b[0;36mRandomizedSearchCV._run_search\u001b[0;34m(self, evaluate_candidates)\u001b[0m\n\u001b[1;32m   1766\u001b[0m \u001b[38;5;28;01mdef\u001b[39;00m \u001b[38;5;21m_run_search\u001b[39m(\u001b[38;5;28mself\u001b[39m, evaluate_candidates):\n\u001b[1;32m   1767\u001b[0m \u001b[38;5;250m    \u001b[39m\u001b[38;5;124;03m\"\"\"Search n_iter candidates from param_distributions\"\"\"\u001b[39;00m\n\u001b[0;32m-> 1768\u001b[0m     \u001b[43mevaluate_candidates\u001b[49m\u001b[43m(\u001b[49m\n\u001b[1;32m   1769\u001b[0m \u001b[43m        \u001b[49m\u001b[43mParameterSampler\u001b[49m\u001b[43m(\u001b[49m\n\u001b[1;32m   1770\u001b[0m \u001b[43m            \u001b[49m\u001b[38;5;28;43mself\u001b[39;49m\u001b[38;5;241;43m.\u001b[39;49m\u001b[43mparam_distributions\u001b[49m\u001b[43m,\u001b[49m\u001b[43m \u001b[49m\u001b[38;5;28;43mself\u001b[39;49m\u001b[38;5;241;43m.\u001b[39;49m\u001b[43mn_iter\u001b[49m\u001b[43m,\u001b[49m\u001b[43m \u001b[49m\u001b[43mrandom_state\u001b[49m\u001b[38;5;241;43m=\u001b[39;49m\u001b[38;5;28;43mself\u001b[39;49m\u001b[38;5;241;43m.\u001b[39;49m\u001b[43mrandom_state\u001b[49m\n\u001b[1;32m   1771\u001b[0m \u001b[43m        \u001b[49m\u001b[43m)\u001b[49m\n\u001b[1;32m   1772\u001b[0m \u001b[43m    \u001b[49m\u001b[43m)\u001b[49m\n",
      "File \u001b[0;32m/opt/homebrew/Caskroom/miniforge/base/envs/GCN_study/lib/python3.9/site-packages/sklearn/model_selection/_search.py:821\u001b[0m, in \u001b[0;36mBaseSearchCV.fit.<locals>.evaluate_candidates\u001b[0;34m(candidate_params, cv, more_results)\u001b[0m\n\u001b[1;32m    813\u001b[0m \u001b[38;5;28;01mif\u001b[39;00m \u001b[38;5;28mself\u001b[39m\u001b[38;5;241m.\u001b[39mverbose \u001b[38;5;241m>\u001b[39m \u001b[38;5;241m0\u001b[39m:\n\u001b[1;32m    814\u001b[0m     \u001b[38;5;28mprint\u001b[39m(\n\u001b[1;32m    815\u001b[0m         \u001b[38;5;124m\"\u001b[39m\u001b[38;5;124mFitting \u001b[39m\u001b[38;5;132;01m{0}\u001b[39;00m\u001b[38;5;124m folds for each of \u001b[39m\u001b[38;5;132;01m{1}\u001b[39;00m\u001b[38;5;124m candidates,\u001b[39m\u001b[38;5;124m\"\u001b[39m\n\u001b[1;32m    816\u001b[0m         \u001b[38;5;124m\"\u001b[39m\u001b[38;5;124m totalling \u001b[39m\u001b[38;5;132;01m{2}\u001b[39;00m\u001b[38;5;124m fits\u001b[39m\u001b[38;5;124m\"\u001b[39m\u001b[38;5;241m.\u001b[39mformat(\n\u001b[1;32m    817\u001b[0m             n_splits, n_candidates, n_candidates \u001b[38;5;241m*\u001b[39m n_splits\n\u001b[1;32m    818\u001b[0m         )\n\u001b[1;32m    819\u001b[0m     )\n\u001b[0;32m--> 821\u001b[0m out \u001b[38;5;241m=\u001b[39m \u001b[43mparallel\u001b[49m\u001b[43m(\u001b[49m\n\u001b[1;32m    822\u001b[0m \u001b[43m    \u001b[49m\u001b[43mdelayed\u001b[49m\u001b[43m(\u001b[49m\u001b[43m_fit_and_score\u001b[49m\u001b[43m)\u001b[49m\u001b[43m(\u001b[49m\n\u001b[1;32m    823\u001b[0m \u001b[43m        \u001b[49m\u001b[43mclone\u001b[49m\u001b[43m(\u001b[49m\u001b[43mbase_estimator\u001b[49m\u001b[43m)\u001b[49m\u001b[43m,\u001b[49m\n\u001b[1;32m    824\u001b[0m \u001b[43m        \u001b[49m\u001b[43mX\u001b[49m\u001b[43m,\u001b[49m\n\u001b[1;32m    825\u001b[0m \u001b[43m        \u001b[49m\u001b[43my\u001b[49m\u001b[43m,\u001b[49m\n\u001b[1;32m    826\u001b[0m \u001b[43m        \u001b[49m\u001b[43mtrain\u001b[49m\u001b[38;5;241;43m=\u001b[39;49m\u001b[43mtrain\u001b[49m\u001b[43m,\u001b[49m\n\u001b[1;32m    827\u001b[0m \u001b[43m        \u001b[49m\u001b[43mtest\u001b[49m\u001b[38;5;241;43m=\u001b[39;49m\u001b[43mtest\u001b[49m\u001b[43m,\u001b[49m\n\u001b[1;32m    828\u001b[0m \u001b[43m        \u001b[49m\u001b[43mparameters\u001b[49m\u001b[38;5;241;43m=\u001b[39;49m\u001b[43mparameters\u001b[49m\u001b[43m,\u001b[49m\n\u001b[1;32m    829\u001b[0m \u001b[43m        \u001b[49m\u001b[43msplit_progress\u001b[49m\u001b[38;5;241;43m=\u001b[39;49m\u001b[43m(\u001b[49m\u001b[43msplit_idx\u001b[49m\u001b[43m,\u001b[49m\u001b[43m \u001b[49m\u001b[43mn_splits\u001b[49m\u001b[43m)\u001b[49m\u001b[43m,\u001b[49m\n\u001b[1;32m    830\u001b[0m \u001b[43m        \u001b[49m\u001b[43mcandidate_progress\u001b[49m\u001b[38;5;241;43m=\u001b[39;49m\u001b[43m(\u001b[49m\u001b[43mcand_idx\u001b[49m\u001b[43m,\u001b[49m\u001b[43m \u001b[49m\u001b[43mn_candidates\u001b[49m\u001b[43m)\u001b[49m\u001b[43m,\u001b[49m\n\u001b[1;32m    831\u001b[0m \u001b[43m        \u001b[49m\u001b[38;5;241;43m*\u001b[39;49m\u001b[38;5;241;43m*\u001b[39;49m\u001b[43mfit_and_score_kwargs\u001b[49m\u001b[43m,\u001b[49m\n\u001b[1;32m    832\u001b[0m \u001b[43m    \u001b[49m\u001b[43m)\u001b[49m\n\u001b[1;32m    833\u001b[0m \u001b[43m    \u001b[49m\u001b[38;5;28;43;01mfor\u001b[39;49;00m\u001b[43m \u001b[49m\u001b[43m(\u001b[49m\u001b[43mcand_idx\u001b[49m\u001b[43m,\u001b[49m\u001b[43m \u001b[49m\u001b[43mparameters\u001b[49m\u001b[43m)\u001b[49m\u001b[43m,\u001b[49m\u001b[43m \u001b[49m\u001b[43m(\u001b[49m\u001b[43msplit_idx\u001b[49m\u001b[43m,\u001b[49m\u001b[43m \u001b[49m\u001b[43m(\u001b[49m\u001b[43mtrain\u001b[49m\u001b[43m,\u001b[49m\u001b[43m \u001b[49m\u001b[43mtest\u001b[49m\u001b[43m)\u001b[49m\u001b[43m)\u001b[49m\u001b[43m \u001b[49m\u001b[38;5;129;43;01min\u001b[39;49;00m\u001b[43m \u001b[49m\u001b[43mproduct\u001b[49m\u001b[43m(\u001b[49m\n\u001b[1;32m    834\u001b[0m \u001b[43m        \u001b[49m\u001b[38;5;28;43menumerate\u001b[39;49m\u001b[43m(\u001b[49m\u001b[43mcandidate_params\u001b[49m\u001b[43m)\u001b[49m\u001b[43m,\u001b[49m\u001b[43m \u001b[49m\u001b[38;5;28;43menumerate\u001b[39;49m\u001b[43m(\u001b[49m\u001b[43mcv\u001b[49m\u001b[38;5;241;43m.\u001b[39;49m\u001b[43msplit\u001b[49m\u001b[43m(\u001b[49m\u001b[43mX\u001b[49m\u001b[43m,\u001b[49m\u001b[43m \u001b[49m\u001b[43my\u001b[49m\u001b[43m,\u001b[49m\u001b[43m \u001b[49m\u001b[43mgroups\u001b[49m\u001b[43m)\u001b[49m\u001b[43m)\u001b[49m\n\u001b[1;32m    835\u001b[0m \u001b[43m    \u001b[49m\u001b[43m)\u001b[49m\n\u001b[1;32m    836\u001b[0m \u001b[43m\u001b[49m\u001b[43m)\u001b[49m\n\u001b[1;32m    838\u001b[0m \u001b[38;5;28;01mif\u001b[39;00m \u001b[38;5;28mlen\u001b[39m(out) \u001b[38;5;241m<\u001b[39m \u001b[38;5;241m1\u001b[39m:\n\u001b[1;32m    839\u001b[0m     \u001b[38;5;28;01mraise\u001b[39;00m \u001b[38;5;167;01mValueError\u001b[39;00m(\n\u001b[1;32m    840\u001b[0m         \u001b[38;5;124m\"\u001b[39m\u001b[38;5;124mNo fits were performed. \u001b[39m\u001b[38;5;124m\"\u001b[39m\n\u001b[1;32m    841\u001b[0m         \u001b[38;5;124m\"\u001b[39m\u001b[38;5;124mWas the CV iterator empty? \u001b[39m\u001b[38;5;124m\"\u001b[39m\n\u001b[1;32m    842\u001b[0m         \u001b[38;5;124m\"\u001b[39m\u001b[38;5;124mWere there no candidates?\u001b[39m\u001b[38;5;124m\"\u001b[39m\n\u001b[1;32m    843\u001b[0m     )\n",
      "File \u001b[0;32m/opt/homebrew/Caskroom/miniforge/base/envs/GCN_study/lib/python3.9/site-packages/sklearn/utils/parallel.py:63\u001b[0m, in \u001b[0;36mParallel.__call__\u001b[0;34m(self, iterable)\u001b[0m\n\u001b[1;32m     58\u001b[0m config \u001b[38;5;241m=\u001b[39m get_config()\n\u001b[1;32m     59\u001b[0m iterable_with_config \u001b[38;5;241m=\u001b[39m (\n\u001b[1;32m     60\u001b[0m     (_with_config(delayed_func, config), args, kwargs)\n\u001b[1;32m     61\u001b[0m     \u001b[38;5;28;01mfor\u001b[39;00m delayed_func, args, kwargs \u001b[38;5;129;01min\u001b[39;00m iterable\n\u001b[1;32m     62\u001b[0m )\n\u001b[0;32m---> 63\u001b[0m \u001b[38;5;28;01mreturn\u001b[39;00m \u001b[38;5;28;43msuper\u001b[39;49m\u001b[43m(\u001b[49m\u001b[43m)\u001b[49m\u001b[38;5;241;43m.\u001b[39;49m\u001b[38;5;21;43m__call__\u001b[39;49m\u001b[43m(\u001b[49m\u001b[43miterable_with_config\u001b[49m\u001b[43m)\u001b[49m\n",
      "File \u001b[0;32m/opt/homebrew/Caskroom/miniforge/base/envs/GCN_study/lib/python3.9/site-packages/joblib/parallel.py:1098\u001b[0m, in \u001b[0;36mParallel.__call__\u001b[0;34m(self, iterable)\u001b[0m\n\u001b[1;32m   1095\u001b[0m     \u001b[38;5;28mself\u001b[39m\u001b[38;5;241m.\u001b[39m_iterating \u001b[38;5;241m=\u001b[39m \u001b[38;5;28;01mFalse\u001b[39;00m\n\u001b[1;32m   1097\u001b[0m \u001b[38;5;28;01mwith\u001b[39;00m \u001b[38;5;28mself\u001b[39m\u001b[38;5;241m.\u001b[39m_backend\u001b[38;5;241m.\u001b[39mretrieval_context():\n\u001b[0;32m-> 1098\u001b[0m     \u001b[38;5;28;43mself\u001b[39;49m\u001b[38;5;241;43m.\u001b[39;49m\u001b[43mretrieve\u001b[49m\u001b[43m(\u001b[49m\u001b[43m)\u001b[49m\n\u001b[1;32m   1099\u001b[0m \u001b[38;5;66;03m# Make sure that we get a last message telling us we are done\u001b[39;00m\n\u001b[1;32m   1100\u001b[0m elapsed_time \u001b[38;5;241m=\u001b[39m time\u001b[38;5;241m.\u001b[39mtime() \u001b[38;5;241m-\u001b[39m \u001b[38;5;28mself\u001b[39m\u001b[38;5;241m.\u001b[39m_start_time\n",
      "File \u001b[0;32m/opt/homebrew/Caskroom/miniforge/base/envs/GCN_study/lib/python3.9/site-packages/joblib/parallel.py:975\u001b[0m, in \u001b[0;36mParallel.retrieve\u001b[0;34m(self)\u001b[0m\n\u001b[1;32m    973\u001b[0m \u001b[38;5;28;01mtry\u001b[39;00m:\n\u001b[1;32m    974\u001b[0m     \u001b[38;5;28;01mif\u001b[39;00m \u001b[38;5;28mgetattr\u001b[39m(\u001b[38;5;28mself\u001b[39m\u001b[38;5;241m.\u001b[39m_backend, \u001b[38;5;124m'\u001b[39m\u001b[38;5;124msupports_timeout\u001b[39m\u001b[38;5;124m'\u001b[39m, \u001b[38;5;28;01mFalse\u001b[39;00m):\n\u001b[0;32m--> 975\u001b[0m         \u001b[38;5;28mself\u001b[39m\u001b[38;5;241m.\u001b[39m_output\u001b[38;5;241m.\u001b[39mextend(\u001b[43mjob\u001b[49m\u001b[38;5;241;43m.\u001b[39;49m\u001b[43mget\u001b[49m\u001b[43m(\u001b[49m\u001b[43mtimeout\u001b[49m\u001b[38;5;241;43m=\u001b[39;49m\u001b[38;5;28;43mself\u001b[39;49m\u001b[38;5;241;43m.\u001b[39;49m\u001b[43mtimeout\u001b[49m\u001b[43m)\u001b[49m)\n\u001b[1;32m    976\u001b[0m     \u001b[38;5;28;01melse\u001b[39;00m:\n\u001b[1;32m    977\u001b[0m         \u001b[38;5;28mself\u001b[39m\u001b[38;5;241m.\u001b[39m_output\u001b[38;5;241m.\u001b[39mextend(job\u001b[38;5;241m.\u001b[39mget())\n",
      "File \u001b[0;32m/opt/homebrew/Caskroom/miniforge/base/envs/GCN_study/lib/python3.9/site-packages/joblib/_parallel_backends.py:567\u001b[0m, in \u001b[0;36mLokyBackend.wrap_future_result\u001b[0;34m(future, timeout)\u001b[0m\n\u001b[1;32m    564\u001b[0m \u001b[38;5;250m\u001b[39m\u001b[38;5;124;03m\"\"\"Wrapper for Future.result to implement the same behaviour as\u001b[39;00m\n\u001b[1;32m    565\u001b[0m \u001b[38;5;124;03mAsyncResults.get from multiprocessing.\"\"\"\u001b[39;00m\n\u001b[1;32m    566\u001b[0m \u001b[38;5;28;01mtry\u001b[39;00m:\n\u001b[0;32m--> 567\u001b[0m     \u001b[38;5;28;01mreturn\u001b[39;00m \u001b[43mfuture\u001b[49m\u001b[38;5;241;43m.\u001b[39;49m\u001b[43mresult\u001b[49m\u001b[43m(\u001b[49m\u001b[43mtimeout\u001b[49m\u001b[38;5;241;43m=\u001b[39;49m\u001b[43mtimeout\u001b[49m\u001b[43m)\u001b[49m\n\u001b[1;32m    568\u001b[0m \u001b[38;5;28;01mexcept\u001b[39;00m CfTimeoutError \u001b[38;5;28;01mas\u001b[39;00m e:\n\u001b[1;32m    569\u001b[0m     \u001b[38;5;28;01mraise\u001b[39;00m \u001b[38;5;167;01mTimeoutError\u001b[39;00m \u001b[38;5;28;01mfrom\u001b[39;00m \u001b[38;5;21;01me\u001b[39;00m\n",
      "File \u001b[0;32m/opt/homebrew/Caskroom/miniforge/base/envs/GCN_study/lib/python3.9/concurrent/futures/_base.py:441\u001b[0m, in \u001b[0;36mFuture.result\u001b[0;34m(self, timeout)\u001b[0m\n\u001b[1;32m    438\u001b[0m \u001b[38;5;28;01melif\u001b[39;00m \u001b[38;5;28mself\u001b[39m\u001b[38;5;241m.\u001b[39m_state \u001b[38;5;241m==\u001b[39m FINISHED:\n\u001b[1;32m    439\u001b[0m     \u001b[38;5;28;01mreturn\u001b[39;00m \u001b[38;5;28mself\u001b[39m\u001b[38;5;241m.\u001b[39m__get_result()\n\u001b[0;32m--> 441\u001b[0m \u001b[38;5;28;43mself\u001b[39;49m\u001b[38;5;241;43m.\u001b[39;49m\u001b[43m_condition\u001b[49m\u001b[38;5;241;43m.\u001b[39;49m\u001b[43mwait\u001b[49m\u001b[43m(\u001b[49m\u001b[43mtimeout\u001b[49m\u001b[43m)\u001b[49m\n\u001b[1;32m    443\u001b[0m \u001b[38;5;28;01mif\u001b[39;00m \u001b[38;5;28mself\u001b[39m\u001b[38;5;241m.\u001b[39m_state \u001b[38;5;129;01min\u001b[39;00m [CANCELLED, CANCELLED_AND_NOTIFIED]:\n\u001b[1;32m    444\u001b[0m     \u001b[38;5;28;01mraise\u001b[39;00m CancelledError()\n",
      "File \u001b[0;32m/opt/homebrew/Caskroom/miniforge/base/envs/GCN_study/lib/python3.9/threading.py:312\u001b[0m, in \u001b[0;36mCondition.wait\u001b[0;34m(self, timeout)\u001b[0m\n\u001b[1;32m    310\u001b[0m \u001b[38;5;28;01mtry\u001b[39;00m:    \u001b[38;5;66;03m# restore state no matter what (e.g., KeyboardInterrupt)\u001b[39;00m\n\u001b[1;32m    311\u001b[0m     \u001b[38;5;28;01mif\u001b[39;00m timeout \u001b[38;5;129;01mis\u001b[39;00m \u001b[38;5;28;01mNone\u001b[39;00m:\n\u001b[0;32m--> 312\u001b[0m         \u001b[43mwaiter\u001b[49m\u001b[38;5;241;43m.\u001b[39;49m\u001b[43macquire\u001b[49m\u001b[43m(\u001b[49m\u001b[43m)\u001b[49m\n\u001b[1;32m    313\u001b[0m         gotit \u001b[38;5;241m=\u001b[39m \u001b[38;5;28;01mTrue\u001b[39;00m\n\u001b[1;32m    314\u001b[0m     \u001b[38;5;28;01melse\u001b[39;00m:\n",
      "\u001b[0;31mKeyboardInterrupt\u001b[0m: "
     ]
    }
   ],
   "source": [
    "# Setting possible values for the multiple hyperparameters of XGBoost\n",
    "random_grid = {\n",
    "    \"max_depth\": [1, 2, 4, 8],\n",
    "    \"learning_rate\": [0.001,0.05, 0.5],\n",
    "    \"gamma\": [0, 0.25, 1],\n",
    "    \"reg_lambda\": [0.001, 1, 10],\n",
    "    \"scale_pos_weight\": [0,1, 3],\n",
    "    \"subsample\": [0.8],\n",
    "    \"colsample_bytree\": [0.8],\n",
    "    \"n_estimators\" : [int(x) for x in np.linspace(start = 200, stop = 1000, num = 3)]\n",
    "\n",
    "}\n",
    "\n",
    "# Using  Boosted trees\n",
    "bst = XGBClassifier(booster='gbtree',tree_method='exact',objective='binary:logistic',n_jobs=-1)\n",
    "\n",
    "# Random search of parameters, using 3 fold cross validation, \n",
    "# search across 100 different combinations\n",
    "rf_random = RandomizedSearchCV(estimator = bst, param_distributions = random_grid, n_iter = 100,\n",
    "                               cv = 3, verbose=1, random_state=42, n_jobs = -1)\n",
    "\n",
    "# Fit the random search model\n",
    "rf_random.fit(X, y.values.ravel())\n"
   ]
  },
  {
   "cell_type": "code",
   "execution_count": 87,
   "id": "f98358a4-3c93-44c5-8137-ac4ab083b5f8",
   "metadata": {},
   "outputs": [
    {
     "ename": "AttributeError",
     "evalue": "'RandomizedSearchCV' object has no attribute 'best_score_'",
     "output_type": "error",
     "traceback": [
      "\u001b[0;31m---------------------------------------------------------------------------\u001b[0m",
      "\u001b[0;31mAttributeError\u001b[0m                            Traceback (most recent call last)",
      "Cell \u001b[0;32mIn[87], line 1\u001b[0m\n\u001b[0;32m----> 1\u001b[0m accuracy \u001b[38;5;241m=\u001b[39m \u001b[43mrf_random\u001b[49m\u001b[38;5;241;43m.\u001b[39;49m\u001b[43mbest_score_\u001b[49m \u001b[38;5;241m*\u001b[39m\u001b[38;5;241m100\u001b[39m\n\u001b[1;32m      2\u001b[0m \u001b[38;5;28mprint\u001b[39m(\u001b[38;5;124m\"\u001b[39m\u001b[38;5;124mAccuracy for our training dataset with tuning is : \u001b[39m\u001b[38;5;132;01m{:.2f}\u001b[39;00m\u001b[38;5;124m%\u001b[39m\u001b[38;5;124m\"\u001b[39m\u001b[38;5;241m.\u001b[39mformat(accuracy) )\n",
      "\u001b[0;31mAttributeError\u001b[0m: 'RandomizedSearchCV' object has no attribute 'best_score_'"
     ]
    }
   ],
   "source": [
    "accuracy = rf_random.best_score_ *100\n",
    "print(\"Accuracy for our training dataset with tuning is : {:.2f}%\".format(accuracy) )"
   ]
  },
  {
   "cell_type": "code",
   "execution_count": null,
   "id": "ca7808b4-6ff7-4d45-98f2-066bc9090abd",
   "metadata": {},
   "outputs": [],
   "source": [
    "a = {'subsample': 0.8, 'scale_pos_weight': 1, 'reg_lambda': 0.001, 'n_estimators': 600,\n",
    "     'max_depth': 8, 'learning_rate': 0.05, 'gamma': 0, 'colsample_bytree': 0.8}"
   ]
  },
  {
   "cell_type": "code",
   "execution_count": null,
   "id": "4c4756c7-396f-4959-8827-c0818dc26552",
   "metadata": {},
   "outputs": [],
   "source": [
    "a"
   ]
  },
  {
   "cell_type": "code",
   "execution_count": null,
   "id": "a2cdabfd-fd3e-474a-a947-797255b5b21e",
   "metadata": {},
   "outputs": [],
   "source": [
    "print(rf_random.best_params_)\n",
    "(pd.DataFrame.from_dict(rf_random.best_params_, orient='index')).to_csv('/Users/rodrigo/Post-Grad/CC400/Results/xgboost_params.csv')"
   ]
  },
  {
   "cell_type": "code",
   "execution_count": 19,
   "id": "c71d60d5-23d3-48c1-b2f5-29f7108c6901",
   "metadata": {},
   "outputs": [
    {
     "name": "stderr",
     "output_type": "stream",
     "text": [
      "[Parallel(n_jobs=-1)]: Using backend LokyBackend with 8 concurrent workers.\n",
      "[Parallel(n_jobs=-1)]: Done   6 out of  10 | elapsed: 61.6min remaining: 41.1min\n",
      "[Parallel(n_jobs=-1)]: Done  10 out of  10 | elapsed: 80.8min finished\n"
     ]
    }
   ],
   "source": [
    "# Best xgboosting model\n",
    "final_cl = XGBClassifier(\n",
    "    **a,\n",
    "    objective=\"binary:logistic\",\n",
    "    booster='gbtree',\n",
    "    tree_method='exact',\n",
    "    eval_metric='mlogloss',\n",
    "    n_jobs=-1\n",
    ")\n",
    "# **rf_random.best_params_\n",
    "\n",
    "scores = cross_validate(final_cl, X, y.values.ravel(), scoring=scoring,\n",
    "                         cv=cv, n_jobs=-1,verbose=1)\n",
    "\n",
    "#bst.fit(X_train, y_train.values.ravel())"
   ]
  },
  {
   "cell_type": "code",
   "execution_count": 20,
   "id": "34ab1402-59b2-44b3-80dc-d030c902560f",
   "metadata": {},
   "outputs": [
    {
     "name": "stdout",
     "output_type": "stream",
     "text": [
      "Accuracy in val:0.68(0.05)\n",
      "F1_scores 0.61(0.05)\n",
      "Precision_scores 0.69(0.07)\n",
      "Recall_scores 0.62(0.04)\n",
      "ROC AUC 0.74(0.07)\n"
     ]
    }
   ],
   "source": [
    "print(\"Accuracy in val:%0.2f(%0.2f)\" % (scores['test_acc'].mean(), scores['test_acc'].std()))\n",
    "print(\"F1_scores {:.2f}({:.2f})\".format(scores['test_f1'].mean(), scores['test_f1'].std()))\n",
    "print(\"Precision_scores {:.2f}({:.2f})\".format(scores['test_prec_macro'].mean(), scores['test_prec_macro'].std()))\n",
    "print(\"Recall_scores {:.2f}({:.2f})\".format(scores['test_rec_macro'].mean(), scores['test_rec_macro'].std()))\n",
    "print(\"ROC AUC {:.2f}({:.2f})\".format(scores['test_roc_auc'].mean(), scores['test_roc_auc'].std()))\n",
    "#print('Accuracy score in TEST set: {0:0.4f}'. format(accuracy_score(y_TEST, final_cl.predict(X_TEST))))"
   ]
  },
  {
   "cell_type": "code",
   "execution_count": 21,
   "id": "0fb449e5-4f16-4023-9873-5edb5f7c1190",
   "metadata": {},
   "outputs": [],
   "source": [
    "scores['Model'] = ['XGBoost']*10\n",
    "results = results.merge(pd.DataFrame.from_dict(scores), how='outer')"
   ]
  },
  {
   "cell_type": "code",
   "execution_count": 22,
   "id": "9a129d09-70e9-4f24-93d2-8139730089d6",
   "metadata": {},
   "outputs": [
    {
     "data": {
      "text/html": [
       "<div>\n",
       "<style scoped>\n",
       "    .dataframe tbody tr th:only-of-type {\n",
       "        vertical-align: middle;\n",
       "    }\n",
       "\n",
       "    .dataframe tbody tr th {\n",
       "        vertical-align: top;\n",
       "    }\n",
       "\n",
       "    .dataframe thead th {\n",
       "        text-align: right;\n",
       "    }\n",
       "</style>\n",
       "<table border=\"1\" class=\"dataframe\">\n",
       "  <thead>\n",
       "    <tr style=\"text-align: right;\">\n",
       "      <th></th>\n",
       "      <th>fit_time</th>\n",
       "      <th>score_time</th>\n",
       "      <th>test_acc</th>\n",
       "      <th>test_prec_macro</th>\n",
       "      <th>test_rec_macro</th>\n",
       "      <th>test_f1</th>\n",
       "      <th>test_roc_auc</th>\n",
       "      <th>Model</th>\n",
       "    </tr>\n",
       "  </thead>\n",
       "  <tbody>\n",
       "    <tr>\n",
       "      <th>0</th>\n",
       "      <td>113.436413</td>\n",
       "      <td>0.464087</td>\n",
       "      <td>0.712838</td>\n",
       "      <td>0.681254</td>\n",
       "      <td>0.678644</td>\n",
       "      <td>0.679862</td>\n",
       "      <td>0.729230</td>\n",
       "      <td>logreg</td>\n",
       "    </tr>\n",
       "    <tr>\n",
       "      <th>1</th>\n",
       "      <td>112.223974</td>\n",
       "      <td>0.686256</td>\n",
       "      <td>0.686667</td>\n",
       "      <td>0.702438</td>\n",
       "      <td>0.675000</td>\n",
       "      <td>0.670730</td>\n",
       "      <td>0.785937</td>\n",
       "      <td>logreg</td>\n",
       "    </tr>\n",
       "    <tr>\n",
       "      <th>2</th>\n",
       "      <td>109.423476</td>\n",
       "      <td>1.329339</td>\n",
       "      <td>0.667883</td>\n",
       "      <td>0.616609</td>\n",
       "      <td>0.602186</td>\n",
       "      <td>0.605443</td>\n",
       "      <td>0.674570</td>\n",
       "      <td>logreg</td>\n",
       "    </tr>\n",
       "    <tr>\n",
       "      <th>3</th>\n",
       "      <td>115.508514</td>\n",
       "      <td>0.317689</td>\n",
       "      <td>0.741525</td>\n",
       "      <td>0.751246</td>\n",
       "      <td>0.724068</td>\n",
       "      <td>0.726681</td>\n",
       "      <td>0.762456</td>\n",
       "      <td>logreg</td>\n",
       "    </tr>\n",
       "    <tr>\n",
       "      <th>4</th>\n",
       "      <td>95.381335</td>\n",
       "      <td>1.118333</td>\n",
       "      <td>0.732558</td>\n",
       "      <td>0.716797</td>\n",
       "      <td>0.703316</td>\n",
       "      <td>0.707872</td>\n",
       "      <td>0.767028</td>\n",
       "      <td>logreg</td>\n",
       "    </tr>\n",
       "    <tr>\n",
       "      <th>5</th>\n",
       "      <td>115.306455</td>\n",
       "      <td>0.342255</td>\n",
       "      <td>0.737705</td>\n",
       "      <td>0.701113</td>\n",
       "      <td>0.692835</td>\n",
       "      <td>0.696399</td>\n",
       "      <td>0.790777</td>\n",
       "      <td>logreg</td>\n",
       "    </tr>\n",
       "    <tr>\n",
       "      <th>6</th>\n",
       "      <td>96.783327</td>\n",
       "      <td>0.703600</td>\n",
       "      <td>0.690265</td>\n",
       "      <td>0.656629</td>\n",
       "      <td>0.641610</td>\n",
       "      <td>0.645895</td>\n",
       "      <td>0.685360</td>\n",
       "      <td>logreg</td>\n",
       "    </tr>\n",
       "    <tr>\n",
       "      <th>7</th>\n",
       "      <td>114.693554</td>\n",
       "      <td>0.365203</td>\n",
       "      <td>0.788660</td>\n",
       "      <td>0.791652</td>\n",
       "      <td>0.775649</td>\n",
       "      <td>0.779759</td>\n",
       "      <td>0.841017</td>\n",
       "      <td>logreg</td>\n",
       "    </tr>\n",
       "    <tr>\n",
       "      <th>8</th>\n",
       "      <td>25.108315</td>\n",
       "      <td>0.209200</td>\n",
       "      <td>0.758824</td>\n",
       "      <td>0.716417</td>\n",
       "      <td>0.718709</td>\n",
       "      <td>0.717528</td>\n",
       "      <td>0.816982</td>\n",
       "      <td>logreg</td>\n",
       "    </tr>\n",
       "    <tr>\n",
       "      <th>9</th>\n",
       "      <td>24.267210</td>\n",
       "      <td>0.204222</td>\n",
       "      <td>0.681818</td>\n",
       "      <td>0.705409</td>\n",
       "      <td>0.674493</td>\n",
       "      <td>0.666505</td>\n",
       "      <td>0.807770</td>\n",
       "      <td>logreg</td>\n",
       "    </tr>\n",
       "    <tr>\n",
       "      <th>10</th>\n",
       "      <td>213.667973</td>\n",
       "      <td>10.079374</td>\n",
       "      <td>0.702703</td>\n",
       "      <td>0.671675</td>\n",
       "      <td>0.673236</td>\n",
       "      <td>0.672418</td>\n",
       "      <td>0.725490</td>\n",
       "      <td>SVC</td>\n",
       "    </tr>\n",
       "    <tr>\n",
       "      <th>11</th>\n",
       "      <td>186.293252</td>\n",
       "      <td>20.827120</td>\n",
       "      <td>0.683333</td>\n",
       "      <td>0.699470</td>\n",
       "      <td>0.671429</td>\n",
       "      <td>0.666710</td>\n",
       "      <td>0.786027</td>\n",
       "      <td>SVC</td>\n",
       "    </tr>\n",
       "    <tr>\n",
       "      <th>12</th>\n",
       "      <td>192.737366</td>\n",
       "      <td>17.599051</td>\n",
       "      <td>0.675182</td>\n",
       "      <td>0.626834</td>\n",
       "      <td>0.613055</td>\n",
       "      <td>0.616735</td>\n",
       "      <td>0.660296</td>\n",
       "      <td>SVC</td>\n",
       "    </tr>\n",
       "    <tr>\n",
       "      <th>13</th>\n",
       "      <td>168.585148</td>\n",
       "      <td>15.775847</td>\n",
       "      <td>0.733051</td>\n",
       "      <td>0.741607</td>\n",
       "      <td>0.715472</td>\n",
       "      <td>0.717719</td>\n",
       "      <td>0.757212</td>\n",
       "      <td>SVC</td>\n",
       "    </tr>\n",
       "    <tr>\n",
       "      <th>14</th>\n",
       "      <td>193.472234</td>\n",
       "      <td>16.609436</td>\n",
       "      <td>0.717054</td>\n",
       "      <td>0.699587</td>\n",
       "      <td>0.684885</td>\n",
       "      <td>0.689387</td>\n",
       "      <td>0.758099</td>\n",
       "      <td>SVC</td>\n",
       "    </tr>\n",
       "    <tr>\n",
       "      <th>15</th>\n",
       "      <td>196.634791</td>\n",
       "      <td>15.341080</td>\n",
       "      <td>0.737705</td>\n",
       "      <td>0.701113</td>\n",
       "      <td>0.692835</td>\n",
       "      <td>0.696399</td>\n",
       "      <td>0.786509</td>\n",
       "      <td>SVC</td>\n",
       "    </tr>\n",
       "    <tr>\n",
       "      <th>16</th>\n",
       "      <td>223.019172</td>\n",
       "      <td>6.507776</td>\n",
       "      <td>0.707965</td>\n",
       "      <td>0.678876</td>\n",
       "      <td>0.672260</td>\n",
       "      <td>0.674976</td>\n",
       "      <td>0.695377</td>\n",
       "      <td>SVC</td>\n",
       "    </tr>\n",
       "    <tr>\n",
       "      <th>17</th>\n",
       "      <td>204.211758</td>\n",
       "      <td>10.444920</td>\n",
       "      <td>0.788660</td>\n",
       "      <td>0.787046</td>\n",
       "      <td>0.779870</td>\n",
       "      <td>0.782362</td>\n",
       "      <td>0.839177</td>\n",
       "      <td>SVC</td>\n",
       "    </tr>\n",
       "    <tr>\n",
       "      <th>18</th>\n",
       "      <td>52.011797</td>\n",
       "      <td>3.789610</td>\n",
       "      <td>0.752941</td>\n",
       "      <td>0.711310</td>\n",
       "      <td>0.719850</td>\n",
       "      <td>0.715038</td>\n",
       "      <td>0.817471</td>\n",
       "      <td>SVC</td>\n",
       "    </tr>\n",
       "    <tr>\n",
       "      <th>19</th>\n",
       "      <td>42.333358</td>\n",
       "      <td>2.382651</td>\n",
       "      <td>0.694805</td>\n",
       "      <td>0.720720</td>\n",
       "      <td>0.687500</td>\n",
       "      <td>0.680117</td>\n",
       "      <td>0.800338</td>\n",
       "      <td>SVC</td>\n",
       "    </tr>\n",
       "    <tr>\n",
       "      <th>20</th>\n",
       "      <td>3579.446071</td>\n",
       "      <td>1.884098</td>\n",
       "      <td>0.706081</td>\n",
       "      <td>0.673493</td>\n",
       "      <td>0.631645</td>\n",
       "      <td>0.637168</td>\n",
       "      <td>0.724479</td>\n",
       "      <td>XGBoost</td>\n",
       "    </tr>\n",
       "    <tr>\n",
       "      <th>21</th>\n",
       "      <td>3472.747547</td>\n",
       "      <td>1.562320</td>\n",
       "      <td>0.643333</td>\n",
       "      <td>0.762305</td>\n",
       "      <td>0.619196</td>\n",
       "      <td>0.574039</td>\n",
       "      <td>0.770804</td>\n",
       "      <td>XGBoost</td>\n",
       "    </tr>\n",
       "    <tr>\n",
       "      <th>22</th>\n",
       "      <td>3628.940083</td>\n",
       "      <td>2.029720</td>\n",
       "      <td>0.693431</td>\n",
       "      <td>0.650074</td>\n",
       "      <td>0.597229</td>\n",
       "      <td>0.597059</td>\n",
       "      <td>0.685380</td>\n",
       "      <td>XGBoost</td>\n",
       "    </tr>\n",
       "    <tr>\n",
       "      <th>23</th>\n",
       "      <td>3686.620766</td>\n",
       "      <td>1.107349</td>\n",
       "      <td>0.673729</td>\n",
       "      <td>0.742874</td>\n",
       "      <td>0.635927</td>\n",
       "      <td>0.613748</td>\n",
       "      <td>0.805070</td>\n",
       "      <td>XGBoost</td>\n",
       "    </tr>\n",
       "    <tr>\n",
       "      <th>24</th>\n",
       "      <td>3654.943503</td>\n",
       "      <td>1.389917</td>\n",
       "      <td>0.639535</td>\n",
       "      <td>0.605263</td>\n",
       "      <td>0.576913</td>\n",
       "      <td>0.571191</td>\n",
       "      <td>0.729337</td>\n",
       "      <td>XGBoost</td>\n",
       "    </tr>\n",
       "    <tr>\n",
       "      <th>25</th>\n",
       "      <td>3692.819018</td>\n",
       "      <td>0.961588</td>\n",
       "      <td>0.725410</td>\n",
       "      <td>0.694082</td>\n",
       "      <td>0.632470</td>\n",
       "      <td>0.639713</td>\n",
       "      <td>0.727668</td>\n",
       "      <td>XGBoost</td>\n",
       "    </tr>\n",
       "    <tr>\n",
       "      <th>26</th>\n",
       "      <td>3705.141769</td>\n",
       "      <td>0.836937</td>\n",
       "      <td>0.623894</td>\n",
       "      <td>0.546904</td>\n",
       "      <td>0.528082</td>\n",
       "      <td>0.509886</td>\n",
       "      <td>0.573202</td>\n",
       "      <td>XGBoost</td>\n",
       "    </tr>\n",
       "    <tr>\n",
       "      <th>27</th>\n",
       "      <td>3749.694569</td>\n",
       "      <td>0.618884</td>\n",
       "      <td>0.644330</td>\n",
       "      <td>0.691432</td>\n",
       "      <td>0.599134</td>\n",
       "      <td>0.569236</td>\n",
       "      <td>0.760714</td>\n",
       "      <td>XGBoost</td>\n",
       "    </tr>\n",
       "    <tr>\n",
       "      <th>28</th>\n",
       "      <td>1356.648984</td>\n",
       "      <td>0.513693</td>\n",
       "      <td>0.788235</td>\n",
       "      <td>0.796207</td>\n",
       "      <td>0.680737</td>\n",
       "      <td>0.700528</td>\n",
       "      <td>0.806226</td>\n",
       "      <td>XGBoost</td>\n",
       "    </tr>\n",
       "    <tr>\n",
       "      <th>29</th>\n",
       "      <td>1264.131381</td>\n",
       "      <td>0.451377</td>\n",
       "      <td>0.668831</td>\n",
       "      <td>0.725210</td>\n",
       "      <td>0.658446</td>\n",
       "      <td>0.637914</td>\n",
       "      <td>0.783784</td>\n",
       "      <td>XGBoost</td>\n",
       "    </tr>\n",
       "  </tbody>\n",
       "</table>\n",
       "</div>"
      ],
      "text/plain": [
       "       fit_time  score_time  test_acc  test_prec_macro  test_rec_macro  \\\n",
       "0    113.436413    0.464087  0.712838         0.681254        0.678644   \n",
       "1    112.223974    0.686256  0.686667         0.702438        0.675000   \n",
       "2    109.423476    1.329339  0.667883         0.616609        0.602186   \n",
       "3    115.508514    0.317689  0.741525         0.751246        0.724068   \n",
       "4     95.381335    1.118333  0.732558         0.716797        0.703316   \n",
       "5    115.306455    0.342255  0.737705         0.701113        0.692835   \n",
       "6     96.783327    0.703600  0.690265         0.656629        0.641610   \n",
       "7    114.693554    0.365203  0.788660         0.791652        0.775649   \n",
       "8     25.108315    0.209200  0.758824         0.716417        0.718709   \n",
       "9     24.267210    0.204222  0.681818         0.705409        0.674493   \n",
       "10   213.667973   10.079374  0.702703         0.671675        0.673236   \n",
       "11   186.293252   20.827120  0.683333         0.699470        0.671429   \n",
       "12   192.737366   17.599051  0.675182         0.626834        0.613055   \n",
       "13   168.585148   15.775847  0.733051         0.741607        0.715472   \n",
       "14   193.472234   16.609436  0.717054         0.699587        0.684885   \n",
       "15   196.634791   15.341080  0.737705         0.701113        0.692835   \n",
       "16   223.019172    6.507776  0.707965         0.678876        0.672260   \n",
       "17   204.211758   10.444920  0.788660         0.787046        0.779870   \n",
       "18    52.011797    3.789610  0.752941         0.711310        0.719850   \n",
       "19    42.333358    2.382651  0.694805         0.720720        0.687500   \n",
       "20  3579.446071    1.884098  0.706081         0.673493        0.631645   \n",
       "21  3472.747547    1.562320  0.643333         0.762305        0.619196   \n",
       "22  3628.940083    2.029720  0.693431         0.650074        0.597229   \n",
       "23  3686.620766    1.107349  0.673729         0.742874        0.635927   \n",
       "24  3654.943503    1.389917  0.639535         0.605263        0.576913   \n",
       "25  3692.819018    0.961588  0.725410         0.694082        0.632470   \n",
       "26  3705.141769    0.836937  0.623894         0.546904        0.528082   \n",
       "27  3749.694569    0.618884  0.644330         0.691432        0.599134   \n",
       "28  1356.648984    0.513693  0.788235         0.796207        0.680737   \n",
       "29  1264.131381    0.451377  0.668831         0.725210        0.658446   \n",
       "\n",
       "     test_f1  test_roc_auc    Model  \n",
       "0   0.679862      0.729230   logreg  \n",
       "1   0.670730      0.785937   logreg  \n",
       "2   0.605443      0.674570   logreg  \n",
       "3   0.726681      0.762456   logreg  \n",
       "4   0.707872      0.767028   logreg  \n",
       "5   0.696399      0.790777   logreg  \n",
       "6   0.645895      0.685360   logreg  \n",
       "7   0.779759      0.841017   logreg  \n",
       "8   0.717528      0.816982   logreg  \n",
       "9   0.666505      0.807770   logreg  \n",
       "10  0.672418      0.725490      SVC  \n",
       "11  0.666710      0.786027      SVC  \n",
       "12  0.616735      0.660296      SVC  \n",
       "13  0.717719      0.757212      SVC  \n",
       "14  0.689387      0.758099      SVC  \n",
       "15  0.696399      0.786509      SVC  \n",
       "16  0.674976      0.695377      SVC  \n",
       "17  0.782362      0.839177      SVC  \n",
       "18  0.715038      0.817471      SVC  \n",
       "19  0.680117      0.800338      SVC  \n",
       "20  0.637168      0.724479  XGBoost  \n",
       "21  0.574039      0.770804  XGBoost  \n",
       "22  0.597059      0.685380  XGBoost  \n",
       "23  0.613748      0.805070  XGBoost  \n",
       "24  0.571191      0.729337  XGBoost  \n",
       "25  0.639713      0.727668  XGBoost  \n",
       "26  0.509886      0.573202  XGBoost  \n",
       "27  0.569236      0.760714  XGBoost  \n",
       "28  0.700528      0.806226  XGBoost  \n",
       "29  0.637914      0.783784  XGBoost  "
      ]
     },
     "execution_count": 22,
     "metadata": {},
     "output_type": "execute_result"
    }
   ],
   "source": [
    "results"
   ]
  },
  {
   "cell_type": "code",
   "execution_count": 24,
   "id": "219501d2-0905-4b2b-9dc3-d9510c4f598a",
   "metadata": {},
   "outputs": [],
   "source": [
    "results.to_csv('/Users/rodrigo/Post-Grad/CC400/Results/models_DMN.csv')"
   ]
  },
  {
   "cell_type": "code",
   "execution_count": null,
   "id": "2c1f91e9-6c12-4d1f-bef9-e7e8ca375a6a",
   "metadata": {},
   "outputs": [],
   "source": []
  },
  {
   "cell_type": "code",
   "execution_count": null,
   "id": "1e329399-da69-40df-a273-59332b3948ca",
   "metadata": {},
   "outputs": [],
   "source": []
  }
 ],
 "metadata": {
  "kernelspec": {
   "display_name": "Python 3 (ipykernel)",
   "language": "python",
   "name": "python3"
  },
  "language_info": {
   "codemirror_mode": {
    "name": "ipython",
    "version": 3
   },
   "file_extension": ".py",
   "mimetype": "text/x-python",
   "name": "python",
   "nbconvert_exporter": "python",
   "pygments_lexer": "ipython3",
   "version": "3.9.16"
  }
 },
 "nbformat": 4,
 "nbformat_minor": 5
}
