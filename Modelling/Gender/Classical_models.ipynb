{
 "cells": [
  {
   "cell_type": "markdown",
   "id": "a9f4fcbd-e1f8-430b-a0d7-cb53bce3ff72",
   "metadata": {},
   "source": [
    "# Classification problem\n",
    "### Considering binary gender classification\n",
    "(0) Male\n",
    "\n",
    "(1) Female"
   ]
  },
  {
   "cell_type": "code",
   "execution_count": 3,
   "id": "6a95070e-6fbe-4960-85cf-d3ee1b67df54",
   "metadata": {},
   "outputs": [
    {
     "name": "stdout",
     "output_type": "stream",
     "text": [
      "/Users/rodrigo/Post-Grad/CC400/Repo\n"
     ]
    }
   ],
   "source": [
    "%cd /Users/rodrigo/Post-Grad/CC400/Repo"
   ]
  },
  {
   "cell_type": "code",
   "execution_count": 4,
   "id": "72272f33-4cc9-4613-8bfe-6a22a4ca445c",
   "metadata": {},
   "outputs": [],
   "source": [
    "from utils import import_data, compute_KNN_graph, create_graph, create_batch,reconstruct_symmetric_matrix"
   ]
  },
  {
   "cell_type": "code",
   "execution_count": 12,
   "id": "96056aff-7919-4583-b866-2d3ca3f0048f",
   "metadata": {},
   "outputs": [],
   "source": [
    "import pandas as pd\n",
    "import numpy as np\n",
    "import matplotlib.pyplot as plt\n",
    "import seaborn as sns\n",
    "from sklearn.metrics import confusion_matrix\n",
    "from sklearn.model_selection import cross_val_score\n",
    "from sklearn.metrics import accuracy_score, f1_score, precision_score, recall_score\n",
    "from sklearn.metrics import roc_curve, auc\n",
    "from sklearn.metrics import roc_auc_score\n",
    "from sklearn.model_selection import GridSearchCV\n",
    "from sklearn.model_selection import cross_validate\n",
    "from xgboost import XGBClassifier\n",
    "from sklearn.model_selection import RandomizedSearchCV\n",
    "from sklearn.model_selection import StratifiedKFold\n",
    "from neurocombat_sklearn import CombatModel\n",
    "\n",
    "\n",
    "\n",
    "%matplotlib inline\n",
    "sns.set(rc={'image.cmap': 'coolwarm'})\n",
    "np.random.seed(3)\n",
    "\n",
    "#from numba import jit,prange\n",
    "\n",
    "import time\n",
    "import os\n",
    "\n",
    "SMALL_SIZE = 8\n",
    "MEDIUM_SIZE = 10\n",
    "BIGGER_SIZE = 20\n",
    "\n",
    "plt.rc('font', size=MEDIUM_SIZE)          # controls default text sizes\n",
    "plt.rc('axes', titlesize=MEDIUM_SIZE)     # fontsize of the axes title\n",
    "plt.rc('axes', labelsize=BIGGER_SIZE)    # fontsize of the x and y labels\n",
    "plt.rc('xtick', labelsize=MEDIUM_SIZE)    # fontsize of the tick labels\n",
    "plt.rc('ytick', labelsize=MEDIUM_SIZE)    # fontsize of the tick labels\n",
    "plt.rc('legend', fontsize=MEDIUM_SIZE)    # legend fontsize\n",
    "plt.rc('figure', titlesize=BIGGER_SIZE)  # fontsize of the figure title\n",
    "\n",
    "scoring = {'acc': 'accuracy',\n",
    "           'prec_macro': 'precision_macro',\n",
    "           'rec_macro': 'recall_macro',\n",
    "          'f1' : 'f1_macro',\n",
    "          'roc_auc' : 'roc_auc'} \n",
    "\n",
    "cv = StratifiedKFold(n_splits=10, shuffle=True, random_state=42)\n",
    "\n",
    "results = pd.DataFrame()"
   ]
  },
  {
   "cell_type": "code",
   "execution_count": 13,
   "id": "0bfc94bf-503c-4824-86ad-5b11d97fd008",
   "metadata": {},
   "outputs": [],
   "source": [
    "df, phenotypic = import_data(fisher=False)\n",
    "\n",
    "#df = df.join(pd.DataFrame(phenotypic.Age), how='left')\n",
    "#df = df.join(pd.DataFrame(phenotypic['ADHD Measure']), how='left')\n",
    "df = df.join(pd.DataFrame(phenotypic['Gender']), how='left')\n",
    "\n",
    "df['Age'] = phenotypic['Age']\n",
    "\n",
    "df = df.reset_index()\n",
    "df = df.dropna(axis=0)\n",
    "df['Site'] = df['Institution'].astype('category')\n",
    "df['Site'] = df['Site'].cat.codes\n",
    "\n",
    "from sklearn.utils import shuffle\n",
    "df = shuffle(df, random_state=42)\n",
    "\n",
    "\n",
    "#X = df.drop(columns=['Institution', 'Run', 'Age','ADHD Measure', 'Gender', 'Subject'])\n",
    "y = df.Gender.astype(int)"
   ]
  },
  {
   "cell_type": "code",
   "execution_count": 14,
   "id": "e5800292-79b6-4ec4-85ef-9b12248e68ea",
   "metadata": {},
   "outputs": [],
   "source": [
    "ROI_labels = pd.read_csv('/Users/rodrigo/Post-Grad/CC400/ROI_labels.csv')"
   ]
  },
  {
   "cell_type": "code",
   "execution_count": 15,
   "id": "7e9e83c2-5eae-44be-8e20-855adfbe2d3b",
   "metadata": {},
   "outputs": [
    {
     "name": "stdout",
     "output_type": "stream",
     "text": [
      " 0 = 0.39% \n",
      " 1 = 0.61%\n"
     ]
    }
   ],
   "source": [
    "print(' 0 = {:.2f}% \\n'.format(y.value_counts()[0]/len(y)), '1 = {:.2f}%'.format(y.value_counts()[1]/len(y)))"
   ]
  },
  {
   "cell_type": "code",
   "execution_count": 16,
   "id": "8cdb8c41-7d58-4ea1-a767-d69c6a6daaf3",
   "metadata": {},
   "outputs": [],
   "source": [
    "df_train = df[~df.Subject.isin(np.random.choice(df['Subject'].unique(),100))]\n",
    "df_test = df[df.Subject.isin(np.random.choice(df['Subject'].unique(),100))]\n",
    "\n",
    "Age_train = df_train[['Age']]\n",
    "Site_train = df_train[['Site']]\n",
    "X_train = df_train.drop(columns=['Institution', 'Subject', 'Run','Gender', 'Age', 'Site'])\n",
    "y_train = df_train.Gender\n",
    "\n",
    "Age_test = df_test[['Age']]\n",
    "Site_test = df_test[['Site']]\n",
    "X_test = df_test.drop(columns=['Institution', 'Subject', 'Run', 'Gender', 'Age', 'Site'])\n",
    "y_test = df_test.Gender"
   ]
  },
  {
   "cell_type": "code",
   "execution_count": 20,
   "id": "9afbc21d-33c5-4865-b734-dd7aa3fbabaa",
   "metadata": {},
   "outputs": [
    {
     "name": "stderr",
     "output_type": "stream",
     "text": [
      "/opt/homebrew/Caskroom/miniforge/base/envs/GCN_study/lib/python3.9/site-packages/sklearn/preprocessing/_encoders.py:868: FutureWarning: `sparse` was renamed to `sparse_output` in version 1.2 and will be removed in 1.4. `sparse_output` is ignored unless you leave `sparse` to its default value.\n",
      "  warnings.warn(\n"
     ]
    }
   ],
   "source": [
    "\n",
    "# Creating model\n",
    "model = CombatModel()\n",
    "\n",
    "# Fitting the model and transforming the training set\n",
    "X_train = model.fit_transform(X_train.values,\n",
    "                                         Site_train) #X_train_har\n",
    "\n",
    "# Harmonize test set using training set fitted parameters\n",
    "X_test = model.transform(X_test.values,\n",
    "                                    Site_test) #X_test_har"
   ]
  },
  {
   "cell_type": "code",
   "execution_count": 21,
   "id": "3dd6ae68-ec13-4482-ad8c-8be45c31db2b",
   "metadata": {},
   "outputs": [
    {
     "name": "stderr",
     "output_type": "stream",
     "text": [
      "/opt/homebrew/Caskroom/miniforge/base/envs/GCN_study/lib/python3.9/site-packages/sklearn/metrics/_classification.py:1344: UndefinedMetricWarning: Precision is ill-defined and being set to 0.0 in labels with no predicted samples. Use `zero_division` parameter to control this behavior.\n",
      "  _warn_prf(average, modifier, msg_start, len(result))\n",
      "/opt/homebrew/Caskroom/miniforge/base/envs/GCN_study/lib/python3.9/site-packages/sklearn/metrics/_classification.py:1344: UndefinedMetricWarning: Precision is ill-defined and being set to 0.0 in labels with no predicted samples. Use `zero_division` parameter to control this behavior.\n",
      "  _warn_prf(average, modifier, msg_start, len(result))\n",
      "/opt/homebrew/Caskroom/miniforge/base/envs/GCN_study/lib/python3.9/site-packages/sklearn/metrics/_classification.py:1344: UndefinedMetricWarning: Precision is ill-defined and being set to 0.0 in labels with no predicted samples. Use `zero_division` parameter to control this behavior.\n",
      "  _warn_prf(average, modifier, msg_start, len(result))\n",
      "/opt/homebrew/Caskroom/miniforge/base/envs/GCN_study/lib/python3.9/site-packages/sklearn/metrics/_classification.py:1344: UndefinedMetricWarning: Precision is ill-defined and being set to 0.0 in labels with no predicted samples. Use `zero_division` parameter to control this behavior.\n",
      "  _warn_prf(average, modifier, msg_start, len(result))\n",
      "/opt/homebrew/Caskroom/miniforge/base/envs/GCN_study/lib/python3.9/site-packages/sklearn/metrics/_classification.py:1344: UndefinedMetricWarning: Precision is ill-defined and being set to 0.0 in labels with no predicted samples. Use `zero_division` parameter to control this behavior.\n",
      "  _warn_prf(average, modifier, msg_start, len(result))\n",
      "/opt/homebrew/Caskroom/miniforge/base/envs/GCN_study/lib/python3.9/site-packages/sklearn/metrics/_classification.py:1344: UndefinedMetricWarning: Precision is ill-defined and being set to 0.0 in labels with no predicted samples. Use `zero_division` parameter to control this behavior.\n",
      "  _warn_prf(average, modifier, msg_start, len(result))\n",
      "/opt/homebrew/Caskroom/miniforge/base/envs/GCN_study/lib/python3.9/site-packages/sklearn/metrics/_classification.py:1344: UndefinedMetricWarning: Precision is ill-defined and being set to 0.0 in labels with no predicted samples. Use `zero_division` parameter to control this behavior.\n",
      "  _warn_prf(average, modifier, msg_start, len(result))\n",
      "/opt/homebrew/Caskroom/miniforge/base/envs/GCN_study/lib/python3.9/site-packages/sklearn/metrics/_classification.py:1344: UndefinedMetricWarning: Precision is ill-defined and being set to 0.0 in labels with no predicted samples. Use `zero_division` parameter to control this behavior.\n",
      "  _warn_prf(average, modifier, msg_start, len(result))\n"
     ]
    },
    {
     "name": "stdout",
     "output_type": "stream",
     "text": [
      "Accuracy in test:0.59(0.00)\n",
      "F1_scores 0.37(0.00)\n",
      "Precision_scores 0.30(0.00)\n",
      "Recall_scores 0.50(0.00)\n",
      "ROC AUC 0.50(0.00)\n"
     ]
    },
    {
     "name": "stderr",
     "output_type": "stream",
     "text": [
      "/opt/homebrew/Caskroom/miniforge/base/envs/GCN_study/lib/python3.9/site-packages/sklearn/metrics/_classification.py:1344: UndefinedMetricWarning: Precision is ill-defined and being set to 0.0 in labels with no predicted samples. Use `zero_division` parameter to control this behavior.\n",
      "  _warn_prf(average, modifier, msg_start, len(result))\n",
      "/opt/homebrew/Caskroom/miniforge/base/envs/GCN_study/lib/python3.9/site-packages/sklearn/metrics/_classification.py:1344: UndefinedMetricWarning: Precision is ill-defined and being set to 0.0 in labels with no predicted samples. Use `zero_division` parameter to control this behavior.\n",
      "  _warn_prf(average, modifier, msg_start, len(result))\n"
     ]
    }
   ],
   "source": [
    "from sklearn.dummy import DummyClassifier\n",
    "dummy = DummyClassifier(strategy=\"most_frequent\")\n",
    "dummy.fit(X_test, y_test)\n",
    "\n",
    "# Make predictions on the testing data\n",
    "pred_y = dummy.predict(X_test)\n",
    "\n",
    "scores = cross_validate(dummy, X_train, y_train , cv=cv, scoring=scoring)\n",
    "\n",
    "print(\"Accuracy in test:%0.2f(%0.2f)\" % (scores['test_acc'].mean(), scores['test_acc'].std()))\n",
    "print(\"F1_scores {:.2f}({:.2f})\".format(scores['test_f1'].mean(), scores['test_f1'].std()))\n",
    "print(\"Precision_scores {:.2f}({:.2f})\".format(scores['test_prec_macro'].mean(), scores['test_prec_macro'].std()))\n",
    "print(\"Recall_scores {:.2f}({:.2f})\".format(scores['test_rec_macro'].mean(), scores['test_rec_macro'].std()))\n",
    "print(\"ROC AUC {:.2f}({:.2f})\".format(scores['test_roc_auc'].mean(), scores['test_roc_auc'].std()))"
   ]
  },
  {
   "cell_type": "markdown",
   "id": "a18b6aba-d6a6-4809-b43b-249d2325794a",
   "metadata": {},
   "source": [
    "### Logistic Regression"
   ]
  },
  {
   "cell_type": "code",
   "execution_count": 22,
   "id": "de0d753f-f88b-40ef-a0c1-f817ebb6a373",
   "metadata": {},
   "outputs": [
    {
     "name": "stdout",
     "output_type": "stream",
     "text": [
      "Logistic Regression accuracy score in training set: 1.0000\n",
      "Logistic Regression accuracy score in val set: 1.0000\n"
     ]
    },
    {
     "name": "stderr",
     "output_type": "stream",
     "text": [
      "/opt/homebrew/Caskroom/miniforge/base/envs/GCN_study/lib/python3.9/site-packages/sklearn/linear_model/_logistic.py:458: ConvergenceWarning: lbfgs failed to converge (status=1):\n",
      "STOP: TOTAL NO. of ITERATIONS REACHED LIMIT.\n",
      "\n",
      "Increase the number of iterations (max_iter) or scale the data as shown in:\n",
      "    https://scikit-learn.org/stable/modules/preprocessing.html\n",
      "Please also refer to the documentation for alternative solver options:\n",
      "    https://scikit-learn.org/stable/modules/linear_model.html#logistic-regression\n",
      "  n_iter_i = _check_optimize_result(\n"
     ]
    }
   ],
   "source": [
    "from sklearn.linear_model import LogisticRegression\n",
    "\n",
    "logreg = LogisticRegression(max_iter=200)\n",
    "logreg.fit(X_train, y_train)\n",
    "y_pred = logreg.predict(X_test)\n",
    "\n",
    "print('Logistic Regression accuracy score in training set: {0:0.4f}'. format(accuracy_score(y_train, logreg.predict(X_train))))\n",
    "print('Logistic Regression accuracy score in val set: {0:0.4f}'. format(accuracy_score(y_test, y_pred)))"
   ]
  },
  {
   "cell_type": "code",
   "execution_count": 23,
   "id": "14917c03-75d0-48ce-8487-7c89b293fa83",
   "metadata": {},
   "outputs": [
    {
     "data": {
      "image/png": "[encoded data removed]",
      "text/plain": [
       "<Figure size 640x480 with 2 Axes>"
      ]
     },
     "metadata": {},
     "output_type": "display_data"
    }
   ],
   "source": [
    "plt.figure(dpi=100)\n",
    "sns.heatmap(confusion_matrix(y_test, y_pred), annot=True, annot_kws={\"size\": 16}, fmt='g')\n",
    "plt.show()"
   ]
  },
  {
   "cell_type": "markdown",
   "id": "90908ca6-d1f5-47d1-b61b-561c16734840",
   "metadata": {},
   "source": [
    "### Cross Validation"
   ]
  },
  {
   "cell_type": "code",
   "execution_count": 25,
   "id": "f6b49dc1-3c4c-4bb8-b3fc-f6cf99b02e08",
   "metadata": {},
   "outputs": [
    {
     "name": "stderr",
     "output_type": "stream",
     "text": [
      "/opt/homebrew/Caskroom/miniforge/base/envs/GCN_study/lib/python3.9/site-packages/sklearn/linear_model/_logistic.py:458: ConvergenceWarning: lbfgs failed to converge (status=1):\n",
      "STOP: TOTAL NO. of ITERATIONS REACHED LIMIT.\n",
      "\n",
      "Increase the number of iterations (max_iter) or scale the data as shown in:\n",
      "    https://scikit-learn.org/stable/modules/preprocessing.html\n",
      "Please also refer to the documentation for alternative solver options:\n",
      "    https://scikit-learn.org/stable/modules/linear_model.html#logistic-regression\n",
      "  n_iter_i = _check_optimize_result(\n",
      "/opt/homebrew/Caskroom/miniforge/base/envs/GCN_study/lib/python3.9/site-packages/sklearn/linear_model/_logistic.py:458: ConvergenceWarning: lbfgs failed to converge (status=1):\n",
      "STOP: TOTAL NO. of ITERATIONS REACHED LIMIT.\n",
      "\n",
      "Increase the number of iterations (max_iter) or scale the data as shown in:\n",
      "    https://scikit-learn.org/stable/modules/preprocessing.html\n",
      "Please also refer to the documentation for alternative solver options:\n",
      "    https://scikit-learn.org/stable/modules/linear_model.html#logistic-regression\n",
      "  n_iter_i = _check_optimize_result(\n",
      "/opt/homebrew/Caskroom/miniforge/base/envs/GCN_study/lib/python3.9/site-packages/sklearn/linear_model/_logistic.py:458: ConvergenceWarning: lbfgs failed to converge (status=1):\n",
      "STOP: TOTAL NO. of ITERATIONS REACHED LIMIT.\n",
      "\n",
      "Increase the number of iterations (max_iter) or scale the data as shown in:\n",
      "    https://scikit-learn.org/stable/modules/preprocessing.html\n",
      "Please also refer to the documentation for alternative solver options:\n",
      "    https://scikit-learn.org/stable/modules/linear_model.html#logistic-regression\n",
      "  n_iter_i = _check_optimize_result(\n",
      "/opt/homebrew/Caskroom/miniforge/base/envs/GCN_study/lib/python3.9/site-packages/sklearn/linear_model/_logistic.py:458: ConvergenceWarning: lbfgs failed to converge (status=1):\n",
      "STOP: TOTAL NO. of ITERATIONS REACHED LIMIT.\n",
      "\n",
      "Increase the number of iterations (max_iter) or scale the data as shown in:\n",
      "    https://scikit-learn.org/stable/modules/preprocessing.html\n",
      "Please also refer to the documentation for alternative solver options:\n",
      "    https://scikit-learn.org/stable/modules/linear_model.html#logistic-regression\n",
      "  n_iter_i = _check_optimize_result(\n",
      "/opt/homebrew/Caskroom/miniforge/base/envs/GCN_study/lib/python3.9/site-packages/sklearn/linear_model/_logistic.py:458: ConvergenceWarning: lbfgs failed to converge (status=1):\n",
      "STOP: TOTAL NO. of ITERATIONS REACHED LIMIT.\n",
      "\n",
      "Increase the number of iterations (max_iter) or scale the data as shown in:\n",
      "    https://scikit-learn.org/stable/modules/preprocessing.html\n",
      "Please also refer to the documentation for alternative solver options:\n",
      "    https://scikit-learn.org/stable/modules/linear_model.html#logistic-regression\n",
      "  n_iter_i = _check_optimize_result(\n",
      "/opt/homebrew/Caskroom/miniforge/base/envs/GCN_study/lib/python3.9/site-packages/sklearn/linear_model/_logistic.py:458: ConvergenceWarning: lbfgs failed to converge (status=1):\n",
      "STOP: TOTAL NO. of ITERATIONS REACHED LIMIT.\n",
      "\n",
      "Increase the number of iterations (max_iter) or scale the data as shown in:\n",
      "    https://scikit-learn.org/stable/modules/preprocessing.html\n",
      "Please also refer to the documentation for alternative solver options:\n",
      "    https://scikit-learn.org/stable/modules/linear_model.html#logistic-regression\n",
      "  n_iter_i = _check_optimize_result(\n",
      "/opt/homebrew/Caskroom/miniforge/base/envs/GCN_study/lib/python3.9/site-packages/sklearn/linear_model/_logistic.py:458: ConvergenceWarning: lbfgs failed to converge (status=1):\n",
      "STOP: TOTAL NO. of ITERATIONS REACHED LIMIT.\n",
      "\n",
      "Increase the number of iterations (max_iter) or scale the data as shown in:\n",
      "    https://scikit-learn.org/stable/modules/preprocessing.html\n",
      "Please also refer to the documentation for alternative solver options:\n",
      "    https://scikit-learn.org/stable/modules/linear_model.html#logistic-regression\n",
      "  n_iter_i = _check_optimize_result(\n",
      "/opt/homebrew/Caskroom/miniforge/base/envs/GCN_study/lib/python3.9/site-packages/sklearn/linear_model/_logistic.py:458: ConvergenceWarning: lbfgs failed to converge (status=1):\n",
      "STOP: TOTAL NO. of ITERATIONS REACHED LIMIT.\n",
      "\n",
      "Increase the number of iterations (max_iter) or scale the data as shown in:\n",
      "    https://scikit-learn.org/stable/modules/preprocessing.html\n",
      "Please also refer to the documentation for alternative solver options:\n",
      "    https://scikit-learn.org/stable/modules/linear_model.html#logistic-regression\n",
      "  n_iter_i = _check_optimize_result(\n"
     ]
    },
    {
     "name": "stdout",
     "output_type": "stream",
     "text": [
      "Accuracy in test:0.89(0.02)\n",
      "F1_scores 0.88(0.02)\n",
      "Precision_scores 0.88(0.02)\n",
      "Recall_scores 0.88(0.02)\n",
      "ROC AUC 0.93(0.02)\n"
     ]
    },
    {
     "name": "stderr",
     "output_type": "stream",
     "text": [
      "/opt/homebrew/Caskroom/miniforge/base/envs/GCN_study/lib/python3.9/site-packages/sklearn/linear_model/_logistic.py:458: ConvergenceWarning: lbfgs failed to converge (status=1):\n",
      "STOP: TOTAL NO. of ITERATIONS REACHED LIMIT.\n",
      "\n",
      "Increase the number of iterations (max_iter) or scale the data as shown in:\n",
      "    https://scikit-learn.org/stable/modules/preprocessing.html\n",
      "Please also refer to the documentation for alternative solver options:\n",
      "    https://scikit-learn.org/stable/modules/linear_model.html#logistic-regression\n",
      "  n_iter_i = _check_optimize_result(\n",
      "/opt/homebrew/Caskroom/miniforge/base/envs/GCN_study/lib/python3.9/site-packages/sklearn/linear_model/_logistic.py:458: ConvergenceWarning: lbfgs failed to converge (status=1):\n",
      "STOP: TOTAL NO. of ITERATIONS REACHED LIMIT.\n",
      "\n",
      "Increase the number of iterations (max_iter) or scale the data as shown in:\n",
      "    https://scikit-learn.org/stable/modules/preprocessing.html\n",
      "Please also refer to the documentation for alternative solver options:\n",
      "    https://scikit-learn.org/stable/modules/linear_model.html#logistic-regression\n",
      "  n_iter_i = _check_optimize_result(\n"
     ]
    }
   ],
   "source": [
    "scores = cross_validate(logreg, X_train, y_train, cv=cv, scoring=scoring, n_jobs=-1)\n",
    "\n",
    "print(\"Accuracy in test:%0.2f(%0.2f)\" % (scores['test_acc'].mean(), scores['test_acc'].std()))\n",
    "print(\"F1_scores {:.2f}({:.2f})\".format(scores['test_f1'].mean(), scores['test_f1'].std()))\n",
    "print(\"Precision_scores {:.2f}({:.2f})\".format(scores['test_prec_macro'].mean(), scores['test_prec_macro'].std()))\n",
    "print(\"Recall_scores {:.2f}({:.2f})\".format(scores['test_rec_macro'].mean(), scores['test_rec_macro'].std()))\n",
    "print(\"ROC AUC {:.2f}({:.2f})\".format(scores['test_roc_auc'].mean(), scores['test_roc_auc'].std()))"
   ]
  },
  {
   "cell_type": "code",
   "execution_count": 27,
   "id": "a18c26b2-fdfe-4074-aa47-1080dad40eff",
   "metadata": {},
   "outputs": [],
   "source": [
    "scores['Model'] = ['logreg']*10\n",
    "results = pd.concat([results, pd.DataFrame.from_dict(scores)],axis=1)"
   ]
  },
  {
   "cell_type": "code",
   "execution_count": 28,
   "id": "4e3cba6c-f0e3-4032-a7e1-d661f7f44810",
   "metadata": {},
   "outputs": [],
   "source": [
    "y_score = logreg.predict_proba(X_test)\n",
    "\n",
    "y_score = y_score[:,1]\n",
    "\n",
    "# Compute ROC curve and ROC area for each class\n",
    "fpr, tpr, _ = roc_curve(y_test, y_score)\n",
    "roc_auc = auc(fpr, tpr)"
   ]
  },
  {
   "cell_type": "code",
   "execution_count": 29,
   "id": "65153286-f1c3-42c8-b2a3-34ce8953ed52",
   "metadata": {},
   "outputs": [
    {
     "data": {
      "image/png": "[encoded data removed]",
      "text/plain": [
       "<Figure size 640x480 with 1 Axes>"
      ]
     },
     "metadata": {},
     "output_type": "display_data"
    }
   ],
   "source": [
    "plt.figure()\n",
    "lw = 2\n",
    "plt.plot(\n",
    "    fpr,\n",
    "    tpr,\n",
    "    color=\"darkorange\",\n",
    "    lw=lw,\n",
    "    label=\"ROC curve (area = %0.2f)\" % roc_auc,\n",
    ")\n",
    "plt.plot([0, 1], [0, 1], color=\"navy\", lw=lw, linestyle=\"--\")\n",
    "plt.xlim([0.0, 1.0])\n",
    "plt.ylim([0.0, 1.05])\n",
    "plt.xlabel(\"False Positive Rate\")\n",
    "plt.ylabel(\"True Positive Rate\")\n",
    "plt.title(\"Receiver operating characteristic example\")\n",
    "plt.legend(loc=\"lower right\")\n",
    "plt.show()"
   ]
  },
  {
   "cell_type": "code",
   "execution_count": 30,
   "id": "e09d25ca-4044-4e53-bea7-574cec8d3438",
   "metadata": {},
   "outputs": [
    {
     "data": {
      "image/png": "[encoded data removed]",
      "text/plain": [
       "<Figure size 640x480 with 1 Axes>"
      ]
     },
     "metadata": {},
     "output_type": "display_data"
    }
   ],
   "source": [
    "# get importance\n",
    "importance = logreg.coef_[0]\n",
    "importance = np.sort(importance)\n",
    "\n",
    "plt.hist(importance)\n",
    "plt.show()"
   ]
  },
  {
   "cell_type": "markdown",
   "id": "d18348ae-9e9f-40c9-a346-06da2c319414",
   "metadata": {},
   "source": [
    "## SVM"
   ]
  },
  {
   "cell_type": "code",
   "execution_count": 31,
   "id": "7e17a860-5b75-4109-bb4c-7d45996bf163",
   "metadata": {},
   "outputs": [
    {
     "name": "stdout",
     "output_type": "stream",
     "text": [
      "Fitting 3 folds for each of 20 candidates, totalling 60 fits\n"
     ]
    },
    {
     "name": "stderr",
     "output_type": "stream",
     "text": [
      "/opt/homebrew/Caskroom/miniforge/base/envs/GCN_study/lib/python3.9/site-packages/sklearn/model_selection/_validation.py:378: FitFailedWarning: \n",
      "12 fits failed out of a total of 60.\n",
      "The score on these train-test partitions for these parameters will be set to nan.\n",
      "If these failures are not expected, you can try to debug them by setting error_score='raise'.\n",
      "\n",
      "Below are more details about the failures:\n",
      "--------------------------------------------------------------------------------\n",
      "12 fits failed with the following error:\n",
      "Traceback (most recent call last):\n",
      "  File \"/opt/homebrew/Caskroom/miniforge/base/envs/GCN_study/lib/python3.9/site-packages/sklearn/model_selection/_validation.py\", line 686, in _fit_and_score\n",
      "    estimator.fit(X_train, y_train, **fit_params)\n",
      "  File \"/opt/homebrew/Caskroom/miniforge/base/envs/GCN_study/lib/python3.9/site-packages/sklearn/svm/_base.py\", line 180, in fit\n",
      "    self._validate_params()\n",
      "  File \"/opt/homebrew/Caskroom/miniforge/base/envs/GCN_study/lib/python3.9/site-packages/sklearn/base.py\", line 600, in _validate_params\n",
      "    validate_parameter_constraints(\n",
      "  File \"/opt/homebrew/Caskroom/miniforge/base/envs/GCN_study/lib/python3.9/site-packages/sklearn/utils/_param_validation.py\", line 97, in validate_parameter_constraints\n",
      "    raise InvalidParameterError(\n",
      "sklearn.utils._param_validation.InvalidParameterError: The 'C' parameter of SVC must be a float in the range (0.0, inf). Got 0 instead.\n",
      "\n",
      "  warnings.warn(some_fits_failed_message, FitFailedWarning)\n",
      "/opt/homebrew/Caskroom/miniforge/base/envs/GCN_study/lib/python3.9/site-packages/sklearn/model_selection/_search.py:952: UserWarning: One or more of the test scores are non-finite: [       nan        nan        nan        nan 0.86566199 0.59359873\n",
      " 0.59359873 0.59359873 0.86566199 0.59359873 0.59359873 0.59359873\n",
      " 0.86566199 0.59359873 0.7269614  0.62318684 0.86566199 0.59359873\n",
      " 0.80260909 0.72890291]\n",
      "  warnings.warn(\n"
     ]
    },
    {
     "data": {
      "text/html": [
       "<style>#sk-container-id-1 {color: black;background-color: white;}#sk-container-id-1 pre{padding: 0;}#sk-container-id-1 div.sk-toggleable {background-color: white;}#sk-container-id-1 label.sk-toggleable__label {cursor: pointer;display: block;width: 100%;margin-bottom: 0;padding: 0.3em;box-sizing: border-box;text-align: center;}#sk-container-id-1 label.sk-toggleable__label-arrow:before {content: \"▸\";float: left;margin-right: 0.25em;color: #696969;}#sk-container-id-1 label.sk-toggleable__label-arrow:hover:before {color: black;}#sk-container-id-1 div.sk-estimator:hover label.sk-toggleable__label-arrow:before {color: black;}#sk-container-id-1 div.sk-toggleable__content {max-height: 0;max-width: 0;overflow: hidden;text-align: left;background-color: #f0f8ff;}#sk-container-id-1 div.sk-toggleable__content pre {margin: 0.2em;color: black;border-radius: 0.25em;background-color: #f0f8ff;}#sk-container-id-1 input.sk-toggleable__control:checked~div.sk-toggleable__content {max-height: 200px;max-width: 100%;overflow: auto;}#sk-container-id-1 input.sk-toggleable__control:checked~label.sk-toggleable__label-arrow:before {content: \"▾\";}#sk-container-id-1 div.sk-estimator input.sk-toggleable__control:checked~label.sk-toggleable__label {background-color: #d4ebff;}#sk-container-id-1 div.sk-label input.sk-toggleable__control:checked~label.sk-toggleable__label {background-color: #d4ebff;}#sk-container-id-1 input.sk-hidden--visually {border: 0;clip: rect(1px 1px 1px 1px);clip: rect(1px, 1px, 1px, 1px);height: 1px;margin: -1px;overflow: hidden;padding: 0;position: absolute;width: 1px;}#sk-container-id-1 div.sk-estimator {font-family: monospace;background-color: #f0f8ff;border: 1px dotted black;border-radius: 0.25em;box-sizing: border-box;margin-bottom: 0.5em;}#sk-container-id-1 div.sk-estimator:hover {background-color: #d4ebff;}#sk-container-id-1 div.sk-parallel-item::after {content: \"\";width: 100%;border-bottom: 1px solid gray;flex-grow: 1;}#sk-container-id-1 div.sk-label:hover label.sk-toggleable__label {background-color: #d4ebff;}#sk-container-id-1 div.sk-serial::before {content: \"\";position: absolute;border-left: 1px solid gray;box-sizing: border-box;top: 0;bottom: 0;left: 50%;z-index: 0;}#sk-container-id-1 div.sk-serial {display: flex;flex-direction: column;align-items: center;background-color: white;padding-right: 0.2em;padding-left: 0.2em;position: relative;}#sk-container-id-1 div.sk-item {position: relative;z-index: 1;}#sk-container-id-1 div.sk-parallel {display: flex;align-items: stretch;justify-content: center;background-color: white;position: relative;}#sk-container-id-1 div.sk-item::before, #sk-container-id-1 div.sk-parallel-item::before {content: \"\";position: absolute;border-left: 1px solid gray;box-sizing: border-box;top: 0;bottom: 0;left: 50%;z-index: -1;}#sk-container-id-1 div.sk-parallel-item {display: flex;flex-direction: column;z-index: 1;position: relative;background-color: white;}#sk-container-id-1 div.sk-parallel-item:first-child::after {align-self: flex-end;width: 50%;}#sk-container-id-1 div.sk-parallel-item:last-child::after {align-self: flex-start;width: 50%;}#sk-container-id-1 div.sk-parallel-item:only-child::after {width: 0;}#sk-container-id-1 div.sk-dashed-wrapped {border: 1px dashed gray;margin: 0 0.4em 0.5em 0.4em;box-sizing: border-box;padding-bottom: 0.4em;background-color: white;}#sk-container-id-1 div.sk-label label {font-family: monospace;font-weight: bold;display: inline-block;line-height: 1.2em;}#sk-container-id-1 div.sk-label-container {text-align: center;}#sk-container-id-1 div.sk-container {/* jupyter's `normalize.less` sets `[hidden] { display: none; }` but bootstrap.min.css set `[hidden] { display: none !important; }` so we also need the `!important` here to be able to override the default hidden behavior on the sphinx rendered scikit-learn.org. See: https://github.com/scikit-learn/scikit-learn/issues/21755 */display: inline-block !important;position: relative;}#sk-container-id-1 div.sk-text-repr-fallback {display: none;}</style><div id=\"sk-container-id-1\" class=\"sk-top-container\"><div class=\"sk-text-repr-fallback\"><pre>GridSearchCV(cv=3, estimator=SVC(gamma=&#x27;auto&#x27;), n_jobs=-1,\n",
       "             param_grid={&#x27;C&#x27;: [0, 0.25, 1, 5, 10],\n",
       "                         &#x27;kernel&#x27;: [&#x27;linear&#x27;, &#x27;poly&#x27;, &#x27;rbf&#x27;, &#x27;sigmoid&#x27;]},\n",
       "             verbose=1)</pre><b>In a Jupyter environment, please rerun this cell to show the HTML representation or trust the notebook. <br />On GitHub, the HTML representation is unable to render, please try loading this page with nbviewer.org.</b></div><div class=\"sk-container\" hidden><div class=\"sk-item sk-dashed-wrapped\"><div class=\"sk-label-container\"><div class=\"sk-label sk-toggleable\"><input class=\"sk-toggleable__control sk-hidden--visually\" id=\"sk-estimator-id-1\" type=\"checkbox\" ><label for=\"sk-estimator-id-1\" class=\"sk-toggleable__label sk-toggleable__label-arrow\">GridSearchCV</label><div class=\"sk-toggleable__content\"><pre>GridSearchCV(cv=3, estimator=SVC(gamma=&#x27;auto&#x27;), n_jobs=-1,\n",
       "             param_grid={&#x27;C&#x27;: [0, 0.25, 1, 5, 10],\n",
       "                         &#x27;kernel&#x27;: [&#x27;linear&#x27;, &#x27;poly&#x27;, &#x27;rbf&#x27;, &#x27;sigmoid&#x27;]},\n",
       "             verbose=1)</pre></div></div></div><div class=\"sk-parallel\"><div class=\"sk-parallel-item\"><div class=\"sk-item\"><div class=\"sk-label-container\"><div class=\"sk-label sk-toggleable\"><input class=\"sk-toggleable__control sk-hidden--visually\" id=\"sk-estimator-id-2\" type=\"checkbox\" ><label for=\"sk-estimator-id-2\" class=\"sk-toggleable__label sk-toggleable__label-arrow\">estimator: SVC</label><div class=\"sk-toggleable__content\"><pre>SVC(gamma=&#x27;auto&#x27;)</pre></div></div></div><div class=\"sk-serial\"><div class=\"sk-item\"><div class=\"sk-estimator sk-toggleable\"><input class=\"sk-toggleable__control sk-hidden--visually\" id=\"sk-estimator-id-3\" type=\"checkbox\" ><label for=\"sk-estimator-id-3\" class=\"sk-toggleable__label sk-toggleable__label-arrow\">SVC</label><div class=\"sk-toggleable__content\"><pre>SVC(gamma=&#x27;auto&#x27;)</pre></div></div></div></div></div></div></div></div></div></div>"
      ],
      "text/plain": [
       "GridSearchCV(cv=3, estimator=SVC(gamma='auto'), n_jobs=-1,\n",
       "             param_grid={'C': [0, 0.25, 1, 5, 10],\n",
       "                         'kernel': ['linear', 'poly', 'rbf', 'sigmoid']},\n",
       "             verbose=1)"
      ]
     },
     "execution_count": 31,
     "metadata": {},
     "output_type": "execute_result"
    }
   ],
   "source": [
    "from sklearn.svm import SVC\n",
    "from sklearn.model_selection import GridSearchCV\n",
    "\n",
    "# Setting possible values for the multiple hyperparameters of XGBoost\n",
    "random_grid = {\n",
    "    \"C\": [0, 0.25, 1, 5, 10],\n",
    "    \"kernel\" : ['linear', 'poly', 'rbf', 'sigmoid']\n",
    "}\n",
    "\n",
    "\n",
    "svc = SVC(gamma='auto')\n",
    "#svc.fit(X_train, y_train)\n",
    "\n",
    "# Random search of parameters, using 3 fold cross validation, \n",
    "# search across 100 different combinations\n",
    "rf_random = GridSearchCV(estimator = svc, param_grid = random_grid,\n",
    "                               cv = 3, verbose=1, n_jobs = -1)\n",
    "\n",
    "# Fit the random search model\n",
    "rf_random.fit(X_train, y_train.values.ravel())\n",
    "\n",
    "#y_pred = svc.predict(X_test)\n",
    "\n",
    "#print('Logistic Regression accuracy score in training set: {0:0.4f}'. format(accuracy_score(y_train, logreg.predict(X_train))))\n",
    "#print('Logistic Regression accuracy score in test set: {0:0.4f}'. format(accuracy_score(y_test, y_pred)))"
   ]
  },
  {
   "cell_type": "code",
   "execution_count": 32,
   "id": "09601bc4-b333-41a6-81b9-f87e8d762b5e",
   "metadata": {},
   "outputs": [
    {
     "name": "stdout",
     "output_type": "stream",
     "text": [
      "Accuracy for our training dataset with tuning is : 86.57%\n"
     ]
    }
   ],
   "source": [
    "accuracy = rf_random.best_score_ *100\n",
    "print(\"Accuracy for our training dataset with tuning is : {:.2f}%\".format(accuracy) )"
   ]
  },
  {
   "cell_type": "code",
   "execution_count": 33,
   "id": "573d385e-9881-4171-965d-bd109791fb74",
   "metadata": {},
   "outputs": [
    {
     "name": "stdout",
     "output_type": "stream",
     "text": [
      "{'C': 0.25, 'kernel': 'linear'}\n"
     ]
    }
   ],
   "source": [
    "print(rf_random.best_params_)\n",
    "(pd.DataFrame.from_dict(rf_random.best_params_, orient='index')).to_csv('/Users/rodrigo/Post-Grad/CC400/Results/SVC_params.csv')"
   ]
  },
  {
   "cell_type": "code",
   "execution_count": 34,
   "id": "c5d49303-5669-49ef-b15a-af1b6e5159cd",
   "metadata": {},
   "outputs": [
    {
     "name": "stderr",
     "output_type": "stream",
     "text": [
      "[Parallel(n_jobs=-1)]: Using backend LokyBackend with 8 concurrent workers.\n",
      "[Parallel(n_jobs=-1)]: Done   6 out of  10 | elapsed:  2.0min remaining:  1.4min\n",
      "[Parallel(n_jobs=-1)]: Done  10 out of  10 | elapsed:  2.4min finished\n"
     ]
    }
   ],
   "source": [
    "# Best SVC model\n",
    "svc = SVC(\n",
    "    **rf_random.best_params_,\n",
    "    gamma=\"auto\"\n",
    ")\n",
    "\n",
    "scores = cross_validate(svc, X_train, y_train.values.ravel(), scoring=scoring,\n",
    "                         cv=cv, n_jobs=-1,verbose=1)\n"
   ]
  },
  {
   "cell_type": "code",
   "execution_count": 35,
   "id": "21a0e49a-8d80-4b03-bc41-ce8bfa63acbf",
   "metadata": {},
   "outputs": [
    {
     "name": "stdout",
     "output_type": "stream",
     "text": [
      "Accuracy in test:0.88(0.02)\n",
      "F1_scores 0.88(0.02)\n",
      "Precision_scores 0.88(0.02)\n",
      "Recall_scores 0.88(0.02)\n",
      "ROC AUC 0.92(0.02)\n"
     ]
    }
   ],
   "source": [
    "print(\"Accuracy in test:%0.2f(%0.2f)\" % (scores['test_acc'].mean(), scores['test_acc'].std()))\n",
    "print(\"F1_scores {:.2f}({:.2f})\".format(scores['test_f1'].mean(), scores['test_f1'].std()))\n",
    "print(\"Precision_scores {:.2f}({:.2f})\".format(scores['test_prec_macro'].mean(), scores['test_prec_macro'].std()))\n",
    "print(\"Recall_scores {:.2f}({:.2f})\".format(scores['test_rec_macro'].mean(), scores['test_rec_macro'].std()))\n",
    "print(\"ROC AUC {:.2f}({:.2f})\".format(scores['test_roc_auc'].mean(), scores['test_roc_auc'].std()))"
   ]
  },
  {
   "cell_type": "code",
   "execution_count": 49,
   "id": "8195c78f-1c37-42f0-bd70-d281a4af730f",
   "metadata": {},
   "outputs": [],
   "source": [
    "scores['Model'] = ['SVC']*10\n",
    "results = results.merge(pd.DataFrame.from_dict(scores), how='outer')"
   ]
  },
  {
   "cell_type": "code",
   "execution_count": 51,
   "id": "8117def5-5ced-4866-9a0d-7f2a40169e2b",
   "metadata": {},
   "outputs": [
    {
     "name": "stdout",
     "output_type": "stream",
     "text": [
      "Accuracy score in TEST set: 0.9967\n"
     ]
    }
   ],
   "source": [
    "svc.fit(X_train,y_train)\n",
    "print('Accuracy score in TEST set: {0:0.4f}'. format(accuracy_score(y_test, svc.predict(X_test))))"
   ]
  },
  {
   "cell_type": "markdown",
   "id": "f2b8806f-1dff-46b0-865a-13433eaedf11",
   "metadata": {},
   "source": [
    "## MLP"
   ]
  },
  {
   "cell_type": "code",
   "execution_count": 53,
   "id": "15f3b4dd-e178-4081-93f8-7cafc73207ac",
   "metadata": {},
   "outputs": [
    {
     "name": "stderr",
     "output_type": "stream",
     "text": [
      "/opt/homebrew/Caskroom/miniforge/base/envs/GCN_study/lib/python3.9/site-packages/sklearn/neural_network/_multilayer_perceptron.py:693: UserWarning: Training interrupted by user.\n",
      "  warnings.warn(\"Training interrupted by user.\")\n"
     ]
    },
    {
     "ename": "AttributeError",
     "evalue": "'MLPClassifier' object has no attribute '_best_coefs'",
     "output_type": "error",
     "traceback": [
      "\u001b[0;31m---------------------------------------------------------------------------\u001b[0m",
      "\u001b[0;31mAttributeError\u001b[0m                            Traceback (most recent call last)",
      "Cell \u001b[0;32mIn[53], line 6\u001b[0m\n\u001b[1;32m      3\u001b[0m \u001b[38;5;66;03m# Best SVC model\u001b[39;00m\n\u001b[1;32m      4\u001b[0m mlp \u001b[38;5;241m=\u001b[39m MLPClassifier(hidden_layer_sizes\u001b[38;5;241m=\u001b[39m(\u001b[38;5;241m12000\u001b[39m,\u001b[38;5;241m16\u001b[39m,\u001b[38;5;241m2\u001b[39m),solver\u001b[38;5;241m=\u001b[39m\u001b[38;5;124m'\u001b[39m\u001b[38;5;124madam\u001b[39m\u001b[38;5;124m'\u001b[39m,learning_rate\u001b[38;5;241m=\u001b[39m\u001b[38;5;124m'\u001b[39m\u001b[38;5;124madaptive\u001b[39m\u001b[38;5;124m'\u001b[39m, shuffle\u001b[38;5;241m=\u001b[39m\u001b[38;5;28;01mFalse\u001b[39;00m, alpha\u001b[38;5;241m=\u001b[39m\u001b[38;5;241m1\u001b[39m, early_stopping\u001b[38;5;241m=\u001b[39m\u001b[38;5;28;01mTrue\u001b[39;00m)\n\u001b[0;32m----> 6\u001b[0m \u001b[43mmlp\u001b[49m\u001b[38;5;241;43m.\u001b[39;49m\u001b[43mfit\u001b[49m\u001b[43m(\u001b[49m\u001b[43mX_train\u001b[49m\u001b[43m,\u001b[49m\u001b[43m \u001b[49m\u001b[43my_train\u001b[49m\u001b[43m)\u001b[49m\n\u001b[1;32m      7\u001b[0m y_pred \u001b[38;5;241m=\u001b[39m mlp\u001b[38;5;241m.\u001b[39mpredict(X_test)\n\u001b[1;32m      9\u001b[0m \u001b[38;5;28mprint\u001b[39m(\u001b[38;5;124m'\u001b[39m\u001b[38;5;124mLogistic Regression accuracy score in training set: \u001b[39m\u001b[38;5;132;01m{0:0.4f}\u001b[39;00m\u001b[38;5;124m'\u001b[39m\u001b[38;5;241m.\u001b[39m \u001b[38;5;28mformat\u001b[39m(accuracy_score(y_train, mlp\u001b[38;5;241m.\u001b[39mpredict(X_train))))\n",
      "File \u001b[0;32m/opt/homebrew/Caskroom/miniforge/base/envs/GCN_study/lib/python3.9/site-packages/sklearn/neural_network/_multilayer_perceptron.py:749\u001b[0m, in \u001b[0;36mBaseMultilayerPerceptron.fit\u001b[0;34m(self, X, y)\u001b[0m\n\u001b[1;32m    731\u001b[0m \u001b[38;5;250m\u001b[39m\u001b[38;5;124;03m\"\"\"Fit the model to data matrix X and target(s) y.\u001b[39;00m\n\u001b[1;32m    732\u001b[0m \n\u001b[1;32m    733\u001b[0m \u001b[38;5;124;03mParameters\u001b[39;00m\n\u001b[0;32m   (...)\u001b[0m\n\u001b[1;32m    745\u001b[0m \u001b[38;5;124;03m    Returns a trained MLP model.\u001b[39;00m\n\u001b[1;32m    746\u001b[0m \u001b[38;5;124;03m\"\"\"\u001b[39;00m\n\u001b[1;32m    747\u001b[0m \u001b[38;5;28mself\u001b[39m\u001b[38;5;241m.\u001b[39m_validate_params()\n\u001b[0;32m--> 749\u001b[0m \u001b[38;5;28;01mreturn\u001b[39;00m \u001b[38;5;28;43mself\u001b[39;49m\u001b[38;5;241;43m.\u001b[39;49m\u001b[43m_fit\u001b[49m\u001b[43m(\u001b[49m\u001b[43mX\u001b[49m\u001b[43m,\u001b[49m\u001b[43m \u001b[49m\u001b[43my\u001b[49m\u001b[43m,\u001b[49m\u001b[43m \u001b[49m\u001b[43mincremental\u001b[49m\u001b[38;5;241;43m=\u001b[39;49m\u001b[38;5;28;43;01mFalse\u001b[39;49;00m\u001b[43m)\u001b[49m\n",
      "File \u001b[0;32m/opt/homebrew/Caskroom/miniforge/base/envs/GCN_study/lib/python3.9/site-packages/sklearn/neural_network/_multilayer_perceptron.py:471\u001b[0m, in \u001b[0;36mBaseMultilayerPerceptron._fit\u001b[0;34m(self, X, y, incremental)\u001b[0m\n\u001b[1;32m    469\u001b[0m \u001b[38;5;66;03m# Run the Stochastic optimization solver\u001b[39;00m\n\u001b[1;32m    470\u001b[0m \u001b[38;5;28;01mif\u001b[39;00m \u001b[38;5;28mself\u001b[39m\u001b[38;5;241m.\u001b[39msolver \u001b[38;5;129;01min\u001b[39;00m _STOCHASTIC_SOLVERS:\n\u001b[0;32m--> 471\u001b[0m     \u001b[38;5;28;43mself\u001b[39;49m\u001b[38;5;241;43m.\u001b[39;49m\u001b[43m_fit_stochastic\u001b[49m\u001b[43m(\u001b[49m\n\u001b[1;32m    472\u001b[0m \u001b[43m        \u001b[49m\u001b[43mX\u001b[49m\u001b[43m,\u001b[49m\n\u001b[1;32m    473\u001b[0m \u001b[43m        \u001b[49m\u001b[43my\u001b[49m\u001b[43m,\u001b[49m\n\u001b[1;32m    474\u001b[0m \u001b[43m        \u001b[49m\u001b[43mactivations\u001b[49m\u001b[43m,\u001b[49m\n\u001b[1;32m    475\u001b[0m \u001b[43m        \u001b[49m\u001b[43mdeltas\u001b[49m\u001b[43m,\u001b[49m\n\u001b[1;32m    476\u001b[0m \u001b[43m        \u001b[49m\u001b[43mcoef_grads\u001b[49m\u001b[43m,\u001b[49m\n\u001b[1;32m    477\u001b[0m \u001b[43m        \u001b[49m\u001b[43mintercept_grads\u001b[49m\u001b[43m,\u001b[49m\n\u001b[1;32m    478\u001b[0m \u001b[43m        \u001b[49m\u001b[43mlayer_units\u001b[49m\u001b[43m,\u001b[49m\n\u001b[1;32m    479\u001b[0m \u001b[43m        \u001b[49m\u001b[43mincremental\u001b[49m\u001b[43m,\u001b[49m\n\u001b[1;32m    480\u001b[0m \u001b[43m    \u001b[49m\u001b[43m)\u001b[49m\n\u001b[1;32m    482\u001b[0m \u001b[38;5;66;03m# Run the LBFGS solver\u001b[39;00m\n\u001b[1;32m    483\u001b[0m \u001b[38;5;28;01melif\u001b[39;00m \u001b[38;5;28mself\u001b[39m\u001b[38;5;241m.\u001b[39msolver \u001b[38;5;241m==\u001b[39m \u001b[38;5;124m\"\u001b[39m\u001b[38;5;124mlbfgs\u001b[39m\u001b[38;5;124m\"\u001b[39m:\n",
      "File \u001b[0;32m/opt/homebrew/Caskroom/miniforge/base/envs/GCN_study/lib/python3.9/site-packages/sklearn/neural_network/_multilayer_perceptron.py:697\u001b[0m, in \u001b[0;36mBaseMultilayerPerceptron._fit_stochastic\u001b[0;34m(self, X, y, activations, deltas, coef_grads, intercept_grads, layer_units, incremental)\u001b[0m\n\u001b[1;32m    693\u001b[0m     warnings\u001b[38;5;241m.\u001b[39mwarn(\u001b[38;5;124m\"\u001b[39m\u001b[38;5;124mTraining interrupted by user.\u001b[39m\u001b[38;5;124m\"\u001b[39m)\n\u001b[1;32m    695\u001b[0m \u001b[38;5;28;01mif\u001b[39;00m early_stopping:\n\u001b[1;32m    696\u001b[0m     \u001b[38;5;66;03m# restore best weights\u001b[39;00m\n\u001b[0;32m--> 697\u001b[0m     \u001b[38;5;28mself\u001b[39m\u001b[38;5;241m.\u001b[39mcoefs_ \u001b[38;5;241m=\u001b[39m \u001b[38;5;28;43mself\u001b[39;49m\u001b[38;5;241;43m.\u001b[39;49m\u001b[43m_best_coefs\u001b[49m\n\u001b[1;32m    698\u001b[0m     \u001b[38;5;28mself\u001b[39m\u001b[38;5;241m.\u001b[39mintercepts_ \u001b[38;5;241m=\u001b[39m \u001b[38;5;28mself\u001b[39m\u001b[38;5;241m.\u001b[39m_best_intercepts\n\u001b[1;32m    699\u001b[0m     \u001b[38;5;28mself\u001b[39m\u001b[38;5;241m.\u001b[39mvalidation_scores_ \u001b[38;5;241m=\u001b[39m \u001b[38;5;28mself\u001b[39m\u001b[38;5;241m.\u001b[39mvalidation_scores_\n",
      "\u001b[0;31mAttributeError\u001b[0m: 'MLPClassifier' object has no attribute '_best_coefs'"
     ]
    }
   ],
   "source": [
    "from sklearn.neural_network import MLPClassifier\n",
    "\n",
    "# Best SVC model\n",
    "mlp = MLPClassifier(hidden_layer_sizes=(12000,16,2),solver='adam',learning_rate='adaptive', shuffle=False, alpha=1, early_stopping=True)\n",
    "\n",
    "mlp.fit(X_train, y_train)\n",
    "y_pred = mlp.predict(X_test)\n",
    "\n",
    "print('Logistic Regression accuracy score in training set: {0:0.4f}'. format(accuracy_score(y_train, mlp.predict(X_train))))\n",
    "print('Logistic Regression accuracy score in val set: {0:0.4f}'. format(accuracy_score(y_test, y_pred)))\n",
    "#print('Logistic Regression accuracy score in TEST set: {0:0.4f}'. format(accuracy_score(y_TEST, mlp.predict(X_TEST))))\n",
    "\n",
    "#scores = cross_validate(mlp, X_train, y_train.values.ravel(), scoring=scoring,\n",
    "#                         cv=cv, n_jobs=-1,verbose=1)\n"
   ]
  },
  {
   "cell_type": "code",
   "execution_count": null,
   "id": "a7e5544c-fc7a-4076-9349-993a8b69c156",
   "metadata": {},
   "outputs": [],
   "source": [
    "scores = cross_validate(mlp, X_train, y_train.values.ravel(), scoring=scoring,\n",
    "                        cv=cv, n_jobs=-1,verbose=1)\n",
    "\n",
    "print(\"Accuracy in test:%0.2f(%0.2f)\" % (scores['test_acc'].mean(), scores['test_acc'].std()))\n",
    "print(\"F1_scores {:.2f}({:.2f})\".format(scores['test_f1'].mean(), scores['test_f1'].std()))\n",
    "print(\"Precision_scores {:.2f}({:.2f})\".format(scores['test_prec_macro'].mean(), scores['test_prec_macro'].std()))\n",
    "print(\"Recall_scores {:.2f}({:.2f})\".format(scores['test_rec_macro'].mean(), scores['test_rec_macro'].std()))\n",
    "print(\"ROC AUC {:.2f}({:.2f})\".format(scores['test_roc_auc'].mean(), scores['test_roc_auc'].std()))"
   ]
  },
  {
   "cell_type": "code",
   "execution_count": null,
   "id": "ee7d980a-ef62-4b34-ac85-2f0e249eb439",
   "metadata": {},
   "outputs": [],
   "source": [
    "plt.plot(scores['test_acc'])"
   ]
  },
  {
   "cell_type": "code",
   "execution_count": null,
   "id": "d1defc07-f7a6-4451-ae95-bd0061058cd9",
   "metadata": {},
   "outputs": [],
   "source": [
    "scores['Model'] = ['MLP']*10\n",
    "results = results.merge(pd.DataFrame.from_dict(scores), how='outer')"
   ]
  },
  {
   "cell_type": "markdown",
   "id": "25fb7712-bbcd-42ee-a792-a09087f290f3",
   "metadata": {},
   "source": [
    "### XGBoost"
   ]
  },
  {
   "cell_type": "code",
   "execution_count": 54,
   "id": "b2ea17a8-0740-4b1d-b540-f4be1c40882d",
   "metadata": {},
   "outputs": [
    {
     "name": "stdout",
     "output_type": "stream",
     "text": [
      "Fitting 3 folds for each of 100 candidates, totalling 300 fits\n"
     ]
    },
    {
     "ename": "KeyboardInterrupt",
     "evalue": "",
     "output_type": "error",
     "traceback": [
      "\u001b[0;31m---------------------------------------------------------------------------\u001b[0m",
      "\u001b[0;31mKeyboardInterrupt\u001b[0m                         Traceback (most recent call last)",
      "Cell \u001b[0;32mIn[54], line 23\u001b[0m\n\u001b[1;32m     19\u001b[0m rf_random \u001b[38;5;241m=\u001b[39m RandomizedSearchCV(estimator \u001b[38;5;241m=\u001b[39m bst, param_distributions \u001b[38;5;241m=\u001b[39m random_grid, n_iter \u001b[38;5;241m=\u001b[39m \u001b[38;5;241m100\u001b[39m,\n\u001b[1;32m     20\u001b[0m                                cv \u001b[38;5;241m=\u001b[39m \u001b[38;5;241m3\u001b[39m, verbose\u001b[38;5;241m=\u001b[39m\u001b[38;5;241m1\u001b[39m, random_state\u001b[38;5;241m=\u001b[39m\u001b[38;5;241m42\u001b[39m, n_jobs \u001b[38;5;241m=\u001b[39m \u001b[38;5;241m-\u001b[39m\u001b[38;5;241m1\u001b[39m)\n\u001b[1;32m     22\u001b[0m \u001b[38;5;66;03m# Fit the random search model\u001b[39;00m\n\u001b[0;32m---> 23\u001b[0m \u001b[43mrf_random\u001b[49m\u001b[38;5;241;43m.\u001b[39;49m\u001b[43mfit\u001b[49m\u001b[43m(\u001b[49m\u001b[43mX_train\u001b[49m\u001b[43m,\u001b[49m\u001b[43m \u001b[49m\u001b[43my_train\u001b[49m\u001b[38;5;241;43m.\u001b[39;49m\u001b[43mvalues\u001b[49m\u001b[38;5;241;43m.\u001b[39;49m\u001b[43mravel\u001b[49m\u001b[43m(\u001b[49m\u001b[43m)\u001b[49m\u001b[43m)\u001b[49m\n",
      "File \u001b[0;32m/opt/homebrew/Caskroom/miniforge/base/envs/GCN_study/lib/python3.9/site-packages/sklearn/model_selection/_search.py:874\u001b[0m, in \u001b[0;36mBaseSearchCV.fit\u001b[0;34m(self, X, y, groups, **fit_params)\u001b[0m\n\u001b[1;32m    868\u001b[0m     results \u001b[38;5;241m=\u001b[39m \u001b[38;5;28mself\u001b[39m\u001b[38;5;241m.\u001b[39m_format_results(\n\u001b[1;32m    869\u001b[0m         all_candidate_params, n_splits, all_out, all_more_results\n\u001b[1;32m    870\u001b[0m     )\n\u001b[1;32m    872\u001b[0m     \u001b[38;5;28;01mreturn\u001b[39;00m results\n\u001b[0;32m--> 874\u001b[0m \u001b[38;5;28;43mself\u001b[39;49m\u001b[38;5;241;43m.\u001b[39;49m\u001b[43m_run_search\u001b[49m\u001b[43m(\u001b[49m\u001b[43mevaluate_candidates\u001b[49m\u001b[43m)\u001b[49m\n\u001b[1;32m    876\u001b[0m \u001b[38;5;66;03m# multimetric is determined here because in the case of a callable\u001b[39;00m\n\u001b[1;32m    877\u001b[0m \u001b[38;5;66;03m# self.scoring the return type is only known after calling\u001b[39;00m\n\u001b[1;32m    878\u001b[0m first_test_score \u001b[38;5;241m=\u001b[39m all_out[\u001b[38;5;241m0\u001b[39m][\u001b[38;5;124m\"\u001b[39m\u001b[38;5;124mtest_scores\u001b[39m\u001b[38;5;124m\"\u001b[39m]\n",
      "File \u001b[0;32m/opt/homebrew/Caskroom/miniforge/base/envs/GCN_study/lib/python3.9/site-packages/sklearn/model_selection/_search.py:1768\u001b[0m, in \u001b[0;36mRandomizedSearchCV._run_search\u001b[0;34m(self, evaluate_candidates)\u001b[0m\n\u001b[1;32m   1766\u001b[0m \u001b[38;5;28;01mdef\u001b[39;00m \u001b[38;5;21m_run_search\u001b[39m(\u001b[38;5;28mself\u001b[39m, evaluate_candidates):\n\u001b[1;32m   1767\u001b[0m \u001b[38;5;250m    \u001b[39m\u001b[38;5;124;03m\"\"\"Search n_iter candidates from param_distributions\"\"\"\u001b[39;00m\n\u001b[0;32m-> 1768\u001b[0m     \u001b[43mevaluate_candidates\u001b[49m\u001b[43m(\u001b[49m\n\u001b[1;32m   1769\u001b[0m \u001b[43m        \u001b[49m\u001b[43mParameterSampler\u001b[49m\u001b[43m(\u001b[49m\n\u001b[1;32m   1770\u001b[0m \u001b[43m            \u001b[49m\u001b[38;5;28;43mself\u001b[39;49m\u001b[38;5;241;43m.\u001b[39;49m\u001b[43mparam_distributions\u001b[49m\u001b[43m,\u001b[49m\u001b[43m \u001b[49m\u001b[38;5;28;43mself\u001b[39;49m\u001b[38;5;241;43m.\u001b[39;49m\u001b[43mn_iter\u001b[49m\u001b[43m,\u001b[49m\u001b[43m \u001b[49m\u001b[43mrandom_state\u001b[49m\u001b[38;5;241;43m=\u001b[39;49m\u001b[38;5;28;43mself\u001b[39;49m\u001b[38;5;241;43m.\u001b[39;49m\u001b[43mrandom_state\u001b[49m\n\u001b[1;32m   1771\u001b[0m \u001b[43m        \u001b[49m\u001b[43m)\u001b[49m\n\u001b[1;32m   1772\u001b[0m \u001b[43m    \u001b[49m\u001b[43m)\u001b[49m\n",
      "File \u001b[0;32m/opt/homebrew/Caskroom/miniforge/base/envs/GCN_study/lib/python3.9/site-packages/sklearn/model_selection/_search.py:821\u001b[0m, in \u001b[0;36mBaseSearchCV.fit.<locals>.evaluate_candidates\u001b[0;34m(candidate_params, cv, more_results)\u001b[0m\n\u001b[1;32m    813\u001b[0m \u001b[38;5;28;01mif\u001b[39;00m \u001b[38;5;28mself\u001b[39m\u001b[38;5;241m.\u001b[39mverbose \u001b[38;5;241m>\u001b[39m \u001b[38;5;241m0\u001b[39m:\n\u001b[1;32m    814\u001b[0m     \u001b[38;5;28mprint\u001b[39m(\n\u001b[1;32m    815\u001b[0m         \u001b[38;5;124m\"\u001b[39m\u001b[38;5;124mFitting \u001b[39m\u001b[38;5;132;01m{0}\u001b[39;00m\u001b[38;5;124m folds for each of \u001b[39m\u001b[38;5;132;01m{1}\u001b[39;00m\u001b[38;5;124m candidates,\u001b[39m\u001b[38;5;124m\"\u001b[39m\n\u001b[1;32m    816\u001b[0m         \u001b[38;5;124m\"\u001b[39m\u001b[38;5;124m totalling \u001b[39m\u001b[38;5;132;01m{2}\u001b[39;00m\u001b[38;5;124m fits\u001b[39m\u001b[38;5;124m\"\u001b[39m\u001b[38;5;241m.\u001b[39mformat(\n\u001b[1;32m    817\u001b[0m             n_splits, n_candidates, n_candidates \u001b[38;5;241m*\u001b[39m n_splits\n\u001b[1;32m    818\u001b[0m         )\n\u001b[1;32m    819\u001b[0m     )\n\u001b[0;32m--> 821\u001b[0m out \u001b[38;5;241m=\u001b[39m \u001b[43mparallel\u001b[49m\u001b[43m(\u001b[49m\n\u001b[1;32m    822\u001b[0m \u001b[43m    \u001b[49m\u001b[43mdelayed\u001b[49m\u001b[43m(\u001b[49m\u001b[43m_fit_and_score\u001b[49m\u001b[43m)\u001b[49m\u001b[43m(\u001b[49m\n\u001b[1;32m    823\u001b[0m \u001b[43m        \u001b[49m\u001b[43mclone\u001b[49m\u001b[43m(\u001b[49m\u001b[43mbase_estimator\u001b[49m\u001b[43m)\u001b[49m\u001b[43m,\u001b[49m\n\u001b[1;32m    824\u001b[0m \u001b[43m        \u001b[49m\u001b[43mX\u001b[49m\u001b[43m,\u001b[49m\n\u001b[1;32m    825\u001b[0m \u001b[43m        \u001b[49m\u001b[43my\u001b[49m\u001b[43m,\u001b[49m\n\u001b[1;32m    826\u001b[0m \u001b[43m        \u001b[49m\u001b[43mtrain\u001b[49m\u001b[38;5;241;43m=\u001b[39;49m\u001b[43mtrain\u001b[49m\u001b[43m,\u001b[49m\n\u001b[1;32m    827\u001b[0m \u001b[43m        \u001b[49m\u001b[43mtest\u001b[49m\u001b[38;5;241;43m=\u001b[39;49m\u001b[43mtest\u001b[49m\u001b[43m,\u001b[49m\n\u001b[1;32m    828\u001b[0m \u001b[43m        \u001b[49m\u001b[43mparameters\u001b[49m\u001b[38;5;241;43m=\u001b[39;49m\u001b[43mparameters\u001b[49m\u001b[43m,\u001b[49m\n\u001b[1;32m    829\u001b[0m \u001b[43m        \u001b[49m\u001b[43msplit_progress\u001b[49m\u001b[38;5;241;43m=\u001b[39;49m\u001b[43m(\u001b[49m\u001b[43msplit_idx\u001b[49m\u001b[43m,\u001b[49m\u001b[43m \u001b[49m\u001b[43mn_splits\u001b[49m\u001b[43m)\u001b[49m\u001b[43m,\u001b[49m\n\u001b[1;32m    830\u001b[0m \u001b[43m        \u001b[49m\u001b[43mcandidate_progress\u001b[49m\u001b[38;5;241;43m=\u001b[39;49m\u001b[43m(\u001b[49m\u001b[43mcand_idx\u001b[49m\u001b[43m,\u001b[49m\u001b[43m \u001b[49m\u001b[43mn_candidates\u001b[49m\u001b[43m)\u001b[49m\u001b[43m,\u001b[49m\n\u001b[1;32m    831\u001b[0m \u001b[43m        \u001b[49m\u001b[38;5;241;43m*\u001b[39;49m\u001b[38;5;241;43m*\u001b[39;49m\u001b[43mfit_and_score_kwargs\u001b[49m\u001b[43m,\u001b[49m\n\u001b[1;32m    832\u001b[0m \u001b[43m    \u001b[49m\u001b[43m)\u001b[49m\n\u001b[1;32m    833\u001b[0m \u001b[43m    \u001b[49m\u001b[38;5;28;43;01mfor\u001b[39;49;00m\u001b[43m \u001b[49m\u001b[43m(\u001b[49m\u001b[43mcand_idx\u001b[49m\u001b[43m,\u001b[49m\u001b[43m \u001b[49m\u001b[43mparameters\u001b[49m\u001b[43m)\u001b[49m\u001b[43m,\u001b[49m\u001b[43m \u001b[49m\u001b[43m(\u001b[49m\u001b[43msplit_idx\u001b[49m\u001b[43m,\u001b[49m\u001b[43m \u001b[49m\u001b[43m(\u001b[49m\u001b[43mtrain\u001b[49m\u001b[43m,\u001b[49m\u001b[43m \u001b[49m\u001b[43mtest\u001b[49m\u001b[43m)\u001b[49m\u001b[43m)\u001b[49m\u001b[43m \u001b[49m\u001b[38;5;129;43;01min\u001b[39;49;00m\u001b[43m \u001b[49m\u001b[43mproduct\u001b[49m\u001b[43m(\u001b[49m\n\u001b[1;32m    834\u001b[0m \u001b[43m        \u001b[49m\u001b[38;5;28;43menumerate\u001b[39;49m\u001b[43m(\u001b[49m\u001b[43mcandidate_params\u001b[49m\u001b[43m)\u001b[49m\u001b[43m,\u001b[49m\u001b[43m \u001b[49m\u001b[38;5;28;43menumerate\u001b[39;49m\u001b[43m(\u001b[49m\u001b[43mcv\u001b[49m\u001b[38;5;241;43m.\u001b[39;49m\u001b[43msplit\u001b[49m\u001b[43m(\u001b[49m\u001b[43mX\u001b[49m\u001b[43m,\u001b[49m\u001b[43m \u001b[49m\u001b[43my\u001b[49m\u001b[43m,\u001b[49m\u001b[43m \u001b[49m\u001b[43mgroups\u001b[49m\u001b[43m)\u001b[49m\u001b[43m)\u001b[49m\n\u001b[1;32m    835\u001b[0m \u001b[43m    \u001b[49m\u001b[43m)\u001b[49m\n\u001b[1;32m    836\u001b[0m \u001b[43m\u001b[49m\u001b[43m)\u001b[49m\n\u001b[1;32m    838\u001b[0m \u001b[38;5;28;01mif\u001b[39;00m \u001b[38;5;28mlen\u001b[39m(out) \u001b[38;5;241m<\u001b[39m \u001b[38;5;241m1\u001b[39m:\n\u001b[1;32m    839\u001b[0m     \u001b[38;5;28;01mraise\u001b[39;00m \u001b[38;5;167;01mValueError\u001b[39;00m(\n\u001b[1;32m    840\u001b[0m         \u001b[38;5;124m\"\u001b[39m\u001b[38;5;124mNo fits were performed. \u001b[39m\u001b[38;5;124m\"\u001b[39m\n\u001b[1;32m    841\u001b[0m         \u001b[38;5;124m\"\u001b[39m\u001b[38;5;124mWas the CV iterator empty? \u001b[39m\u001b[38;5;124m\"\u001b[39m\n\u001b[1;32m    842\u001b[0m         \u001b[38;5;124m\"\u001b[39m\u001b[38;5;124mWere there no candidates?\u001b[39m\u001b[38;5;124m\"\u001b[39m\n\u001b[1;32m    843\u001b[0m     )\n",
      "File \u001b[0;32m/opt/homebrew/Caskroom/miniforge/base/envs/GCN_study/lib/python3.9/site-packages/sklearn/utils/parallel.py:63\u001b[0m, in \u001b[0;36mParallel.__call__\u001b[0;34m(self, iterable)\u001b[0m\n\u001b[1;32m     58\u001b[0m config \u001b[38;5;241m=\u001b[39m get_config()\n\u001b[1;32m     59\u001b[0m iterable_with_config \u001b[38;5;241m=\u001b[39m (\n\u001b[1;32m     60\u001b[0m     (_with_config(delayed_func, config), args, kwargs)\n\u001b[1;32m     61\u001b[0m     \u001b[38;5;28;01mfor\u001b[39;00m delayed_func, args, kwargs \u001b[38;5;129;01min\u001b[39;00m iterable\n\u001b[1;32m     62\u001b[0m )\n\u001b[0;32m---> 63\u001b[0m \u001b[38;5;28;01mreturn\u001b[39;00m \u001b[38;5;28;43msuper\u001b[39;49m\u001b[43m(\u001b[49m\u001b[43m)\u001b[49m\u001b[38;5;241;43m.\u001b[39;49m\u001b[38;5;21;43m__call__\u001b[39;49m\u001b[43m(\u001b[49m\u001b[43miterable_with_config\u001b[49m\u001b[43m)\u001b[49m\n",
      "File \u001b[0;32m/opt/homebrew/Caskroom/miniforge/base/envs/GCN_study/lib/python3.9/site-packages/joblib/parallel.py:1098\u001b[0m, in \u001b[0;36mParallel.__call__\u001b[0;34m(self, iterable)\u001b[0m\n\u001b[1;32m   1095\u001b[0m     \u001b[38;5;28mself\u001b[39m\u001b[38;5;241m.\u001b[39m_iterating \u001b[38;5;241m=\u001b[39m \u001b[38;5;28;01mFalse\u001b[39;00m\n\u001b[1;32m   1097\u001b[0m \u001b[38;5;28;01mwith\u001b[39;00m \u001b[38;5;28mself\u001b[39m\u001b[38;5;241m.\u001b[39m_backend\u001b[38;5;241m.\u001b[39mretrieval_context():\n\u001b[0;32m-> 1098\u001b[0m     \u001b[38;5;28;43mself\u001b[39;49m\u001b[38;5;241;43m.\u001b[39;49m\u001b[43mretrieve\u001b[49m\u001b[43m(\u001b[49m\u001b[43m)\u001b[49m\n\u001b[1;32m   1099\u001b[0m \u001b[38;5;66;03m# Make sure that we get a last message telling us we are done\u001b[39;00m\n\u001b[1;32m   1100\u001b[0m elapsed_time \u001b[38;5;241m=\u001b[39m time\u001b[38;5;241m.\u001b[39mtime() \u001b[38;5;241m-\u001b[39m \u001b[38;5;28mself\u001b[39m\u001b[38;5;241m.\u001b[39m_start_time\n",
      "File \u001b[0;32m/opt/homebrew/Caskroom/miniforge/base/envs/GCN_study/lib/python3.9/site-packages/joblib/parallel.py:975\u001b[0m, in \u001b[0;36mParallel.retrieve\u001b[0;34m(self)\u001b[0m\n\u001b[1;32m    973\u001b[0m \u001b[38;5;28;01mtry\u001b[39;00m:\n\u001b[1;32m    974\u001b[0m     \u001b[38;5;28;01mif\u001b[39;00m \u001b[38;5;28mgetattr\u001b[39m(\u001b[38;5;28mself\u001b[39m\u001b[38;5;241m.\u001b[39m_backend, \u001b[38;5;124m'\u001b[39m\u001b[38;5;124msupports_timeout\u001b[39m\u001b[38;5;124m'\u001b[39m, \u001b[38;5;28;01mFalse\u001b[39;00m):\n\u001b[0;32m--> 975\u001b[0m         \u001b[38;5;28mself\u001b[39m\u001b[38;5;241m.\u001b[39m_output\u001b[38;5;241m.\u001b[39mextend(\u001b[43mjob\u001b[49m\u001b[38;5;241;43m.\u001b[39;49m\u001b[43mget\u001b[49m\u001b[43m(\u001b[49m\u001b[43mtimeout\u001b[49m\u001b[38;5;241;43m=\u001b[39;49m\u001b[38;5;28;43mself\u001b[39;49m\u001b[38;5;241;43m.\u001b[39;49m\u001b[43mtimeout\u001b[49m\u001b[43m)\u001b[49m)\n\u001b[1;32m    976\u001b[0m     \u001b[38;5;28;01melse\u001b[39;00m:\n\u001b[1;32m    977\u001b[0m         \u001b[38;5;28mself\u001b[39m\u001b[38;5;241m.\u001b[39m_output\u001b[38;5;241m.\u001b[39mextend(job\u001b[38;5;241m.\u001b[39mget())\n",
      "File \u001b[0;32m/opt/homebrew/Caskroom/miniforge/base/envs/GCN_study/lib/python3.9/site-packages/joblib/_parallel_backends.py:567\u001b[0m, in \u001b[0;36mLokyBackend.wrap_future_result\u001b[0;34m(future, timeout)\u001b[0m\n\u001b[1;32m    564\u001b[0m \u001b[38;5;250m\u001b[39m\u001b[38;5;124;03m\"\"\"Wrapper for Future.result to implement the same behaviour as\u001b[39;00m\n\u001b[1;32m    565\u001b[0m \u001b[38;5;124;03mAsyncResults.get from multiprocessing.\"\"\"\u001b[39;00m\n\u001b[1;32m    566\u001b[0m \u001b[38;5;28;01mtry\u001b[39;00m:\n\u001b[0;32m--> 567\u001b[0m     \u001b[38;5;28;01mreturn\u001b[39;00m \u001b[43mfuture\u001b[49m\u001b[38;5;241;43m.\u001b[39;49m\u001b[43mresult\u001b[49m\u001b[43m(\u001b[49m\u001b[43mtimeout\u001b[49m\u001b[38;5;241;43m=\u001b[39;49m\u001b[43mtimeout\u001b[49m\u001b[43m)\u001b[49m\n\u001b[1;32m    568\u001b[0m \u001b[38;5;28;01mexcept\u001b[39;00m CfTimeoutError \u001b[38;5;28;01mas\u001b[39;00m e:\n\u001b[1;32m    569\u001b[0m     \u001b[38;5;28;01mraise\u001b[39;00m \u001b[38;5;167;01mTimeoutError\u001b[39;00m \u001b[38;5;28;01mfrom\u001b[39;00m \u001b[38;5;21;01me\u001b[39;00m\n",
      "File \u001b[0;32m/opt/homebrew/Caskroom/miniforge/base/envs/GCN_study/lib/python3.9/concurrent/futures/_base.py:441\u001b[0m, in \u001b[0;36mFuture.result\u001b[0;34m(self, timeout)\u001b[0m\n\u001b[1;32m    438\u001b[0m \u001b[38;5;28;01melif\u001b[39;00m \u001b[38;5;28mself\u001b[39m\u001b[38;5;241m.\u001b[39m_state \u001b[38;5;241m==\u001b[39m FINISHED:\n\u001b[1;32m    439\u001b[0m     \u001b[38;5;28;01mreturn\u001b[39;00m \u001b[38;5;28mself\u001b[39m\u001b[38;5;241m.\u001b[39m__get_result()\n\u001b[0;32m--> 441\u001b[0m \u001b[38;5;28;43mself\u001b[39;49m\u001b[38;5;241;43m.\u001b[39;49m\u001b[43m_condition\u001b[49m\u001b[38;5;241;43m.\u001b[39;49m\u001b[43mwait\u001b[49m\u001b[43m(\u001b[49m\u001b[43mtimeout\u001b[49m\u001b[43m)\u001b[49m\n\u001b[1;32m    443\u001b[0m \u001b[38;5;28;01mif\u001b[39;00m \u001b[38;5;28mself\u001b[39m\u001b[38;5;241m.\u001b[39m_state \u001b[38;5;129;01min\u001b[39;00m [CANCELLED, CANCELLED_AND_NOTIFIED]:\n\u001b[1;32m    444\u001b[0m     \u001b[38;5;28;01mraise\u001b[39;00m CancelledError()\n",
      "File \u001b[0;32m/opt/homebrew/Caskroom/miniforge/base/envs/GCN_study/lib/python3.9/threading.py:312\u001b[0m, in \u001b[0;36mCondition.wait\u001b[0;34m(self, timeout)\u001b[0m\n\u001b[1;32m    310\u001b[0m \u001b[38;5;28;01mtry\u001b[39;00m:    \u001b[38;5;66;03m# restore state no matter what (e.g., KeyboardInterrupt)\u001b[39;00m\n\u001b[1;32m    311\u001b[0m     \u001b[38;5;28;01mif\u001b[39;00m timeout \u001b[38;5;129;01mis\u001b[39;00m \u001b[38;5;28;01mNone\u001b[39;00m:\n\u001b[0;32m--> 312\u001b[0m         \u001b[43mwaiter\u001b[49m\u001b[38;5;241;43m.\u001b[39;49m\u001b[43macquire\u001b[49m\u001b[43m(\u001b[49m\u001b[43m)\u001b[49m\n\u001b[1;32m    313\u001b[0m         gotit \u001b[38;5;241m=\u001b[39m \u001b[38;5;28;01mTrue\u001b[39;00m\n\u001b[1;32m    314\u001b[0m     \u001b[38;5;28;01melse\u001b[39;00m:\n",
      "\u001b[0;31mKeyboardInterrupt\u001b[0m: "
     ]
    }
   ],
   "source": [
    "# Setting possible values for the multiple hyperparameters of XGBoost\n",
    "random_grid = {\n",
    "    \"max_depth\": [1, 2, 4, 8],\n",
    "    \"learning_rate\": [0.001,0.05, 0.5],\n",
    "    \"gamma\": [0, 0.25, 1],\n",
    "    \"reg_lambda\": [0.001, 1, 10],\n",
    "    \"scale_pos_weight\": [0,1, 3],\n",
    "    \"subsample\": [0.8],\n",
    "    \"colsample_bytree\": [0.8],\n",
    "    \"n_estimators\" : [int(x) for x in np.linspace(start = 200, stop = 1000, num = 3)]\n",
    "\n",
    "}\n",
    "\n",
    "# Using  Boosted trees\n",
    "bst = XGBClassifier(booster='gbtree',tree_method='exact',objective='binary:logistic',n_jobs=-1)\n",
    "\n",
    "# Random search of parameters, using 3 fold cross validation, \n",
    "# search across 100 different combinations\n",
    "rf_random = RandomizedSearchCV(estimator = bst, param_distributions = random_grid, n_iter = 100,\n",
    "                               cv = 3, verbose=1, random_state=42, n_jobs = -1)\n",
    "\n",
    "# Fit the random search model\n",
    "rf_random.fit(X_train, y_train.values.ravel())\n"
   ]
  },
  {
   "cell_type": "code",
   "execution_count": null,
   "id": "f98358a4-3c93-44c5-8137-ac4ab083b5f8",
   "metadata": {},
   "outputs": [],
   "source": [
    "accuracy = rf_random.best_score_ *100\n",
    "print(\"Accuracy for our training dataset with tuning is : {:.2f}%\".format(accuracy) )"
   ]
  },
  {
   "cell_type": "code",
   "execution_count": 40,
   "id": "ca7808b4-6ff7-4d45-98f2-066bc9090abd",
   "metadata": {},
   "outputs": [],
   "source": [
    "a = {'subsample': 0.8,\n",
    "                         'scale_pos_weight': 1, 'reg_lambda': 0.001, 'n_estimators': 1000,\n",
    "                         'max_depth': 1, 'learning_rate': 0.05, 'gamma': 0.25, 'colsample_bytree': 0.8}"
   ]
  },
  {
   "cell_type": "code",
   "execution_count": 41,
   "id": "4c4756c7-396f-4959-8827-c0818dc26552",
   "metadata": {},
   "outputs": [
    {
     "data": {
      "text/plain": [
       "{'subsample': 0.8,\n",
       " 'scale_pos_weight': 1,\n",
       " 'reg_lambda': 0.001,\n",
       " 'n_estimators': 1000,\n",
       " 'max_depth': 1,\n",
       " 'learning_rate': 0.05,\n",
       " 'gamma': 0.25,\n",
       " 'colsample_bytree': 0.8}"
      ]
     },
     "execution_count": 41,
     "metadata": {},
     "output_type": "execute_result"
    }
   ],
   "source": [
    "a"
   ]
  },
  {
   "cell_type": "code",
   "execution_count": 42,
   "id": "a2cdabfd-fd3e-474a-a947-797255b5b21e",
   "metadata": {},
   "outputs": [
    {
     "name": "stdout",
     "output_type": "stream",
     "text": [
      "{'subsample': 0.8, 'scale_pos_weight': 1, 'reg_lambda': 1, 'n_estimators': 1000, 'max_depth': 2, 'learning_rate': 0.05, 'gamma': 0.25, 'colsample_bytree': 0.8}\n"
     ]
    }
   ],
   "source": [
    "print(rf_random.best_params_)\n",
    "(pd.DataFrame.from_dict(rf_random.best_params_, orient='index')).to_csv('/Users/rodrigo/Post-Grad/CC400/Results/xgboost_params.csv')"
   ]
  },
  {
   "cell_type": "code",
   "execution_count": 43,
   "id": "c71d60d5-23d3-48c1-b2f5-29f7108c6901",
   "metadata": {},
   "outputs": [
    {
     "name": "stderr",
     "output_type": "stream",
     "text": [
      "[Parallel(n_jobs=-1)]: Using backend LokyBackend with 8 concurrent workers.\n",
      "[Parallel(n_jobs=-1)]: Done   6 out of  10 | elapsed:  7.0min remaining:  4.6min\n",
      "[Parallel(n_jobs=-1)]: Done  10 out of  10 | elapsed: 10.2min finished\n"
     ]
    }
   ],
   "source": [
    "# Best xgboosting model\n",
    "final_cl = XGBClassifier(\n",
    "    **rf_random.best_params_,\n",
    "    objective=\"binary:logistic\",\n",
    "    booster='gbtree',\n",
    "    tree_method='exact',\n",
    "    eval_metric='mlogloss',\n",
    "    n_jobs=-1\n",
    ")\n",
    "# **rf_random.best_params_\n",
    "\n",
    "scores = cross_validate(final_cl, X_train, y_train.values.ravel(), scoring=scoring,\n",
    "                         cv=cv, n_jobs=-1,verbose=1)\n",
    "\n",
    "#bst.fit(X_train, y_train.values.ravel())"
   ]
  },
  {
   "cell_type": "code",
   "execution_count": 45,
   "id": "34ab1402-59b2-44b3-80dc-d030c902560f",
   "metadata": {},
   "outputs": [
    {
     "name": "stdout",
     "output_type": "stream",
     "text": [
      "Accuracy in val:0.69(0.04)\n",
      "F1_scores 0.62(0.05)\n",
      "Precision_scores 0.69(0.08)\n",
      "Recall_scores 0.63(0.04)\n",
      "ROC AUC 0.74(0.05)\n"
     ]
    }
   ],
   "source": [
    "print(\"Accuracy in val:%0.2f(%0.2f)\" % (scores['test_acc'].mean(), scores['test_acc'].std()))\n",
    "print(\"F1_scores {:.2f}({:.2f})\".format(scores['test_f1'].mean(), scores['test_f1'].std()))\n",
    "print(\"Precision_scores {:.2f}({:.2f})\".format(scores['test_prec_macro'].mean(), scores['test_prec_macro'].std()))\n",
    "print(\"Recall_scores {:.2f}({:.2f})\".format(scores['test_rec_macro'].mean(), scores['test_rec_macro'].std()))\n",
    "print(\"ROC AUC {:.2f}({:.2f})\".format(scores['test_roc_auc'].mean(), scores['test_roc_auc'].std()))\n",
    "#print('Accuracy score in TEST set: {0:0.4f}'. format(accuracy_score(y_TEST, final_cl.predict(X_TEST))))"
   ]
  },
  {
   "cell_type": "code",
   "execution_count": 46,
   "id": "0fb449e5-4f16-4023-9873-5edb5f7c1190",
   "metadata": {},
   "outputs": [],
   "source": [
    "scores['Model'] = ['XGBoost']*10\n",
    "results = results.merge(pd.DataFrame.from_dict(scores), how='outer')"
   ]
  },
  {
   "cell_type": "code",
   "execution_count": 47,
   "id": "9a129d09-70e9-4f24-93d2-8139730089d6",
   "metadata": {},
   "outputs": [
    {
     "data": {
      "text/html": [
       "<div>\n",
       "<style scoped>\n",
       "    .dataframe tbody tr th:only-of-type {\n",
       "        vertical-align: middle;\n",
       "    }\n",
       "\n",
       "    .dataframe tbody tr th {\n",
       "        vertical-align: top;\n",
       "    }\n",
       "\n",
       "    .dataframe thead th {\n",
       "        text-align: right;\n",
       "    }\n",
       "</style>\n",
       "<table border=\"1\" class=\"dataframe\">\n",
       "  <thead>\n",
       "    <tr style=\"text-align: right;\">\n",
       "      <th></th>\n",
       "      <th>fit_time</th>\n",
       "      <th>score_time</th>\n",
       "      <th>test_acc</th>\n",
       "      <th>test_prec_macro</th>\n",
       "      <th>test_rec_macro</th>\n",
       "      <th>test_f1</th>\n",
       "      <th>test_roc_auc</th>\n",
       "      <th>Model</th>\n",
       "    </tr>\n",
       "  </thead>\n",
       "  <tbody>\n",
       "    <tr>\n",
       "      <th>0</th>\n",
       "      <td>8.311548</td>\n",
       "      <td>0.257778</td>\n",
       "      <td>0.794521</td>\n",
       "      <td>0.788324</td>\n",
       "      <td>0.760467</td>\n",
       "      <td>0.769619</td>\n",
       "      <td>0.838969</td>\n",
       "      <td>logreg</td>\n",
       "    </tr>\n",
       "    <tr>\n",
       "      <th>1</th>\n",
       "      <td>8.279165</td>\n",
       "      <td>0.231043</td>\n",
       "      <td>0.780822</td>\n",
       "      <td>0.783626</td>\n",
       "      <td>0.734300</td>\n",
       "      <td>0.746087</td>\n",
       "      <td>0.803543</td>\n",
       "      <td>logreg</td>\n",
       "    </tr>\n",
       "    <tr>\n",
       "      <th>2</th>\n",
       "      <td>8.185263</td>\n",
       "      <td>0.221627</td>\n",
       "      <td>0.808219</td>\n",
       "      <td>0.834034</td>\n",
       "      <td>0.756039</td>\n",
       "      <td>0.772282</td>\n",
       "      <td>0.881643</td>\n",
       "      <td>logreg</td>\n",
       "    </tr>\n",
       "    <tr>\n",
       "      <th>3</th>\n",
       "      <td>8.375173</td>\n",
       "      <td>0.263058</td>\n",
       "      <td>0.753425</td>\n",
       "      <td>0.741758</td>\n",
       "      <td>0.712560</td>\n",
       "      <td>0.720663</td>\n",
       "      <td>0.858293</td>\n",
       "      <td>logreg</td>\n",
       "    </tr>\n",
       "    <tr>\n",
       "      <th>4</th>\n",
       "      <td>8.352999</td>\n",
       "      <td>0.292992</td>\n",
       "      <td>0.739726</td>\n",
       "      <td>0.721088</td>\n",
       "      <td>0.709340</td>\n",
       "      <td>0.713725</td>\n",
       "      <td>0.805153</td>\n",
       "      <td>logreg</td>\n",
       "    </tr>\n",
       "    <tr>\n",
       "      <th>5</th>\n",
       "      <td>8.204637</td>\n",
       "      <td>0.247522</td>\n",
       "      <td>0.630137</td>\n",
       "      <td>0.605556</td>\n",
       "      <td>0.607085</td>\n",
       "      <td>0.606194</td>\n",
       "      <td>0.687601</td>\n",
       "      <td>logreg</td>\n",
       "    </tr>\n",
       "    <tr>\n",
       "      <th>6</th>\n",
       "      <td>8.197181</td>\n",
       "      <td>0.268318</td>\n",
       "      <td>0.736111</td>\n",
       "      <td>0.713842</td>\n",
       "      <td>0.701505</td>\n",
       "      <td>0.706122</td>\n",
       "      <td>0.688127</td>\n",
       "      <td>logreg</td>\n",
       "    </tr>\n",
       "    <tr>\n",
       "      <th>7</th>\n",
       "      <td>8.263145</td>\n",
       "      <td>0.238438</td>\n",
       "      <td>0.569444</td>\n",
       "      <td>0.543831</td>\n",
       "      <td>0.544444</td>\n",
       "      <td>0.544025</td>\n",
       "      <td>0.652675</td>\n",
       "      <td>logreg</td>\n",
       "    </tr>\n",
       "    <tr>\n",
       "      <th>8</th>\n",
       "      <td>2.014924</td>\n",
       "      <td>0.108476</td>\n",
       "      <td>0.708333</td>\n",
       "      <td>0.690385</td>\n",
       "      <td>0.662963</td>\n",
       "      <td>0.668348</td>\n",
       "      <td>0.753086</td>\n",
       "      <td>logreg</td>\n",
       "    </tr>\n",
       "    <tr>\n",
       "      <th>9</th>\n",
       "      <td>1.828908</td>\n",
       "      <td>0.118204</td>\n",
       "      <td>0.708333</td>\n",
       "      <td>0.694444</td>\n",
       "      <td>0.655556</td>\n",
       "      <td>0.660606</td>\n",
       "      <td>0.727572</td>\n",
       "      <td>logreg</td>\n",
       "    </tr>\n",
       "    <tr>\n",
       "      <th>10</th>\n",
       "      <td>8.931181</td>\n",
       "      <td>1.830253</td>\n",
       "      <td>0.725806</td>\n",
       "      <td>0.705682</td>\n",
       "      <td>0.701784</td>\n",
       "      <td>0.703516</td>\n",
       "      <td>0.762542</td>\n",
       "      <td>SVC</td>\n",
       "    </tr>\n",
       "    <tr>\n",
       "      <th>11</th>\n",
       "      <td>8.970054</td>\n",
       "      <td>1.807105</td>\n",
       "      <td>0.709677</td>\n",
       "      <td>0.690196</td>\n",
       "      <td>0.662207</td>\n",
       "      <td>0.667857</td>\n",
       "      <td>0.751394</td>\n",
       "      <td>SVC</td>\n",
       "    </tr>\n",
       "    <tr>\n",
       "      <th>12</th>\n",
       "      <td>8.899101</td>\n",
       "      <td>1.823979</td>\n",
       "      <td>0.709677</td>\n",
       "      <td>0.695035</td>\n",
       "      <td>0.653289</td>\n",
       "      <td>0.658507</td>\n",
       "      <td>0.769231</td>\n",
       "      <td>SVC</td>\n",
       "    </tr>\n",
       "    <tr>\n",
       "      <th>13</th>\n",
       "      <td>8.811874</td>\n",
       "      <td>1.496713</td>\n",
       "      <td>0.677419</td>\n",
       "      <td>0.657955</td>\n",
       "      <td>0.652412</td>\n",
       "      <td>0.654404</td>\n",
       "      <td>0.723684</td>\n",
       "      <td>SVC</td>\n",
       "    </tr>\n",
       "    <tr>\n",
       "      <th>14</th>\n",
       "      <td>8.892427</td>\n",
       "      <td>1.811320</td>\n",
       "      <td>0.661290</td>\n",
       "      <td>0.640426</td>\n",
       "      <td>0.608553</td>\n",
       "      <td>0.607240</td>\n",
       "      <td>0.735746</td>\n",
       "      <td>SVC</td>\n",
       "    </tr>\n",
       "    <tr>\n",
       "      <th>15</th>\n",
       "      <td>8.654151</td>\n",
       "      <td>1.569592</td>\n",
       "      <td>0.790323</td>\n",
       "      <td>0.790086</td>\n",
       "      <td>0.759868</td>\n",
       "      <td>0.768590</td>\n",
       "      <td>0.803728</td>\n",
       "      <td>SVC</td>\n",
       "    </tr>\n",
       "    <tr>\n",
       "      <th>16</th>\n",
       "      <td>8.901947</td>\n",
       "      <td>1.787334</td>\n",
       "      <td>0.758065</td>\n",
       "      <td>0.747387</td>\n",
       "      <td>0.733553</td>\n",
       "      <td>0.738397</td>\n",
       "      <td>0.823465</td>\n",
       "      <td>SVC</td>\n",
       "    </tr>\n",
       "    <tr>\n",
       "      <th>17</th>\n",
       "      <td>8.778348</td>\n",
       "      <td>1.628177</td>\n",
       "      <td>0.721311</td>\n",
       "      <td>0.703049</td>\n",
       "      <td>0.690503</td>\n",
       "      <td>0.694731</td>\n",
       "      <td>0.652174</td>\n",
       "      <td>SVC</td>\n",
       "    </tr>\n",
       "    <tr>\n",
       "      <th>18</th>\n",
       "      <td>2.728220</td>\n",
       "      <td>0.577692</td>\n",
       "      <td>0.803279</td>\n",
       "      <td>0.790618</td>\n",
       "      <td>0.790618</td>\n",
       "      <td>0.790618</td>\n",
       "      <td>0.783753</td>\n",
       "      <td>SVC</td>\n",
       "    </tr>\n",
       "    <tr>\n",
       "      <th>19</th>\n",
       "      <td>2.709443</td>\n",
       "      <td>0.592252</td>\n",
       "      <td>0.754098</td>\n",
       "      <td>0.744832</td>\n",
       "      <td>0.716819</td>\n",
       "      <td>0.724481</td>\n",
       "      <td>0.802059</td>\n",
       "      <td>SVC</td>\n",
       "    </tr>\n",
       "    <tr>\n",
       "      <th>20</th>\n",
       "      <td>32.299607</td>\n",
       "      <td>0.402518</td>\n",
       "      <td>0.645161</td>\n",
       "      <td>0.619844</td>\n",
       "      <td>0.619844</td>\n",
       "      <td>0.619844</td>\n",
       "      <td>0.739130</td>\n",
       "      <td>MLP</td>\n",
       "    </tr>\n",
       "    <tr>\n",
       "      <th>21</th>\n",
       "      <td>35.393111</td>\n",
       "      <td>0.232199</td>\n",
       "      <td>0.725806</td>\n",
       "      <td>0.708333</td>\n",
       "      <td>0.683946</td>\n",
       "      <td>0.690273</td>\n",
       "      <td>0.801561</td>\n",
       "      <td>MLP</td>\n",
       "    </tr>\n",
       "    <tr>\n",
       "      <th>22</th>\n",
       "      <td>34.945192</td>\n",
       "      <td>0.291611</td>\n",
       "      <td>0.709677</td>\n",
       "      <td>0.695035</td>\n",
       "      <td>0.653289</td>\n",
       "      <td>0.658507</td>\n",
       "      <td>0.798216</td>\n",
       "      <td>MLP</td>\n",
       "    </tr>\n",
       "    <tr>\n",
       "      <th>23</th>\n",
       "      <td>26.818926</td>\n",
       "      <td>0.631463</td>\n",
       "      <td>0.677419</td>\n",
       "      <td>0.660088</td>\n",
       "      <td>0.660088</td>\n",
       "      <td>0.660088</td>\n",
       "      <td>0.712719</td>\n",
       "      <td>MLP</td>\n",
       "    </tr>\n",
       "    <tr>\n",
       "      <th>24</th>\n",
       "      <td>32.620219</td>\n",
       "      <td>0.359808</td>\n",
       "      <td>0.677419</td>\n",
       "      <td>0.665179</td>\n",
       "      <td>0.621711</td>\n",
       "      <td>0.620563</td>\n",
       "      <td>0.717105</td>\n",
       "      <td>MLP</td>\n",
       "    </tr>\n",
       "    <tr>\n",
       "      <th>25</th>\n",
       "      <td>29.169558</td>\n",
       "      <td>0.648168</td>\n",
       "      <td>0.790323</td>\n",
       "      <td>0.783391</td>\n",
       "      <td>0.767544</td>\n",
       "      <td>0.773277</td>\n",
       "      <td>0.816886</td>\n",
       "      <td>MLP</td>\n",
       "    </tr>\n",
       "    <tr>\n",
       "      <th>26</th>\n",
       "      <td>32.406818</td>\n",
       "      <td>0.378047</td>\n",
       "      <td>0.741935</td>\n",
       "      <td>0.728409</td>\n",
       "      <td>0.720395</td>\n",
       "      <td>0.723523</td>\n",
       "      <td>0.843202</td>\n",
       "      <td>MLP</td>\n",
       "    </tr>\n",
       "    <tr>\n",
       "      <th>27</th>\n",
       "      <td>33.758087</td>\n",
       "      <td>0.301584</td>\n",
       "      <td>0.655738</td>\n",
       "      <td>0.628659</td>\n",
       "      <td>0.620709</td>\n",
       "      <td>0.622903</td>\n",
       "      <td>0.639588</td>\n",
       "      <td>MLP</td>\n",
       "    </tr>\n",
       "    <tr>\n",
       "      <th>28</th>\n",
       "      <td>19.350776</td>\n",
       "      <td>0.141250</td>\n",
       "      <td>0.786885</td>\n",
       "      <td>0.784238</td>\n",
       "      <td>0.751716</td>\n",
       "      <td>0.761217</td>\n",
       "      <td>0.779176</td>\n",
       "      <td>MLP</td>\n",
       "    </tr>\n",
       "    <tr>\n",
       "      <th>29</th>\n",
       "      <td>15.710409</td>\n",
       "      <td>0.198903</td>\n",
       "      <td>0.688525</td>\n",
       "      <td>0.666021</td>\n",
       "      <td>0.647025</td>\n",
       "      <td>0.651009</td>\n",
       "      <td>0.741419</td>\n",
       "      <td>MLP</td>\n",
       "    </tr>\n",
       "    <tr>\n",
       "      <th>30</th>\n",
       "      <td>415.754559</td>\n",
       "      <td>1.095198</td>\n",
       "      <td>0.709677</td>\n",
       "      <td>0.695035</td>\n",
       "      <td>0.653289</td>\n",
       "      <td>0.658507</td>\n",
       "      <td>0.773690</td>\n",
       "      <td>XGBoost</td>\n",
       "    </tr>\n",
       "    <tr>\n",
       "      <th>31</th>\n",
       "      <td>417.048869</td>\n",
       "      <td>0.968943</td>\n",
       "      <td>0.725806</td>\n",
       "      <td>0.708333</td>\n",
       "      <td>0.683946</td>\n",
       "      <td>0.690273</td>\n",
       "      <td>0.761427</td>\n",
       "      <td>XGBoost</td>\n",
       "    </tr>\n",
       "    <tr>\n",
       "      <th>32</th>\n",
       "      <td>417.282724</td>\n",
       "      <td>0.913118</td>\n",
       "      <td>0.758065</td>\n",
       "      <td>0.861111</td>\n",
       "      <td>0.673913</td>\n",
       "      <td>0.677419</td>\n",
       "      <td>0.812709</td>\n",
       "      <td>XGBoost</td>\n",
       "    </tr>\n",
       "    <tr>\n",
       "      <th>33</th>\n",
       "      <td>415.580578</td>\n",
       "      <td>1.035728</td>\n",
       "      <td>0.629032</td>\n",
       "      <td>0.595761</td>\n",
       "      <td>0.566886</td>\n",
       "      <td>0.557005</td>\n",
       "      <td>0.725877</td>\n",
       "      <td>XGBoost</td>\n",
       "    </tr>\n",
       "    <tr>\n",
       "      <th>34</th>\n",
       "      <td>416.492469</td>\n",
       "      <td>1.092701</td>\n",
       "      <td>0.693548</td>\n",
       "      <td>0.764935</td>\n",
       "      <td>0.611842</td>\n",
       "      <td>0.591398</td>\n",
       "      <td>0.753289</td>\n",
       "      <td>XGBoost</td>\n",
       "    </tr>\n",
       "    <tr>\n",
       "      <th>35</th>\n",
       "      <td>418.046091</td>\n",
       "      <td>0.697421</td>\n",
       "      <td>0.693548</td>\n",
       "      <td>0.693093</td>\n",
       "      <td>0.634868</td>\n",
       "      <td>0.634048</td>\n",
       "      <td>0.757675</td>\n",
       "      <td>XGBoost</td>\n",
       "    </tr>\n",
       "    <tr>\n",
       "      <th>36</th>\n",
       "      <td>416.193069</td>\n",
       "      <td>1.133951</td>\n",
       "      <td>0.612903</td>\n",
       "      <td>0.572917</td>\n",
       "      <td>0.553728</td>\n",
       "      <td>0.544676</td>\n",
       "      <td>0.696272</td>\n",
       "      <td>XGBoost</td>\n",
       "    </tr>\n",
       "    <tr>\n",
       "      <th>37</th>\n",
       "      <td>417.681064</td>\n",
       "      <td>0.758025</td>\n",
       "      <td>0.655738</td>\n",
       "      <td>0.628401</td>\n",
       "      <td>0.586384</td>\n",
       "      <td>0.579310</td>\n",
       "      <td>0.621281</td>\n",
       "      <td>XGBoost</td>\n",
       "    </tr>\n",
       "    <tr>\n",
       "      <th>38</th>\n",
       "      <td>192.484340</td>\n",
       "      <td>0.423823</td>\n",
       "      <td>0.672131</td>\n",
       "      <td>0.646390</td>\n",
       "      <td>0.625286</td>\n",
       "      <td>0.628049</td>\n",
       "      <td>0.693364</td>\n",
       "      <td>XGBoost</td>\n",
       "    </tr>\n",
       "    <tr>\n",
       "      <th>39</th>\n",
       "      <td>192.296650</td>\n",
       "      <td>0.422588</td>\n",
       "      <td>0.721311</td>\n",
       "      <td>0.718845</td>\n",
       "      <td>0.664760</td>\n",
       "      <td>0.670270</td>\n",
       "      <td>0.768879</td>\n",
       "      <td>XGBoost</td>\n",
       "    </tr>\n",
       "  </tbody>\n",
       "</table>\n",
       "</div>"
      ],
      "text/plain": [
       "      fit_time  score_time  test_acc  test_prec_macro  test_rec_macro  \\\n",
       "0     8.311548    0.257778  0.794521         0.788324        0.760467   \n",
       "1     8.279165    0.231043  0.780822         0.783626        0.734300   \n",
       "2     8.185263    0.221627  0.808219         0.834034        0.756039   \n",
       "3     8.375173    0.263058  0.753425         0.741758        0.712560   \n",
       "4     8.352999    0.292992  0.739726         0.721088        0.709340   \n",
       "5     8.204637    0.247522  0.630137         0.605556        0.607085   \n",
       "6     8.197181    0.268318  0.736111         0.713842        0.701505   \n",
       "7     8.263145    0.238438  0.569444         0.543831        0.544444   \n",
       "8     2.014924    0.108476  0.708333         0.690385        0.662963   \n",
       "9     1.828908    0.118204  0.708333         0.694444        0.655556   \n",
       "10    8.931181    1.830253  0.725806         0.705682        0.701784   \n",
       "11    8.970054    1.807105  0.709677         0.690196        0.662207   \n",
       "12    8.899101    1.823979  0.709677         0.695035        0.653289   \n",
       "13    8.811874    1.496713  0.677419         0.657955        0.652412   \n",
       "14    8.892427    1.811320  0.661290         0.640426        0.608553   \n",
       "15    8.654151    1.569592  0.790323         0.790086        0.759868   \n",
       "16    8.901947    1.787334  0.758065         0.747387        0.733553   \n",
       "17    8.778348    1.628177  0.721311         0.703049        0.690503   \n",
       "18    2.728220    0.577692  0.803279         0.790618        0.790618   \n",
       "19    2.709443    0.592252  0.754098         0.744832        0.716819   \n",
       "20   32.299607    0.402518  0.645161         0.619844        0.619844   \n",
       "21   35.393111    0.232199  0.725806         0.708333        0.683946   \n",
       "22   34.945192    0.291611  0.709677         0.695035        0.653289   \n",
       "23   26.818926    0.631463  0.677419         0.660088        0.660088   \n",
       "24   32.620219    0.359808  0.677419         0.665179        0.621711   \n",
       "25   29.169558    0.648168  0.790323         0.783391        0.767544   \n",
       "26   32.406818    0.378047  0.741935         0.728409        0.720395   \n",
       "27   33.758087    0.301584  0.655738         0.628659        0.620709   \n",
       "28   19.350776    0.141250  0.786885         0.784238        0.751716   \n",
       "29   15.710409    0.198903  0.688525         0.666021        0.647025   \n",
       "30  415.754559    1.095198  0.709677         0.695035        0.653289   \n",
       "31  417.048869    0.968943  0.725806         0.708333        0.683946   \n",
       "32  417.282724    0.913118  0.758065         0.861111        0.673913   \n",
       "33  415.580578    1.035728  0.629032         0.595761        0.566886   \n",
       "34  416.492469    1.092701  0.693548         0.764935        0.611842   \n",
       "35  418.046091    0.697421  0.693548         0.693093        0.634868   \n",
       "36  416.193069    1.133951  0.612903         0.572917        0.553728   \n",
       "37  417.681064    0.758025  0.655738         0.628401        0.586384   \n",
       "38  192.484340    0.423823  0.672131         0.646390        0.625286   \n",
       "39  192.296650    0.422588  0.721311         0.718845        0.664760   \n",
       "\n",
       "     test_f1  test_roc_auc    Model  \n",
       "0   0.769619      0.838969   logreg  \n",
       "1   0.746087      0.803543   logreg  \n",
       "2   0.772282      0.881643   logreg  \n",
       "3   0.720663      0.858293   logreg  \n",
       "4   0.713725      0.805153   logreg  \n",
       "5   0.606194      0.687601   logreg  \n",
       "6   0.706122      0.688127   logreg  \n",
       "7   0.544025      0.652675   logreg  \n",
       "8   0.668348      0.753086   logreg  \n",
       "9   0.660606      0.727572   logreg  \n",
       "10  0.703516      0.762542      SVC  \n",
       "11  0.667857      0.751394      SVC  \n",
       "12  0.658507      0.769231      SVC  \n",
       "13  0.654404      0.723684      SVC  \n",
       "14  0.607240      0.735746      SVC  \n",
       "15  0.768590      0.803728      SVC  \n",
       "16  0.738397      0.823465      SVC  \n",
       "17  0.694731      0.652174      SVC  \n",
       "18  0.790618      0.783753      SVC  \n",
       "19  0.724481      0.802059      SVC  \n",
       "20  0.619844      0.739130      MLP  \n",
       "21  0.690273      0.801561      MLP  \n",
       "22  0.658507      0.798216      MLP  \n",
       "23  0.660088      0.712719      MLP  \n",
       "24  0.620563      0.717105      MLP  \n",
       "25  0.773277      0.816886      MLP  \n",
       "26  0.723523      0.843202      MLP  \n",
       "27  0.622903      0.639588      MLP  \n",
       "28  0.761217      0.779176      MLP  \n",
       "29  0.651009      0.741419      MLP  \n",
       "30  0.658507      0.773690  XGBoost  \n",
       "31  0.690273      0.761427  XGBoost  \n",
       "32  0.677419      0.812709  XGBoost  \n",
       "33  0.557005      0.725877  XGBoost  \n",
       "34  0.591398      0.753289  XGBoost  \n",
       "35  0.634048      0.757675  XGBoost  \n",
       "36  0.544676      0.696272  XGBoost  \n",
       "37  0.579310      0.621281  XGBoost  \n",
       "38  0.628049      0.693364  XGBoost  \n",
       "39  0.670270      0.768879  XGBoost  "
      ]
     },
     "execution_count": 47,
     "metadata": {},
     "output_type": "execute_result"
    }
   ],
   "source": [
    "results"
   ]
  },
  {
   "cell_type": "code",
   "execution_count": 49,
   "id": "219501d2-0905-4b2b-9dc3-d9510c4f598a",
   "metadata": {},
   "outputs": [],
   "source": [
    "results.to_csv('/Users/rodrigo/Post-Grad/CC400/Results/models.csv')"
   ]
  },
  {
   "cell_type": "code",
   "execution_count": null,
   "id": "aacf357a-c993-4850-9a3b-a51cd22ded39",
   "metadata": {},
   "outputs": [],
   "source": []
  },
  {
   "cell_type": "code",
   "execution_count": null,
   "id": "94de82eb-440d-4d8d-b131-62a4fc1fd62d",
   "metadata": {},
   "outputs": [],
   "source": []
  }
 ],
 "metadata": {
  "kernelspec": {
   "display_name": "Python 3 (ipykernel)",
   "language": "python",
   "name": "python3"
  },
  "language_info": {
   "codemirror_mode": {
    "name": "ipython",
    "version": 3
   },
   "file_extension": ".py",
   "mimetype": "text/x-python",
   "name": "python",
   "nbconvert_exporter": "python",
   "pygments_lexer": "ipython3",
   "version": "3.9.16"
  }
 },
 "nbformat": 4,
 "nbformat_minor": 5
}
