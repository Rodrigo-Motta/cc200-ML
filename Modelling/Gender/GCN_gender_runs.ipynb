{
 "cells": [
  {
   "cell_type": "code",
   "execution_count": 1,
   "id": "5e23e873-6693-4c42-82f2-880453f9954f",
   "metadata": {},
   "outputs": [
    {
     "name": "stdout",
     "output_type": "stream",
     "text": [
      "/Users/rodrigo/Post-Grad/CC400/Repo\n"
     ]
    }
   ],
   "source": [
    "%cd /Users/rodrigo/Post-Grad/CC400/Repo"
   ]
  },
  {
   "cell_type": "code",
   "execution_count": 2,
   "id": "d0d9295e-a7b8-4583-9ede-659a1126a81f",
   "metadata": {},
   "outputs": [],
   "source": [
    "import utils as ut"
   ]
  },
  {
   "cell_type": "code",
   "execution_count": 3,
   "id": "ec5c0a04-5483-4caa-a068-9e06fc2c63c8",
   "metadata": {},
   "outputs": [],
   "source": [
    "import utils as ut\n",
    "import pandas as pd\n",
    "import numpy as np\n",
    "import matplotlib.pyplot as plt\n",
    "import seaborn as sns\n",
    "import torch\n",
    "import torch_geometric\n",
    "from torch_geometric.data import Data\n",
    "from torch_geometric.utils import dense_to_sparse\n",
    "from sklearn.utils import shuffle\n",
    "from sklearn.metrics import confusion_matrix\n",
    "from sklearn.metrics import accuracy_score, precision_score, recall_score, roc_auc_score\n",
    "from sklearn.model_selection import cross_validate\n",
    "from tqdm import tqdm\n",
    "from torch_geometric.loader import DataLoader\n",
    "from sklearn.metrics import roc_curve, auc\n",
    "from sklearn.model_selection import StratifiedKFold\n",
    "from sklearn.model_selection import train_test_split\n",
    "from neurocombat_sklearn import CombatModel\n",
    "\n",
    "%matplotlib inline\n",
    "sns.set(rc={'image.cmap': 'coolwarm'})\n",
    "\n",
    "#from numba import jit,prange\n",
    "\n",
    "import time\n",
    "import os\n",
    "\n",
    "SMALL_SIZE = 8\n",
    "MEDIUM_SIZE = 14\n",
    "BIGGER_SIZE = 20\n",
    "\n",
    "plt.rc('font', size=MEDIUM_SIZE)          # controls default text sizes\n",
    "plt.rc('axes', titlesize=BIGGER_SIZE)     # fontsize of the axes title\n",
    "plt.rc('axes', labelsize=BIGGER_SIZE)    # fontsize of the x and y labels\n",
    "plt.rc('xtick', labelsize=MEDIUM_SIZE)    # fontsize of the tick labels\n",
    "plt.rc('ytick', labelsize=MEDIUM_SIZE)    # fontsize of the tick labels\n",
    "plt.rc('legend', fontsize=MEDIUM_SIZE)    # legend fontsize\n",
    "plt.rc('figure', titlesize=BIGGER_SIZE)  # fontsize of the figure title\n",
    "\n",
    "scoring = {'acc': 'accuracy',\n",
    "           'prec_macro': 'precision_macro',\n",
    "           'rec_macro': 'recall_macro',\n",
    "          'f1' : 'f1_macro',\n",
    "          'roc_auc' : 'roc_auc'}\n"
   ]
  },
  {
   "cell_type": "code",
   "execution_count": 4,
   "id": "debbbd62-983b-4612-9dd2-e4ad26be6d6c",
   "metadata": {},
   "outputs": [
    {
     "name": "stdout",
     "output_type": "stream",
     "text": [
      "1.13.1\n"
     ]
    }
   ],
   "source": [
    "print(torch.__version__)"
   ]
  },
  {
   "cell_type": "code",
   "execution_count": 5,
   "id": "d79272de-f41f-4273-80dd-baebc6e3f731",
   "metadata": {},
   "outputs": [
    {
     "name": "stdout",
     "output_type": "stream",
     "text": [
      "2.1.0\n"
     ]
    }
   ],
   "source": [
    "print(torch_geometric.__version__)"
   ]
  },
  {
   "cell_type": "code",
   "execution_count": 6,
   "id": "a914000c-0d5e-48ff-a4b0-eafc1232287a",
   "metadata": {},
   "outputs": [],
   "source": [
    "df, phenotypic = ut.import_data(fisher=False)\n",
    "\n",
    "#group_fc = pd.read_csv(r'/Users/rodrigo/Post-Grad/CC400/Group_FC.csv').iloc[:,1]\n",
    "df = df.join(pd.DataFrame(phenotypic['Gender']), how='left')\n",
    "\n",
    "df['Age'] = phenotypic['Age']\n",
    "\n",
    "from sklearn.utils import shuffle\n",
    "df = shuffle(df, random_state=42)\n",
    "\n",
    "df = df.dropna(axis=0)\n",
    "df = df.reset_index()\n",
    "df['Site'] = df['Institution'].astype('category')\n",
    "df['Site'] = df['Site'].cat.codes\n",
    "\n",
    "# TEST = df[df.Subject.isin(df['Subject'].unique()[-20:])].reset_index()\n",
    "# X_TEST = TEST.drop(columns=['Institution', 'Subject', 'Run','Gender', 'Age', 'Site','index'])\n",
    "# y_TEST = TEST.Gender\n",
    "\n",
    "# df = df[~df.Subject.isin(df['Subject'].unique()[-20:])].reset_index().drop(columns='index')\n",
    "\n",
    "#X = df.drop(columns=['Institution', 'Run', 'Age','ADHD Measure', 'Gender', 'Subject'])\n",
    "y = df.Gender.astype(int)\n",
    "\n",
    "num_features = 190"
   ]
  },
  {
   "cell_type": "code",
   "execution_count": 7,
   "id": "7c0c572a-88f7-454a-b07b-837c853cded8",
   "metadata": {},
   "outputs": [
    {
     "data": {
      "text/plain": [
       "(2352, 17961)"
      ]
     },
     "execution_count": 7,
     "metadata": {},
     "output_type": "execute_result"
    }
   ],
   "source": [
    "df.shape"
   ]
  },
  {
   "cell_type": "code",
   "execution_count": 8,
   "id": "cb959a12-f05f-440d-8d16-e9e008779abe",
   "metadata": {},
   "outputs": [],
   "source": [
    "X = df.drop(columns=['Institution', 'Subject', 'Gender', 'Age', 'Site', 'Run'])"
   ]
  },
  {
   "cell_type": "code",
   "execution_count": 9,
   "id": "3b4bbd1f-4cab-417e-a3ae-c157221241cf",
   "metadata": {},
   "outputs": [],
   "source": [
    "X_dmn,labels = ut.DMN_extraction(X)\n",
    "num_features = 52"
   ]
  },
  {
   "cell_type": "code",
   "execution_count": 10,
   "id": "848cd99f-2fa0-46fa-8f93-e627966dcd40",
   "metadata": {},
   "outputs": [
    {
     "data": {
      "text/plain": [
       "(2352, 1326)"
      ]
     },
     "execution_count": 10,
     "metadata": {},
     "output_type": "execute_result"
    }
   ],
   "source": [
    "X_dmn.shape"
   ]
  },
  {
   "cell_type": "code",
   "execution_count": 11,
   "id": "1a96f0ae-a01d-41a5-a7a9-000706fd5ff3",
   "metadata": {},
   "outputs": [],
   "source": [
    "np.random.seed(42)\n",
    "random = df.Subject.isin(np.random.choice(df['Subject'].unique(),200))\n",
    "\n",
    "df_train = df[~random]\n",
    "df_test = df[random]\n",
    "\n",
    "Age_train = df_train[['Age']]\n",
    "Site_train = df_train[['Site']]\n",
    "X_train = df_train.drop(columns=['Institution', 'Subject', 'Gender', 'Age', 'Site', 'Run'])#, 'Run', 'Half'])\n",
    "y_train = df_train.Gender\n",
    "\n",
    "Age_test = df_test[['Age']]\n",
    "Site_test = df_test[['Site']]\n",
    "X_test = df_test.drop(columns=['Institution', 'Subject', 'Gender', 'Age', 'Site', 'Run'])#,'Run', 'Half'])\n",
    "y_test = df_test.Gender\n",
    "\n",
    "X_train = pd.DataFrame(X_dmn[~random])  ###\n",
    "X_test = pd.DataFrame(X_dmn[random])    ###"
   ]
  },
  {
   "cell_type": "markdown",
   "id": "b9e1f80b-a69f-477c-beaa-967d9019cb36",
   "metadata": {},
   "source": [
    "### ----------------------------------"
   ]
  },
  {
   "cell_type": "code",
   "execution_count": 12,
   "id": "826dba45-1cf0-4034-b87c-0eb3ac93cf15",
   "metadata": {},
   "outputs": [
    {
     "data": {
      "text/plain": [
       "NYU           580\n",
       "OHSU          378\n",
       "WashU         228\n",
       "KKI           142\n",
       "Peking_1      128\n",
       "Pittsburgh    128\n",
       "Peking_2      100\n",
       "NeuroIMAGE     72\n",
       "Peking_3       56\n",
       "Name: Institution, dtype: int64"
      ]
     },
     "execution_count": 12,
     "metadata": {},
     "output_type": "execute_result"
    }
   ],
   "source": [
    "df_train['Institution'].value_counts()"
   ]
  },
  {
   "cell_type": "code",
   "execution_count": 13,
   "id": "4256aade-70fe-4719-910f-5d2727bdb730",
   "metadata": {},
   "outputs": [
    {
     "data": {
      "text/plain": [
       "NYU           202\n",
       "OHSU           90\n",
       "WashU          58\n",
       "Pittsburgh     46\n",
       "Peking_1       40\n",
       "Peking_2       32\n",
       "Peking_3       26\n",
       "KKI            24\n",
       "NeuroIMAGE     22\n",
       "Name: Institution, dtype: int64"
      ]
     },
     "execution_count": 13,
     "metadata": {},
     "output_type": "execute_result"
    }
   ],
   "source": [
    "df_test['Institution'].value_counts()"
   ]
  },
  {
   "cell_type": "code",
   "execution_count": 14,
   "id": "695ba970-00f7-4b41-8af6-b4a825354c31",
   "metadata": {},
   "outputs": [
    {
     "name": "stderr",
     "output_type": "stream",
     "text": [
      "/opt/homebrew/Caskroom/miniforge/base/envs/GCN_study/lib/python3.9/site-packages/sklearn/preprocessing/_encoders.py:868: FutureWarning: `sparse` was renamed to `sparse_output` in version 1.2 and will be removed in 1.4. `sparse_output` is ignored unless you leave `sparse` to its default value.\n",
      "  warnings.warn(\n"
     ]
    }
   ],
   "source": [
    "\n",
    "# Creating model\n",
    "model = CombatModel()\n",
    "\n",
    "# Fitting the model and transforming the training set\n",
    "X_train = model.fit_transform(X_train.values,\n",
    "                                         Site_train) #X_train_har\n",
    "\n",
    "# Harmonize test set using training set fitted parameters\n",
    "X_test = model.transform(X_test.values,\n",
    "                                    Site_test) #X_test_har"
   ]
  },
  {
   "cell_type": "code",
   "execution_count": 15,
   "id": "a1474a5d-d6d2-4fd2-a765-253f9bb2bd55",
   "metadata": {},
   "outputs": [],
   "source": [
    "X_train = np.tanh(X_train)\n",
    "X_test = np.tanh(X_test)"
   ]
  },
  {
   "cell_type": "code",
   "execution_count": 16,
   "id": "91468e11-3172-41bf-a246-a5a020e9ef59",
   "metadata": {},
   "outputs": [],
   "source": [
    "# from sklearn.preprocessing import MinMaxScaler\n",
    "\n",
    "# scaler = MinMaxScaler()\n",
    "# X_train = scaler.fit_transform(X_train)\n",
    "\n",
    "# X_test = scaler.transform(X_test)"
   ]
  },
  {
   "cell_type": "code",
   "execution_count": 17,
   "id": "e4d169ed-804c-4b9d-a582-5be0c517f271",
   "metadata": {},
   "outputs": [
    {
     "name": "stdout",
     "output_type": "stream",
     "text": [
      " 0 = 0.39% \n",
      " 1 = 0.61%\n"
     ]
    }
   ],
   "source": [
    "print(' 0 = {:.2f}% \\n'.format(y.value_counts()[0]/len(y)), '1 = {:.2f}%'.format(y.value_counts()[1]/len(y)))"
   ]
  },
  {
   "cell_type": "code",
   "execution_count": 18,
   "id": "c54351bf-48ed-4990-be0c-172bd7ef1727",
   "metadata": {},
   "outputs": [
    {
     "name": "stdout",
     "output_type": "stream",
     "text": [
      "Accuracy in test:0.60(0.00)\n",
      "F1_scores 0.37(0.00)\n",
      "Precision_scores 0.30(0.00)\n",
      "Recall_scores 0.50(0.00)\n",
      "ROC AUC 0.50(0.00)\n"
     ]
    },
    {
     "name": "stderr",
     "output_type": "stream",
     "text": [
      "/opt/homebrew/Caskroom/miniforge/base/envs/GCN_study/lib/python3.9/site-packages/sklearn/metrics/_classification.py:1344: UndefinedMetricWarning: Precision is ill-defined and being set to 0.0 in labels with no predicted samples. Use `zero_division` parameter to control this behavior.\n",
      "  _warn_prf(average, modifier, msg_start, len(result))\n",
      "/opt/homebrew/Caskroom/miniforge/base/envs/GCN_study/lib/python3.9/site-packages/sklearn/metrics/_classification.py:1344: UndefinedMetricWarning: Precision is ill-defined and being set to 0.0 in labels with no predicted samples. Use `zero_division` parameter to control this behavior.\n",
      "  _warn_prf(average, modifier, msg_start, len(result))\n",
      "/opt/homebrew/Caskroom/miniforge/base/envs/GCN_study/lib/python3.9/site-packages/sklearn/metrics/_classification.py:1344: UndefinedMetricWarning: Precision is ill-defined and being set to 0.0 in labels with no predicted samples. Use `zero_division` parameter to control this behavior.\n",
      "  _warn_prf(average, modifier, msg_start, len(result))\n",
      "/opt/homebrew/Caskroom/miniforge/base/envs/GCN_study/lib/python3.9/site-packages/sklearn/metrics/_classification.py:1344: UndefinedMetricWarning: Precision is ill-defined and being set to 0.0 in labels with no predicted samples. Use `zero_division` parameter to control this behavior.\n",
      "  _warn_prf(average, modifier, msg_start, len(result))\n",
      "/opt/homebrew/Caskroom/miniforge/base/envs/GCN_study/lib/python3.9/site-packages/sklearn/metrics/_classification.py:1344: UndefinedMetricWarning: Precision is ill-defined and being set to 0.0 in labels with no predicted samples. Use `zero_division` parameter to control this behavior.\n",
      "  _warn_prf(average, modifier, msg_start, len(result))\n"
     ]
    }
   ],
   "source": [
    "from sklearn.dummy import DummyClassifier\n",
    "dummy = DummyClassifier(strategy=\"most_frequent\")\n",
    "dummy.fit(X_test, y_test)\n",
    "\n",
    "# Make predictions on the testing data\n",
    "pred_y = dummy.predict(X_test)\n",
    "\n",
    "scores = cross_validate(dummy, X_train, y_train, cv=5, scoring=scoring)\n",
    "\n",
    "print(\"Accuracy in test:%0.2f(%0.2f)\" % (scores['test_acc'].mean(), scores['test_acc'].std()))\n",
    "print(\"F1_scores {:.2f}({:.2f})\".format(scores['test_f1'].mean(), scores['test_f1'].std()))\n",
    "print(\"Precision_scores {:.2f}({:.2f})\".format(scores['test_prec_macro'].mean(), scores['test_prec_macro'].std()))\n",
    "print(\"Recall_scores {:.2f}({:.2f})\".format(scores['test_rec_macro'].mean(), scores['test_rec_macro'].std()))\n",
    "print(\"ROC AUC {:.2f}({:.2f})\".format(scores['test_roc_auc'].mean(), scores['test_roc_auc'].std()))\n",
    "#print('Dummy accuracy score in TEST set: {0:0.4f}'. format(accuracy_score(y_TEST, dummy.predict(X_TEST))))"
   ]
  },
  {
   "cell_type": "code",
   "execution_count": 19,
   "id": "2b703536-ccae-4c8d-8a6c-6f1fdcac612f",
   "metadata": {},
   "outputs": [],
   "source": [
    "A = ut.reconstruct_symmetric_matrix(num_features,X_train.mean(axis=0))\n",
    "\n"
   ]
  },
  {
   "cell_type": "code",
   "execution_count": 20,
   "id": "c68d022a-97b3-4237-97f2-a6344263c06c",
   "metadata": {},
   "outputs": [
    {
     "data": {
      "image/png": "[encoded data removed]",
      "text/plain": [
       "<Figure size 640x480 with 2 Axes>"
      ]
     },
     "metadata": {},
     "output_type": "display_data"
    }
   ],
   "source": [
    "plt.imshow(A, cmap='jet')\n",
    "plt.colorbar()\n",
    "plt.show()"
   ]
  },
  {
   "cell_type": "markdown",
   "id": "862852a1-77c7-45fb-8f48-f151b24401f3",
   "metadata": {},
   "source": [
    "## K-NN for selecting edges"
   ]
  },
  {
   "cell_type": "code",
   "execution_count": 21,
   "id": "3e73a2a9-50e1-4dff-87be-aefb217b677a",
   "metadata": {},
   "outputs": [
    {
     "data": {
      "image/png": "[encoded data removed]",
      "text/plain": [
       "<Figure size 640x480 with 2 Axes>"
      ]
     },
     "metadata": {},
     "output_type": "display_data"
    }
   ],
   "source": [
    "plt.imshow(np.array(ut.compute_KNN_graph(A, 15)),cmap='jet')\n",
    "plt.colorbar()\n",
    "plt.grid(False)\n",
    "plt.show()"
   ]
  },
  {
   "cell_type": "markdown",
   "id": "f8608de1-6a93-42b1-9bd1-ab104e8e0de3",
   "metadata": {},
   "source": [
    "## Creating the graphs"
   ]
  },
  {
   "cell_type": "code",
   "execution_count": 27,
   "id": "43bc2dbb-91ef-4ffd-9545-fd2292206519",
   "metadata": {},
   "outputs": [],
   "source": [
    "train_data, val_data = ut.create_graph(pd.DataFrame(X_train),\n",
    "                                    pd.DataFrame(X_test), pd.DataFrame(y_train), pd.DataFrame(y_test), size=num_features,\n",
    "                                     method={'knn' : 15}) #,method={'threshold': 0.2})method={'knn_group' : ut.compute_KNN_graph(A, 15)}\n",
    "\n",
    "#train_data, TEST_data = create_graph(X_train, X_TEST, y_train, y_TEST, method={'knn_group' : compute_KNN_graph(A, 10)})# method={'knn' : 10}) #,method={'threshold': 0.2})"
   ]
  },
  {
   "cell_type": "code",
   "execution_count": 28,
   "id": "e0c59bc2-b6f7-45a1-96b9-c9c891e6f301",
   "metadata": {},
   "outputs": [
    {
     "name": "stdout",
     "output_type": "stream",
     "text": [
      "Data(x=[52, 52], edge_index=[2, 918], edge_attr=[918, 1], y=0)\n"
     ]
    }
   ],
   "source": [
    "print(train_data[-2])"
   ]
  },
  {
   "cell_type": "code",
   "execution_count": 29,
   "id": "3ccbfbb4-b8cc-42cc-891c-cff5a0950e8f",
   "metadata": {},
   "outputs": [
    {
     "data": {
      "text/plain": [
       "<matplotlib.image.AxesImage at 0x29358bcd0>"
      ]
     },
     "execution_count": 29,
     "metadata": {},
     "output_type": "execute_result"
    },
    {
     "data": {
      "image/png": "[encoded data removed]",
      "text/plain": [
       "<Figure size 640x480 with 1 Axes>"
      ]
     },
     "metadata": {},
     "output_type": "display_data"
    }
   ],
   "source": [
    "plt.imshow(train_data[-1].x,cmap='jet')"
   ]
  },
  {
   "cell_type": "code",
   "execution_count": 30,
   "id": "49767bb6-2c5f-4180-9165-f9d046ad7082",
   "metadata": {},
   "outputs": [],
   "source": [
    "train_loader, val_loader = ut.create_batch(train_data, val_data, batch_size=32)\n",
    "\n",
    "#TRAIN_loader, TEST_loader = create_batch(train_data, TEST_data, batch_size=20)"
   ]
  },
  {
   "cell_type": "code",
   "execution_count": 31,
   "id": "9fbae8a1-bbe4-43ee-b760-0598f63c9379",
   "metadata": {},
   "outputs": [
    {
     "name": "stdout",
     "output_type": "stream",
     "text": [
      "Validation balance \n",
      " 0 = 0.33% \n",
      " 1 = 0.67%\n",
      "----------------------\n"
     ]
    }
   ],
   "source": [
    "print('Validation balance \\n 0 = {:.2f}% \\n'.format(y_test.value_counts()[0]/len(y_test)), '1 = {:.2f}%'.format(y_test.value_counts()[1]/len(y_test)))\n",
    "print('----------------------')\n",
    "#print('TEST balance \\n 0 = {:.2f}% \\n'.format(y_TEST.value_counts()[0]/len(y_TEST)), '1 = {:.2f}%'.format(y_TEST.value_counts()[1]/len(y_TEST)))"
   ]
  },
  {
   "cell_type": "code",
   "execution_count": 36,
   "id": "c89df864-e874-4177-9a0c-094ddd99da03",
   "metadata": {},
   "outputs": [],
   "source": [
    "import torch\n",
    "import torch.nn as nn\n",
    "import torch.nn.functional as func\n",
    "from torch_geometric.nn import ChebConv, GCNConv, global_mean_pool, GATv2Conv, global_max_pool\n",
    "\n",
    "\n",
    "class GCN(torch.nn.Module):\n",
    "    \"\"\"GCN model(network architecture can be modified)\"\"\"\n",
    "\n",
    "    def __init__(self,\n",
    "                 num_features,\n",
    "                 num_classes,\n",
    "                 k_order,\n",
    "                 dropout=.5):\n",
    "        super(GCN, self).__init__()\n",
    "\n",
    "        self.p = dropout\n",
    "        \n",
    "        #self.conv1 = GCNConv(int(num_features), 148)\n",
    "        #self.conv2 = GCNConv(148,100)\n",
    "        #self.conv3 = GCNConv(64,32)\n",
    "        \n",
    "        #self.gat1 = GATv2Conv(int(num_features),128, heads=4, edge_dim=1)\n",
    "        #self.gat2 = GATv2Conv(128*4, 64, heads=1)\n",
    "        #self.gat3 = GATv2Conv(128*2, 148, heads=1)\n",
    "        \n",
    "        self.conv1 = ChebConv(int(num_features), 8, K=k_order)\n",
    "        self.conv2 = ChebConv(8,4, K=k_order)\n",
    "        #self.conv3 = ChebConv(128, 80, K=k_order)\n",
    "\n",
    "        self.lin1 = torch.nn.Linear(4, 2)\n",
    "        #self.lin2 = torch.nn.Linear(4, int(num_classes))\n",
    "        \n",
    "        #torch.nn.init.xavier_normal_(self.gat1)\n",
    "        #torch.nn.init.xavier_normal_(self.gat2)\n",
    "        torch.nn.init.xavier_normal_(self.lin1.weight)\n",
    "\n",
    "\n",
    "#         self.bn1 = torch.nn.BatchNorm1d(2)\n",
    "#         self.bn2 = torch.nn.BatchNorm1d(72)\n",
    "#         self.bn3 = torch.nn.BatchNorm1d(36)\n",
    "        \n",
    "        self.pool = global_mean_pool\n",
    "\n",
    "    def forward(self, data):\n",
    "        x, edge_index, edge_attr = data.x, data.edge_index, data.edge_attr\n",
    "        batch = data.batch\n",
    "\n",
    "        x = torch.relu(self.conv1(x, edge_index, edge_attr)) #WHY NAN WITH EDGE_ATTR (non-negative)\n",
    "        #print('1', x.shape)\n",
    "        #x,(index,att) = self.gat1(x=x, edge_index = edge_index,edge_attr=edge_attr,return_attention_weights=True)\n",
    "        #x = func.elu(x)\n",
    "        #print(att.shape)\n",
    "        x = func.dropout(x, p=self.p, training=self.training)\n",
    "        #x = self.bn1(x)\n",
    "        x = torch.relu(self.conv2(x, edge_index, edge_attr))  #WHY NAN WITH EDGE_ATTR (non-negative)\n",
    "        #print('2', x.shape)\n",
    "        #x = self.gat2(x, edge_index)\n",
    "        #x = func.elu(x)\n",
    "        #x = func.dropout(x, p=self.p, training=self.training)\n",
    "        #x = torch.tanh(self.conv3(x, edge_index, edge_attr))\n",
    "\n",
    "        #print(x.shape)\n",
    "        x = self.pool(x, batch)\n",
    "        #x = x.reshape(len(batch.unique()),190,190).mean(axis=2)\n",
    "        #print(x.shape)\n",
    "        #print('pool', x.shape)\n",
    "        #print(batch.shape)\n",
    "        #x = func.log_softmax(x, dim=1)\n",
    "        x = self.lin1(x)\n",
    "        #print('lin', x.shape)\n",
    "        #print(x.shape)\n",
    "        return x, (1,2)#(index,att)"
   ]
  },
  {
   "cell_type": "code",
   "execution_count": 37,
   "id": "0c1e516e-3a75-48ac-978f-371ab580268f",
   "metadata": {},
   "outputs": [
    {
     "data": {
      "text/plain": [
       "1366"
      ]
     },
     "execution_count": 37,
     "metadata": {},
     "output_type": "execute_result"
    }
   ],
   "source": [
    "model = GCN(num_features,2,3)\n",
    "def count_parameters(model):\n",
    "    return sum(p.numel() for p in model.parameters() if p.requires_grad)\n",
    "count_parameters(model)"
   ]
  },
  {
   "cell_type": "markdown",
   "id": "f3a1b5d2-dc78-46ab-bf59-cf44f351619c",
   "metadata": {},
   "source": [
    "# Testing in one fold"
   ]
  },
  {
   "cell_type": "code",
   "execution_count": 38,
   "id": "af3bd39c-0ebd-405b-84b6-fbb6e19a51cc",
   "metadata": {},
   "outputs": [],
   "source": [
    "def TRAIN_LOSS(loader):\n",
    "    model.eval()\n",
    "    l1_weight = 1e-5\n",
    "    \n",
    "    pred = []\n",
    "    label = []\n",
    "    \n",
    "    loss_all = 0\n",
    "    for data in loader:\n",
    "        data = data.to(device)\n",
    "        output = model(data)[0]\n",
    "        l1_penalty = l1_weight * sum([p.abs().sum() for p in model.parameters()])\n",
    "        loss = func.cross_entropy(output, data.y)\n",
    "        loss_with_penalty = loss + l1_penalty\n",
    "        loss_all += data.num_graphs * loss_with_penalty.item()\n",
    "        pred.append(func.softmax(output, dim=1).max(dim=1)[1])\n",
    "        label.append(data.y)\n",
    "\n",
    "    y_pred = torch.cat(pred, dim=0).cpu().detach().numpy()\n",
    "    y_true = torch.cat(label, dim=0).cpu().detach().numpy()\n",
    "    tn, fp, fn, tp = confusion_matrix(y_pred, y_true).ravel()\n",
    "    epoch_acc = (tn + tp) / (tn + tp + fn + fp)\n",
    "    \n",
    "    # AUC & ROC\n",
    "    # fpr, tpr, _ = roc_curve(y_true, y_pred)\n",
    "    # roc_auc = auc(fpr, tpr)\n",
    "    \n",
    "    return epoch_acc, loss_all / len(train_data)\n",
    "\n",
    "def GCN_train(loader, loop):\n",
    "    model.train()\n",
    "    l1_weight = 1e-5\n",
    "    loss_all = 0\n",
    "    pred = []\n",
    "    label = []\n",
    "    \n",
    "        \n",
    "    for (x, y) in enumerate(loop):\n",
    "        y = y.to(device)\n",
    "        optimizer.zero_grad()\n",
    "        output = model(y)[0]\n",
    "        #print(output)\n",
    "        # Adding L1 regularization\n",
    "        l1_penalty = l1_weight * sum([p.abs().sum() for p in model.parameters()])\n",
    "        loss = func.cross_entropy(output, y.y)\n",
    "        loss_with_penalty = loss + l1_penalty\n",
    "        loss_with_penalty.backward()\n",
    "        optimizer.step()\n",
    "        loss_all += y.num_graphs * loss_with_penalty.item()\n",
    "        pred.append(func.softmax(output, dim=1).max(dim=1)[1])\n",
    "        label.append(y.y)\n",
    "\n",
    "        loop.set_description(f\"Epoch [{epoch}/{NUM_EPOCHS}]\")\n",
    "        loop.set_postfix(loss=loss_all/len(train_data))\n",
    "        #optimizer.step()\n",
    "    y_pred = torch.cat(pred, dim=0).cpu().detach().numpy()\n",
    "    y_true = torch.cat(label, dim=0).cpu().detach().numpy()\n",
    "    tn, fp, fn, tp = confusion_matrix(y_pred, y_true).ravel()\n",
    "    epoch_acc = (tn + tp) / (tn + tp + fn + fp)\n",
    "        \n",
    "    return epoch_acc, loss_all / len(train_data)\n",
    "\n",
    "\n",
    "def GCN_test(loader):\n",
    "    \n",
    "    model.eval()\n",
    "    l1_weight = 1e-5\n",
    "    \n",
    "    pred = []\n",
    "    label = []\n",
    "    \n",
    "    loss_all = 0\n",
    "    for data in loader:\n",
    "        data = data.to(device)\n",
    "        output = model(data)[0]\n",
    "        l1_penalty = l1_weight * sum([p.abs().sum() for p in model.parameters()])\n",
    "        loss = func.cross_entropy(output, data.y)\n",
    "        loss_with_penalty = loss + l1_penalty\n",
    "        loss_all += data.num_graphs * loss_with_penalty.item()\n",
    "        pred.append(func.softmax(output, dim=1).max(dim=1)[1])\n",
    "        label.append(data.y)\n",
    "\n",
    "    y_pred = torch.cat(pred, dim=0).cpu().detach().numpy()\n",
    "    y_true = torch.cat(label, dim=0).cpu().detach().numpy()\n",
    "    tn, fp, fn, tp = confusion_matrix(y_pred, y_true).ravel()\n",
    "    epoch_rec = tp / (tp + fn)\n",
    "    epoch_prec = tp / (tp + fp)\n",
    "    epoch_f1 = 2*(epoch_rec*epoch_prec)/(epoch_rec + epoch_prec)\n",
    "    epoch_acc = (tn + tp) / (tn + tp + fn + fp)\n",
    "    \n",
    "    # AUC & ROC\n",
    "    fpr, tpr, _ = roc_curve(y_true, y_pred)\n",
    "    roc_auc = auc(fpr, tpr)\n",
    "    \n",
    "    return epoch_rec, epoch_prec, epoch_acc, loss_all / len(val_data), roc_auc,epoch_f1\n"
   ]
  },
  {
   "cell_type": "code",
   "execution_count": 39,
   "id": "b5a0663c-15ee-45f9-970a-3a4e53041501",
   "metadata": {},
   "outputs": [
    {
     "name": "stdout",
     "output_type": "stream",
     "text": [
      "Adjusting learning rate of group 0 to 1.0000e-03.\n"
     ]
    },
    {
     "name": "stderr",
     "output_type": "stream",
     "text": [
      "Epoch [1/50]: 100%|█████████████████| 57/57 [00:01<00:00, 32.75it/s, loss=0.724]\n"
     ]
    },
    {
     "name": "stdout",
     "output_type": "stream",
     "text": [
      "Adjusting learning rate of group 0 to 1.0000e-03.\n",
      "Val Accuracy 0.6685185185185185 , Val Loss 0.6674813313064751\n",
      "Train Accuracy 0.5993377483443708 , Train Loss 0.6823511588126092\n"
     ]
    },
    {
     "name": "stderr",
     "output_type": "stream",
     "text": [
      "Epoch [2/50]: 100%|██████████████████| 57/57 [00:01<00:00, 31.37it/s, loss=0.68]\n"
     ]
    },
    {
     "name": "stdout",
     "output_type": "stream",
     "text": [
      "Adjusting learning rate of group 0 to 1.0000e-03.\n",
      "Val Accuracy 0.6703703703703704 , Val Loss 0.6540744041403135\n",
      "Train Accuracy 0.5982339955849889 , Train Loss 0.6747073553519007\n"
     ]
    },
    {
     "name": "stderr",
     "output_type": "stream",
     "text": [
      "Epoch [3/50]: 100%|█████████████████| 57/57 [00:02<00:00, 27.18it/s, loss=0.674]\n"
     ]
    },
    {
     "name": "stdout",
     "output_type": "stream",
     "text": [
      "Adjusting learning rate of group 0 to 1.0000e-03.\n",
      "Val Accuracy 0.6703703703703704 , Val Loss 0.6520216877813693\n",
      "Train Accuracy 0.5982339955849889 , Train Loss 0.6702764714527341\n"
     ]
    },
    {
     "name": "stderr",
     "output_type": "stream",
     "text": [
      "Epoch [4/50]: 100%|██████████████████| 57/57 [00:02<00:00, 27.25it/s, loss=0.67]\n"
     ]
    },
    {
     "name": "stdout",
     "output_type": "stream",
     "text": [
      "Adjusting learning rate of group 0 to 1.0000e-03.\n",
      "Val Accuracy 0.6703703703703704 , Val Loss 0.6495860566143636\n",
      "Train Accuracy 0.5982339955849889 , Train Loss 0.6665397753515517\n"
     ]
    },
    {
     "name": "stderr",
     "output_type": "stream",
     "text": [
      "Epoch [5/50]: 100%|█████████████████| 57/57 [00:02<00:00, 24.34it/s, loss=0.667]\n"
     ]
    },
    {
     "name": "stdout",
     "output_type": "stream",
     "text": [
      "Adjusting learning rate of group 0 to 1.0000e-03.\n",
      "Val Accuracy 0.6703703703703704 , Val Loss 0.6472390525318958\n",
      "Train Accuracy 0.5993377483443708 , Train Loss 0.6632109690975669\n"
     ]
    },
    {
     "name": "stderr",
     "output_type": "stream",
     "text": [
      "Epoch [6/50]: 100%|█████████████████| 57/57 [00:01<00:00, 32.19it/s, loss=0.664]\n"
     ]
    },
    {
     "name": "stdout",
     "output_type": "stream",
     "text": [
      "Adjusting learning rate of group 0 to 1.0000e-03.\n",
      "Val Accuracy 0.6703703703703704 , Val Loss 0.6456987978131683\n",
      "Train Accuracy 0.5998896247240618 , Train Loss 0.6600027434346954\n"
     ]
    },
    {
     "name": "stderr",
     "output_type": "stream",
     "text": [
      "Epoch [7/50]: 100%|█████████████████| 57/57 [00:01<00:00, 33.71it/s, loss=0.659]\n"
     ]
    },
    {
     "name": "stdout",
     "output_type": "stream",
     "text": [
      "Adjusting learning rate of group 0 to 1.0000e-03.\n",
      "Val Accuracy 0.6703703703703704 , Val Loss 0.643423309204755\n",
      "Train Accuracy 0.6020971302428256 , Train Loss 0.6566555806606285\n"
     ]
    },
    {
     "name": "stderr",
     "output_type": "stream",
     "text": [
      "Epoch [8/50]: 100%|█████████████████| 57/57 [00:01<00:00, 30.46it/s, loss=0.657]\n"
     ]
    },
    {
     "ename": "KeyboardInterrupt",
     "evalue": "",
     "output_type": "error",
     "traceback": [
      "\u001b[0;31m---------------------------------------------------------------------------\u001b[0m",
      "\u001b[0;31mKeyboardInterrupt\u001b[0m                         Traceback (most recent call last)",
      "Cell \u001b[0;32mIn[39], line 17\u001b[0m\n\u001b[1;32m     15\u001b[0m train_acc, train_loss \u001b[38;5;241m=\u001b[39m GCN_train(train_loader,loop)\n\u001b[1;32m     16\u001b[0m test_rec, test_prec, test_acc, test_loss, roc_auc, test_f1 \u001b[38;5;241m=\u001b[39m GCN_test(val_loader)\n\u001b[0;32m---> 17\u001b[0m TRAIN_acc, TRAIN_loss \u001b[38;5;241m=\u001b[39m \u001b[43mTRAIN_LOSS\u001b[49m\u001b[43m(\u001b[49m\u001b[43mtrain_loader\u001b[49m\u001b[43m)\u001b[49m\n\u001b[1;32m     19\u001b[0m scheduler\u001b[38;5;241m.\u001b[39mstep()\n\u001b[1;32m     21\u001b[0m metrics[\u001b[38;5;124m'\u001b[39m\u001b[38;5;124mloss_train\u001b[39m\u001b[38;5;124m'\u001b[39m]\u001b[38;5;241m.\u001b[39mappend(TRAIN_loss)\n",
      "Cell \u001b[0;32mIn[38], line 11\u001b[0m, in \u001b[0;36mTRAIN_LOSS\u001b[0;34m(loader)\u001b[0m\n\u001b[1;32m      9\u001b[0m \u001b[38;5;28;01mfor\u001b[39;00m data \u001b[38;5;129;01min\u001b[39;00m loader:\n\u001b[1;32m     10\u001b[0m     data \u001b[38;5;241m=\u001b[39m data\u001b[38;5;241m.\u001b[39mto(device)\n\u001b[0;32m---> 11\u001b[0m     output \u001b[38;5;241m=\u001b[39m \u001b[43mmodel\u001b[49m\u001b[43m(\u001b[49m\u001b[43mdata\u001b[49m\u001b[43m)\u001b[49m[\u001b[38;5;241m0\u001b[39m]\n\u001b[1;32m     12\u001b[0m     l1_penalty \u001b[38;5;241m=\u001b[39m l1_weight \u001b[38;5;241m*\u001b[39m \u001b[38;5;28msum\u001b[39m([p\u001b[38;5;241m.\u001b[39mabs()\u001b[38;5;241m.\u001b[39msum() \u001b[38;5;28;01mfor\u001b[39;00m p \u001b[38;5;129;01min\u001b[39;00m model\u001b[38;5;241m.\u001b[39mparameters()])\n\u001b[1;32m     13\u001b[0m     loss \u001b[38;5;241m=\u001b[39m func\u001b[38;5;241m.\u001b[39mcross_entropy(output, data\u001b[38;5;241m.\u001b[39my)\n",
      "File \u001b[0;32m/opt/homebrew/Caskroom/miniforge/base/envs/GCN_study/lib/python3.9/site-packages/torch/nn/modules/module.py:1194\u001b[0m, in \u001b[0;36mModule._call_impl\u001b[0;34m(self, *input, **kwargs)\u001b[0m\n\u001b[1;32m   1190\u001b[0m \u001b[38;5;66;03m# If we don't have any hooks, we want to skip the rest of the logic in\u001b[39;00m\n\u001b[1;32m   1191\u001b[0m \u001b[38;5;66;03m# this function, and just call forward.\u001b[39;00m\n\u001b[1;32m   1192\u001b[0m \u001b[38;5;28;01mif\u001b[39;00m \u001b[38;5;129;01mnot\u001b[39;00m (\u001b[38;5;28mself\u001b[39m\u001b[38;5;241m.\u001b[39m_backward_hooks \u001b[38;5;129;01mor\u001b[39;00m \u001b[38;5;28mself\u001b[39m\u001b[38;5;241m.\u001b[39m_forward_hooks \u001b[38;5;129;01mor\u001b[39;00m \u001b[38;5;28mself\u001b[39m\u001b[38;5;241m.\u001b[39m_forward_pre_hooks \u001b[38;5;129;01mor\u001b[39;00m _global_backward_hooks\n\u001b[1;32m   1193\u001b[0m         \u001b[38;5;129;01mor\u001b[39;00m _global_forward_hooks \u001b[38;5;129;01mor\u001b[39;00m _global_forward_pre_hooks):\n\u001b[0;32m-> 1194\u001b[0m     \u001b[38;5;28;01mreturn\u001b[39;00m \u001b[43mforward_call\u001b[49m\u001b[43m(\u001b[49m\u001b[38;5;241;43m*\u001b[39;49m\u001b[38;5;28;43minput\u001b[39;49m\u001b[43m,\u001b[49m\u001b[43m \u001b[49m\u001b[38;5;241;43m*\u001b[39;49m\u001b[38;5;241;43m*\u001b[39;49m\u001b[43mkwargs\u001b[49m\u001b[43m)\u001b[49m\n\u001b[1;32m   1195\u001b[0m \u001b[38;5;66;03m# Do not call functions when jit is used\u001b[39;00m\n\u001b[1;32m   1196\u001b[0m full_backward_hooks, non_full_backward_hooks \u001b[38;5;241m=\u001b[39m [], []\n",
      "Cell \u001b[0;32mIn[36], line 49\u001b[0m, in \u001b[0;36mGCN.forward\u001b[0;34m(self, data)\u001b[0m\n\u001b[1;32m     46\u001b[0m x, edge_index, edge_attr \u001b[38;5;241m=\u001b[39m data\u001b[38;5;241m.\u001b[39mx, data\u001b[38;5;241m.\u001b[39medge_index, data\u001b[38;5;241m.\u001b[39medge_attr\n\u001b[1;32m     47\u001b[0m batch \u001b[38;5;241m=\u001b[39m data\u001b[38;5;241m.\u001b[39mbatch\n\u001b[0;32m---> 49\u001b[0m x \u001b[38;5;241m=\u001b[39m torch\u001b[38;5;241m.\u001b[39mrelu(\u001b[38;5;28;43mself\u001b[39;49m\u001b[38;5;241;43m.\u001b[39;49m\u001b[43mconv1\u001b[49m\u001b[43m(\u001b[49m\u001b[43mx\u001b[49m\u001b[43m,\u001b[49m\u001b[43m \u001b[49m\u001b[43medge_index\u001b[49m\u001b[43m,\u001b[49m\u001b[43m \u001b[49m\u001b[43medge_attr\u001b[49m\u001b[43m)\u001b[49m) \u001b[38;5;66;03m#WHY NAN WITH EDGE_ATTR (non-negative)\u001b[39;00m\n\u001b[1;32m     50\u001b[0m \u001b[38;5;66;03m#print('1', x.shape)\u001b[39;00m\n\u001b[1;32m     51\u001b[0m \u001b[38;5;66;03m#x,(index,att) = self.gat1(x=x, edge_index = edge_index,edge_attr=edge_attr,return_attention_weights=True)\u001b[39;00m\n\u001b[1;32m     52\u001b[0m \u001b[38;5;66;03m#x = func.elu(x)\u001b[39;00m\n\u001b[1;32m     53\u001b[0m \u001b[38;5;66;03m#print(att.shape)\u001b[39;00m\n\u001b[1;32m     54\u001b[0m x \u001b[38;5;241m=\u001b[39m func\u001b[38;5;241m.\u001b[39mdropout(x, p\u001b[38;5;241m=\u001b[39m\u001b[38;5;28mself\u001b[39m\u001b[38;5;241m.\u001b[39mp, training\u001b[38;5;241m=\u001b[39m\u001b[38;5;28mself\u001b[39m\u001b[38;5;241m.\u001b[39mtraining)\n",
      "File \u001b[0;32m/opt/homebrew/Caskroom/miniforge/base/envs/GCN_study/lib/python3.9/site-packages/torch/nn/modules/module.py:1194\u001b[0m, in \u001b[0;36mModule._call_impl\u001b[0;34m(self, *input, **kwargs)\u001b[0m\n\u001b[1;32m   1190\u001b[0m \u001b[38;5;66;03m# If we don't have any hooks, we want to skip the rest of the logic in\u001b[39;00m\n\u001b[1;32m   1191\u001b[0m \u001b[38;5;66;03m# this function, and just call forward.\u001b[39;00m\n\u001b[1;32m   1192\u001b[0m \u001b[38;5;28;01mif\u001b[39;00m \u001b[38;5;129;01mnot\u001b[39;00m (\u001b[38;5;28mself\u001b[39m\u001b[38;5;241m.\u001b[39m_backward_hooks \u001b[38;5;129;01mor\u001b[39;00m \u001b[38;5;28mself\u001b[39m\u001b[38;5;241m.\u001b[39m_forward_hooks \u001b[38;5;129;01mor\u001b[39;00m \u001b[38;5;28mself\u001b[39m\u001b[38;5;241m.\u001b[39m_forward_pre_hooks \u001b[38;5;129;01mor\u001b[39;00m _global_backward_hooks\n\u001b[1;32m   1193\u001b[0m         \u001b[38;5;129;01mor\u001b[39;00m _global_forward_hooks \u001b[38;5;129;01mor\u001b[39;00m _global_forward_pre_hooks):\n\u001b[0;32m-> 1194\u001b[0m     \u001b[38;5;28;01mreturn\u001b[39;00m \u001b[43mforward_call\u001b[49m\u001b[43m(\u001b[49m\u001b[38;5;241;43m*\u001b[39;49m\u001b[38;5;28;43minput\u001b[39;49m\u001b[43m,\u001b[49m\u001b[43m \u001b[49m\u001b[38;5;241;43m*\u001b[39;49m\u001b[38;5;241;43m*\u001b[39;49m\u001b[43mkwargs\u001b[49m\u001b[43m)\u001b[49m\n\u001b[1;32m   1195\u001b[0m \u001b[38;5;66;03m# Do not call functions when jit is used\u001b[39;00m\n\u001b[1;32m   1196\u001b[0m full_backward_hooks, non_full_backward_hooks \u001b[38;5;241m=\u001b[39m [], []\n",
      "File \u001b[0;32m/opt/homebrew/Caskroom/miniforge/base/envs/GCN_study/lib/python3.9/site-packages/torch_geometric/nn/conv/cheb_conv.py:157\u001b[0m, in \u001b[0;36mChebConv.forward\u001b[0;34m(self, x, edge_index, edge_weight, batch, lambda_max)\u001b[0m\n\u001b[1;32m    155\u001b[0m \u001b[38;5;28;01mfor\u001b[39;00m lin \u001b[38;5;129;01min\u001b[39;00m \u001b[38;5;28mself\u001b[39m\u001b[38;5;241m.\u001b[39mlins[\u001b[38;5;241m2\u001b[39m:]:\n\u001b[1;32m    156\u001b[0m     Tx_2 \u001b[38;5;241m=\u001b[39m \u001b[38;5;28mself\u001b[39m\u001b[38;5;241m.\u001b[39mpropagate(edge_index, x\u001b[38;5;241m=\u001b[39mTx_1, norm\u001b[38;5;241m=\u001b[39mnorm, size\u001b[38;5;241m=\u001b[39m\u001b[38;5;28;01mNone\u001b[39;00m)\n\u001b[0;32m--> 157\u001b[0m     Tx_2 \u001b[38;5;241m=\u001b[39m \u001b[38;5;241;43m2.\u001b[39;49m\u001b[43m \u001b[49m\u001b[38;5;241;43m*\u001b[39;49m\u001b[43m \u001b[49m\u001b[43mTx_2\u001b[49m\u001b[43m \u001b[49m\u001b[38;5;241;43m-\u001b[39;49m\u001b[43m \u001b[49m\u001b[43mTx_0\u001b[49m\n\u001b[1;32m    158\u001b[0m     out \u001b[38;5;241m=\u001b[39m out \u001b[38;5;241m+\u001b[39m lin\u001b[38;5;241m.\u001b[39mforward(Tx_2)\n\u001b[1;32m    159\u001b[0m     Tx_0, Tx_1 \u001b[38;5;241m=\u001b[39m Tx_1, Tx_2\n",
      "\u001b[0;31mKeyboardInterrupt\u001b[0m: "
     ]
    }
   ],
   "source": [
    "metrics = {\"loss_train\" : [], \"loss_test\" : [], \"acc_test\" : [], \"acc_train\" : []}\n",
    "\n",
    "device = torch.device('cuda' if torch.cuda.is_available() else 'cpu')\n",
    "model = GCN(num_features, 2, 5).to(device)  \n",
    "optimizer = torch.optim.Adam(model.parameters(), lr=1e-3, weight_decay=1e-3 )#,momentum=0.35)\n",
    "scheduler = torch.optim.lr_scheduler.MultiStepLR(optimizer, milestones=[40], gamma=1, verbose=True)\n",
    "   \n",
    "\n",
    "min_v_loss = np.inf  \n",
    "\n",
    "NUM_EPOCHS = 50\n",
    "\n",
    "for epoch in range(1,NUM_EPOCHS + 1):\n",
    "    loop = tqdm(train_loader)\n",
    "    train_acc, train_loss = GCN_train(train_loader,loop)\n",
    "    test_rec, test_prec, test_acc, test_loss, roc_auc, test_f1 = GCN_test(val_loader)\n",
    "    TRAIN_acc, TRAIN_loss = TRAIN_LOSS(train_loader)\n",
    "    \n",
    "    scheduler.step()\n",
    "    \n",
    "    metrics['loss_train'].append(TRAIN_loss)\n",
    "    metrics['loss_test'].append(test_loss)\n",
    "    metrics['acc_test'].append(test_acc)\n",
    "    metrics['acc_train'].append(TRAIN_acc)\n",
    "    \n",
    "    print('Val Accuracy {} , Val Loss {}'.format(test_acc, test_loss))\n",
    "    print('Train Accuracy {} , Train Loss {}'.format(TRAIN_acc, TRAIN_loss))\n",
    "\n",
    "#     y_pred = {'x1' : [], 'x2' : [], 'label' : []}\n",
    "#     for y in val_loader:\n",
    "#         y_pred['x1'].append(model(y).detach().numpy()[0][0])\n",
    "#         y_pred['x2'].append(model(y).detach().numpy()[0][1])\n",
    "#         y_pred['label'].append(y.y.detach().numpy()[0])\n",
    "        \n",
    "#     sns.scatterplot(data=pd.DataFrame.from_dict(y_pred) , x='x1', y='x2', hue='label')\n",
    "#     plt.show()\n",
    "    "
   ]
  },
  {
   "cell_type": "markdown",
   "id": "04e880dc-d1a8-456f-a6cb-3c60aa32cbd2",
   "metadata": {},
   "source": [
    "\n",
    "### Debug"
   ]
  },
  {
   "cell_type": "code",
   "execution_count": null,
   "id": "ac611aa2-8d5b-486d-bed2-028ee06f4cb0",
   "metadata": {},
   "outputs": [],
   "source": [
    "model.eval()"
   ]
  },
  {
   "cell_type": "code",
   "execution_count": null,
   "id": "c2fc3d63-b1c7-41e2-862a-6d3b4efd0281",
   "metadata": {},
   "outputs": [],
   "source": [
    "# for name, param in model.named_parameters():\n",
    "#     if param.requires_grad:\n",
    "#         print(name)\n",
    "#         print(param.data.shape)\n",
    "#         if name=='gat1.att': \n",
    "#             gat1 = param.data\n",
    "#             #print(name, param.data)"
   ]
  },
  {
   "cell_type": "code",
   "execution_count": null,
   "id": "05c1670d-b0f1-4661-8c7f-422989b515c8",
   "metadata": {},
   "outputs": [],
   "source": [
    "# gat1.shape"
   ]
  },
  {
   "cell_type": "code",
   "execution_count": null,
   "id": "f2bcc5b0-835b-4060-9a7f-bcaec31b38ed",
   "metadata": {},
   "outputs": [],
   "source": [
    "# plt.imshow(gat1[0,:,:])"
   ]
  },
  {
   "cell_type": "code",
   "execution_count": null,
   "id": "06ced281-7546-4fa8-ae52-fa94037a3d96",
   "metadata": {},
   "outputs": [],
   "source": [
    "# y_pred = []\n",
    "# for y_i in TEST_loader:\n",
    "#     #print(model(y).detach().numpy()[0][0])\n",
    "#     #y_pred.append(model(y).detach().numpy())\n",
    "#     y_pred.append(np.array(func.softmax(model(y_i), dim=1).detach().max(dim=1)[1]))\n",
    "    \n",
    "# print('TEST accuracy', accuracy_score(y_TEST.values.reshape(-1,1), y_pred))\n"
   ]
  },
  {
   "cell_type": "code",
   "execution_count": null,
   "id": "3fdf24ce-44df-402e-bbb4-2411db756c20",
   "metadata": {},
   "outputs": [],
   "source": [
    "y_pred = []\n",
    "for y_i in val_loader:\n",
    "    #y_pred.append(model(y).detach().numpy())\n",
    "    y_pred.append(func.softmax(model(y_i)[0], dim=1).detach().numpy())#.max(dim=1)[1])\n",
    "index, gat = model(y_i)[1]"
   ]
  },
  {
   "cell_type": "code",
   "execution_count": null,
   "id": "1a9f16e7-964c-4ab1-be95-c2090eefd379",
   "metadata": {},
   "outputs": [],
   "source": [
    "# gat[100,3].detach().numpy()"
   ]
  },
  {
   "cell_type": "code",
   "execution_count": null,
   "id": "2f9d1b69-f342-4dc4-907b-1dfd3b6f9473",
   "metadata": {},
   "outputs": [],
   "source": [
    "# gat_matrix = np.zeros((190,190))\n",
    "# cont = 0\n",
    "# for i, row in pd.DataFrame(index).T.iterrows():\n",
    "#     gat_matrix[int(row.values[0]), int(row.values[1])] = gat[cont,0].detach().numpy()\n",
    "#     cont += 1"
   ]
  },
  {
   "cell_type": "code",
   "execution_count": null,
   "id": "2acb541d-aab9-4fd7-b690-eb70e4560abc",
   "metadata": {},
   "outputs": [],
   "source": [
    "# plt.hist(gat_matrix.ravel())"
   ]
  },
  {
   "cell_type": "code",
   "execution_count": null,
   "id": "c408d625-117e-4b14-a218-a2930e834990",
   "metadata": {},
   "outputs": [],
   "source": [
    "plt.figure(figsize=(12,5))\n",
    "plt.hist(np.array(y_pred).reshape(len(y_pred)*2), bins=15)\n",
    "plt.title(\"Prob distribution\")\n",
    "plt.show()"
   ]
  },
  {
   "cell_type": "code",
   "execution_count": 68,
   "id": "94e20156-6534-4ca8-ad73-41aa03976401",
   "metadata": {},
   "outputs": [
    {
     "data": {
      "image/png": "[encoded data removed]",
      "text/plain": [
       "<Figure size 1000x600 with 1 Axes>"
      ]
     },
     "metadata": {},
     "output_type": "display_data"
    }
   ],
   "source": [
    "fig,ax = plt.subplots(figsize=(10,6))\n",
    "ax.plot(metrics['loss_train'], label='train')\n",
    "ax.plot(metrics['loss_test'], label='Validation')\n",
    "ax.set_ylabel('Cross entropy loss')\n",
    "ax.set_xlabel('Epochs')\n",
    "ax.legend()\n",
    "#plt.xlim(0,100)\n",
    "plt.show()"
   ]
  },
  {
   "cell_type": "code",
   "execution_count": 72,
   "id": "02aab259-39a5-42f2-a2ad-c949ba1f90c2",
   "metadata": {},
   "outputs": [
    {
     "data": {
      "image/png": "[encoded data removed]",
      "text/plain": [
       "<Figure size 1000x600 with 1 Axes>"
      ]
     },
     "metadata": {},
     "output_type": "display_data"
    }
   ],
   "source": [
    "fig,ax = plt.subplots(figsize=(10,6))\n",
    "ax.plot(metrics['acc_train'], label='Training', linewidth=1,marker='.')\n",
    "ax.plot(metrics['acc_test'], label='validation', linewidth=1,marker='.')\n",
    "ax.set_ylabel('Accuracy')\n",
    "ax.set_xlabel('Epochs')\n",
    "ax.set_title(r'$Test r = {:.2f}$'.format(np.corrcoef(np.arange(0,len(metrics['acc_test'])), metrics['acc_test'])[0][1]))\n",
    "ax.legend()\n",
    "plt.show()"
   ]
  },
  {
   "cell_type": "code",
   "execution_count": 73,
   "id": "9bead471-be74-44bc-83ee-c0b7ad3f5a45",
   "metadata": {},
   "outputs": [
    {
     "data": {
      "text/plain": [
       "array([[-0.26748853, -0.02437265,  0.28478753, ...,  0.05036029,\n",
       "        -0.16346826,  0.26487845],\n",
       "       [-0.03774038, -0.02823228, -0.03259386, ...,  0.58854467,\n",
       "        -0.07047067, -0.18177955],\n",
       "       [-0.00076698,  0.22270389, -0.16854481, ...,  0.47197914,\n",
       "        -0.25399374,  0.21721193],\n",
       "       ...,\n",
       "       [-0.38895331, -0.04380904, -0.03271651, ...,  0.4765449 ,\n",
       "        -0.1073977 ,  0.01220105],\n",
       "       [-0.38232611,  0.22685963, -0.0220608 , ...,  0.33583129,\n",
       "        -0.7100464 ,  0.10239143],\n",
       "       [ 0.44550565, -0.3243568 ,  0.53296088, ...,  0.0958766 ,\n",
       "        -0.11200184, -0.00546685]])"
      ]
     },
     "execution_count": 73,
     "metadata": {},
     "output_type": "execute_result"
    }
   ],
   "source": [
    "X_train"
   ]
  },
  {
   "cell_type": "markdown",
   "id": "d67f45aa-7ffa-4973-b875-702928183c90",
   "metadata": {},
   "source": [
    "## Kfold Cross validation"
   ]
  },
  {
   "cell_type": "code",
   "execution_count": 26,
   "id": "f150c982-9c78-48da-8db3-845825430e45",
   "metadata": {},
   "outputs": [
    {
     "name": "stderr",
     "output_type": "stream",
     "text": [
      "/opt/homebrew/Caskroom/miniforge/base/envs/GCN_study/lib/python3.9/site-packages/sklearn/preprocessing/_encoders.py:868: FutureWarning: `sparse` was renamed to `sparse_output` in version 1.2 and will be removed in 1.4. `sparse_output` is ignored unless you leave `sparse` to its default value.\n",
      "  warnings.warn(\n",
      "/opt/homebrew/Caskroom/miniforge/base/envs/GCN_study/lib/python3.9/site-packages/sklearn/preprocessing/_encoders.py:868: FutureWarning: `sparse` was renamed to `sparse_output` in version 1.2 and will be removed in 1.4. `sparse_output` is ignored unless you leave `sparse` to its default value.\n",
      "  warnings.warn(\n",
      "/opt/homebrew/Caskroom/miniforge/base/envs/GCN_study/lib/python3.9/site-packages/sklearn/preprocessing/_encoders.py:868: FutureWarning: `sparse` was renamed to `sparse_output` in version 1.2 and will be removed in 1.4. `sparse_output` is ignored unless you leave `sparse` to its default value.\n",
      "  warnings.warn(\n",
      "/opt/homebrew/Caskroom/miniforge/base/envs/GCN_study/lib/python3.9/site-packages/sklearn/preprocessing/_encoders.py:868: FutureWarning: `sparse` was renamed to `sparse_output` in version 1.2 and will be removed in 1.4. `sparse_output` is ignored unless you leave `sparse` to its default value.\n",
      "  warnings.warn(\n",
      "/opt/homebrew/Caskroom/miniforge/base/envs/GCN_study/lib/python3.9/site-packages/sklearn/preprocessing/_encoders.py:868: FutureWarning: `sparse` was renamed to `sparse_output` in version 1.2 and will be removed in 1.4. `sparse_output` is ignored unless you leave `sparse` to its default value.\n",
      "  warnings.warn(\n"
     ]
    }
   ],
   "source": [
    "X_train, y_train, X_test, y_test = ut.cross_val_data(df, folds=5, site=True)"
   ]
  },
  {
   "cell_type": "code",
   "execution_count": 50,
   "id": "e95be5d3-cbf9-4849-9870-07abe2ded917",
   "metadata": {},
   "outputs": [
    {
     "name": "stdout",
     "output_type": "stream",
     "text": [
      "------------------------------------------------------------------------\n",
      "Training for fold 1 ...\n",
      " 0 = 0.41% \n",
      " 1 = 0.59%\n",
      "Adjusting learning rate of group 0 to 1.0000e-03.\n"
     ]
    },
    {
     "name": "stderr",
     "output_type": "stream",
     "text": [
      "Epoch [1/40]: 100%|█████████████████| 55/55 [00:06<00:00,  7.92it/s, loss=0.885]\n"
     ]
    },
    {
     "name": "stdout",
     "output_type": "stream",
     "text": [
      "Val Accuracy 0.5939597315436241 , Val Loss 0.8570479172588195\n",
      "Train Accuracy 0.6224373576309795 , Train Loss 0.8410817276100906\n"
     ]
    },
    {
     "name": "stderr",
     "output_type": "stream",
     "text": [
      "Epoch [2/40]: 100%|█████████████████| 55/55 [00:07<00:00,  7.86it/s, loss=0.814]\n"
     ]
    },
    {
     "name": "stdout",
     "output_type": "stream",
     "text": [
      "Val Accuracy 0.587248322147651 , Val Loss 0.800949052376235\n",
      "Train Accuracy 0.6383826879271071 , Train Loss 0.7826805228795983\n"
     ]
    },
    {
     "name": "stderr",
     "output_type": "stream",
     "text": [
      "Epoch [3/40]: 100%|██████████████████| 55/55 [00:06<00:00,  7.88it/s, loss=0.76]\n"
     ]
    },
    {
     "name": "stdout",
     "output_type": "stream",
     "text": [
      "Val Accuracy 0.5989932885906041 , Val Loss 0.7618224339797193\n",
      "Train Accuracy 0.657744874715262 , Train Loss 0.7319261025730732\n"
     ]
    },
    {
     "name": "stderr",
     "output_type": "stream",
     "text": [
      "Epoch [4/40]: 100%|█████████████████| 55/55 [00:06<00:00,  7.97it/s, loss=0.721]\n"
     ]
    },
    {
     "name": "stdout",
     "output_type": "stream",
     "text": [
      "Val Accuracy 0.5973154362416108 , Val Loss 0.7407337028108187\n",
      "Train Accuracy 0.6674259681093394 , Train Loss 0.6944975233838335\n"
     ]
    },
    {
     "name": "stderr",
     "output_type": "stream",
     "text": [
      "Epoch [5/40]: 100%|█████████████████| 55/55 [00:07<00:00,  7.39it/s, loss=0.692]\n"
     ]
    },
    {
     "name": "stdout",
     "output_type": "stream",
     "text": [
      "Val Accuracy 0.5973154362416108 , Val Loss 0.7309440776405719\n",
      "Train Accuracy 0.6771070615034168 , Train Loss 0.6676055897612778\n"
     ]
    },
    {
     "name": "stderr",
     "output_type": "stream",
     "text": [
      "Epoch [6/40]: 100%|█████████████████| 55/55 [00:07<00:00,  7.49it/s, loss=0.668]\n"
     ]
    },
    {
     "name": "stdout",
     "output_type": "stream",
     "text": [
      "Val Accuracy 0.6057046979865772 , Val Loss 0.7219213502319067\n",
      "Train Accuracy 0.6947608200455581 , Train Loss 0.6476048607217967\n"
     ]
    },
    {
     "name": "stderr",
     "output_type": "stream",
     "text": [
      "Epoch [7/40]: 100%|█████████████████| 55/55 [00:07<00:00,  7.71it/s, loss=0.653]\n"
     ]
    },
    {
     "name": "stdout",
     "output_type": "stream",
     "text": [
      "Val Accuracy 0.6090604026845637 , Val Loss 0.7179032664171001\n",
      "Train Accuracy 0.6981776765375854 , Train Loss 0.6307703449405679\n"
     ]
    },
    {
     "name": "stderr",
     "output_type": "stream",
     "text": [
      "Epoch [8/40]: 100%|█████████████████| 55/55 [00:07<00:00,  7.65it/s, loss=0.637]\n"
     ]
    },
    {
     "name": "stdout",
     "output_type": "stream",
     "text": [
      "Val Accuracy 0.6140939597315436 , Val Loss 0.7170782887545608\n",
      "Train Accuracy 0.7084282460136674 , Train Loss 0.6162995835914699\n"
     ]
    },
    {
     "name": "stderr",
     "output_type": "stream",
     "text": [
      "Epoch [9/40]: 100%|█████████████████| 55/55 [00:07<00:00,  7.72it/s, loss=0.625]\n"
     ]
    },
    {
     "name": "stdout",
     "output_type": "stream",
     "text": [
      "Val Accuracy 0.6124161073825504 , Val Loss 0.7165264648904136\n",
      "Train Accuracy 0.7146924829157175 , Train Loss 0.6059242288724165\n"
     ]
    },
    {
     "name": "stderr",
     "output_type": "stream",
     "text": [
      "Epoch [10/40]: 100%|████████████████| 55/55 [00:07<00:00,  7.62it/s, loss=0.616]\n"
     ]
    },
    {
     "name": "stdout",
     "output_type": "stream",
     "text": [
      "Val Accuracy 0.6157718120805369 , Val Loss 0.7179636090693858\n",
      "Train Accuracy 0.7232346241457859 , Train Loss 0.5965404871656032\n"
     ]
    },
    {
     "name": "stderr",
     "output_type": "stream",
     "text": [
      "Epoch [11/40]: 100%|████████████████| 55/55 [00:07<00:00,  7.69it/s, loss=0.605]\n"
     ]
    },
    {
     "name": "stdout",
     "output_type": "stream",
     "text": [
      "Val Accuracy 0.6174496644295302 , Val Loss 0.7176792997266822\n",
      "Train Accuracy 0.729498861047836 , Train Loss 0.5871796242739997\n"
     ]
    },
    {
     "name": "stderr",
     "output_type": "stream",
     "text": [
      "Epoch [12/40]: 100%|████████████████| 55/55 [00:07<00:00,  7.80it/s, loss=0.598]\n"
     ]
    },
    {
     "name": "stdout",
     "output_type": "stream",
     "text": [
      "Val Accuracy 0.6241610738255033 , Val Loss 0.7186553776389201\n",
      "Train Accuracy 0.7374715261958997 , Train Loss 0.5792357984056233\n"
     ]
    },
    {
     "name": "stderr",
     "output_type": "stream",
     "text": [
      "Epoch [13/40]: 100%|████████████████| 55/55 [00:07<00:00,  7.77it/s, loss=0.596]\n"
     ]
    },
    {
     "name": "stdout",
     "output_type": "stream",
     "text": [
      "Val Accuracy 0.6325503355704698 , Val Loss 0.7187466911171507\n",
      "Train Accuracy 0.7369020501138952 , Train Loss 0.5721466105456776\n"
     ]
    },
    {
     "name": "stderr",
     "output_type": "stream",
     "text": [
      "Epoch [14/40]: 100%|████████████████| 55/55 [00:07<00:00,  7.75it/s, loss=0.586]\n"
     ]
    },
    {
     "name": "stdout",
     "output_type": "stream",
     "text": [
      "Val Accuracy 0.6291946308724832 , Val Loss 0.7175659368677227\n",
      "Train Accuracy 0.7414578587699316 , Train Loss 0.565071975044346\n"
     ]
    },
    {
     "name": "stderr",
     "output_type": "stream",
     "text": [
      "Epoch [15/40]: 100%|████████████████| 55/55 [00:07<00:00,  7.73it/s, loss=0.581]\n"
     ]
    },
    {
     "name": "stdout",
     "output_type": "stream",
     "text": [
      "Val Accuracy 0.6375838926174496 , Val Loss 0.7182985773847607\n",
      "Train Accuracy 0.7539863325740319 , Train Loss 0.5559619441119305\n"
     ]
    },
    {
     "name": "stderr",
     "output_type": "stream",
     "text": [
      "Epoch [16/40]: 100%|████████████████| 55/55 [00:07<00:00,  7.63it/s, loss=0.576]\n"
     ]
    },
    {
     "name": "stdout",
     "output_type": "stream",
     "text": [
      "Val Accuracy 0.6308724832214765 , Val Loss 0.7250998050799505\n",
      "Train Accuracy 0.755125284738041 , Train Loss 0.5517041702205336\n"
     ]
    },
    {
     "name": "stderr",
     "output_type": "stream",
     "text": [
      "Epoch [17/40]: 100%|████████████████| 55/55 [00:07<00:00,  7.71it/s, loss=0.572]\n"
     ]
    },
    {
     "name": "stdout",
     "output_type": "stream",
     "text": [
      "Val Accuracy 0.6526845637583892 , Val Loss 0.7213127927217108\n",
      "Train Accuracy 0.7596810933940774 , Train Loss 0.5446438042612445\n"
     ]
    },
    {
     "name": "stderr",
     "output_type": "stream",
     "text": [
      "Epoch [18/40]: 100%|████████████████| 55/55 [00:07<00:00,  7.65it/s, loss=0.559]\n"
     ]
    },
    {
     "name": "stdout",
     "output_type": "stream",
     "text": [
      "Val Accuracy 0.639261744966443 , Val Loss 0.7254779028624996\n",
      "Train Accuracy 0.7648063781321185 , Train Loss 0.5402802383709605\n"
     ]
    },
    {
     "name": "stderr",
     "output_type": "stream",
     "text": [
      "Epoch [19/40]: 100%|████████████████| 55/55 [00:07<00:00,  7.70it/s, loss=0.564]\n"
     ]
    },
    {
     "name": "stdout",
     "output_type": "stream",
     "text": [
      "Val Accuracy 0.6409395973154363 , Val Loss 0.7206100161756145\n",
      "Train Accuracy 0.7750569476082004 , Train Loss 0.533352301848505\n"
     ]
    },
    {
     "name": "stderr",
     "output_type": "stream",
     "text": [
      "Epoch [20/40]: 100%|████████████████| 55/55 [00:07<00:00,  7.63it/s, loss=0.567]\n"
     ]
    },
    {
     "name": "stdout",
     "output_type": "stream",
     "text": [
      "Val Accuracy 0.6342281879194631 , Val Loss 0.7301224479014241\n",
      "Train Accuracy 0.7659453302961275 , Train Loss 0.5320470124007901\n"
     ]
    },
    {
     "name": "stderr",
     "output_type": "stream",
     "text": [
      "Epoch [21/40]: 100%|████████████████| 55/55 [00:06<00:00,  8.09it/s, loss=0.545]\n"
     ]
    },
    {
     "name": "stdout",
     "output_type": "stream",
     "text": [
      "Val Accuracy 0.6543624161073825 , Val Loss 0.7194985291176794\n",
      "Train Accuracy 0.7796127562642369 , Train Loss 0.5220354287662375\n"
     ]
    },
    {
     "name": "stderr",
     "output_type": "stream",
     "text": [
      "Epoch [22/40]: 100%|████████████████| 55/55 [00:07<00:00,  7.73it/s, loss=0.556]\n"
     ]
    },
    {
     "name": "stdout",
     "output_type": "stream",
     "text": [
      "Val Accuracy 0.6543624161073825 , Val Loss 0.7205058032796787\n",
      "Train Accuracy 0.7824601366742597 , Train Loss 0.5166959721841139\n"
     ]
    },
    {
     "name": "stderr",
     "output_type": "stream",
     "text": [
      "Epoch [23/40]: 100%|████████████████| 55/55 [00:07<00:00,  7.47it/s, loss=0.546]\n"
     ]
    },
    {
     "name": "stdout",
     "output_type": "stream",
     "text": [
      "Val Accuracy 0.6610738255033557 , Val Loss 0.7194021194423205\n",
      "Train Accuracy 0.7938496583143508 , Train Loss 0.5113225788353244\n"
     ]
    },
    {
     "name": "stderr",
     "output_type": "stream",
     "text": [
      "Epoch [24/40]: 100%|████████████████| 55/55 [00:07<00:00,  7.72it/s, loss=0.535]\n"
     ]
    },
    {
     "name": "stdout",
     "output_type": "stream",
     "text": [
      "Val Accuracy 0.6526845637583892 , Val Loss 0.7219029645429261\n",
      "Train Accuracy 0.7955580865603644 , Train Loss 0.5011811866032507\n"
     ]
    },
    {
     "name": "stderr",
     "output_type": "stream",
     "text": [
      "Epoch [25/40]: 100%|████████████████| 55/55 [00:07<00:00,  7.64it/s, loss=0.527]\n"
     ]
    },
    {
     "name": "stdout",
     "output_type": "stream",
     "text": [
      "Val Accuracy 0.6442953020134228 , Val Loss 0.7308092268321338\n",
      "Train Accuracy 0.7944191343963554 , Train Loss 0.5000590296432478\n"
     ]
    },
    {
     "name": "stderr",
     "output_type": "stream",
     "text": [
      "Epoch [26/40]: 100%|████████████████| 55/55 [00:07<00:00,  7.59it/s, loss=0.526]\n"
     ]
    },
    {
     "name": "stdout",
     "output_type": "stream",
     "text": [
      "Val Accuracy 0.6526845637583892 , Val Loss 0.724582786846831\n",
      "Train Accuracy 0.7961275626423691 , Train Loss 0.49349546744774575\n"
     ]
    },
    {
     "name": "stderr",
     "output_type": "stream",
     "text": [
      "Epoch [27/40]: 100%|████████████████| 55/55 [00:07<00:00,  7.65it/s, loss=0.534]\n"
     ]
    },
    {
     "name": "stdout",
     "output_type": "stream",
     "text": [
      "Val Accuracy 0.6577181208053692 , Val Loss 0.7218449664920968\n",
      "Train Accuracy 0.8046697038724373 , Train Loss 0.4857657428890263\n"
     ]
    },
    {
     "name": "stderr",
     "output_type": "stream",
     "text": [
      "Epoch [28/40]: 100%|████████████████| 55/55 [00:07<00:00,  7.61it/s, loss=0.522]\n"
     ]
    },
    {
     "name": "stdout",
     "output_type": "stream",
     "text": [
      "Val Accuracy 0.6644295302013423 , Val Loss 0.7189527608441727\n",
      "Train Accuracy 0.8086560364464692 , Train Loss 0.4835008165559356\n"
     ]
    },
    {
     "name": "stderr",
     "output_type": "stream",
     "text": [
      "Epoch [29/40]: 100%|████████████████| 55/55 [00:07<00:00,  7.70it/s, loss=0.515]\n"
     ]
    },
    {
     "name": "stdout",
     "output_type": "stream",
     "text": [
      "Val Accuracy 0.6593959731543624 , Val Loss 0.7266897864502249\n",
      "Train Accuracy 0.8120728929384966 , Train Loss 0.4756682334565356\n"
     ]
    },
    {
     "name": "stderr",
     "output_type": "stream",
     "text": [
      "Epoch [30/40]: 100%|████████████████| 55/55 [00:07<00:00,  7.54it/s, loss=0.531]\n"
     ]
    },
    {
     "name": "stdout",
     "output_type": "stream",
     "text": [
      "Val Accuracy 0.6694630872483222 , Val Loss 0.7262571224655281\n",
      "Train Accuracy 0.8189066059225513 , Train Loss 0.47118895960831697\n"
     ]
    },
    {
     "name": "stderr",
     "output_type": "stream",
     "text": [
      "Epoch [31/40]: 100%|████████████████| 55/55 [00:07<00:00,  7.78it/s, loss=0.509]\n"
     ]
    },
    {
     "name": "stdout",
     "output_type": "stream",
     "text": [
      "Val Accuracy 0.6526845637583892 , Val Loss 0.7269341989589118\n",
      "Train Accuracy 0.8194760820045558 , Train Loss 0.4641144291958125\n"
     ]
    },
    {
     "name": "stderr",
     "output_type": "stream",
     "text": [
      "Epoch [32/40]: 100%|████████████████| 55/55 [00:07<00:00,  7.70it/s, loss=0.502]\n"
     ]
    },
    {
     "name": "stdout",
     "output_type": "stream",
     "text": [
      "Val Accuracy 0.6610738255033557 , Val Loss 0.7248177966790511\n",
      "Train Accuracy 0.8251708428246014 , Train Loss 0.4598627498454005\n"
     ]
    },
    {
     "name": "stderr",
     "output_type": "stream",
     "text": [
      "Epoch [33/40]: 100%|██████████████████| 55/55 [00:07<00:00,  7.75it/s, loss=0.5]\n"
     ]
    },
    {
     "name": "stdout",
     "output_type": "stream",
     "text": [
      "Val Accuracy 0.6560402684563759 , Val Loss 0.7268815557128631\n",
      "Train Accuracy 0.8297266514806378 , Train Loss 0.4560838689293568\n"
     ]
    },
    {
     "name": "stderr",
     "output_type": "stream",
     "text": [
      "Epoch [34/40]: 100%|████████████████| 55/55 [00:07<00:00,  7.20it/s, loss=0.505]\n"
     ]
    },
    {
     "name": "stdout",
     "output_type": "stream",
     "text": [
      "Val Accuracy 0.6593959731543624 , Val Loss 0.7157501545328422\n",
      "Train Accuracy 0.8285876993166287 , Train Loss 0.4501756876367643\n"
     ]
    },
    {
     "name": "stderr",
     "output_type": "stream",
     "text": [
      "Epoch [35/40]: 100%|████████████████| 55/55 [00:07<00:00,  7.80it/s, loss=0.498]\n"
     ]
    },
    {
     "name": "stdout",
     "output_type": "stream",
     "text": [
      "Val Accuracy 0.6493288590604027 , Val Loss 0.7311743751243257\n",
      "Train Accuracy 0.8280182232346242 , Train Loss 0.4499663893888643\n"
     ]
    },
    {
     "name": "stderr",
     "output_type": "stream",
     "text": [
      "Epoch [36/40]: 100%|████████████████| 55/55 [00:07<00:00,  7.81it/s, loss=0.485]\n"
     ]
    },
    {
     "name": "stdout",
     "output_type": "stream",
     "text": [
      "Val Accuracy 0.6577181208053692 , Val Loss 0.7225882861600726\n",
      "Train Accuracy 0.8342824601366743 , Train Loss 0.4383118777856197\n"
     ]
    },
    {
     "name": "stderr",
     "output_type": "stream",
     "text": [
      "Epoch [37/40]: 100%|████████████████| 55/55 [00:07<00:00,  7.72it/s, loss=0.493]\n"
     ]
    },
    {
     "name": "stdout",
     "output_type": "stream",
     "text": [
      "Val Accuracy 0.6510067114093959 , Val Loss 0.724833255533704\n",
      "Train Accuracy 0.8388382687927107 , Train Loss 0.4395729399759297\n"
     ]
    },
    {
     "name": "stderr",
     "output_type": "stream",
     "text": [
      "Epoch [38/40]: 100%|████████████████| 55/55 [00:07<00:00,  7.79it/s, loss=0.495]\n"
     ]
    },
    {
     "name": "stdout",
     "output_type": "stream",
     "text": [
      "Val Accuracy 0.6560402684563759 , Val Loss 0.7266235428756015\n",
      "Train Accuracy 0.8399772209567198 , Train Loss 0.43222324024028824\n"
     ]
    },
    {
     "name": "stderr",
     "output_type": "stream",
     "text": [
      "Epoch [39/40]: 100%|████████████████| 55/55 [00:07<00:00,  7.76it/s, loss=0.482]\n"
     ]
    },
    {
     "name": "stdout",
     "output_type": "stream",
     "text": [
      "Val Accuracy 0.6661073825503355 , Val Loss 0.7191076330378051\n",
      "Train Accuracy 0.8394077448747153 , Train Loss 0.42817780776013004\n"
     ]
    },
    {
     "name": "stderr",
     "output_type": "stream",
     "text": [
      "Epoch [40/40]: 100%|████████████████| 55/55 [00:07<00:00,  7.75it/s, loss=0.481]\n"
     ]
    },
    {
     "name": "stdout",
     "output_type": "stream",
     "text": [
      "Val Accuracy 0.6526845637583892 , Val Loss 0.7201578293945765\n",
      "Train Accuracy 0.8433940774487472 , Train Loss 0.4248489325437568\n",
      "Score for fold 1: loss of 0.7201578293945765; acc of 0.6526845637583892%; AUC of 0.6161110332913107%\n",
      "------------------------------------------------------------------------\n",
      "Training for fold 2 ...\n",
      " 0 = 0.39% \n",
      " 1 = 0.61%\n",
      "Adjusting learning rate of group 0 to 1.0000e-03.\n"
     ]
    },
    {
     "name": "stderr",
     "output_type": "stream",
     "text": [
      "Epoch [1/40]: 100%|█████████████████| 58/58 [00:07<00:00,  7.83it/s, loss=0.888]\n"
     ]
    },
    {
     "name": "stdout",
     "output_type": "stream",
     "text": [
      "Val Accuracy 0.6141732283464567 , Val Loss 0.8536451823833421\n",
      "Train Accuracy 0.6155097613882863 , Train Loss 0.8444754829117119\n"
     ]
    },
    {
     "name": "stderr",
     "output_type": "stream",
     "text": [
      "Epoch [2/40]: 100%|██████████████████| 58/58 [00:07<00:00,  7.71it/s, loss=0.82]\n"
     ]
    },
    {
     "name": "stdout",
     "output_type": "stream",
     "text": [
      "Val Accuracy 0.594488188976378 , Val Loss 0.8107075259441466\n",
      "Train Accuracy 0.6290672451193059 , Train Loss 0.7841995688167415\n"
     ]
    },
    {
     "name": "stderr",
     "output_type": "stream",
     "text": [
      "Epoch [3/40]: 100%|█████████████████| 58/58 [00:07<00:00,  7.77it/s, loss=0.767]\n"
     ]
    },
    {
     "name": "stdout",
     "output_type": "stream",
     "text": [
      "Val Accuracy 0.6062992125984252 , Val Loss 0.7764681396991249\n",
      "Train Accuracy 0.6491323210412148 , Train Loss 0.7334939374582369\n"
     ]
    },
    {
     "name": "stderr",
     "output_type": "stream",
     "text": [
      "Epoch [4/40]: 100%|█████████████████| 58/58 [00:07<00:00,  7.81it/s, loss=0.727]\n"
     ]
    },
    {
     "name": "stdout",
     "output_type": "stream",
     "text": [
      "Val Accuracy 0.6122047244094488 , Val Loss 0.7550170334188018\n",
      "Train Accuracy 0.6572668112798264 , Train Loss 0.6972577185279119\n"
     ]
    },
    {
     "name": "stderr",
     "output_type": "stream",
     "text": [
      "Epoch [5/40]: 100%|█████████████████| 58/58 [00:07<00:00,  7.89it/s, loss=0.699]\n"
     ]
    },
    {
     "name": "stdout",
     "output_type": "stream",
     "text": [
      "Val Accuracy 0.6141732283464567 , Val Loss 0.7459937320567491\n",
      "Train Accuracy 0.665943600867679 , Train Loss 0.6707755241890533\n"
     ]
    },
    {
     "name": "stderr",
     "output_type": "stream",
     "text": [
      "Epoch [6/40]: 100%|█████████████████| 58/58 [00:07<00:00,  7.79it/s, loss=0.673]\n"
     ]
    },
    {
     "name": "stdout",
     "output_type": "stream",
     "text": [
      "Val Accuracy 0.6043307086614174 , Val Loss 0.7484424702060504\n",
      "Train Accuracy 0.6979392624728851 , Train Loss 0.6469186474599445\n"
     ]
    },
    {
     "name": "stderr",
     "output_type": "stream",
     "text": [
      "Epoch [7/40]: 100%|█████████████████| 58/58 [00:07<00:00,  7.99it/s, loss=0.658]\n"
     ]
    },
    {
     "name": "stdout",
     "output_type": "stream",
     "text": [
      "Val Accuracy 0.6082677165354331 , Val Loss 0.7477961950825425\n",
      "Train Accuracy 0.7142082429501084 , Train Loss 0.6287946020962101\n"
     ]
    },
    {
     "name": "stderr",
     "output_type": "stream",
     "text": [
      "Epoch [8/40]: 100%|█████████████████| 58/58 [00:07<00:00,  7.90it/s, loss=0.644]\n"
     ]
    },
    {
     "name": "stdout",
     "output_type": "stream",
     "text": [
      "Val Accuracy 0.6122047244094488 , Val Loss 0.7510420703512477\n",
      "Train Accuracy 0.7250542299349241 , Train Loss 0.6143228375472112\n"
     ]
    },
    {
     "name": "stderr",
     "output_type": "stream",
     "text": [
      "Epoch [9/40]: 100%|█████████████████| 58/58 [00:07<00:00,  7.91it/s, loss=0.632]\n"
     ]
    },
    {
     "name": "stdout",
     "output_type": "stream",
     "text": [
      "Val Accuracy 0.5984251968503937 , Val Loss 0.760672929264077\n",
      "Train Accuracy 0.735357917570499 , Train Loss 0.6028043896670973\n"
     ]
    },
    {
     "name": "stderr",
     "output_type": "stream",
     "text": [
      "Epoch [10/40]: 100%|████████████████| 58/58 [00:07<00:00,  7.79it/s, loss=0.624]\n"
     ]
    },
    {
     "name": "stdout",
     "output_type": "stream",
     "text": [
      "Val Accuracy 0.6023622047244095 , Val Loss 0.7620970207435174\n",
      "Train Accuracy 0.7445770065075922 , Train Loss 0.5921628644564664\n"
     ]
    },
    {
     "name": "stderr",
     "output_type": "stream",
     "text": [
      "Epoch [11/40]: 100%|████████████████| 58/58 [00:07<00:00,  7.95it/s, loss=0.615]\n"
     ]
    },
    {
     "name": "stdout",
     "output_type": "stream",
     "text": [
      "Val Accuracy 0.5964566929133859 , Val Loss 0.7629263106088234\n",
      "Train Accuracy 0.7521691973969631 , Train Loss 0.5799318979981147\n"
     ]
    },
    {
     "name": "stderr",
     "output_type": "stream",
     "text": [
      "Epoch [12/40]: 100%|████████████████| 58/58 [00:07<00:00,  7.97it/s, loss=0.606]\n"
     ]
    },
    {
     "name": "stdout",
     "output_type": "stream",
     "text": [
      "Val Accuracy 0.6141732283464567 , Val Loss 0.761022211925134\n",
      "Train Accuracy 0.7608459869848156 , Train Loss 0.5720626798472539\n"
     ]
    },
    {
     "name": "stderr",
     "output_type": "stream",
     "text": [
      "Epoch [13/40]: 100%|████████████████| 58/58 [00:07<00:00,  7.83it/s, loss=0.597]\n"
     ]
    },
    {
     "name": "stdout",
     "output_type": "stream",
     "text": [
      "Val Accuracy 0.6082677165354331 , Val Loss 0.767598635143065\n",
      "Train Accuracy 0.764642082429501 , Train Loss 0.5633457194440018\n"
     ]
    },
    {
     "name": "stderr",
     "output_type": "stream",
     "text": [
      "Epoch [14/40]: 100%|████████████████| 58/58 [00:07<00:00,  7.63it/s, loss=0.585]\n"
     ]
    },
    {
     "name": "stdout",
     "output_type": "stream",
     "text": [
      "Val Accuracy 0.6043307086614174 , Val Loss 0.7727919774584648\n",
      "Train Accuracy 0.7651843817787418 , Train Loss 0.5548882565891406\n"
     ]
    },
    {
     "name": "stderr",
     "output_type": "stream",
     "text": [
      "Epoch [15/40]: 100%|████████████████| 58/58 [00:07<00:00,  7.95it/s, loss=0.583]\n"
     ]
    },
    {
     "name": "stdout",
     "output_type": "stream",
     "text": [
      "Val Accuracy 0.6082677165354331 , Val Loss 0.7758654849677105\n",
      "Train Accuracy 0.7744034707158352 , Train Loss 0.5485416509841373\n"
     ]
    },
    {
     "name": "stderr",
     "output_type": "stream",
     "text": [
      "Epoch [16/40]: 100%|████████████████| 58/58 [00:07<00:00,  7.84it/s, loss=0.575]\n"
     ]
    },
    {
     "name": "stdout",
     "output_type": "stream",
     "text": [
      "Val Accuracy 0.6062992125984252 , Val Loss 0.7819830571983274\n",
      "Train Accuracy 0.7803687635574837 , Train Loss 0.5381787180124809\n"
     ]
    },
    {
     "name": "stderr",
     "output_type": "stream",
     "text": [
      "Epoch [17/40]: 100%|████████████████| 58/58 [00:07<00:00,  7.82it/s, loss=0.567]\n"
     ]
    },
    {
     "name": "stdout",
     "output_type": "stream",
     "text": [
      "Val Accuracy 0.6043307086614174 , Val Loss 0.7834014899471379\n",
      "Train Accuracy 0.7819956616052061 , Train Loss 0.5294785313389048\n"
     ]
    },
    {
     "name": "stderr",
     "output_type": "stream",
     "text": [
      "Epoch [18/40]: 100%|████████████████| 58/58 [00:07<00:00,  7.94it/s, loss=0.569]\n"
     ]
    },
    {
     "name": "stdout",
     "output_type": "stream",
     "text": [
      "Val Accuracy 0.5964566929133859 , Val Loss 0.7832055782796595\n",
      "Train Accuracy 0.7819956616052061 , Train Loss 0.5243509852705188\n"
     ]
    },
    {
     "name": "stderr",
     "output_type": "stream",
     "text": [
      "Epoch [19/40]: 100%|████████████████| 58/58 [00:07<00:00,  7.90it/s, loss=0.572]\n"
     ]
    },
    {
     "name": "stdout",
     "output_type": "stream",
     "text": [
      "Val Accuracy 0.6003937007874016 , Val Loss 0.7823347197478916\n",
      "Train Accuracy 0.7852494577006508 , Train Loss 0.5224371405071913\n"
     ]
    },
    {
     "name": "stderr",
     "output_type": "stream",
     "text": [
      "Epoch [20/40]: 100%|████████████████| 58/58 [00:07<00:00,  7.82it/s, loss=0.558]\n"
     ]
    },
    {
     "name": "stdout",
     "output_type": "stream",
     "text": [
      "Val Accuracy 0.6082677165354331 , Val Loss 0.7882434114461808\n",
      "Train Accuracy 0.7906724511930586 , Train Loss 0.5146317056616578\n"
     ]
    },
    {
     "name": "stderr",
     "output_type": "stream",
     "text": [
      "Epoch [21/40]: 100%|████████████████| 58/58 [00:07<00:00,  7.94it/s, loss=0.549]\n"
     ]
    },
    {
     "name": "stdout",
     "output_type": "stream",
     "text": [
      "Val Accuracy 0.6240157480314961 , Val Loss 0.7905740348519538\n",
      "Train Accuracy 0.7912147505422994 , Train Loss 0.5102660684420075\n"
     ]
    },
    {
     "name": "stderr",
     "output_type": "stream",
     "text": [
      "Epoch [22/40]: 100%|████████████████| 58/58 [00:07<00:00,  7.82it/s, loss=0.543]\n"
     ]
    },
    {
     "name": "stdout",
     "output_type": "stream",
     "text": [
      "Val Accuracy 0.6181102362204725 , Val Loss 0.790815168405025\n",
      "Train Accuracy 0.7939262472885033 , Train Loss 0.5040374549505767\n"
     ]
    },
    {
     "name": "stderr",
     "output_type": "stream",
     "text": [
      "Epoch [23/40]: 100%|████████████████| 58/58 [00:07<00:00,  7.87it/s, loss=0.549]\n"
     ]
    },
    {
     "name": "stdout",
     "output_type": "stream",
     "text": [
      "Val Accuracy 0.6122047244094488 , Val Loss 0.7932212987518686\n",
      "Train Accuracy 0.7950108459869848 , Train Loss 0.5013864270518503\n"
     ]
    },
    {
     "name": "stderr",
     "output_type": "stream",
     "text": [
      "Epoch [24/40]: 100%|████████████████| 58/58 [00:07<00:00,  7.83it/s, loss=0.547]\n"
     ]
    },
    {
     "name": "stdout",
     "output_type": "stream",
     "text": [
      "Val Accuracy 0.6122047244094488 , Val Loss 0.7946577171289076\n",
      "Train Accuracy 0.7977223427331888 , Train Loss 0.49779857704799757\n"
     ]
    },
    {
     "name": "stderr",
     "output_type": "stream",
     "text": [
      "Epoch [25/40]: 100%|████████████████| 58/58 [00:07<00:00,  7.75it/s, loss=0.538]\n"
     ]
    },
    {
     "name": "stdout",
     "output_type": "stream",
     "text": [
      "Val Accuracy 0.6200787401574803 , Val Loss 0.793557498010066\n",
      "Train Accuracy 0.8101952277657267 , Train Loss 0.49076349176708894\n"
     ]
    },
    {
     "name": "stderr",
     "output_type": "stream",
     "text": [
      "Epoch [26/40]: 100%|████████████████| 58/58 [00:08<00:00,  7.07it/s, loss=0.536]\n"
     ]
    },
    {
     "name": "stdout",
     "output_type": "stream",
     "text": [
      "Val Accuracy 0.6279527559055118 , Val Loss 0.8007912258434249\n",
      "Train Accuracy 0.8042299349240781 , Train Loss 0.4885812278942017\n"
     ]
    },
    {
     "name": "stderr",
     "output_type": "stream",
     "text": [
      "Epoch [27/40]: 100%|████████████████| 58/58 [00:07<00:00,  7.50it/s, loss=0.531]\n"
     ]
    },
    {
     "name": "stdout",
     "output_type": "stream",
     "text": [
      "Val Accuracy 0.6161417322834646 , Val Loss 0.7977583790417966\n",
      "Train Accuracy 0.8058568329718004 , Train Loss 0.4828419677606115\n"
     ]
    },
    {
     "name": "stderr",
     "output_type": "stream",
     "text": [
      "Epoch [28/40]: 100%|████████████████| 58/58 [00:07<00:00,  7.77it/s, loss=0.529]\n"
     ]
    },
    {
     "name": "stdout",
     "output_type": "stream",
     "text": [
      "Val Accuracy 0.6181102362204725 , Val Loss 0.8041838445062712\n",
      "Train Accuracy 0.8177874186550976 , Train Loss 0.47876480745390027\n"
     ]
    },
    {
     "name": "stderr",
     "output_type": "stream",
     "text": [
      "Epoch [29/40]: 100%|████████████████| 58/58 [00:07<00:00,  7.92it/s, loss=0.525]\n"
     ]
    },
    {
     "name": "stdout",
     "output_type": "stream",
     "text": [
      "Val Accuracy 0.6200787401574803 , Val Loss 0.8080144494654625\n",
      "Train Accuracy 0.8101952277657267 , Train Loss 0.4762654582487011\n"
     ]
    },
    {
     "name": "stderr",
     "output_type": "stream",
     "text": [
      "Epoch [30/40]: 100%|████████████████| 58/58 [00:07<00:00,  7.88it/s, loss=0.531]\n"
     ]
    },
    {
     "name": "stdout",
     "output_type": "stream",
     "text": [
      "Val Accuracy 0.6181102362204725 , Val Loss 0.8092284283094754\n",
      "Train Accuracy 0.8129067245119306 , Train Loss 0.47476470948817157\n"
     ]
    },
    {
     "name": "stderr",
     "output_type": "stream",
     "text": [
      "Epoch [31/40]: 100%|████████████████| 58/58 [00:07<00:00,  7.84it/s, loss=0.512]\n"
     ]
    },
    {
     "name": "stdout",
     "output_type": "stream",
     "text": [
      "Val Accuracy 0.6141732283464567 , Val Loss 0.8121442893431998\n",
      "Train Accuracy 0.8264642082429501 , Train Loss 0.4664676877267966\n"
     ]
    },
    {
     "name": "stderr",
     "output_type": "stream",
     "text": [
      "Epoch [32/40]: 100%|████████████████| 58/58 [00:07<00:00,  7.80it/s, loss=0.513]\n"
     ]
    },
    {
     "name": "stdout",
     "output_type": "stream",
     "text": [
      "Val Accuracy 0.6279527559055118 , Val Loss 0.8110606891770414\n",
      "Train Accuracy 0.8188720173535792 , Train Loss 0.4635056908890896\n"
     ]
    },
    {
     "name": "stderr",
     "output_type": "stream",
     "text": [
      "Epoch [33/40]: 100%|████████████████| 58/58 [00:07<00:00,  7.85it/s, loss=0.502]\n"
     ]
    },
    {
     "name": "stdout",
     "output_type": "stream",
     "text": [
      "Val Accuracy 0.6240157480314961 , Val Loss 0.8198450713851085\n",
      "Train Accuracy 0.8264642082429501 , Train Loss 0.4552461713099945\n"
     ]
    },
    {
     "name": "stderr",
     "output_type": "stream",
     "text": [
      "Epoch [34/40]: 100%|████████████████| 58/58 [00:07<00:00,  7.78it/s, loss=0.506]\n"
     ]
    },
    {
     "name": "stdout",
     "output_type": "stream",
     "text": [
      "Val Accuracy 0.6181102362204725 , Val Loss 0.8199651475966446\n",
      "Train Accuracy 0.8373101952277657 , Train Loss 0.4521495045653651\n"
     ]
    },
    {
     "name": "stderr",
     "output_type": "stream",
     "text": [
      "Epoch [35/40]: 100%|████████████████| 58/58 [00:08<00:00,  7.11it/s, loss=0.508]\n"
     ]
    },
    {
     "name": "stdout",
     "output_type": "stream",
     "text": [
      "Val Accuracy 0.6161417322834646 , Val Loss 0.8186439329054295\n",
      "Train Accuracy 0.8248373101952278 , Train Loss 0.45115793850313296\n"
     ]
    },
    {
     "name": "stderr",
     "output_type": "stream",
     "text": [
      "Epoch [36/40]: 100%|████████████████| 58/58 [00:11<00:00,  5.23it/s, loss=0.512]\n"
     ]
    },
    {
     "name": "stdout",
     "output_type": "stream",
     "text": [
      "Val Accuracy 0.6259842519685039 , Val Loss 0.813297020462085\n",
      "Train Accuracy 0.8280911062906724 , Train Loss 0.45186304309104375\n"
     ]
    },
    {
     "name": "stderr",
     "output_type": "stream",
     "text": [
      "Epoch [37/40]: 100%|████████████████| 58/58 [00:10<00:00,  5.30it/s, loss=0.507]\n"
     ]
    },
    {
     "name": "stdout",
     "output_type": "stream",
     "text": [
      "Val Accuracy 0.6200787401574803 , Val Loss 0.8245452835525232\n",
      "Train Accuracy 0.8232104121475055 , Train Loss 0.44787038794825756\n"
     ]
    },
    {
     "name": "stderr",
     "output_type": "stream",
     "text": [
      "Epoch [38/40]: 100%|████████████████| 58/58 [00:10<00:00,  5.34it/s, loss=0.512]\n"
     ]
    },
    {
     "name": "stdout",
     "output_type": "stream",
     "text": [
      "Val Accuracy 0.6299212598425197 , Val Loss 0.8209669002676456\n",
      "Train Accuracy 0.824295010845987 , Train Loss 0.4475371819514773\n"
     ]
    },
    {
     "name": "stderr",
     "output_type": "stream",
     "text": [
      "Epoch [39/40]: 100%|████████████████| 58/58 [00:07<00:00,  7.81it/s, loss=0.491]\n"
     ]
    },
    {
     "name": "stdout",
     "output_type": "stream",
     "text": [
      "Val Accuracy 0.6141732283464567 , Val Loss 0.8316236298941956\n",
      "Train Accuracy 0.8308026030368764 , Train Loss 0.44070045640308275\n"
     ]
    },
    {
     "name": "stderr",
     "output_type": "stream",
     "text": [
      "Epoch [40/40]: 100%|████████████████| 58/58 [00:07<00:00,  8.14it/s, loss=0.492]\n"
     ]
    },
    {
     "name": "stdout",
     "output_type": "stream",
     "text": [
      "Val Accuracy 0.6259842519685039 , Val Loss 0.8347546112994979\n",
      "Train Accuracy 0.8356832971800434 , Train Loss 0.43515322420447095\n",
      "Score for fold 2: loss of 0.8347546112994979; acc of 0.6259842519685039%; AUC of 0.5779042386185242%\n",
      "------------------------------------------------------------------------\n",
      "Training for fold 3 ...\n",
      " 0 = 0.36% \n",
      " 1 = 0.64%\n",
      "Adjusting learning rate of group 0 to 1.0000e-03.\n"
     ]
    },
    {
     "name": "stderr",
     "output_type": "stream",
     "text": [
      "Epoch [1/40]: 100%|█████████████████| 58/58 [00:07<00:00,  8.20it/s, loss=0.882]\n"
     ]
    },
    {
     "name": "stdout",
     "output_type": "stream",
     "text": [
      "Val Accuracy 0.644 , Val Loss 0.8328248682022095\n",
      "Train Accuracy 0.6063714902807775 , Train Loss 0.8361056103304705\n"
     ]
    },
    {
     "name": "stderr",
     "output_type": "stream",
     "text": [
      "Epoch [2/40]: 100%|█████████████████| 58/58 [00:08<00:00,  7.17it/s, loss=0.807]\n"
     ]
    },
    {
     "name": "stdout",
     "output_type": "stream",
     "text": [
      "Val Accuracy 0.634 , Val Loss 0.7832278814315796\n",
      "Train Accuracy 0.6166306695464363 , Train Loss 0.7762904292048954\n"
     ]
    },
    {
     "name": "stderr",
     "output_type": "stream",
     "text": [
      "Epoch [3/40]: 100%|█████████████████| 58/58 [00:06<00:00,  8.44it/s, loss=0.756]\n"
     ]
    },
    {
     "name": "stdout",
     "output_type": "stream",
     "text": [
      "Val Accuracy 0.598 , Val Loss 0.7543832010030747\n",
      "Train Accuracy 0.6398488120950324 , Train Loss 0.7350176966731028\n"
     ]
    },
    {
     "name": "stderr",
     "output_type": "stream",
     "text": [
      "Epoch [4/40]: 100%|█████████████████| 58/58 [00:07<00:00,  7.62it/s, loss=0.722]\n"
     ]
    },
    {
     "name": "stdout",
     "output_type": "stream",
     "text": [
      "Val Accuracy 0.6 , Val Loss 0.7354162526726723\n",
      "Train Accuracy 0.6528077753779697 , Train Loss 0.7034413674222728\n"
     ]
    },
    {
     "name": "stderr",
     "output_type": "stream",
     "text": [
      "Epoch [5/40]: 100%|███████████████████| 58/58 [00:07<00:00,  8.28it/s, loss=0.7]\n"
     ]
    },
    {
     "name": "stdout",
     "output_type": "stream",
     "text": [
      "Val Accuracy 0.586 , Val Loss 0.7268308320045471\n",
      "Train Accuracy 0.6744060475161987 , Train Loss 0.6827755879377443\n"
     ]
    },
    {
     "name": "stderr",
     "output_type": "stream",
     "text": [
      "Epoch [6/40]: 100%|█████████████████| 58/58 [00:06<00:00,  8.42it/s, loss=0.684]\n"
     ]
    },
    {
     "name": "stdout",
     "output_type": "stream",
     "text": [
      "Val Accuracy 0.586 , Val Loss 0.7219514791965485\n",
      "Train Accuracy 0.6830453563714903 , Train Loss 0.6656936090399328\n"
     ]
    },
    {
     "name": "stderr",
     "output_type": "stream",
     "text": [
      "Epoch [7/40]: 100%|█████████████████| 58/58 [00:07<00:00,  8.01it/s, loss=0.672]\n"
     ]
    },
    {
     "name": "stdout",
     "output_type": "stream",
     "text": [
      "Val Accuracy 0.6 , Val Loss 0.7162596119344234\n",
      "Train Accuracy 0.6868250539956804 , Train Loss 0.6505252251614763\n"
     ]
    },
    {
     "name": "stderr",
     "output_type": "stream",
     "text": [
      "Epoch [8/40]: 100%|█████████████████| 58/58 [00:06<00:00,  8.39it/s, loss=0.658]\n"
     ]
    },
    {
     "name": "stdout",
     "output_type": "stream",
     "text": [
      "Val Accuracy 0.6 , Val Loss 0.7115033523738384\n",
      "Train Accuracy 0.6922246220302376 , Train Loss 0.6369231891683574\n"
     ]
    },
    {
     "name": "stderr",
     "output_type": "stream",
     "text": [
      "Epoch [9/40]: 100%|█████████████████| 58/58 [00:07<00:00,  8.08it/s, loss=0.648]\n"
     ]
    },
    {
     "name": "stdout",
     "output_type": "stream",
     "text": [
      "Val Accuracy 0.6 , Val Loss 0.7102149795293808\n",
      "Train Accuracy 0.6997840172786177 , Train Loss 0.6258879740346328\n"
     ]
    },
    {
     "name": "stderr",
     "output_type": "stream",
     "text": [
      "Epoch [10/40]: 100%|████████████████| 58/58 [00:06<00:00,  8.29it/s, loss=0.637]\n"
     ]
    },
    {
     "name": "stdout",
     "output_type": "stream",
     "text": [
      "Val Accuracy 0.598 , Val Loss 0.7103544344604016\n",
      "Train Accuracy 0.7024838012958964 , Train Loss 0.6162868557944411\n"
     ]
    },
    {
     "name": "stderr",
     "output_type": "stream",
     "text": [
      "Epoch [11/40]: 100%|████████████████| 58/58 [00:06<00:00,  8.52it/s, loss=0.627]\n"
     ]
    },
    {
     "name": "stdout",
     "output_type": "stream",
     "text": [
      "Val Accuracy 0.618 , Val Loss 0.7086518363654614\n",
      "Train Accuracy 0.7057235421166307 , Train Loss 0.6078600750886081\n"
     ]
    },
    {
     "name": "stderr",
     "output_type": "stream",
     "text": [
      "Epoch [12/40]: 100%|████████████████| 58/58 [00:06<00:00,  8.49it/s, loss=0.618]\n"
     ]
    },
    {
     "name": "stdout",
     "output_type": "stream",
     "text": [
      "Val Accuracy 0.622 , Val Loss 0.707771706968546\n",
      "Train Accuracy 0.7078833693304536 , Train Loss 0.6007701547305476\n"
     ]
    },
    {
     "name": "stderr",
     "output_type": "stream",
     "text": [
      "Epoch [13/40]: 100%|████████████████| 58/58 [00:06<00:00,  8.42it/s, loss=0.611]\n"
     ]
    },
    {
     "name": "stdout",
     "output_type": "stream",
     "text": [
      "Val Accuracy 0.616 , Val Loss 0.7100875497460365\n",
      "Train Accuracy 0.7159827213822895 , Train Loss 0.5924738591484581\n"
     ]
    },
    {
     "name": "stderr",
     "output_type": "stream",
     "text": [
      "Epoch [14/40]: 100%|████████████████| 58/58 [00:06<00:00,  8.43it/s, loss=0.607]\n"
     ]
    },
    {
     "name": "stdout",
     "output_type": "stream",
     "text": [
      "Val Accuracy 0.62 , Val Loss 0.7118394149541855\n",
      "Train Accuracy 0.7219222462203023 , Train Loss 0.5873307693854264\n"
     ]
    },
    {
     "name": "stderr",
     "output_type": "stream",
     "text": [
      "Epoch [15/40]: 100%|████████████████| 58/58 [00:06<00:00,  8.40it/s, loss=0.602]\n"
     ]
    },
    {
     "name": "stdout",
     "output_type": "stream",
     "text": [
      "Val Accuracy 0.62 , Val Loss 0.7127568362951279\n",
      "Train Accuracy 0.7294816414686826 , Train Loss 0.5811569560681255\n"
     ]
    },
    {
     "name": "stderr",
     "output_type": "stream",
     "text": [
      "Epoch [16/40]: 100%|████████████████| 58/58 [00:06<00:00,  8.47it/s, loss=0.597]\n"
     ]
    },
    {
     "name": "stdout",
     "output_type": "stream",
     "text": [
      "Val Accuracy 0.628 , Val Loss 0.7132648709714413\n",
      "Train Accuracy 0.730561555075594 , Train Loss 0.5754590589335876\n"
     ]
    },
    {
     "name": "stderr",
     "output_type": "stream",
     "text": [
      "Epoch [17/40]: 100%|████████████████| 58/58 [00:07<00:00,  8.21it/s, loss=0.593]\n"
     ]
    },
    {
     "name": "stdout",
     "output_type": "stream",
     "text": [
      "Val Accuracy 0.63 , Val Loss 0.714076218560338\n",
      "Train Accuracy 0.7365010799136069 , Train Loss 0.5698942522765751\n"
     ]
    },
    {
     "name": "stderr",
     "output_type": "stream",
     "text": [
      "Epoch [18/40]: 100%|████████████████| 58/58 [00:06<00:00,  8.54it/s, loss=0.587]\n"
     ]
    },
    {
     "name": "stdout",
     "output_type": "stream",
     "text": [
      "Val Accuracy 0.62 , Val Loss 0.7186751982867717\n",
      "Train Accuracy 0.7435205183585313 , Train Loss 0.5632380547070349\n"
     ]
    },
    {
     "name": "stderr",
     "output_type": "stream",
     "text": [
      "Epoch [19/40]: 100%|████████████████| 58/58 [00:06<00:00,  8.36it/s, loss=0.579]\n"
     ]
    },
    {
     "name": "stdout",
     "output_type": "stream",
     "text": [
      "Val Accuracy 0.63 , Val Loss 0.7195794725120067\n",
      "Train Accuracy 0.740280777537797 , Train Loss 0.5588256970337606\n"
     ]
    },
    {
     "name": "stderr",
     "output_type": "stream",
     "text": [
      "Epoch [20/40]: 100%|████████████████| 58/58 [00:06<00:00,  8.37it/s, loss=0.578]\n"
     ]
    },
    {
     "name": "stdout",
     "output_type": "stream",
     "text": [
      "Val Accuracy 0.624 , Val Loss 0.7130447546988725\n",
      "Train Accuracy 0.7494600431965442 , Train Loss 0.5566399793902947\n"
     ]
    },
    {
     "name": "stderr",
     "output_type": "stream",
     "text": [
      "Epoch [21/40]: 100%|█████████████████| 58/58 [00:07<00:00,  8.27it/s, loss=0.58]\n"
     ]
    },
    {
     "name": "stdout",
     "output_type": "stream",
     "text": [
      "Val Accuracy 0.634 , Val Loss 0.7173941417634487\n",
      "Train Accuracy 0.7456803455723542 , Train Loss 0.5519370408346534\n"
     ]
    },
    {
     "name": "stderr",
     "output_type": "stream",
     "text": [
      "Epoch [22/40]: 100%|█████████████████| 58/58 [00:07<00:00,  8.25it/s, loss=0.57]\n"
     ]
    },
    {
     "name": "stdout",
     "output_type": "stream",
     "text": [
      "Val Accuracy 0.622 , Val Loss 0.7221218512505293\n",
      "Train Accuracy 0.7516198704103672 , Train Loss 0.5447127902739506\n"
     ]
    },
    {
     "name": "stderr",
     "output_type": "stream",
     "text": [
      "Epoch [23/40]: 100%|████████████████| 58/58 [00:07<00:00,  7.95it/s, loss=0.568]\n"
     ]
    },
    {
     "name": "stdout",
     "output_type": "stream",
     "text": [
      "Val Accuracy 0.624 , Val Loss 0.7230475399792194\n",
      "Train Accuracy 0.7645788336933045 , Train Loss 0.5393932675439904\n"
     ]
    },
    {
     "name": "stderr",
     "output_type": "stream",
     "text": [
      "Epoch [24/40]: 100%|█████████████████| 58/58 [00:06<00:00,  8.32it/s, loss=0.56]\n"
     ]
    },
    {
     "name": "stdout",
     "output_type": "stream",
     "text": [
      "Val Accuracy 0.618 , Val Loss 0.7278934100568295\n",
      "Train Accuracy 0.7640388768898488 , Train Loss 0.5364942521049961\n"
     ]
    },
    {
     "name": "stderr",
     "output_type": "stream",
     "text": [
      "Epoch [25/40]: 100%|████████████████| 58/58 [00:08<00:00,  7.13it/s, loss=0.562]\n"
     ]
    },
    {
     "name": "stdout",
     "output_type": "stream",
     "text": [
      "Val Accuracy 0.614 , Val Loss 0.7336874187141657\n",
      "Train Accuracy 0.771598272138229 , Train Loss 0.5334318872404408\n"
     ]
    },
    {
     "name": "stderr",
     "output_type": "stream",
     "text": [
      "Epoch [26/40]: 100%|████████████████| 58/58 [00:07<00:00,  8.13it/s, loss=0.556]\n"
     ]
    },
    {
     "name": "stdout",
     "output_type": "stream",
     "text": [
      "Val Accuracy 0.61 , Val Loss 0.7333114168196917\n",
      "Train Accuracy 0.7786177105831533 , Train Loss 0.5262702511659708\n"
     ]
    },
    {
     "name": "stderr",
     "output_type": "stream",
     "text": [
      "Epoch [27/40]: 100%|████████████████| 58/58 [00:07<00:00,  8.20it/s, loss=0.554]\n"
     ]
    },
    {
     "name": "stdout",
     "output_type": "stream",
     "text": [
      "Val Accuracy 0.628 , Val Loss 0.7302343242019415\n",
      "Train Accuracy 0.7775377969762419 , Train Loss 0.5197715841668213\n"
     ]
    },
    {
     "name": "stderr",
     "output_type": "stream",
     "text": [
      "Epoch [28/40]: 100%|████████████████| 58/58 [00:07<00:00,  8.28it/s, loss=0.552]\n"
     ]
    },
    {
     "name": "stdout",
     "output_type": "stream",
     "text": [
      "Val Accuracy 0.626 , Val Loss 0.7316567947566509\n",
      "Train Accuracy 0.775377969762419 , Train Loss 0.5192166257882994\n"
     ]
    },
    {
     "name": "stderr",
     "output_type": "stream",
     "text": [
      "Epoch [29/40]: 100%|████████████████| 58/58 [00:07<00:00,  8.21it/s, loss=0.553]\n"
     ]
    },
    {
     "name": "stdout",
     "output_type": "stream",
     "text": [
      "Val Accuracy 0.624 , Val Loss 0.7356449362039567\n",
      "Train Accuracy 0.7829373650107991 , Train Loss 0.5118143491559616\n"
     ]
    },
    {
     "name": "stderr",
     "output_type": "stream",
     "text": [
      "Epoch [30/40]: 100%|████████████████| 58/58 [00:07<00:00,  7.99it/s, loss=0.549]\n"
     ]
    },
    {
     "name": "stdout",
     "output_type": "stream",
     "text": [
      "Val Accuracy 0.626 , Val Loss 0.7396314790695906\n",
      "Train Accuracy 0.785097192224622 , Train Loss 0.5092332394025239\n"
     ]
    },
    {
     "name": "stderr",
     "output_type": "stream",
     "text": [
      "Epoch [31/40]: 100%|████████████████| 58/58 [00:07<00:00,  8.25it/s, loss=0.547]\n"
     ]
    },
    {
     "name": "stdout",
     "output_type": "stream",
     "text": [
      "Val Accuracy 0.626 , Val Loss 0.7460511621013284\n",
      "Train Accuracy 0.7888768898488121 , Train Loss 0.5036511530628988\n"
     ]
    },
    {
     "name": "stderr",
     "output_type": "stream",
     "text": [
      "Epoch [32/40]: 100%|████████████████| 58/58 [00:07<00:00,  8.22it/s, loss=0.531]\n"
     ]
    },
    {
     "name": "stdout",
     "output_type": "stream",
     "text": [
      "Val Accuracy 0.628 , Val Loss 0.7442997773140669\n",
      "Train Accuracy 0.7829373650107991 , Train Loss 0.5009039872150957\n"
     ]
    },
    {
     "name": "stderr",
     "output_type": "stream",
     "text": [
      "Epoch [33/40]: 100%|████████████████| 58/58 [00:06<00:00,  8.32it/s, loss=0.534]\n"
     ]
    },
    {
     "name": "stdout",
     "output_type": "stream",
     "text": [
      "Val Accuracy 0.628 , Val Loss 0.7437830083221197\n",
      "Train Accuracy 0.800755939524838 , Train Loss 0.49455026056030144\n"
     ]
    },
    {
     "name": "stderr",
     "output_type": "stream",
     "text": [
      "Epoch [34/40]: 100%|████████████████| 58/58 [00:07<00:00,  8.01it/s, loss=0.531]\n"
     ]
    },
    {
     "name": "stdout",
     "output_type": "stream",
     "text": [
      "Val Accuracy 0.62 , Val Loss 0.7507294707819819\n",
      "Train Accuracy 0.7964362850971922 , Train Loss 0.4907680164145599\n"
     ]
    },
    {
     "name": "stderr",
     "output_type": "stream",
     "text": [
      "Epoch [35/40]: 100%|████████████████| 58/58 [00:07<00:00,  8.10it/s, loss=0.527]\n"
     ]
    },
    {
     "name": "stdout",
     "output_type": "stream",
     "text": [
      "Val Accuracy 0.628 , Val Loss 0.755585408821702\n",
      "Train Accuracy 0.8018358531317494 , Train Loss 0.48678520508512824\n"
     ]
    },
    {
     "name": "stderr",
     "output_type": "stream",
     "text": [
      "Epoch [36/40]: 100%|████████████████| 58/58 [00:07<00:00,  7.99it/s, loss=0.525]\n"
     ]
    },
    {
     "name": "stdout",
     "output_type": "stream",
     "text": [
      "Val Accuracy 0.636 , Val Loss 0.7578141634762288\n",
      "Train Accuracy 0.7996760259179265 , Train Loss 0.48395876068275895\n"
     ]
    },
    {
     "name": "stderr",
     "output_type": "stream",
     "text": [
      "Epoch [37/40]: 100%|████████████████| 58/58 [00:06<00:00,  8.37it/s, loss=0.514]\n"
     ]
    },
    {
     "name": "stdout",
     "output_type": "stream",
     "text": [
      "Val Accuracy 0.626 , Val Loss 0.7590621135532856\n",
      "Train Accuracy 0.812634989200864 , Train Loss 0.47802707700955943\n"
     ]
    },
    {
     "name": "stderr",
     "output_type": "stream",
     "text": [
      "Epoch [38/40]: 100%|████████████████| 58/58 [00:07<00:00,  7.88it/s, loss=0.523]\n"
     ]
    },
    {
     "name": "stdout",
     "output_type": "stream",
     "text": [
      "Val Accuracy 0.628 , Val Loss 0.7594673333168029\n",
      "Train Accuracy 0.8131749460043196 , Train Loss 0.4756798851052319\n"
     ]
    },
    {
     "name": "stderr",
     "output_type": "stream",
     "text": [
      "Epoch [39/40]: 100%|████████████████| 58/58 [00:07<00:00,  8.21it/s, loss=0.514]\n"
     ]
    },
    {
     "name": "stdout",
     "output_type": "stream",
     "text": [
      "Val Accuracy 0.63 , Val Loss 0.7558896133825183\n",
      "Train Accuracy 0.8061555075593952 , Train Loss 0.470367517249888\n"
     ]
    },
    {
     "name": "stderr",
     "output_type": "stream",
     "text": [
      "Epoch [40/40]: 100%|████████████████| 58/58 [00:07<00:00,  8.22it/s, loss=0.509]\n"
     ]
    },
    {
     "name": "stdout",
     "output_type": "stream",
     "text": [
      "Val Accuracy 0.63 , Val Loss 0.7595151071026921\n",
      "Train Accuracy 0.8201943844492441 , Train Loss 0.46726000128760453\n",
      "Score for fold 3: loss of 0.7595151071026921; acc of 0.63%; AUC of 0.6034440644846116%\n"
     ]
    }
   ],
   "source": [
    "from sklearn.preprocessing import StandardScaler\n",
    "\n",
    "eval_scores = {\"loss_train\" : [], \"loss_test\" : [], \"acc_test\" : [], \"acc_train\" : []}\n",
    "\n",
    "scores = np.zeros((6,5))\n",
    "\n",
    "# K-fold Cross Validation model evaluation\n",
    "fold_no = 1\n",
    "for k in range(3):\n",
    "    \n",
    "#     scaler = StandardScaler()\n",
    "#     X_train[k] = scaler.fit_transform(X_train[k])\n",
    "    \n",
    "# #     scaler = StandardScaler()\n",
    "#     X_test[k] = scaler.transform(X_test[k])\n",
    "    \n",
    "    group_fc  = X_train[k].mean(axis=0)\n",
    "    \n",
    "    # creating the graphs\n",
    "    train_data, val_data = ut.create_graph(pd.DataFrame(X_train[k]),\n",
    "                                    pd.DataFrame(X_test[k]), pd.DataFrame(y_train[k].values),\n",
    "                                        pd.DataFrame(y_test[k].values),\n",
    "                                    method={'knn_group' : ut.compute_KNN_graph(ut.reconstruct_symmetric_matrix(190,group_fc), 15)})    \n",
    "    # creating the batchs inside the torch DataLoader\n",
    "    \n",
    "    train_loader, val_loader = ut.create_batch(train_data, val_data, batch_size=32)\n",
    "    \n",
    "\n",
    "    # Generate a print\n",
    "    print('------------------------------------------------------------------------')\n",
    "    print(f'Training for fold {fold_no} ...')\n",
    "    print(' 0 = {:.2f}% \\n'.format(y_test[k].value_counts()[0]/len(y_test[k])),\n",
    "          '1 = {:.2f}%'.format(y_test[k].value_counts()[1]/len(y_test[k])))\n",
    "\n",
    "\n",
    "    device = torch.device('cuda' if torch.cuda.is_available() else 'cpu')\n",
    "    model = GCN(190, 2, 3).to(device)\n",
    "    optimizer = torch.optim.Adam(model.parameters(), lr=1e-3, weight_decay=1e-3)#,momentum=0.35)\n",
    "    scheduler = torch.optim.lr_scheduler.MultiStepLR(optimizer, milestones=[40], gamma=1, verbose=True)\n",
    "\n",
    "    for layer in model.children():\n",
    "        if hasattr(layer, 'reset_parameters'):\n",
    "            layer.reset_parameters()\n",
    "\n",
    "\n",
    "    min_v_loss = np.inf  \n",
    "\n",
    "\n",
    "    NUM_EPOCHS = 40\n",
    "    for epoch in range(1,NUM_EPOCHS + 1):\n",
    "        loop = tqdm(train_loader)\n",
    "        train_acc, train_loss = GCN_train(train_loader,loop)\n",
    "        test_rec, test_prec, test_acc, test_loss, roc_auc, test_f1  = GCN_test(val_loader)\n",
    "        TRAIN_acc, TRAIN_loss = TRAIN_LOSS(train_loader)\n",
    "        \n",
    "        #if test_loss_hist < test_loss and test_loss_hist != 0:\n",
    "        #    break\n",
    "        #test_loss_hist = test_loss\n",
    "    \n",
    "\n",
    "        eval_scores['loss_train'].append(TRAIN_loss)\n",
    "        eval_scores['loss_test'].append(test_loss)\n",
    "        eval_scores['acc_test'].append(test_acc)\n",
    "        eval_scores['acc_train'].append(TRAIN_acc)\n",
    "        \n",
    "        print('Val Accuracy {} , Val Loss {}'.format(test_acc, test_loss))\n",
    "        print('Train Accuracy {} , Train Loss {}'.format(TRAIN_acc, TRAIN_loss))\n",
    "\n",
    "    \n",
    "    scores[0][fold_no - 1] = test_acc\n",
    "    scores[1][fold_no - 1] = test_rec\n",
    "    scores[2][fold_no - 1] = test_prec\n",
    "    scores[3][fold_no - 1] = test_loss\n",
    "    scores[4][fold_no - 1] = roc_auc\n",
    "    scores[5][fold_no - 1] = test_f1\n",
    "\n",
    "    print(f'Score for fold {fold_no}: loss of {test_loss}; acc of {test_acc}%; AUC of {roc_auc}%')\n",
    "\n",
    "    # Increase fold number\n",
    "    fold_no = fold_no + 1"
   ]
  },
  {
   "cell_type": "code",
   "execution_count": 43,
   "id": "7c3fe527-7774-4eca-abc4-b2ecffc92bcb",
   "metadata": {},
   "outputs": [
    {
     "name": "stdout",
     "output_type": "stream",
     "text": [
      "Average Accuracy in CV: 0.38(0.31) \n",
      "\n",
      "Average Recall in CV: 0.41(0.33) \n",
      "\n",
      "Average Precision in CV: 0.46(0.38) \n",
      "\n",
      "Average Loss in test CV: 0.47(0.38) \n",
      "\n",
      "Average AUC in test CV: 0.36(0.29) \n",
      "\n",
      "Average F1 in test CV: 0.36(0.29) \n",
      "\n"
     ]
    }
   ],
   "source": [
    "print('Average Accuracy in CV: {:.2f}({:.2f}) \\n'.format(scores[0].mean(), scores[0].std()))\n",
    "print('Average Recall in CV: {:.2f}({:.2f}) \\n'.format(scores[1].mean(), scores[1].std()))\n",
    "print('Average Precision in CV: {:.2f}({:.2f}) \\n'.format(scores[2].mean(), scores[2].std()))\n",
    "print('Average Loss in test CV: {:.2f}({:.2f}) \\n'.format(scores[3].mean(), scores[3].std()))\n",
    "print('Average AUC in test CV: {:.2f}({:.2f}) \\n'.format(scores[4].mean(), scores[4].std()))\n",
    "print('Average F1 in test CV: {:.2f}({:.2f}) \\n'.format(scores[4].mean(), scores[4].std()))"
   ]
  },
  {
   "cell_type": "code",
   "execution_count": 51,
   "id": "c2fe7568-5686-4477-9e96-f8682c5a830b",
   "metadata": {},
   "outputs": [
    {
     "data": {
      "text/plain": [
       "[<matplotlib.lines.Line2D at 0x169bdd9a0>]"
      ]
     },
     "execution_count": 51,
     "metadata": {},
     "output_type": "execute_result"
    },
    {
     "data": {
      "image/png": "[encoded data removed]",
      "text/plain": [
       "<Figure size 2000x600 with 1 Axes>"
      ]
     },
     "metadata": {},
     "output_type": "display_data"
    }
   ],
   "source": [
    "plt.figure(figsize=(20,6))\n",
    "plt.plot(eval_scores['loss_train'])\n",
    "plt.plot(eval_scores['loss_test'])"
   ]
  },
  {
   "cell_type": "code",
   "execution_count": 52,
   "id": "0792766d-d187-4c29-8c89-5eee8fa77c47",
   "metadata": {},
   "outputs": [
    {
     "data": {
      "text/plain": [
       "[<matplotlib.lines.Line2D at 0x1690e1610>]"
      ]
     },
     "execution_count": 52,
     "metadata": {},
     "output_type": "execute_result"
    },
    {
     "data": {
      "image/png": "[encoded data removed]",
      "text/plain": [
       "<Figure size 2000x600 with 1 Axes>"
      ]
     },
     "metadata": {},
     "output_type": "display_data"
    }
   ],
   "source": [
    "plt.figure(figsize=(20,6))\n",
    "plt.plot(eval_scores['acc_train'])\n",
    "plt.plot(eval_scores['acc_test'])"
   ]
  },
  {
   "cell_type": "code",
   "execution_count": 31,
   "id": "d6c095c5-c16a-4261-b620-8328b5d4cdcc",
   "metadata": {},
   "outputs": [],
   "source": [
    "pd.DataFrame(scores.T, columns=['test_acc', 'test_rec_macro',\n",
    "                                'test_prec_macro', 'test_loss',\n",
    "                                'test_f1', 'test_roc_auc']).to_csv('/Users/rodrigo/Post-Grad/CC400/Results/GAT.csv')"
   ]
  },
  {
   "cell_type": "code",
   "execution_count": null,
   "id": "95e6b05a-8ec6-4e6c-9218-30ac5310a270",
   "metadata": {},
   "outputs": [],
   "source": []
  }
 ],
 "metadata": {
  "kernelspec": {
   "display_name": "Python 3 (ipykernel)",
   "language": "python",
   "name": "python3"
  },
  "language_info": {
   "codemirror_mode": {
    "name": "ipython",
    "version": 3
   },
   "file_extension": ".py",
   "mimetype": "text/x-python",
   "name": "python",
   "nbconvert_exporter": "python",
   "pygments_lexer": "ipython3",
   "version": "3.9.16"
  }
 },
 "nbformat": 4,
 "nbformat_minor": 5
}
