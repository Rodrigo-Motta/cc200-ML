{
 "cells": [
  {
   "cell_type": "markdown",
   "id": "a9f4fcbd-e1f8-430b-a0d7-cb53bce3ff72",
   "metadata": {},
   "source": [
    "# Classification problem\n",
    "### Considering binary gender classification\n",
    "(0) Male\n",
    "\n",
    "(1) Female"
   ]
  },
  {
   "cell_type": "code",
   "execution_count": 45,
   "id": "96056aff-7919-4583-b866-2d3ca3f0048f",
   "metadata": {},
   "outputs": [],
   "source": [
    "import pandas as pd\n",
    "import numpy as np\n",
    "import matplotlib.pyplot as plt\n",
    "import seaborn as sns\n",
    "from sklearn.metrics import confusion_matrix\n",
    "from sklearn.model_selection import cross_val_score\n",
    "from sklearn.metrics import accuracy_score, f1_score, precision_score, recall_score\n",
    "from sklearn.metrics import roc_curve, auc\n",
    "from sklearn.metrics import roc_auc_score\n",
    "from sklearn.model_selection import GridSearchCV\n",
    "from sklearn.model_selection import cross_validate\n",
    "\n",
    "\n",
    "%matplotlib inline\n",
    "sns.set(rc={'image.cmap': 'coolwarm'})\n",
    "\n",
    "#from numba import jit,prange\n",
    "\n",
    "import time\n",
    "import os\n",
    "\n",
    "SMALL_SIZE = 8\n",
    "MEDIUM_SIZE = 10\n",
    "BIGGER_SIZE = 20\n",
    "\n",
    "plt.rc('font', size=MEDIUM_SIZE)          # controls default text sizes\n",
    "plt.rc('axes', titlesize=MEDIUM_SIZE)     # fontsize of the axes title\n",
    "plt.rc('axes', labelsize=BIGGER_SIZE)    # fontsize of the x and y labels\n",
    "plt.rc('xtick', labelsize=MEDIUM_SIZE)    # fontsize of the tick labels\n",
    "plt.rc('ytick', labelsize=MEDIUM_SIZE)    # fontsize of the tick labels\n",
    "plt.rc('legend', fontsize=MEDIUM_SIZE)    # legend fontsize\n",
    "plt.rc('figure', titlesize=BIGGER_SIZE)  # fontsize of the figure title"
   ]
  },
  {
   "cell_type": "code",
   "execution_count": 46,
   "id": "665e580d-739b-46d2-86bf-73bac9a20d71",
   "metadata": {},
   "outputs": [],
   "source": [
    "def import_data(fisher):\n",
    "    if fisher == True:\n",
    "        df = pd.read_csv(r'/Users/rodrigo/Post-Grad/CC400/corr_matrices_fisher200.csv',index_col=['Institution','Subject'])\n",
    "        phenotypic = pd.read_csv(r'/Users/rodrigo/Post-Grad/CC400/phenotypic200.csv',index_col=['Institution','Subject'])\n",
    "    else:\n",
    "        df = pd.read_csv(r'/Users/rodrigo/Post-Grad/CC400/corr_matrices200.csv',index_col=['Institution','Subject','Run'])\n",
    "        phenotypic = pd.read_csv(r'/Users/rodrigo/Post-Grad/CC400/phenotypic200.csv',index_col=['Institution','Subject'])\n",
    "    return df,phenotypic"
   ]
  },
  {
   "cell_type": "code",
   "execution_count": 47,
   "id": "0bfc94bf-503c-4824-86ad-5b11d97fd008",
   "metadata": {},
   "outputs": [],
   "source": [
    "df, phenotypic = import_data(fisher=True)\n",
    "df = df.join(pd.DataFrame(phenotypic.Age), how='left')\n",
    "df = df.join(pd.DataFrame(phenotypic['ADHD Measure']), how='left')\n",
    "df = df.join(pd.DataFrame(phenotypic['Gender']), how='left')\n",
    "\n",
    "#df = ((df.reset_index()).drop(columns=['Institution', 'Subject','Run'])).dropna(subset=[str(x) for x in range(0,61425)])\n",
    "df = ((df.reset_index()).drop(columns=['Institution', 'Subject'])).dropna(subset=[str(x) for x in range(0,17954)])\n",
    "df = df.dropna(axis=0, subset=['Gender'])\n",
    "y = df.Gender\n",
    "X = df.iloc[:,:-3]"
   ]
  },
  {
   "cell_type": "code",
   "execution_count": 48,
   "id": "7e9e83c2-5eae-44be-8e20-855adfbe2d3b",
   "metadata": {},
   "outputs": [
    {
     "data": {
      "text/plain": [
       "1.0    475\n",
       "0.0    281\n",
       "Name: Gender, dtype: int64"
      ]
     },
     "execution_count": 48,
     "metadata": {},
     "output_type": "execute_result"
    }
   ],
   "source": [
    "(df.Gender).value_counts()"
   ]
  },
  {
   "cell_type": "code",
   "execution_count": 49,
   "id": "8cdb8c41-7d58-4ea1-a767-d69c6a6daaf3",
   "metadata": {},
   "outputs": [],
   "source": [
    "from sklearn.model_selection import train_test_split\n",
    "\n",
    "\n",
    "X_train, X_test, y_train, y_test = train_test_split(X, y, test_size = 0.3, random_state = 10)"
   ]
  },
  {
   "cell_type": "markdown",
   "id": "a18b6aba-d6a6-4809-b43b-249d2325794a",
   "metadata": {},
   "source": [
    "### Logistic Regression"
   ]
  },
  {
   "cell_type": "code",
   "execution_count": 15,
   "id": "de0d753f-f88b-40ef-a0c1-f817ebb6a373",
   "metadata": {},
   "outputs": [
    {
     "name": "stdout",
     "output_type": "stream",
     "text": [
      "Logistic Regression accuracy score in training set: 1.0000\n",
      "Logistic Regression accuracy score in test set: 0.7225\n"
     ]
    }
   ],
   "source": [
    "from sklearn.linear_model import LogisticRegression\n",
    "\n",
    "logreg = LogisticRegression(max_iter=200)\n",
    "logreg.fit(X_train, y_train)\n",
    "y_pred = logreg.predict(X_test)\n",
    "\n",
    "print('Logistic Regression accuracy score in training set: {0:0.4f}'. format(accuracy_score(y_train, logreg.predict(X_train))))\n",
    "print('Logistic Regression accuracy score in test set: {0:0.4f}'. format(accuracy_score(y_test, y_pred)))"
   ]
  },
  {
   "cell_type": "code",
   "execution_count": 16,
   "id": "0842ae9d-2ce3-413e-b64a-6810164f7166",
   "metadata": {},
   "outputs": [
    {
     "name": "stdout",
     "output_type": "stream",
     "text": [
      "0.69 accuracy with a standard deviation of 0.04\n"
     ]
    }
   ],
   "source": [
    "scores = cross_val_score(logreg, X_test, y_test, cv=5,scoring='accuracy')\n",
    "print(\"%0.2f accuracy with a standard deviation of %0.2f\" % (scores.mean(), scores.std()))"
   ]
  },
  {
   "cell_type": "code",
   "execution_count": 17,
   "id": "f6475c50-8e29-4ce3-b83f-cee94486a775",
   "metadata": {},
   "outputs": [
    {
     "data": {
      "image/png": "[encoded data removed]",
      "text/plain": [
       "<Figure size 600x400 with 2 Axes>"
      ]
     },
     "metadata": {},
     "output_type": "display_data"
    }
   ],
   "source": [
    "plt.figure(dpi=100)\n",
    "sns.heatmap(confusion_matrix(y_test, y_pred), annot=True, annot_kws={\"size\": 16}, fmt='g')\n",
    "plt.show()"
   ]
  },
  {
   "cell_type": "code",
   "execution_count": 18,
   "id": "f6b49dc1-3c4c-4bb8-b3fc-f6cf99b02e08",
   "metadata": {},
   "outputs": [
    {
     "name": "stdout",
     "output_type": "stream",
     "text": [
      "F1_scores 0.676867806624738 accuracy with a standard deviation of 0.028832997190178195\n",
      "Precision_scores 0.7287803239085213 accuracy with a standard deviation of 0.040668390147525595\n",
      "Recall_scores 0.6713909774436091 accuracy with a standard deviation of 0.025122417785770384\n"
     ]
    }
   ],
   "source": [
    "\n",
    "f1_scores = cross_val_score(logreg, X, y, cv=5, scoring='f1_macro')\n",
    "precision_scores = cross_val_score(logreg, X, y, cv=5, scoring='precision_macro')\n",
    "recall_scores = cross_val_score(logreg, X, y, cv=5, scoring='recall_macro')\n",
    "\n",
    "print(\"F1_scores {} accuracy with a standard deviation of {}\".format(f1_scores.mean(), f1_scores.std()))\n",
    "print(\"Precision_scores {} accuracy with a standard deviation of {}\".format(precision_scores.mean(), precision_scores.std()))\n",
    "print(\"Recall_scores {} accuracy with a standard deviation of {}\".format(recall_scores.mean(), recall_scores.std()))\n",
    "\n",
    "#print(f1_score(y_test, y_pred, average=\"macro\"))\n",
    "#print(precision_score(y_test, y_pred, average=\"macro\"))\n",
    "#print(recall_score(y_test, y_pred, average=\"macro\"))  "
   ]
  },
  {
   "cell_type": "code",
   "execution_count": 19,
   "id": "4e3cba6c-f0e3-4032-a7e1-d661f7f44810",
   "metadata": {},
   "outputs": [],
   "source": [
    "y_score = logreg.predict_proba(X_test)\n",
    "\n",
    "y_score = y_score[:,1]\n",
    "\n",
    "# Compute ROC curve and ROC area for each class\n",
    "fpr, tpr, _ = roc_curve(y_test, y_score)\n",
    "roc_auc = auc(fpr, tpr)"
   ]
  },
  {
   "cell_type": "code",
   "execution_count": 20,
   "id": "65153286-f1c3-42c8-b2a3-34ce8953ed52",
   "metadata": {},
   "outputs": [
    {
     "data": {
      "image/png": "[encoded data removed]",
      "text/plain": [
       "<Figure size 432x288 with 1 Axes>"
      ]
     },
     "metadata": {},
     "output_type": "display_data"
    }
   ],
   "source": [
    "plt.figure()\n",
    "lw = 2\n",
    "plt.plot(\n",
    "    fpr,\n",
    "    tpr,\n",
    "    color=\"darkorange\",\n",
    "    lw=lw,\n",
    "    label=\"ROC curve (area = %0.2f)\" % roc_auc,\n",
    ")\n",
    "plt.plot([0, 1], [0, 1], color=\"navy\", lw=lw, linestyle=\"--\")\n",
    "plt.xlim([0.0, 1.0])\n",
    "plt.ylim([0.0, 1.05])\n",
    "plt.xlabel(\"False Positive Rate\")\n",
    "plt.ylabel(\"True Positive Rate\")\n",
    "plt.title(\"Receiver operating characteristic example\")\n",
    "plt.legend(loc=\"lower right\")\n",
    "plt.show()"
   ]
  },
  {
   "cell_type": "code",
   "execution_count": 43,
   "id": "e09d25ca-4044-4e53-bea7-574cec8d3438",
   "metadata": {},
   "outputs": [
    {
     "data": {
      "image/png": "[encoded data removed]",
      "text/plain": [
       "<Figure size 432x288 with 1 Axes>"
      ]
     },
     "metadata": {},
     "output_type": "display_data"
    }
   ],
   "source": [
    "# get importance\n",
    "importance = logreg.coef_[0]\n",
    "importance = np.sort(importance)\n",
    "\n",
    "plt.hist(importance)\n",
    "plt.show()"
   ]
  },
  {
   "cell_type": "markdown",
   "id": "25fb7712-bbcd-42ee-a792-a09087f290f3",
   "metadata": {},
   "source": [
    "### XGBoost"
   ]
  },
  {
   "cell_type": "code",
   "execution_count": null,
   "id": "b2ea17a8-0740-4b1d-b540-f4be1c40882d",
   "metadata": {},
   "outputs": [
    {
     "name": "stdout",
     "output_type": "stream",
     "text": [
      "Fitting 3 folds for each of 100 candidates, totalling 300 fits\n"
     ]
    }
   ],
   "source": [
    "from xgboost import XGBClassifier\n",
    "from sklearn.model_selection import RandomizedSearchCV\n",
    "\n",
    "\n",
    "# Setting possible values for the multiple hyperparameters of XGBoost\n",
    "random_grid = {\n",
    "    \"max_depth\": [1, 2, 3],\n",
    "    \"learning_rate\": [0.001,0.05, 0.5],\n",
    "    \"gamma\": [0, 0.25, 1],\n",
    "    \"reg_lambda\": [0.001, 1, 10],\n",
    "    \"scale_pos_weight\": [0,1, 3],\n",
    "    \"subsample\": [0.8],\n",
    "    \"colsample_bytree\": [0.8],\n",
    "    \"n_estimators\" : [int(x) for x in np.linspace(start = 50, stop = 200, num = 3)]\n",
    "\n",
    "}\n",
    "\n",
    "# Using  Boosted trees\n",
    "bst = XGBClassifier(booster='gbtree',tree_method='exact',objective='binary:logistic',n_jobs=-1)\n",
    "\n",
    "# Random search of parameters, using 3 fold cross validation, \n",
    "# search across 100 different combinations\n",
    "rf_random = RandomizedSearchCV(estimator = bst, param_distributions = random_grid, n_iter = 100,\n",
    "                               cv = 3, verbose=1, random_state=42, n_jobs = -1)\n",
    "\n",
    "# Fit the random search model\n",
    "rf_random.fit(X_train, y_train.values.ravel())\n"
   ]
  },
  {
   "cell_type": "code",
   "execution_count": null,
   "id": "f98358a4-3c93-44c5-8137-ac4ab083b5f8",
   "metadata": {},
   "outputs": [],
   "source": [
    "accuracy = rf_random.best_score_ *100\n",
    "print(\"Accuracy for our training dataset with tuning is : {:.2f}%\".format(accuracy) )"
   ]
  },
  {
   "cell_type": "code",
   "execution_count": null,
   "id": "a2cdabfd-fd3e-474a-a947-797255b5b21e",
   "metadata": {},
   "outputs": [],
   "source": [
    "print(rf_random.best_params_)"
   ]
  },
  {
   "cell_type": "code",
   "execution_count": null,
   "id": "76b1cb3c-33e1-49ec-931d-544119a43037",
   "metadata": {},
   "outputs": [],
   "source": [
    "scoring = {'acc': 'accuracy',\n",
    "           'prec_macro': 'precision_macro',\n",
    "           'rec_macro': 'recall_macro',\n",
    "          'f1' : 'f1_macro'}"
   ]
  },
  {
   "cell_type": "code",
   "execution_count": null,
   "id": "c71d60d5-23d3-48c1-b2f5-29f7108c6901",
   "metadata": {},
   "outputs": [],
   "source": [
    "# Best xgboosting model\n",
    "final_cl = XGBClassifier(\n",
    "    **rf_random.best_params_,\n",
    "    objective=\"binary:logistic\",\n",
    "    booster='gbtree',\n",
    "    tree_method='exact',\n",
    "    n_jobs=-1\n",
    ")\n",
    "\n",
    "scores = cross_validate(bst, X_train, y_train.values.ravel(), scoring=scoring,\n",
    "                         cv=5, n_jobs=-1,verbose=1)\n",
    "\n",
    "bst.fit(X_train, y_train.values.ravel())"
   ]
  },
  {
   "cell_type": "code",
   "execution_count": null,
   "id": "34ab1402-59b2-44b3-80dc-d030c902560f",
   "metadata": {},
   "outputs": [],
   "source": []
  }
 ],
 "metadata": {
  "kernelspec": {
   "display_name": "Python 3 (ipykernel)",
   "language": "python",
   "name": "python3"
  },
  "language_info": {
   "codemirror_mode": {
    "name": "ipython",
    "version": 3
   },
   "file_extension": ".py",
   "mimetype": "text/x-python",
   "name": "python",
   "nbconvert_exporter": "python",
   "pygments_lexer": "ipython3",
   "version": "3.9.16"
  }
 },
 "nbformat": 4,
 "nbformat_minor": 5
}
