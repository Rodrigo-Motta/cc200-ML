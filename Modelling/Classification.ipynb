{
 "cells": [
  {
   "cell_type": "code",
   "execution_count": null,
   "id": "d7c6433a-a8d9-442b-8b19-c6bda313bbc2",
   "metadata": {},
   "outputs": [],
   "source": [
    "import pandas as pd\n",
    "import numpy as np\n",
    "import matplotlib.pyplot as plt\n",
    "import seaborn as sns\n",
    "\n",
    "%matplotlib inline\n",
    "sns.set(rc={'image.cmap': 'coolwarm'})\n",
    "\n",
    "from numba import jit,prange\n",
    "\n",
    "import time\n",
    "import os\n",
    "\n",
    "SMALL_SIZE = 8\n",
    "MEDIUM_SIZE = 10\n",
    "BIGGER_SIZE = 20\n",
    "\n",
    "plt.rc('font', size=MEDIUM_SIZE)          # controls default text sizes\n",
    "plt.rc('axes', titlesize=MEDIUM_SIZE)     # fontsize of the axes title\n",
    "plt.rc('axes', labelsize=BIGGER_SIZE)    # fontsize of the x and y labels\n",
    "plt.rc('xtick', labelsize=MEDIUM_SIZE)    # fontsize of the tick labels\n",
    "plt.rc('ytick', labelsize=MEDIUM_SIZE)    # fontsize of the tick labels\n",
    "plt.rc('legend', fontsize=MEDIUM_SIZE)    # legend fontsize\n",
    "plt.rc('figure', titlesize=BIGGER_SIZE)  # fontsize of the figure title"
   ]
  },
  {
   "cell_type": "code",
   "execution_count": null,
   "id": "40f3d8b1-fab2-4617-8361-d147f60d05f9",
   "metadata": {},
   "outputs": [],
   "source": [
    "df = pd.read_csv(r'/Users/rodrigo/Post-Grad/CC400/corr_matrices.csv',index_col=['Institution','Subject','Run'])\n",
    "phenotypic = pd.read_csv(r'/Users/rodrigo/Post-Grad/CC400/phenotypic.csv',index_col=['Institution','Subject'])"
   ]
  },
  {
   "cell_type": "markdown",
   "id": "127fd5e1-cb0d-4166-91cc-f9cc45b81161",
   "metadata": {},
   "source": [
    "#### (1) 4-7 years (Preschool Age), 7-9 years (School Age), 9-11 years (Pre-adolescence)"
   ]
  },
  {
   "cell_type": "markdown",
   "id": "6e04cd43-2885-4306-8736-6c8c06a46d20",
   "metadata": {},
   "source": [
    "#### (1) 11-14 years (Early Adolescence), 15-17 years(Middle Adolescence),18-21 years (Late Adolescence)"
   ]
  },
  {
   "cell_type": "code",
   "execution_count": null,
   "id": "520237f7-223e-4651-bb6a-c2996cb31a6d",
   "metadata": {},
   "outputs": [],
   "source": [
    "phenotypic['Age'] = phenotypic.apply(lambda row: 0 if row['Age'] > 4 and row['Age'] < 11 else 1, axis=1)"
   ]
  },
  {
   "cell_type": "code",
   "execution_count": null,
   "id": "5d66cb66-3db2-4638-82cc-cf8ec6a447dd",
   "metadata": {},
   "outputs": [],
   "source": [
    "(phenotypic.Age).value_counts()"
   ]
  },
  {
   "cell_type": "code",
   "execution_count": null,
   "id": "976457ae-7f4d-44ad-93ce-1a4161af6260",
   "metadata": {},
   "outputs": [],
   "source": [
    "df = df.join(pd.DataFrame(phenotypic.Age), how='left')"
   ]
  },
  {
   "cell_type": "code",
   "execution_count": null,
   "id": "def95ecb-027e-471a-8c02-d5d5d3c18382",
   "metadata": {},
   "outputs": [],
   "source": [
    "df = ((df.reset_index()).drop(columns=['Institution', 'Subject', 'Run'])).dropna()"
   ]
  },
  {
   "cell_type": "markdown",
   "id": "dfbc0361-e8f1-4249-8e6f-47fb85ac10b7",
   "metadata": {},
   "source": [
    "## 2. Starting modelling"
   ]
  },
  {
   "cell_type": "code",
   "execution_count": null,
   "id": "272ed8be-a02b-4c4b-a435-380eadd00460",
   "metadata": {
    "tags": []
   },
   "outputs": [],
   "source": [
    "# init setup\n",
    "from pycaret.classification import *\n",
    "s = setup(data = df, target = 'Age', session_id=123)"
   ]
  },
  {
   "cell_type": "code",
   "execution_count": null,
   "id": "38845683-73bc-4452-be7e-7ba17b83ecfa",
   "metadata": {},
   "outputs": [],
   "source": [
    "best_model = compare_models()\n"
   ]
  },
  {
   "cell_type": "markdown",
   "id": "6bd47064-0c5e-45f1-81d9-085b42fe2043",
   "metadata": {},
   "source": [
    "### 3. Logistic Regression"
   ]
  },
  {
   "cell_type": "code",
   "execution_count": null,
   "id": "131cbdaf-4b56-4007-9252-1f65be55aa09",
   "metadata": {},
   "outputs": [],
   "source": [
    "from sklearn.model_selection import train_test_split\n",
    "\n",
    "X = df.iloc[:,:-1]\n",
    "y = df.Age\n",
    "\n",
    "X_train, X_test, y_train, y_test = train_test_split(X, y, test_size = 0.3, random_state = 10)"
   ]
  },
  {
   "cell_type": "code",
   "execution_count": null,
   "id": "5c627e1b-7b37-4ba8-9ea3-1cbe3155b6c2",
   "metadata": {},
   "outputs": [],
   "source": [
    "from sklearn.linear_model import LogisticRegression\n",
    "from sklearn.metrics import accuracy_score\n",
    "\n",
    "logreg = LogisticRegression()\n",
    "logreg.fit(X_train, y_train)\n",
    "y_pred = logreg.predict(X_test)\n",
    "\n",
    "print('Logistic Regression accuracy score in training set: {0:0.4f}'. format(accuracy_score(y_train, clf.predict(X_train))))\n",
    "print('Logistic Regression accuracy score in test set: {0:0.4f}'. format(accuracy_score(y_test, y_pred)))"
   ]
  },
  {
   "cell_type": "code",
   "execution_count": null,
   "id": "d86a8240-d464-4eb2-9f9a-91a3124bb2fa",
   "metadata": {},
   "outputs": [],
   "source": [
    "from sklearn.model_selection import cross_val_score\n",
    "scores = cross_val_score(logreg, X, y, cv=5,scoring='accuracy')\n",
    "print(\"%0.2f accuracy with a standard deviation of %0.2f\" % (scores.mean(), scores.std()))"
   ]
  },
  {
   "cell_type": "code",
   "execution_count": null,
   "id": "18130b73-2656-4955-acea-e92a875da0b9",
   "metadata": {},
   "outputs": [],
   "source": [
    "from sklearn.metrics import confusion_matrix\n",
    "plt.figure(dpi=100)\n",
    "sns.heatmap(confusion_matrix(y_test, y_pred), annot=True, annot_kws={\"size\": 16}, fmt='g')\n",
    "plt.show()"
   ]
  },
  {
   "cell_type": "code",
   "execution_count": null,
   "id": "be9352eb-82fb-47b7-9e68-acafea7ae471",
   "metadata": {},
   "outputs": [],
   "source": [
    "from sklearn.metrics import accuracy_score, f1_score, precision_score, recall_score\n",
    "\n",
    "f1_scores = cross_val_score(logreg, X, y, cv=5, scoring='f1_macro')\n",
    "precision_scores = cross_val_score(logreg, X, y, cv=5, scoring='precision_macro')\n",
    "recall_scores = cross_val_score(logreg, X, y, cv=5, scoring='recall_macro')\n",
    "\n",
    "print(\"F1_scores {} accuracy with a standard deviation of {}\".format(f1_scores.mean(), f1_scores.std()))\n",
    "print(\"Precision_scores {} accuracy with a standard deviation of {}\".(precision_scores.mean(), precision_scores.std()))\n",
    "print(\"Recall_scores {} accuracy with a standard deviation of {}\".(recall_scores.mean(), recall_scores.std()))\n",
    "\n",
    "#print(f1_score(y_test, y_pred, average=\"macro\"))\n",
    "#print(precision_score(y_test, y_pred, average=\"macro\"))\n",
    "#print(recall_score(y_test, y_pred, average=\"macro\"))    "
   ]
  },
  {
   "cell_type": "code",
   "execution_count": null,
   "id": "4bbfeb88-b20d-4539-8dda-7a26bfd28b16",
   "metadata": {},
   "outputs": [],
   "source": [
    "from sklearn.metrics import roc_curve, auc\n",
    "from sklearn.metrics import roc_auc_score\n",
    "\n",
    "y_score = logreg.predict_proba(X_test)\n",
    "\n",
    "y_score = y_score[:,1]\n",
    "\n",
    "# Compute ROC curve and ROC area for each class\n",
    "fpr, tpr, _ = roc_curve(y_test, y_score)\n",
    "roc_auc = auc(fpr, tpr)"
   ]
  },
  {
   "cell_type": "code",
   "execution_count": null,
   "id": "66da2ea4-4100-4c70-a05b-e4cd3d80643e",
   "metadata": {},
   "outputs": [],
   "source": [
    "plt.figure()\n",
    "lw = 2\n",
    "plt.plot(\n",
    "    fpr,\n",
    "    tpr,\n",
    "    color=\"darkorange\",\n",
    "    lw=lw,\n",
    "    label=\"ROC curve (area = %0.2f)\" % roc_auc,\n",
    ")\n",
    "plt.plot([0, 1], [0, 1], color=\"navy\", lw=lw, linestyle=\"--\")\n",
    "plt.xlim([0.0, 1.0])\n",
    "plt.ylim([0.0, 1.05])\n",
    "plt.xlabel(\"False Positive Rate\")\n",
    "plt.ylabel(\"True Positive Rate\")\n",
    "plt.title(\"Receiver operating characteristic example\")\n",
    "plt.legend(loc=\"lower right\")\n",
    "plt.show()"
   ]
  },
  {
   "cell_type": "markdown",
   "id": "9e9a12ed-4620-4c43-ae4b-398d871adce9",
   "metadata": {},
   "source": [
    "### 4. SVM"
   ]
  },
  {
   "cell_type": "code",
   "execution_count": null,
   "id": "36ad3d35-9ba7-481e-a190-1ce42f8a2000",
   "metadata": {},
   "outputs": [],
   "source": [
    "from sklearn.svm import SVC\n",
    "clf = SVC(kernel='linear', gamma='auto', probability=True)\n",
    "\n",
    "clf.fit(X_train, y_train)\n",
    "y_pred = clf.predict(X_test)\n",
    "\n",
    "print('Logistic Regression accuracy score in training set: {0:0.4f}'. format(accuracy_score(y_train, clf.predict(X_train))))\n",
    "print('Logistic Regression accuracy score in test set: {0:0.4f}'. format(accuracy_score(y_test, y_pred)))"
   ]
  },
  {
   "cell_type": "code",
   "execution_count": null,
   "id": "179348dc-6f4e-4be2-afde-d68a3f85b4b1",
   "metadata": {},
   "outputs": [],
   "source": [
    "from sklearn.model_selection import cross_val_score\n",
    "scores = cross_val_score(clf, X, y, cv=5,scoring='accuracy')\n",
    "print(\"%0.2f accuracy with a standard deviation of %0.2f\" % (scores.mean(), scores.std()))"
   ]
  },
  {
   "cell_type": "code",
   "execution_count": null,
   "id": "3e73a3cd-225b-43a0-9277-b39a3c2e9eb3",
   "metadata": {},
   "outputs": [],
   "source": [
    "from sklearn.metrics import confusion_matrix\n",
    "plt.figure(dpi=100)\n",
    "sns.heatmap(confusion_matrix(y_test, y_pred), annot=True, annot_kws={\"size\": 16}, fmt='g')\n",
    "plt.show()"
   ]
  },
  {
   "cell_type": "code",
   "execution_count": null,
   "id": "624d8405-6f81-43d0-9bec-21bd7798099d",
   "metadata": {},
   "outputs": [],
   "source": [
    "from sklearn.metrics import roc_curve, auc\n",
    "from sklearn.metrics import roc_auc_score\n",
    "\n",
    "y_score = clf.predict_proba(X_test)\n",
    "\n",
    "y_score = y_score[:,1]\n",
    "\n",
    "# Compute ROC curve and ROC area for each class\n",
    "fpr, tpr, _ = roc_curve(y_test, y_score)\n",
    "roc_auc = auc(fpr, tpr)"
   ]
  },
  {
   "cell_type": "code",
   "execution_count": null,
   "id": "b8fa125f-47cc-4011-a27f-2a80213158c4",
   "metadata": {},
   "outputs": [],
   "source": [
    "plt.figure()\n",
    "lw = 2\n",
    "plt.plot(\n",
    "    fpr,\n",
    "    tpr,\n",
    "    color=\"darkorange\",\n",
    "    lw=lw,\n",
    "    label=\"ROC curve (area = %0.2f)\" % roc_auc,\n",
    ")\n",
    "plt.plot([0, 1], [0, 1], color=\"navy\", lw=lw, linestyle=\"--\")\n",
    "plt.xlim([0.0, 1.0])\n",
    "plt.ylim([0.0, 1.05])\n",
    "plt.xlabel(\"False Positive Rate\")\n",
    "plt.ylabel(\"True Positive Rate\")\n",
    "plt.title(\"Receiver operating characteristic example\")\n",
    "plt.legend(loc=\"lower right\")\n",
    "plt.show()"
   ]
  },
  {
   "cell_type": "markdown",
   "id": "e2a71bd3-2b7f-4fa8-947a-c5bd333bcc7c",
   "metadata": {},
   "source": [
    "### 5. XGBoost"
   ]
  },
  {
   "cell_type": "code",
   "execution_count": null,
   "id": "5fa50803-b892-4cec-9599-b1a391d7508b",
   "metadata": {},
   "outputs": [],
   "source": [
    "import xgboost as xgb\n",
    "from xgboost import XGBClassifier, plot_tree\n",
    "\n",
    "#dictionary for collecting results\n",
    "results_dict = {}\n",
    "\n",
    "#obtaining default parameters by calling .fit() to XGBoost model instance\n",
    "xgbc0 = xgb.XGBClassifier(objective='binary:logistic',\n",
    "                          booster='gbtree',\n",
    "                          eval_metric='auc',\n",
    "                          tree_method='hist',\n",
    "                          grow_policy='lossguide',\n",
    "                          use_label_encoder=False)\n",
    "xgbc0.fit(X_train , y_train)\n",
    "\n",
    "#extracting default parameters from benchmark model\n",
    "default_params = {}\n",
    "gparams = xgbc0.get_params()\n",
    "\n",
    "#default parameters have to be wrapped in lists - even single values - so GridSearchCV can take them as inputs\n",
    "for key in gparams.keys():\n",
    "    gp = gparams[key]\n",
    "    default_params[key] = [gp]\n",
    "\n",
    "#benchmark model. Grid search is not performed, since only single values are provided as parameter grid.\n",
    "#However, cross-validation is still executed\n",
    "clf0 = GridSearchCV(estimator=xgbc0, scoring='accuracy', param_grid=default_params, return_train_score=True, verbose=1, cv=3)\n",
    "clf0.fit(X_train, y_train.values.ravel())\n",
    "\n",
    "#results dataframe\n",
    "df = pd.DataFrame(clf0.cv_results_)\n",
    "\n",
    "#predictions - inputs to confusion matrix\n",
    "train_predictions = clf0.predict(X_train)\n",
    "test_predictions = clf0.predict(X_test)\n",
    "unseen_predictions = clf0.predict(df_test.iloc[:,1:])\n",
    "\n",
    "#confusion matrices\n",
    "cfm_train = confusion_matrix(y_train, train_predictions)\n",
    "cfm_test = confusion_matrix(y_test, test_predictions)\n",
    "cfm_unseen = confusion_matrix(df_test.iloc[:,:1], unseen_predictions)\n",
    "\n",
    "#accuracy scores\n",
    "accs_train = accuracy_score(y_train, train_predictions)\n",
    "accs_test = accuracy_score(y_test, test_predictions)\n",
    "accs_unseen = accuracy_score(df_test.iloc[:,:1], unseen_predictions)\n",
    "\n",
    "#F1 scores for each train/test label\n",
    "f1s_train_p1 = f1_score(y_train, train_predictions, pos_label=1)\n",
    "f1s_train_p0 = f1_score(y_train, train_predictions, pos_label=0)\n",
    "f1s_test_p1 = f1_score(y_test, test_predictions, pos_label=1)\n",
    "f1s_test_p0 = f1_score(y_test, test_predictions, pos_label=0)\n",
    "f1s_unseen_p1 = f1_score(df_test.iloc[:,:1], unseen_predictions, pos_label=1)\n",
    "f1s_unseen_p0 = f1_score(df_test.iloc[:,:1], unseen_predictions, pos_label=0)\n",
    "\n",
    "#Area Under the Receiver Operating Characteristic Curve\n",
    "test_ras = roc_auc_score(y_test, clf0.predict_proba(X_test)[:,1])\n",
    "unseen_ras = roc_auc_score(df_test.iloc[:,:1], clf0.predict_proba(df_test.iloc[:,1:])[:,1])\n",
    "\n",
    "#best parameters\n",
    "bp = clf0.best_params_\n",
    "\n",
    "#storing computed values in results dictionary\n",
    "results_dict['xgbc0'] = {'iterable_parameter': np.nan,\n",
    "                         'classifier': deepcopy(clf0),\n",
    "                         'cv_results': df.copy(),\n",
    "                         'cfm_train': cfm_train,\n",
    "                         'cfm_test': cfm_test,\n",
    "                         'cfm_unseen': cfm_unseen,\n",
    "                         'train_accuracy': accs_train,\n",
    "                         'test_accuracy': accs_test,\n",
    "                         'unseen_accuracy': accs_unseen,\n",
    "                         'train F1-score label 1': f1s_train_p1,\n",
    "                         'train F1-score label 0': f1s_train_p0,\n",
    "                         'test F1-score label 1': f1s_test_p1,\n",
    "                         'test F1-score label 0': f1s_test_p0,\n",
    "                         'unseen F1-score label 1': f1s_unseen_p1,\n",
    "                         'unseen F1-score label 0': f1s_unseen_p0,\n",
    "                         'test roc auc score': test_ras,\n",
    "                         'unseen roc auc score': unseen_ras,\n",
    "                         'best_params': bp}"
   ]
  },
  {
   "cell_type": "code",
   "execution_count": null,
   "id": "a24b560a-c444-4f33-a264-22dafe4b530d",
   "metadata": {},
   "outputs": [],
   "source": []
  }
 ],
 "metadata": {
  "kernelspec": {
   "display_name": "Python 3 (ipykernel)",
   "language": "python",
   "name": "python3"
  },
  "language_info": {
   "codemirror_mode": {
    "name": "ipython",
    "version": 3
   },
   "file_extension": ".py",
   "mimetype": "text/x-python",
   "name": "python",
   "nbconvert_exporter": "python",
   "pygments_lexer": "ipython3",
   "version": "3.9.13"
  }
 },
 "nbformat": 4,
 "nbformat_minor": 5
}
