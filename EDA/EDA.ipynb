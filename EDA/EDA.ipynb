{
 "cells": [
  {
   "cell_type": "code",
   "execution_count": null,
   "id": "0d40d1df-924c-4ca6-8654-6542b4ace6dd",
   "metadata": {},
   "outputs": [],
   "source": [
    "df = pd.read_csv(r'/Users/rodrigo/Post-Grad/CC400/ADHD200_CC400_TCs_filtfix/corr_matrices.csv',index_col=['Institution','Subject'])\n",
    "phenotypic = pd.read_csv(r'/Users/rodrigo/Post-Grad/CC400/ADHD200_CC400_TCs_filtfix/phenotypic.csv',index_col=['Institution','Subject'])"
   ]
  },
  {
   "cell_type": "markdown",
   "id": "2e79445e-b06e-404e-a8ef-82c9c207e140",
   "metadata": {},
   "source": [
    "## Correlation matrix"
   ]
  },
  {
   "cell_type": "code",
   "execution_count": null,
   "id": "d00c8f05-292e-4c71-b003-a3618e242b83",
   "metadata": {},
   "outputs": [],
   "source": [
    "plt.figure(dpi=200)\n",
    "im = plt.imshow((df.iloc[2].values).reshape((351,351)), cmap='jet')\n",
    "plt.colorbar(im,fraction=0.046, pad=0.04)\n",
    "plt.clim(-1,1)\n",
    "plt.tight_layout()\n",
    "plt.savefig(\"connectivity_matrix_sample.png\", dpi=200)"
   ]
  },
  {
   "cell_type": "markdown",
   "id": "9201b651-1803-4a36-a583-d807ce4d32c0",
   "metadata": {},
   "source": [
    "### Correlation distribution"
   ]
  },
  {
   "cell_type": "code",
   "execution_count": null,
   "id": "5238064d-bf5b-4fdb-b34d-b7a41f23893a",
   "metadata": {},
   "outputs": [],
   "source": [
    "plt.figure(figsize=(8,6))\n",
    "bins = 20\n",
    "n, bins, patches = plt.hist((df.iloc[2].values),bins=bins, facecolor='#2ab0ff',edgecolor='#e0e0e0',linewidth=0.5)\n",
    "\n",
    "n = n.astype('int') # it MUST be integer\n",
    "\n",
    "# Good old loop. Choose colormap of your taste\n",
    "for i in range(len(patches)):\n",
    "    patches[i].set_facecolor(plt.cm.winter(n[i]/max(n)))\n",
    "\n",
    "\n",
    "plt.title(\"{}, ID={}, Run={}\".format(df.iloc[2].name[0], df.iloc[2].name[1],df.iloc[2].name[2][:32]),fontsize=25)\n",
    "plt.xlabel(r\"$Correlation $\")\n",
    "plt.ylabel(\"Frequency\")\n",
    "plt.tight_layout()\n",
    "plt.grid()\n",
    "plt.savefig(\"Sample_hist.png\", dpi=200)"
   ]
  },
  {
   "cell_type": "markdown",
   "id": "89ed5cde-9167-422a-8b82-4e5c81652aca",
   "metadata": {},
   "source": [
    "## Eda"
   ]
  },
  {
   "cell_type": "code",
   "execution_count": null,
   "id": "dbc5a64b-d9f3-43d2-afc3-2f27ab7d740d",
   "metadata": {},
   "outputs": [],
   "source": [
    "phenotypic.info()"
   ]
  },
  {
   "cell_type": "markdown",
   "id": "67afdd2d-31e9-4845-833c-5223052b329b",
   "metadata": {},
   "source": [
    "#### Gender distribution"
   ]
  },
  {
   "cell_type": "code",
   "execution_count": null,
   "id": "3dae2363-6e2c-4ee4-8967-6a8d2fc15010",
   "metadata": {},
   "outputs": [],
   "source": [
    "sns.histplot(data=phenotypic, x='Gender',stat='percent')\n",
    "\n",
    "plt.show()"
   ]
  },
  {
   "cell_type": "markdown",
   "id": "c612468d-1ac2-404a-a228-d86195612f8b",
   "metadata": {},
   "source": [
    "#### Age distribution"
   ]
  },
  {
   "cell_type": "code",
   "execution_count": null,
   "id": "32d5a80e-dc81-4627-a713-0ec95c6f117b",
   "metadata": {},
   "outputs": [],
   "source": [
    "sns.violinplot(data=phenotypic, y='Age',x='Gender',stat='percent')\n",
    "plt.show()"
   ]
  },
  {
   "cell_type": "markdown",
   "id": "b45021d9-03c2-453b-9000-9db07261c08b",
   "metadata": {},
   "source": [
    "#### ADHD "
   ]
  },
  {
   "cell_type": "code",
   "execution_count": null,
   "id": "aa7d6a27-812e-40de-b427-207c80ff55f7",
   "metadata": {},
   "outputs": [],
   "source": [
    "sns.histplot(data=phenotypic, x='ADHD Measure'  , stat='percent', hue='Gender')\n",
    "plt.show()"
   ]
  },
  {
   "cell_type": "code",
   "execution_count": null,
   "id": "c6178f7a-3e15-40fd-8fdd-0eadede42bc9",
   "metadata": {},
   "outputs": [],
   "source": [
    "sns.histplot(data=phenotypic, x='ADHD Index'  , stat='percent', hue='Gender')\n",
    "\n",
    "plt.xlim(0,100)\n",
    "plt.show()"
   ]
  },
  {
   "cell_type": "code",
   "execution_count": null,
   "id": "43e12b23-2aa4-4beb-a4f2-2fd156b6228d",
   "metadata": {},
   "outputs": [],
   "source": [
    "sns.histplot(data=phenotypic, x='Age'  , stat='percent', hue='ADHD Measure')\n",
    "plt.show()"
   ]
  },
  {
   "cell_type": "markdown",
   "id": "e24f6ce8-bdd5-48ab-abc6-fd04cfc6c670",
   "metadata": {},
   "source": [
    "We must verify if the model is indeed identifying AGE or ADHD Measure"
   ]
  },
  {
   "cell_type": "code",
   "execution_count": null,
   "id": "3aac2fa6-bf6f-46eb-95f6-b73b1b9b7954",
   "metadata": {},
   "outputs": [],
   "source": [
    "sns.violinplot(data=phenotypic, y='Age',x='ADHD Measure'  , stat='percent')\n",
    "plt.show()"
   ]
  },
  {
   "cell_type": "markdown",
   "id": "35853cb2-22b3-432d-9ca8-9c3223e8edd5",
   "metadata": {},
   "source": [
    "#### Quality check"
   ]
  },
  {
   "cell_type": "code",
   "execution_count": null,
   "id": "811972c0-06fe-4e4c-a9c4-3394ac8fed80",
   "metadata": {},
   "outputs": [],
   "source": [
    "phenotypic['QC_Rest_1'].value_counts()"
   ]
  },
  {
   "cell_type": "code",
   "execution_count": null,
   "id": "fc62251b-6af7-4b70-b465-89903033d940",
   "metadata": {},
   "outputs": [],
   "source": [
    "phenotypic['QC_Anatomical_1'].value_counts()"
   ]
  }
 ],
 "metadata": {
  "kernelspec": {
   "display_name": "Python 3 (ipykernel)",
   "language": "python",
   "name": "python3"
  },
  "language_info": {
   "codemirror_mode": {
    "name": "ipython",
    "version": 3
   },
   "file_extension": ".py",
   "mimetype": "text/x-python",
   "name": "python",
   "nbconvert_exporter": "python",
   "pygments_lexer": "ipython3",
   "version": "3.9.13"
  }
 },
 "nbformat": 4,
 "nbformat_minor": 5
}
